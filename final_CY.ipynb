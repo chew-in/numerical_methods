{
  "cells": [
    {
      "cell_type": "code",
      "execution_count": 10,
      "metadata": {
        "id": "Dcd4oWAt46DD"
      },
      "outputs": [],
      "source": [
        "import numpy as np\n",
        "from scipy.stats import norm\n",
        "from scipy.optimize import bisect, brentq\n",
        "from copy import copy\n"
      ]
    },
    {
      "cell_type": "markdown",
      "metadata": {
        "id": "Jeby0NCp46DE"
      },
      "source": [
        "## Problem 1"
      ]
    },
    {
      "cell_type": "markdown",
      "metadata": {},
      "source": [
        "$$\\begin{aligned}\n",
        "S_0 &= 90\\\\\n",
        "\\Delta &= 0.25\\\\\n",
        "\\Gamma &= 0.015 \\\\\n",
        "C &= 2.65\\\\\n",
        "\\end{aligned}$$\n",
        "Change in 1% of stock price is 0.9\n",
        "\n",
        "To rebalance (update) a delta hedge, we need to supply \n",
        "$$ d\\Delta = \\Gamma \\times dS = 0.015  \\times 0.9 = 0.0135$$\n",
        "\n",
        "In dollar value,\n",
        "$$  d\\Delta (S+dS) = 0.0135 \\times (90+0.9) = 1.23$$\n"
      ]
    },
    {
      "cell_type": "markdown",
      "metadata": {},
      "source": [
        "## Problem 2"
      ]
    },
    {
      "cell_type": "markdown",
      "metadata": {},
      "source": [
        "PDE for $C(K,T)$:\n",
        "$$\\frac{\\partial C}{\\partial T} = \\frac12 K^2 \\sigma^2 \\frac{\\partial^2 C}{\\partial K^2} -rK \\frac{\\partial C}{\\partial K}  $$\n",
        "where $r=0.05, \\sigma=0.35$\n"
      ]
    },
    {
      "cell_type": "markdown",
      "metadata": {},
      "source": [
        "`2a`\n"
      ]
    },
    {
      "cell_type": "markdown",
      "metadata": {},
      "source": [
        "\n",
        "$$\\begin{aligned}\n",
        "&C(15.0, 1.2) = C(15.0, 1.1) + \\Delta T \\frac{\\partial C(15.0, 1.1)}{\\partial T} \\\\\n",
        "&= C(15.0, 1.1) + \\Delta T \\left(\\frac12 K^2 \\sigma^2 \\frac{\\partial^2 C(15.0, 1.1)}{\\partial K^2} -rK \\frac{\\partial C(15.0, 1.1)}{\\partial K} \\right)\n",
        "\\\\\n",
        "&\\frac{\\partial C(15.0, 1.1)}{\\partial T} \\approx \\frac{C(15.0, 1.2) - C(15.0, 1.1)}{\\Delta T} \\\\\n",
        "&\\frac{\\partial C(15.0, 1.1)}{\\partial K} \\approx\\frac{C(15.5, 1.1) - C(14.5, 1.1)}{2\\Delta K} \\\\\n",
        "&\\frac{\\partial^2 C(15.0, 1.1)}{\\partial K^2} \\approx\\frac{C(15.5, 1.1) - 2C(15.0, 1.1) + C(14.5, 1.1)}{(\\Delta K)^2} \n",
        "\\end{aligned}$$\n",
        "\n"
      ]
    },
    {
      "cell_type": "code",
      "execution_count": 2,
      "metadata": {},
      "outputs": [
        {
          "name": "stdout",
          "output_type": "stream",
          "text": [
            "2.677500000000002\n"
          ]
        }
      ],
      "source": [
        "C_u = 2.33\n",
        "C_m = 2.55\n",
        "C_d = 2.79\n",
        "K_u = 15.5\n",
        "K_m = 15.0\n",
        "K_d = 14.5\n",
        "T_1 = 1.1\n",
        "T_2 = 1.2\n",
        "r = 0.05\n",
        "sigma = 0.35\n",
        "dcdk = 0.5 * (C_u - C_d) / (K_u - K_d)\n",
        "dcdkk = (C_u - 2 * C_m + C_d) / (K_u - K_m)**2\n",
        "a = 0.5 * K_m**2 * sigma**2 * dcdkk\n",
        "b = r * K_m * dcdk\n",
        "print(C_m + (T_2 - T_1) * (a - b))"
      ]
    },
    {
      "cell_type": "markdown",
      "metadata": {},
      "source": [
        "`2b`\n"
      ]
    },
    {
      "cell_type": "markdown",
      "metadata": {},
      "source": [
        "$$ p(15.0, 1.1) = \\frac{\\partial^2 C}{\\partial S^2} = \\frac{\\partial^2 C}{\\partial K^2} \\approx\\frac{C(15.5, 1.1) - 2C(15.0, 1.1) + C(14.5, 1.1)}{(\\Delta K)^2} $$"
      ]
    },
    {
      "cell_type": "code",
      "execution_count": null,
      "metadata": {},
      "outputs": [
        {
          "name": "stdout",
          "output_type": "stream",
          "text": [
            "0.08000000000000185\n"
          ]
        }
      ],
      "source": [
        "print(dcdkk)"
      ]
    },
    {
      "cell_type": "code",
      "execution_count": null,
      "metadata": {},
      "outputs": [],
      "source": []
    },
    {
      "cell_type": "markdown",
      "metadata": {},
      "source": [
        "## Problem 3"
      ]
    },
    {
      "cell_type": "markdown",
      "metadata": {},
      "source": [
        "Let $S$ be a non-dividend-paying stock that follows Geometric Brownian motion with $70\\%$ volatility and time-$0$ price $S_{0} = 10$. The interest rate is $2\\%$\n",
        "\n",
        "Find the time-$0$ price of a contract which pays at time $1$\n",
        "\n",
        "$$ \\left(\\frac{S_{0.5}+S_{1.0}}{2}- 12 \\right)^+$$\n",
        "\n",
        "Use conditional Monte Carlo, conditioning on $S_{0.5}$. \n",
        "\n",
        "Let:\n",
        "- $T_{0} = 0.5$\n",
        "- $T_{1} = 1$\n",
        "- $S_{0} = 10$\n",
        "- $K = 12$\n",
        "- $r = 0.02$\n",
        "- $R_{grow} = r$\n",
        "- $\\sigma = 0.70$\n",
        "\n",
        "The conditional expected discounted payoff at time 0, given $(S_{T_{0}})$, can be expressed as:\n",
        "$$\\text{EY}\\left(S_{T_{0}}\\right) = e^{-rT_{0}} \\cdot \\mathbb{E}\\left[Y\\left(S_{T_{1}}, S_{T_{0}}\\right) | S_{T_{0}}\\right] \n",
        "= e^{-rT_{0}} \\cdot \\mathbb{E}\\left[\\left(\\frac{S_{T_0}+S_{T_1}}{2}- 12 \\right)^+ | S_{T_{0}}\\right] \n",
        "$$\n",
        "\n",
        "Note: We need to consider the additional condition when $\\left(S_{T_{1}} > 2K\\right)$.\n",
        "\n",
        "Our final form for the time-$0$ price is the following:\n",
        "$$\\begin{align*}\n",
        "C^{BS} &= C^{BS}\\left(S_{t}=S_{T_{0}}, t=T_{0}, K=K, T=T_{1}, R_{grow}, r, \\sigma\\right) \\\\\n",
        "CB^{BS} &= \\left( S_{T_{0}} - K\\right) \\\\\n",
        "d_{2} &= \\frac{\\ln\\left(\\frac{S_{T_{0}}}{2K}\\right) + \\left(R_{grow} - \\frac{1}{2}\\sigma^{2}\\right)\\left(T_{1}-T_{0}\\right)}{{\\sigma\\sqrt{T_{1}-T_{0}}}} \\\\\n",
        "V_{0} &= \\exp\\left(-rT_{0}\\right)\\left[\\mathbb{1}\\{S_{T_{0}} \\leq 2K \\}C^{BS} + \\mathbb{1}\\{S_{T_{0}} > 2K\\}CB^{BS} \\right] \\\\\n",
        "\\end{align*}$$\n"
      ]
    },
    {
      "cell_type": "code",
      "execution_count": null,
      "metadata": {},
      "outputs": [],
      "source": [
        "class GBM:\n",
        "\n",
        "    def __init__(self,S0,r,sigma=None):\n",
        "        self.S0=S0\n",
        "        self.r=r\n",
        "        self.sigma=sigma\n"
      ]
    },
    {
      "cell_type": "code",
      "execution_count": null,
      "metadata": {},
      "outputs": [],
      "source": [
        "class CallOnAverage:\n",
        "\n",
        "    def __init__(self,K,T0,T1):\n",
        "        self.K = K\n",
        "        self.T0 = T0\n",
        "        self.T1 = T1"
      ]
    },
    {
      "cell_type": "code",
      "execution_count": null,
      "metadata": {},
      "outputs": [],
      "source": [
        "### Pricing Engine\n",
        "class AnalyticEngine:\n",
        "\n",
        "    def __init__(self):\n",
        "        pass\n",
        "    \n",
        "    \n",
        "    def BSpriceCall(self, dynamics: GBM, contract: CallOnAverage) -> float:\n",
        "        ### Separate dynamics and contract class attributes to variables\n",
        "        K, T0, T1 = contract.__dict__.values()\n",
        "        S0, r, sigma = dynamics.__dict__.values()\n",
        "        \n",
        "        ### Make BS variables and call price\n",
        "        timeRemaining = T1 - T0\n",
        "        F = S0 * np.exp(r * timeRemaining)\n",
        "        std = sigma * np.sqrt(timeRemaining)\n",
        "        d1 = np.log(F / K) / std + std / 2\n",
        "        d2 = d1 - std\n",
        "        call_price = np.exp(-r * timeRemaining) * (F * norm.cdf(d1) - K * norm.cdf(d2))\n",
        "        \n",
        "        return call_price\n",
        "    \n",
        "\n",
        "class MCengine:\n",
        "\n",
        "    def __init__(self,M,seed):\n",
        "        self.M = M  #number of paths\n",
        "        self.rng = np.random.default_rng(seed=seed) # Seeding the random number generator with a specified number helps make the calculations reproducible\n",
        "\n",
        "    def randomLogreturn(self,dynamics,deltat):\n",
        "        return ((dynamics.r - dynamics.sigma**2/2) * deltat \n",
        "                + dynamics.sigma*np.sqrt(deltat) * self.rng.normal(size=self.M))\n",
        "\n",
        "    def price_CallOnAverage_GBM(self,contract,dynamics):\n",
        "        #You fill this in.\n",
        "        K, T0, T1 = contract.__dict__.values()\n",
        "        S0, r, sigma = dynamics.__dict__.values()\n",
        "        deltat1 = T0\n",
        "        deltat2 = T1 - T0\n",
        "        \n",
        "        # Simulate S0.5\n",
        "        S0_5 = S0 * np.exp(self.randomLogreturn(dynamics, deltat1))\n",
        "        \n",
        "        payoffs = np.zeros(self.M)\n",
        "        \n",
        "        # Simulate S1.0 given S0.5\n",
        "        for i in range(self.M):\n",
        "            if S0_5[i] < 24:\n",
        "                S1_0 = S0_5[i] * np.exp(self.randomLogreturn(dynamics, deltat2)[i])\n",
        "                payoffs[i] = max((S0_5[i] + S1_0)/2 - K, 0)\n",
        "            else:\n",
        "                payoffs[i] = S0_5[i] - 12\n",
        "        \n",
        "        # Discount payoffs to present value\n",
        "        payoffs *= np.exp(-r * T1)\n",
        "        \n",
        "        # Calculate price and standard error\n",
        "        price = np.mean(payoffs)\n",
        "        standard_error = np.std(payoffs) / np.sqrt(self.M)\n",
        "\n",
        "        return (price, standard_error)\n"
      ]
    },
    {
      "cell_type": "code",
      "execution_count": null,
      "metadata": {},
      "outputs": [],
      "source": [
        "p3dynamics = GBM(sigma=0.70,S0=10,r=0.02)"
      ]
    },
    {
      "cell_type": "code",
      "execution_count": null,
      "metadata": {},
      "outputs": [],
      "source": [
        "p3contract = CallOnAverage(K=12,T0=0.5,T1=1.0)"
      ]
    },
    {
      "cell_type": "code",
      "execution_count": null,
      "metadata": {},
      "outputs": [
        {
          "name": "stdout",
          "output_type": "stream",
          "text": [
            "1.5324553557623568 0.037832512015875994\n"
          ]
        }
      ],
      "source": [
        "p3MC = MCengine(M=10000,seed=0)\n",
        "(p3price, p3standard_error) = p3MC.price_CallOnAverage_GBM(p3contract,p3dynamics)\n",
        "print(p3price, p3standard_error)"
      ]
    },
    {
      "cell_type": "markdown",
      "metadata": {},
      "source": [
        "## Problem 4"
      ]
    },
    {
      "cell_type": "markdown",
      "metadata": {},
      "source": [
        "In this game, \n",
        "- if at $n=1$ we roll 6 or 5, exercise immediately. Delaying this has probability of $4/6$\n",
        "- if at $n=2$ we roll 6 or 5 or 4, exercise immediately. Delaying this has probability of $3/6$\n",
        "- so probability of exercising at $n=3$ is\n",
        "$$\\frac46 \\cdot \\frac36 = \\frac13$$"
      ]
    },
    {
      "cell_type": "markdown",
      "metadata": {},
      "source": [
        "n = 4\n",
        "| R | Exercised Once | Not Exercised |\n",
        "|---|---------------|----------------|\n",
        "| 6 |      6        |        6       |\n",
        "| 5 |      5        |        5       |\n",
        "| 4 |      4        |        4       |\n",
        "| 3 |      3        |        3       |\n",
        "| 2 |      2        |        2       |\n",
        "| 1 |      1        |        1       |\n",
        "| E |     3.5       |        3.5     |"
      ]
    },
    {
      "cell_type": "markdown",
      "metadata": {},
      "source": [
        "n = 3\n",
        "| R | Exercised Once | Not Exercised |\n",
        "|---|---------------|----------------|\n",
        "| 6 |      6        |        6       |\n",
        "| 5 |      5        |        5       |\n",
        "| 4 |      4        |        4       |\n",
        "| 3 |      3.5        |        3       |\n",
        "| 2 |      3.5        |        2       |\n",
        "| 1 |      3.5        |        1       |\n",
        "| E |     4.25       |        3.5     |\n"
      ]
    },
    {
      "cell_type": "markdown",
      "metadata": {},
      "source": [
        "n = 2\n",
        "| R | Exercised Once | Not Exercised |\n",
        "|---|---------------|----------------|\n",
        "| 6 |      6        |        6       |\n",
        "| 5 |      5        |        5       |\n",
        "| 4 |      4.25        |        4       |\n",
        "| 3 |      4.25        |        3.5       |\n",
        "| 2 |      4.25        |        3.5       |\n",
        "| 1 |      4.25        |        3.5       |\n",
        "| E |     4.67       |        4.25     |\n"
      ]
    },
    {
      "cell_type": "markdown",
      "metadata": {},
      "source": [
        "n = 1\n",
        "| R | Exercised Once | Not Exercised |\n",
        "|---|---------------|----------------|\n",
        "| 6 |      -        |        6       |\n",
        "| 5 |      -        |        5       |\n",
        "| 4 |      -        |        4.67       |\n",
        "| 3 |      -        |        4.67       |\n",
        "| 2 |      -        |        4.67       |\n",
        "| 1 |      -        |        4.67       |\n",
        "| E |     -       |        4.95     |\n"
      ]
    },
    {
      "cell_type": "markdown",
      "metadata": {},
      "source": [
        "Expectation is:\n",
        "$$\\begin{aligned} \n",
        "\\mathbb{E}(n=1) &= \\mathbb{E} (6+5+ 4 \\times \\mathbb{E} (n=2))\\\\\n",
        "&=  \\mathbb{E} (6+5+ 4 \\times \\mathbb{E} (6+5+4 \\times \\mathbb{E} (n=3)))\\\\\n",
        "&=  \\mathbb{E} (6+5+ 4 \\times \\mathbb{E} (6+5+4 \\times \\mathbb{E} (6 + 5 + 4 + 3\\times \\mathbb{E} (n=4))))\\\\\n",
        "\\end{aligned}$$"
      ]
    },
    {
      "cell_type": "code",
      "execution_count": 7,
      "metadata": {},
      "outputs": [
        {
          "name": "stdout",
          "output_type": "stream",
          "text": [
            "4.946666666666666\n"
          ]
        }
      ],
      "source": [
        "print(np.mean([6, 5, 4.67, 4.67, 4.67, 4.67]))"
      ]
    },
    {
      "cell_type": "markdown",
      "metadata": {},
      "source": []
    },
    {
      "cell_type": "markdown",
      "metadata": {},
      "source": [
        "## Problem 5"
      ]
    },
    {
      "cell_type": "code",
      "execution_count": 17,
      "metadata": {},
      "outputs": [],
      "source": [
        "class GBMdynamics:\n",
        "\n",
        "    def __init__(self, S, r, rGrow, sigma=None):\n",
        "        self.S = S\n",
        "        self.r = r\n",
        "        self.rGrow = rGrow\n",
        "        self.sigma = sigma\n",
        "\n",
        "    def update_sigma(self, sigma):\n",
        "        self.sigma = sigma\n",
        "        return self"
      ]
    },
    {
      "cell_type": "code",
      "execution_count": 16,
      "metadata": {},
      "outputs": [],
      "source": [
        "class CallOption:\n",
        "\n",
        "    def __init__(self, K, T, price=None):\n",
        "        self.K = K\n",
        "        self.T = T\n",
        "        self.price = price"
      ]
    },
    {
      "cell_type": "code",
      "execution_count": 15,
      "metadata": {},
      "outputs": [],
      "source": [
        "class AnalyticEngine:\n",
        "\n",
        "    def __init__(self):\n",
        "        pass\n",
        "\n",
        "    def BSpriceCall(self, dynamics, contract):\n",
        "        # ignores contract.price if given, because this function calculates price based on the dynamics\n",
        "\n",
        "        F = dynamics.S*np.exp(dynamics.rGrow*contract.T)\n",
        "        std = dynamics.sigma*np.sqrt(contract.T)\n",
        "        d1 = np.log(F/contract.K)/std+std/2\n",
        "        d2 = d1-std\n",
        "        return np.exp(-dynamics.r*contract.T)*(F*norm.cdf(d1)-contract.K*norm.cdf(d2))\n",
        "\n",
        "    def IV(self, dynamics, contract):\n",
        "        # ignores dynamics.sigma, because this function solves for sigma.\n",
        "\n",
        "        if contract.price is None:\n",
        "            raise ValueError('Contract price must be given')\n",
        "\n",
        "        df = np.exp(-dynamics.r*contract.T)  #discount factor\n",
        "        F = dynamics.S / df\n",
        "        lowerbound = np.max([0,(F-contract.K)*df])\n",
        "        C = contract.price\n",
        "        if C<lowerbound:\n",
        "            return np.nan\n",
        "        if C==lowerbound:\n",
        "            return 0\n",
        "        if C>=F*df:\n",
        "            return np.nan\n",
        "\n",
        "        dytry = copy(dynamics)\n",
        "        # We \"try\" values of sigma until we find sigma that generates price C\n",
        "\n",
        "        # First find lower and upper bounds\n",
        "        sigma_try = 0.2\n",
        "        while self.BSpriceCall(dytry.update_sigma(sigma_try),contract)>C:\n",
        "            sigma_try /= 2\n",
        "        while self.BSpriceCall(dytry.update_sigma(sigma_try),contract)<C:\n",
        "            sigma_try *= 2\n",
        "        hi = sigma_try\n",
        "        lo = hi/2\n",
        "        # We have calculated \"lo\" and \"hi\" which bound the implied volatility from below and above.\n",
        "        # In other words, the implied volatility is somewhere in the interval [lo,hi].\n",
        "        # Then, to calculate the implied volatility within that interval,\n",
        "        # for purposes of this homework, you may either (A) write your own bisection algorithm,\n",
        "        # or (B) use scipy.optimize.bisect or (C) use scipy.optimize.brentq\n",
        "        # You will need to provide lo and hi to those solvers.\n",
        "        # There are other solvers that do not require you to bound the solution\n",
        "        # from below and above (for instance, scipy.optimize.fsolve is a useful solver).\n",
        "        # However, if you are able to bound the solution (of a single-variable problem),\n",
        "        # then bisection or Brent will be more reliable.\n",
        "\n",
        "        # Option B: use scipy.optimize.bisect\n",
        "        # Need to pass the function that takes the implied volatility as a single argument\n",
        "        # Define a function for the call price as a function of sigma\n",
        "        def func(sigma):\n",
        "            return self.BSpriceCall(dytry.update_sigma(sigma), contract) - C\n",
        "\n",
        "        impliedVolatility = bisect(func, lo, hi)\n",
        "\n",
        "        return impliedVolatility\n"
      ]
    },
    {
      "cell_type": "markdown",
      "metadata": {},
      "source": [
        "$$IV^2(T)= \\frac{1}{T} \\int_0^T \\sigma^2(t) dt$$"
      ]
    },
    {
      "cell_type": "code",
      "execution_count": 25,
      "metadata": {},
      "outputs": [],
      "source": [
        "T1 = 0.3\n",
        "T2 = 0.4\n",
        "T3 = 0.6\n",
        "S0 = 100\n",
        "IV3 =  0.3\n",
        "sigma1 = 0.34\n",
        "C2 = 8.01"
      ]
    },
    {
      "cell_type": "code",
      "execution_count": 34,
      "metadata": {},
      "outputs": [
        {
          "name": "stdout",
          "output_type": "stream",
          "text": [
            "C3 9.24976421293605\n",
            "IV2 0.3179976498926408\n",
            "C1 7.418607894112\n",
            "sigma2 0.2401874712572872\n",
            "sigma3 0.26029788574922175\n"
          ]
        }
      ],
      "source": [
        "#Test the BSpriceCall function\n",
        "final_analytic = AnalyticEngine()\n",
        "\n",
        "# C3 from IV3\n",
        "dynamics3 = GBMdynamics(sigma=IV3, rGrow=0, S=S0, r=0)\n",
        "contract3 = CallOption(K=100, T=T3)\n",
        "callprice3 = final_analytic.BSpriceCall(dynamics3, contract3)\n",
        "print('C3', callprice3)\n",
        "C3 = callprice3\n",
        "\n",
        "# IV2 from C2\n",
        "contract2 = CallOption(K=100, T=T2)\n",
        "contract2.price = C2\n",
        "dynamics2 = GBMdynamics(sigma=IV3, rGrow=0, S=S0, r=0)\n",
        "IV2 = final_analytic.IV(dynamics2,contract2)    # This code, EXACTLY AS WRITTEN HERE, must execute without crashing\n",
        "print('IV2', IV2)\n",
        "\n",
        "# Use the integral to relate sigma and IV\n",
        "IV1 = sigma1\n",
        "dynamics1 = GBMdynamics(sigma=IV1, rGrow=0, S=S0, r=0)\n",
        "contract1 = CallOption(K=100, T=T1)\n",
        "callprice1 = final_analytic.BSpriceCall(dynamics1, contract1)\n",
        "print('C1', callprice1)\n",
        "C1 = callprice1\n",
        "\n",
        "# calculate sigma2\n",
        "sigma2 = ((IV2**2 * T2 - sigma1**2 * T1) / (T2 - T1))**0.5\n",
        "print('sigma2', sigma2)\n",
        "\n",
        "# calculate sigma3\n",
        "sigma3 = ((IV3**2 * T3 - sigma1**2 * T1 - sigma2**2 * (T2 - T1)) \n",
        "          / (T3 - T2))**0.5\n",
        "print('sigma3', sigma3)"
      ]
    },
    {
      "cell_type": "code",
      "execution_count": 36,
      "metadata": {},
      "outputs": [
        {
          "name": "stdout",
          "output_type": "stream",
          "text": [
            "IV1, IV2, IV3:  0.34 0.3179976498926408 0.3\n",
            "sigma1, sigma2, sigma3:  0.34 0.2401874712572872 0.26029788574922175\n",
            "C1, C2, C3:  7.418607894112 8.01 9.24976421293605\n"
          ]
        }
      ],
      "source": [
        "print('IV1, IV2, IV3: ', IV1, IV2, IV3)\n",
        "print('sigma1, sigma2, sigma3: ', sigma1, sigma2, sigma3)\n",
        "print('C1, C2, C3: ', C1, C2, C3)"
      ]
    },
    {
      "cell_type": "code",
      "execution_count": null,
      "metadata": {},
      "outputs": [],
      "source": []
    }
  ],
  "metadata": {
    "anaconda-cloud": {},
    "colab": {
      "provenance": []
    },
    "kernelspec": {
      "display_name": "Python 3",
      "language": "python",
      "name": "python3"
    },
    "language_info": {
      "codemirror_mode": {
        "name": "ipython",
        "version": 3
      },
      "file_extension": ".py",
      "mimetype": "text/x-python",
      "name": "python",
      "nbconvert_exporter": "python",
      "pygments_lexer": "ipython3",
      "version": "3.9.12"
    },
    "toc": {
      "base_numbering": 1,
      "nav_menu": {},
      "number_sections": true,
      "sideBar": true,
      "skip_h1_title": false,
      "title_cell": "Table of Contents",
      "title_sidebar": "Contents",
      "toc_cell": false,
      "toc_position": {},
      "toc_section_display": true,
      "toc_window_display": false
    }
  },
  "nbformat": 4,
  "nbformat_minor": 0
}
