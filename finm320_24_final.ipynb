{
  "cells": [
    {
      "cell_type": "code",
      "execution_count": 1,
      "metadata": {
        "id": "N3NcmSyD_n-h"
      },
      "outputs": [],
      "source": [
        "import numpy as np\n",
        "from scipy.stats import norm"
      ]
    },
    {
      "cell_type": "markdown",
      "metadata": {},
      "source": [
        "Let $S$ be a non-dividend-paying stock that follows Geometric Brownian motion with $70\\%$ volatility and time-$0$ price $S_{0} = 10$. The interest rate is $2\\%$\n",
        "\n",
        "Find the time-$0$ price of an \"$\\text{EY}$\" contract which pays at time $1$\n",
        "\n",
        "$$ \\left(\\frac{S_{0.5}+S_{1.0}}{2}- 12 \\right)^+$$\n",
        "\n",
        "Use conditional Monte Carlo, conditioning on $S_{0.5}$. \n",
        "\n",
        "Let:\n",
        "- $T_{0} = 0.5$\n",
        "- $T_{1} = 1$\n",
        "- $S_{0} = 10$\n",
        "- $K = 12$\n",
        "- $r = 0.02$\n",
        "- $R_{grow} = r$\n",
        "- $\\sigma = 0.70$\n",
        "\n",
        "The conditional expected discounted payoff at time 0, given $(S_{T_{0}})$, can be expressed as:\n",
        "$$\\text{EY}\\left(S_{T_{0}}\\right) = e^{-rT_{0}} \\cdot \\mathbb{E}\\left[Y\\left(S_{T_{1}}, S_{T_{0}}\\right) | S_{T_{0}}\\right] \n",
        "= e^{-rT_{0}} \\cdot \\mathbb{E}\\left[\\left(\\frac{S_{T_0}+S_{T_1}}{2}- 12 \\right)^+ | S_{T_{0}}\\right] \n",
        "$$\n",
        "\n",
        "Note: We need to consider the additional condition when $\\left(S_{T_{1}} > 2K\\right)$.\n",
        "\n",
        "Our final form for the time-$0$ price is the following:\n",
        "$$\\begin{align*}\n",
        "C^{BS} &= C^{BS}\\left(S_{t}=S_{T_{0}}, t=T_{0}, K=K, T=T_{1}, R_{grow}, r, \\sigma\\right) \\\\\n",
        "CB^{BS} &= \\left( S_{T_{0}} - K\\right) \\\\\n",
        "d_{2} &= \\frac{\\ln\\left(\\frac{S_{T_{0}}}{2K}\\right) + \\left(R_{grow} - \\frac{1}{2}\\sigma^{2}\\right)\\left(T_{1}-T_{0}\\right)}{{\\sigma\\sqrt{T_{1}-T_{0}}}} \\\\\n",
        "V_{0} &= \\exp\\left(-rT_{0}\\right)\\left[\\mathbb{1}\\{S_{T_{0}} \\leq 2K \\}C^{BS} + \\mathbb{1}\\{S_{T_{0}} > 2K\\}CB^{BS} \\right] \\\\\n",
        "\\end{align*}$$\n"
      ]
    },
    {
      "cell_type": "code",
      "execution_count": 2,
      "metadata": {
        "id": "5CQyoplL_n-k"
      },
      "outputs": [],
      "source": [
        "class GBM:\n",
        "\n",
        "    def __init__(self,S0,r,sigma=None):\n",
        "        self.S0=S0\n",
        "        self.r=r\n",
        "        self.sigma=sigma\n"
      ]
    },
    {
      "cell_type": "code",
      "execution_count": 3,
      "metadata": {
        "id": "qA_ASvUaC97l"
      },
      "outputs": [],
      "source": [
        "class CallOnAverage:\n",
        "\n",
        "    def __init__(self,K,T0,T1):\n",
        "        self.K = K\n",
        "        self.T0 = T0\n",
        "        self.T1 = T1"
      ]
    },
    {
      "cell_type": "code",
      "execution_count": 22,
      "metadata": {
        "id": "UXmRgYDM_n-l"
      },
      "outputs": [],
      "source": [
        "### Pricing Engine\n",
        "class AnalyticEngine:\n",
        "\n",
        "    def __init__(self):\n",
        "        pass\n",
        "    \n",
        "    \n",
        "    def BSpriceCall(self, dynamics: GBM, contract: CallOnAverage) -> float:\n",
        "        ### Separate dynamics and contract class attributes to variables\n",
        "        K, T0, T1 = contract.__dict__.values()\n",
        "        S0, r, sigma = dynamics.__dict__.values()\n",
        "        \n",
        "        ### Make BS variables and call price\n",
        "        timeRemaining = T1 - T0\n",
        "        F = S0 * np.exp(r * timeRemaining)\n",
        "        std = sigma * np.sqrt(timeRemaining)\n",
        "        d1 = np.log(F / K) / std + std / 2\n",
        "        d2 = d1 - std\n",
        "        call_price = np.exp(-r * timeRemaining) * (F * norm.cdf(d1) - K * norm.cdf(d2))\n",
        "        \n",
        "        return call_price\n",
        "    \n",
        "\n",
        "class MCengine:\n",
        "\n",
        "    def __init__(self,M,seed):\n",
        "        self.M = M  #number of paths\n",
        "        self.rng = np.random.default_rng(seed=seed) # Seeding the random number generator with a specified number helps make the calculations reproducible\n",
        "\n",
        "    def randomLogreturn(self,dynamics,deltat):\n",
        "        return ((dynamics.r - dynamics.sigma**2/2) * deltat \n",
        "                + dynamics.sigma*np.sqrt(deltat) * self.rng.normal(size=self.M))\n",
        "\n",
        "    def price_CallOnAverage_GBM(self,contract,dynamics):\n",
        "        #You fill this in.\n",
        "        K, T0, T1 = contract.__dict__.values()\n",
        "        S0, r, sigma = dynamics.__dict__.values()\n",
        "        deltat1 = T0\n",
        "        deltat2 = T1 - T0\n",
        "        \n",
        "        # Simulate S0.5\n",
        "        S0_5 = S0 * np.exp(self.randomLogreturn(dynamics, deltat1))\n",
        "        \n",
        "        payoffs = np.zeros(self.M)\n",
        "        \n",
        "        # Simulate S1.0 given S0.5\n",
        "        for i in range(self.M):\n",
        "            if S0_5[i] < 24:\n",
        "                S1_0 = S0_5[i] * np.exp(self.randomLogreturn(dynamics, deltat2)[i])\n",
        "                payoffs[i] = max((S0_5[i] + S1_0)/2 - K, 0)\n",
        "            else:\n",
        "                payoffs[i] = S0_5[i] - 12\n",
        "        \n",
        "        # Discount payoffs to present value\n",
        "        payoffs *= np.exp(-r * T1)\n",
        "        \n",
        "        # Calculate price and standard error\n",
        "        price = np.mean(payoffs)\n",
        "        standard_error = np.std(payoffs) / np.sqrt(self.M)\n",
        "\n",
        "        return (price, standard_error)\n"
      ]
    },
    {
      "cell_type": "code",
      "execution_count": 23,
      "metadata": {
        "id": "LR8WHSpv_n-o"
      },
      "outputs": [],
      "source": [
        "p3dynamics = GBM(sigma=0.70,S0=10,r=0.02)"
      ]
    },
    {
      "cell_type": "code",
      "execution_count": 24,
      "metadata": {
        "id": "2qPJ4byU_n-o"
      },
      "outputs": [],
      "source": [
        "p3contract = CallOnAverage(K=12,T0=0.5,T1=1.0)"
      ]
    },
    {
      "cell_type": "code",
      "execution_count": 27,
      "metadata": {
        "id": "j9o69w-i_n-p"
      },
      "outputs": [
        {
          "name": "stdout",
          "output_type": "stream",
          "text": [
            "1.5324553557623568 0.037832512015875994\n"
          ]
        }
      ],
      "source": [
        "p3MC = MCengine(M=10000,seed=0)\n",
        "(p3price, p3standard_error) = p3MC.price_CallOnAverage_GBM(p3contract,p3dynamics)\n",
        "print(p3price, p3standard_error)"
      ]
    },
    {
      "cell_type": "code",
      "execution_count": null,
      "metadata": {},
      "outputs": [],
      "source": []
    },
    {
      "cell_type": "code",
      "execution_count": null,
      "metadata": {},
      "outputs": [],
      "source": []
    },
    {
      "cell_type": "code",
      "execution_count": null,
      "metadata": {},
      "outputs": [],
      "source": []
    }
  ],
  "metadata": {
    "anaconda-cloud": {},
    "colab": {
      "provenance": []
    },
    "kernelspec": {
      "display_name": "Python 3",
      "language": "python",
      "name": "python3"
    },
    "language_info": {
      "codemirror_mode": {
        "name": "ipython",
        "version": 3
      },
      "file_extension": ".py",
      "mimetype": "text/x-python",
      "name": "python",
      "nbconvert_exporter": "python",
      "pygments_lexer": "ipython3",
      "version": "3.9.12"
    }
  },
  "nbformat": 4,
  "nbformat_minor": 0
}
