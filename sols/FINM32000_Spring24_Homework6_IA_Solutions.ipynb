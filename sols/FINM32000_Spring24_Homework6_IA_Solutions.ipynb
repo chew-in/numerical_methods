{
 "cells": [
  {
   "cell_type": "markdown",
   "metadata": {},
   "source": [
    "<div style = \"text-align: right\"> Roger Lee </div>\n",
    "\n",
    "<left>FINM 32000</left> \n",
    "<br>\n",
    "<left>Spring 2024</left>\n",
    "\n",
    "<h2><center>Homework # 6</center></h2>\n",
    "<h3><center><font color = \"blue\">Solution By: Imtiaz Ali</font></center></h3>"
   ]
  },
  {
   "cell_type": "code",
   "execution_count": 1,
   "metadata": {},
   "outputs": [],
   "source": [
    "import numpy as np\n",
    "import pandas as pd\n",
    "from scipy import stats\n",
    "from scipy.stats import norm\n",
    "from typing import Tuple, List\n"
   ]
  },
  {
   "cell_type": "code",
   "execution_count": 2,
   "metadata": {},
   "outputs": [
    {
     "name": "stdout",
     "output_type": "stream",
     "text": [
      "==================================================\n",
      "3.8.12 (default, Oct 12 2021, 03:01:40) [MSC v.1916 64 bit (AMD64)]\n",
      "==================================================\n",
      "sys.version_info(major=3, minor=8, micro=12, releaselevel='final', serial=0)\n",
      "==================================================\n",
      "Python 3.8.12\n",
      "==================================================\n",
      "Selected Jupyter core packages...\n",
      "IPython          : 8.12.0\n",
      "ipykernel        : 6.19.2\n",
      "ipywidgets       : 8.0.4\n",
      "jupyter_client   : 8.1.0\n",
      "jupyter_core     : 5.3.0\n",
      "jupyter_server   : 1.13.5\n",
      "jupyterlab       : 3.3.2\n",
      "nbclient         : 0.5.13\n",
      "nbconvert        : 6.1.0\n",
      "nbformat         : 5.7.0\n",
      "notebook         : 6.5.4\n",
      "qtconsole        : 5.4.2\n",
      "traitlets        : 5.7.1\n",
      "==================================================\n",
      "CPU times: total: 15.6 ms\n",
      "Wall time: 1.98 s\n"
     ]
    }
   ],
   "source": [
    "%%time\n",
    "####================================================\n",
    "import sys\n",
    "\n",
    "### Get Python and Jupyter Notebook version and information\n",
    "# print('=' * 50)\n",
    "# print(sys.executable)\n",
    "print('=' * 50)\n",
    "print(sys.version)\n",
    "print('=' * 50)\n",
    "print(sys.version_info)\n",
    "print('=' * 50)\n",
    "!python --version\n",
    "print('=' * 50)\n",
    "!jupyter --version\n",
    "print('=' * 50)\n"
   ]
  },
  {
   "cell_type": "code",
   "execution_count": null,
   "metadata": {},
   "outputs": [],
   "source": []
  },
  {
   "cell_type": "markdown",
   "metadata": {
    "id": "Jeby0NCp46DE"
   },
   "source": [
    "## Problem 1"
   ]
  },
  {
   "cell_type": "markdown",
   "metadata": {},
   "source": [
    "\n",
    "> Let $\\textbf{S}$ be the column vector with components $S^{[1]}, S^{[2]}$ where the stock prices $S^{[j]}$ have the risk-neutrall dynamics \n",
    "$$dS^{[j]}_{t} = rS^{[j]}_{t}dt + \\sigma_{[j]} S^{[j]}_{t}dW^{[j]}_{t} \\quad j = 1, 2$$\n",
    "> with risk-free interest rate $r = 0.05$, and constant volatilities $\\sigma_{[1]} = 0.3, \\sigma_{[2]} = 0.2$. \n",
    ">\n",
    "> The time-$0$ prices are $S^{[1]}_{0} = 100, S^{[2]}_{0} = 110$. The $\\mathbb{P}$-Brownian motions $W^{[1]}$ and $W^{[2]}$ have correlation $\\rho = 0.8$.\n"
   ]
  },
  {
   "cell_type": "code",
   "execution_count": null,
   "metadata": {},
   "outputs": [],
   "source": []
  },
  {
   "cell_type": "markdown",
   "metadata": {},
   "source": [
    "## Problem 1a"
   ]
  },
  {
   "cell_type": "markdown",
   "metadata": {},
   "source": [
    "\n",
    "> Let $\\textbf{X}$ be the column vector with components $X^{[1]}, X^{[2]}$ where $X^{[j]} := \\log S^{[j]}$. Find the covariance matrix of $\\textbf{X}_{T}$.\n",
    ">\n",
    "> Hint: One approach is to manually fill in the covariance matrix, using relationships such as $\\mathrm{Cov}\\left(W^{[1]}_{T}, W^{[2]}_{T}\\right) = 0.8T$ in combination with the volatilities. \n",
    ">\n",
    "> Another approach is to use matrix multiplication: write $\\textbf{X}_{T}$ as a nonrandom vector plus $\\Sigma W_{T}$ where $\\Sigma$ is the nonrandom diagonal matrix with diagonal elements $\\sigma_{[1]}, \\sigma_{[2]}$, and $W$ is the random column vector with components $W^{[1]}, W^{[2]}$. \n",
    ">\n",
    "> Then $\\mathrm{Cov}\\left(X_{T}\\right) = \\mathbb{E}(X_{T}X^{\\top}_{T}) = \\mathbb{E}(\\Sigma W_{T}W^{\\top}_{T}\\Sigma^{\\top}) = \\Sigma\\mathrm{Cov}\\left(W_{T}\\right)\\Sigma^{\\top} = T\\Sigma\\mathrm{Corr}\\left(W_{T}\\right)\\Sigma^{\\top}$. \n",
    "\n",
    "\n",
    ">- $\\underline{\\textbf{Risk-Neutral Dynamics:}}$\n",
    ">- We will simulate the following PDE, with $j = 1, 2$:\n",
    "$$dS^{[j]}_{t} = rS^{[j]}_{t}dt + \\sigma_{[j]} S^{[j]}_{t}dW^{[j]}_{t}$$\n",
    ">\n",
    ">- let $X^{[j]}_{t} = \\log\\left(S^{[j]}_{t}\\right)$, then:\n",
    "$$dX^{[j]}_{t} = \\left(r - \\frac{\\sigma^{2}_{[j]}}{2}\\right)dt + \\sigma_{[j]}dW^{[j]}_{t}$$\n",
    ">\n",
    ">- With Monte Carlo, when $t = T$ we get:\n",
    "$$X_{T} = X_{0} + \\left(r - \\frac{\\sigma^{2}}{2}\\right)T + \\Sigma W_{T}$$\n",
    ">\n",
    ">- where $\\Sigma$ is a diagonal matrix:\n",
    "$$\\Sigma = \\left[{\\begin{array}{cc}\n",
    "                  \\sigma_{1} & 0 \\\\\n",
    "                  0 & \\sigma_{2} \\\\\n",
    "                  \\end{array}}\\right]$$\n",
    ">\n",
    ">- We have that for standard normal distribution:\n",
    "$$\\begin{align*}\n",
    "\\mathbb{E}_{t}\\left[W^{i}_{t}\\right] &= 0 \\\\\n",
    "\\mathrm{Var}_{t}\\left[W^{i}_{t}\\right] &= t \\\\\n",
    "\\mathrm{Cov}\\left[W^{i}_{t}, W^{k}_{t}\\right] &= \\rho_{i, k}t \\\\\n",
    "\\mathrm{Cov}\\left[W_{t}\\right] &= \\left[{\\begin{array}{cc}\n",
    "                                         t & \\rho_{1,2} t \\\\\n",
    "                                         \\rho_{2,1} t & t \\\\\n",
    "                                         \\end{array}} \\right] \\\\\n",
    "\\mathrm{Corr}\\left[W_{t}\\right] &= \\frac{\\mathrm{Cov}\\left[X_{T}\\right]}{\\mathrm{Var}_{t}\\left[W^{i}_{t}\\right]} \\\\\n",
    "&= \\left[{\\begin{array}{cc}\n",
    "          1 & \\rho_{1,2} \\\\\n",
    "          \\rho_{2,1} & 1 \\\\\n",
    "          \\end{array}} \\right] \\\\\n",
    "\\end{align*}$$\n",
    ">\n",
    ">- Then $\\mathrm{Cov}\\left[X_{T}\\right] = \\Sigma \\mathrm{Cov}\\left[W_{T}\\right] \\Sigma^{\\top}$, with $\\rho = \\rho_{1,2} = \\rho_{2,1}$, simplified to:\n",
    "$$\\begin{align*}\n",
    "\\mathrm{Cov}\\left[X_{T}\\right] &= \\left[{\\begin{array}{cc}\n",
    "                                         \\sigma^{2}_{[1]} T & \\sigma_{[1]}\\sigma_{[2]}\\rho T \\\\\n",
    "                                         \\sigma_{[1]}\\sigma_{[2]}\\rho T & \\sigma^{2}_{[2]} T \\\\\n",
    "                                         \\end{array}} \\right] \\\\\n",
    "\\mathrm{Corr}\\left[W_{t}\\right] &= \\left[{\\begin{array}{cc}\n",
    "                                           1 & \\rho \\\\\n",
    "                                           \\rho & 1 \\\\\n",
    "                                           \\end{array}} \\right] \\\\\n",
    "\\end{align*}$$\n",
    ">\n",
    ">- If $\\sigma_{[1]} = 0.3, \\sigma_{[2]} = 0.2, \\rho = 0.8$, then:\n",
    "$$\\begin{align*}\n",
    "\\mathrm{Cov}\\left[X_{T}\\right] &= \\left[ {\\begin{array}{cc}\n",
    "                                         0.09 T & 0.048 T \\\\\n",
    "                                         0.048 T & 0.04 T \\\\\n",
    "                                          \\end{array}} \\right] \\\\                                      \n",
    "\\mathrm{Corr}\\left[W_{t}\\right] &= \\left[{\\begin{array}{cc}\n",
    "                                         1 & 0.8 \\\\\n",
    "                                         0.8 & 1 \\\\\n",
    "                                         \\end{array}} \\right] \\\\\n",
    "\\end{align*}$$"
   ]
  },
  {
   "cell_type": "code",
   "execution_count": null,
   "metadata": {},
   "outputs": [],
   "source": []
  },
  {
   "cell_type": "code",
   "execution_count": 3,
   "metadata": {
    "id": "9xOrWGQY46DF"
   },
   "outputs": [
    {
     "name": "stdout",
     "output_type": "stream",
     "text": [
      "CPU times: total: 0 ns\n",
      "Wall time: 0 ns\n"
     ]
    }
   ],
   "source": [
    "%%time\n",
    "####================================================\n",
    "### Model Dynamics (Multivariate GBM)\n",
    "class MultiGBM:\n",
    "\n",
    "    def __init__(self, S0: np.ndarray, r: float, correlations: np.ndarray, sigma: np.ndarray) -> None:\n",
    "        self.S0 = S0\n",
    "        self.r = r\n",
    "        self.correlations = correlations\n",
    "        self.sigma = sigma\n",
    "    \n",
    "\n",
    "####================================================\n",
    "### Contract\n",
    "class CallOnBasket:\n",
    "\n",
    "    def __init__(self, K: float, T: float, weights: np.array) -> None:\n",
    "        self.K = K\n",
    "        self.T = T\n",
    "        self.weights = weights\n",
    "        \n"
   ]
  },
  {
   "cell_type": "code",
   "execution_count": null,
   "metadata": {
    "id": "52OH89tZ46DF"
   },
   "outputs": [],
   "source": []
  },
  {
   "cell_type": "code",
   "execution_count": 4,
   "metadata": {
    "id": "aRA8B9a046DG"
   },
   "outputs": [
    {
     "name": "stdout",
     "output_type": "stream",
     "text": [
      "CPU times: total: 0 ns\n",
      "Wall time: 0 ns\n"
     ]
    }
   ],
   "source": [
    "%%time\n",
    "####================================================\n",
    "### Pricing Engine\n",
    "class MCengine:\n",
    "\n",
    "    def __init__(self, M: float, antithetic: bool, control: bool, seed: float = 0) -> None:\n",
    "        self.M = M                                  # How many simulations\n",
    "        self.antithetic = antithetic\n",
    "        self.control = control\n",
    "        self.rng = np.random.default_rng(seed=seed) \n",
    "        ### Seeding the random number generator with a specified number helps make the calculations reproducible\n",
    "    \n",
    "    \n",
    "    @staticmethod\n",
    "    def vanilla_price_BS(S: float, K: float, rGrow: float, r: float, sigma: float, T: float, t: float = 0, \n",
    "                         call_put_flag: str = 'C') -> float:\n",
    "        tau = T - t\n",
    "        F = S * np.exp(rGrow * tau) \n",
    "        total_sigma = sigma * np.sqrt(tau)\n",
    "        if total_sigma == 0:\n",
    "            if call_put_flag == 'C':\n",
    "                return np.maximum(np.exp(-r * tau) * (F - K), 0)  ### Call Option\n",
    "            else:\n",
    "                return np.maximum(np.exp(-r * tau) * (K - F), 0)  ### Put Option\n",
    "        d1 = (np.log(F / K) / total_sigma) + (total_sigma / 2)\n",
    "        d2 = d1 - total_sigma\n",
    "        if call_put_flag == 'C':\n",
    "            return np.exp(-r * tau) * (F * norm.cdf(d1) - K * norm.cdf(d2))    ### Call Option\n",
    "        else:\n",
    "            return np.exp(-r * tau) * (K * norm.cdf(-d2) - F * norm.cdf(-d1))  ### Put Option\n",
    "    \n",
    "    \n",
    "    def price_callonbasket_multiGBM(self, contract: CallOnBasket, dynamics: MultiGBM) -> Tuple[float]:\n",
    "        ### Separate dynamics and contract class attributes to variables\n",
    "        K, T, weights = contract.__dict__.values()\n",
    "        S0, r, correlations, sigma = dynamics.__dict__.values()\n",
    "        \n",
    "        ### Make Covariance Matrix\n",
    "        cov_Xt = sigma @ correlations @ sigma.T\n",
    "        \n",
    "        ### Generates pseudo-random multivariate normals (Zt = 2-by-M) and correlated Brownian motion\n",
    "        ### NOTE: IID zero-mean random variables with covariance\n",
    "        ### There are a few ways to do this\n",
    "        try:\n",
    "            ### Method 1 (Not very consistent compared to Cholesky)\n",
    "            Zt = self.rng.multivariate_normal(mean=np.zeros(2), cov=cov_Xt, size=self.M).T ### Correlated Normal: L*Zt\n",
    "            Wt = np.sqrt(T) * Zt                      ### Transform samples to correlated Brownian motion\n",
    "        except Exception as e:\n",
    "            print('Error occurred with Method 1, falling back to Method 2 (Cholesky): {}'.format(e))\n",
    "            ### Method 2\n",
    "            Zt = self.rng.multivariate_normal(mean=np.zeros(2), cov=np.eye(2), size=self.M).T\n",
    "            LL_star = np.linalg.cholesky(cov_Xt)      ### Cholesky decomposition LL*\n",
    "            Wt = np.sqrt(T) * np.matmul(LL_star, Zt)  ### Transform samples to correlated Brownian motion\n",
    "        \n",
    "        ### You are not required to support the case where MC.control = MC.antithetic = True\n",
    "        if self.antithetic and self.control:\n",
    "            raise ValueError(\"MCengine.control = MCengine.antithetic = True\")\n",
    "        \n",
    "        ### Generate correlated Brownian motions for using Ordinary Monte Carlo\n",
    "        S1 = S0[0] * np.exp((r - (sigma[0][0] ** 2) / 2) * T + Wt[0])\n",
    "        S2 = S0[1] * np.exp((r - (sigma[1][1] ** 2) / 2) * T + Wt[1])\n",
    "        H = weights[0] * S1 + weights[1] * S2     ### Make Basket\n",
    "        Y = np.exp(-r * T) * np.maximum(H - K, 0) ### Make Payoff\n",
    "\n",
    "        ### Check to see if we run OMC, AVMC or CVMC for payoff and pricing\n",
    "        if self.antithetic == False and self.control == False:\n",
    "            ### Ordinary Monte Carlo ###\n",
    "            call_price_OMC = Y\n",
    "            call_price = np.mean(call_price_OMC)\n",
    "            standard_error = np.std(call_price_OMC, ddof=1) / np.sqrt(self.M)\n",
    "            \n",
    "        elif self.antithetic == True and self.control == False:\n",
    "            ### Antithetic Variate (AV) ###\n",
    "            Wt_AV = -Wt\n",
    "            S1_AV = S0[0] * np.exp((r - (sigma[0][0] ** 2) / 2) * T + Wt_AV[0])\n",
    "            S2_AV = S0[1] * np.exp((r - (sigma[1][1] ** 2) / 2) * T + Wt_AV[1])\n",
    "            H_AV = weights[0] * S1_AV + weights[1] * S2_AV     ### Make Basket (AV)\n",
    "            Y_AV = np.exp(-r * T) * np.maximum(H_AV - K, 0)    ### Make Payoff (AV)\n",
    "\n",
    "            call_price_AV = np.array([Y, Y_AV]).mean(axis=0) ### Mean of each column (pair wise)\n",
    "            call_price = np.mean(call_price_AV)\n",
    "            standard_error = np.std(call_price_AV, ddof=1) / np.sqrt(self.M)\n",
    "            \n",
    "        elif self.antithetic == False and self.control == True:\n",
    "            ### Control Variate (CV) ###\n",
    "            ### Get CV options price (time-0 C*) using BS formula with CV statistics\n",
    "            S_CV = np.sqrt(S0[0] * S0[1])\n",
    "            sigma1, sigma2, rho = sigma[0][0], sigma[-1][-1], correlations[0][-1]\n",
    "            rGrow_CV = r - ((sigma1 ** 2) - (2 * rho * sigma1 * sigma2) + (sigma2 ** 2)) / 8 \n",
    "            var_CV = ((sigma1 ** 2) + (2 * rho * sigma1 * sigma2) + (sigma2 ** 2)) / 4\n",
    "            sigma_CV = np.sqrt(var_CV)\n",
    "            call_price_STAR = MCengine.vanilla_price_BS(S_CV, K, rGrow_CV, r, sigma_CV, T, t=0, call_put_flag='C')\n",
    "            \n",
    "            ### Minimize Variance L6.4 to L6.9 (Find beta, make independent simulations Y*)\n",
    "            G_CV = np.sqrt(S1 * S2)\n",
    "            Y_CV = np.exp(-r * T) * np.maximum(G_CV - K, 0)\n",
    "            beta = np.cov(Y, Y_CV)[0][-1] / np.var(Y_CV)\n",
    "            Y_STAR = Y + beta * (call_price_STAR - Y_CV)                ### Paths L6.8 (Middle eqn)\n",
    "\n",
    "            ### Get CVMC estimeted price and standard error\n",
    "            call_price = np.mean(Y_STAR)                                ### CVMC estimate price L6.8 (First eqn)\n",
    "            standard_error = np.std(Y_STAR, ddof=1) / np.sqrt(self.M)   ### Asymptotically valid L6.9\n",
    "\n",
    "        return (call_price, standard_error)\n",
    "\n"
   ]
  },
  {
   "cell_type": "code",
   "execution_count": null,
   "metadata": {},
   "outputs": [],
   "source": []
  },
  {
   "cell_type": "markdown",
   "metadata": {},
   "source": [
    "## Problem 1b"
   ]
  },
  {
   "cell_type": "markdown",
   "metadata": {},
   "source": [
    "\n",
    "> Consider the basket $H := \\frac{1}{2}S^{[1]} + \\frac{1}{2}S^{[2]}$ <br>\n",
    ">\n",
    "> Using $10000$ standard Monte Carlo simulations, estimate the time-$0$ price $C$ of an option that pays $(H_{T} - 110)^{+}$ at time $T = 1.0$. Also give the standard error $[\\text{the sample standard deviation, divided by the square root of the number of simulations}]$ of your Monte Carlo estimate.\n",
    ">\n",
    "> You may either use a random number generator that produces normals with a given covariance matrix (which you found in (a)), or alternatively use a random number generator that produces independent normals which you then transform to introduce correlation.<br>\n",
    "> \n",
    "> In either approach, each of the $10000$ simulations should use just $\\textit{one}$ $\\mathbb{R}^{2}$-valued random vector $\\textbf{Z}$ of simulated normal $\\textit{zero-mean}$ random variables.\n",
    "\n"
   ]
  },
  {
   "cell_type": "code",
   "execution_count": null,
   "metadata": {},
   "outputs": [],
   "source": []
  },
  {
   "cell_type": "code",
   "execution_count": 5,
   "metadata": {},
   "outputs": [
    {
     "name": "stdout",
     "output_type": "stream",
     "text": [
      "CPU times: total: 0 ns\n",
      "Wall time: 0 ns\n"
     ]
    }
   ],
   "source": [
    "%%time\n",
    "####================================================\n",
    "### Set Model Dynamics and Contract\n",
    "hw6p1dynamics = MultiGBM(S0=np.array([100, 110]), r=0.05, \n",
    "                         correlations=np.array([[1, 0.8], [0.8, 1]]), \n",
    "                         sigma=np.diag([0.3, 0.2]))\n",
    "hw6p1contract = CallOnBasket(K=110, T=1.0, weights=np.array([1/2, 1/2]))\n"
   ]
  },
  {
   "cell_type": "code",
   "execution_count": 6,
   "metadata": {},
   "outputs": [
    {
     "name": "stdout",
     "output_type": "stream",
     "text": [
      "CPU times: total: 15.6 ms\n",
      "Wall time: 23 ms\n"
     ]
    }
   ],
   "source": [
    "%%time\n",
    "####================================================\n",
    "### Run Ordinary Monte Carlo for \n",
    "### Note: STD_ERR < threshold\n",
    "strerr_thresh = 0.20\n",
    "column_name = ['M', 'Call_Price_OMC', 'Standard_Error_OMC']\n",
    "df_MGBM_OMC = pd.DataFrame(columns=column_name)\n",
    "for i in range(0, 10):\n",
    "    M_std_err = 1000*(1+i)\n",
    "    hw6p1bMC = MCengine(M=M_std_err, antithetic=False, control=False, seed=0)\n",
    "    (call_price_OMC, std_err_OMC) = hw6p1bMC.price_callonbasket_multiGBM(hw6p1contract, hw6p1dynamics)\n",
    "    np.set_printoptions(precision=4, suppress=True, formatter={'float_kind':'{:f}'.format})\n",
    "    \n",
    "    ### Store into dataframe\n",
    "    df_MGBM_OMC.loc[len(df_MGBM_OMC)-1] = [M_std_err, call_price_OMC, std_err_OMC]\n",
    "    "
   ]
  },
  {
   "cell_type": "code",
   "execution_count": 7,
   "metadata": {},
   "outputs": [
    {
     "name": "stdout",
     "output_type": "stream",
     "text": [
      "CPU times: total: 703 ms\n",
      "Wall time: 684 ms\n"
     ]
    },
    {
     "data": {
      "text/html": [
       "<style type=\"text/css\">\n",
       "</style>\n",
       "<table id=\"T_8423c_\">\n",
       "  <thead>\n",
       "    <tr>\n",
       "      <th class=\"blank level0\" >&nbsp;</th>\n",
       "      <th class=\"col_heading level0 col0\" >Call_Price_OMC</th>\n",
       "      <th class=\"col_heading level0 col1\" >Standard_Error_OMC</th>\n",
       "    </tr>\n",
       "    <tr>\n",
       "      <th class=\"index_name level0\" >M</th>\n",
       "      <th class=\"blank col0\" >&nbsp;</th>\n",
       "      <th class=\"blank col1\" >&nbsp;</th>\n",
       "    </tr>\n",
       "  </thead>\n",
       "  <tbody>\n",
       "    <tr>\n",
       "      <th id=\"T_8423c_level0_row0\" class=\"row_heading level0 row0\" >1000.0</th>\n",
       "      <td id=\"T_8423c_row0_col0\" class=\"data row0 col0\" >10.7670</td>\n",
       "      <td id=\"T_8423c_row0_col1\" class=\"data row0 col1\" >0.5795</td>\n",
       "    </tr>\n",
       "    <tr>\n",
       "      <th id=\"T_8423c_level0_row1\" class=\"row_heading level0 row1\" >2000.0</th>\n",
       "      <td id=\"T_8423c_row1_col0\" class=\"data row1 col0\" >10.4771</td>\n",
       "      <td id=\"T_8423c_row1_col1\" class=\"data row1 col1\" >0.3880</td>\n",
       "    </tr>\n",
       "    <tr>\n",
       "      <th id=\"T_8423c_level0_row2\" class=\"row_heading level0 row2\" >3000.0</th>\n",
       "      <td id=\"T_8423c_row2_col0\" class=\"data row2 col0\" >10.1773</td>\n",
       "      <td id=\"T_8423c_row2_col1\" class=\"data row2 col1\" >0.3102</td>\n",
       "    </tr>\n",
       "    <tr>\n",
       "      <th id=\"T_8423c_level0_row3\" class=\"row_heading level0 row3\" >4000.0</th>\n",
       "      <td id=\"T_8423c_row3_col0\" class=\"data row3 col0\" >10.1838</td>\n",
       "      <td id=\"T_8423c_row3_col1\" class=\"data row3 col1\" >0.2721</td>\n",
       "    </tr>\n",
       "    <tr>\n",
       "      <th id=\"T_8423c_level0_row4\" class=\"row_heading level0 row4\" >5000.0</th>\n",
       "      <td id=\"T_8423c_row4_col0\" class=\"data row4 col0\" >9.9720</td>\n",
       "      <td id=\"T_8423c_row4_col1\" class=\"data row4 col1\" >0.2421</td>\n",
       "    </tr>\n",
       "    <tr>\n",
       "      <th id=\"T_8423c_level0_row5\" class=\"row_heading level0 row5\" >6000.0</th>\n",
       "      <td id=\"T_8423c_row5_col0\" class=\"data row5 col0\" >9.9774</td>\n",
       "      <td id=\"T_8423c_row5_col1\" class=\"data row5 col1\" >0.2205</td>\n",
       "    </tr>\n",
       "    <tr>\n",
       "      <th id=\"T_8423c_level0_row6\" class=\"row_heading level0 row6\" >7000.0</th>\n",
       "      <td id=\"T_8423c_row6_col0\" class=\"data row6 col0\" >9.9301</td>\n",
       "      <td id=\"T_8423c_row6_col1\" class=\"data row6 col1\" >0.2026</td>\n",
       "    </tr>\n",
       "    <tr>\n",
       "      <th id=\"T_8423c_level0_row7\" class=\"row_heading level0 row7\" >8000.0</th>\n",
       "      <td id=\"T_8423c_row7_col0\" class=\"data row7 col0\" >9.8979</td>\n",
       "      <td id=\"T_8423c_row7_col1\" class=\"data row7 col1\" >0.1903</td>\n",
       "    </tr>\n",
       "    <tr>\n",
       "      <th id=\"T_8423c_level0_row8\" class=\"row_heading level0 row8\" >9000.0</th>\n",
       "      <td id=\"T_8423c_row8_col0\" class=\"data row8 col0\" >9.8607</td>\n",
       "      <td id=\"T_8423c_row8_col1\" class=\"data row8 col1\" >0.1781</td>\n",
       "    </tr>\n",
       "    <tr>\n",
       "      <th id=\"T_8423c_level0_row9\" class=\"row_heading level0 row9\" >10000.0</th>\n",
       "      <td id=\"T_8423c_row9_col0\" class=\"data row9 col0\" >9.8750</td>\n",
       "      <td id=\"T_8423c_row9_col1\" class=\"data row9 col1\" >0.1684</td>\n",
       "    </tr>\n",
       "  </tbody>\n",
       "</table>\n"
      ],
      "text/plain": [
       "<pandas.io.formats.style.Styler at 0x231ed773c40>"
      ]
     },
     "execution_count": 7,
     "metadata": {},
     "output_type": "execute_result"
    }
   ],
   "source": [
    "%%time\n",
    "####================================================\n",
    "### Format dataframe and show results\n",
    "df_MGBM_OMC.index = df_MGBM_OMC.index.format(formatter=lambda x: '{}'.format(x))\n",
    "df_MGBM_OMC.set_index('M', inplace=True)\n",
    "df_MGBM_OMC.index.name = 'M'\n",
    "df_MGBM_OMC.style.format(formatter=lambda x: '{:.4f}'.format(x))\n"
   ]
  },
  {
   "cell_type": "code",
   "execution_count": 8,
   "metadata": {},
   "outputs": [
    {
     "name": "stdout",
     "output_type": "stream",
     "text": [
      "CPU times: total: 0 ns\n",
      "Wall time: 1 ms\n"
     ]
    },
    {
     "data": {
      "text/html": [
       "<div>\n",
       "<style scoped>\n",
       "    .dataframe tbody tr th:only-of-type {\n",
       "        vertical-align: middle;\n",
       "    }\n",
       "\n",
       "    .dataframe tbody tr th {\n",
       "        vertical-align: top;\n",
       "    }\n",
       "\n",
       "    .dataframe thead th {\n",
       "        text-align: right;\n",
       "    }\n",
       "</style>\n",
       "<table border=\"1\" class=\"dataframe\">\n",
       "  <thead>\n",
       "    <tr style=\"text-align: right;\">\n",
       "      <th></th>\n",
       "      <th>Call_Price_OMC</th>\n",
       "      <th>Standard_Error_OMC</th>\n",
       "    </tr>\n",
       "    <tr>\n",
       "      <th>M</th>\n",
       "      <th></th>\n",
       "      <th></th>\n",
       "    </tr>\n",
       "  </thead>\n",
       "  <tbody>\n",
       "    <tr>\n",
       "      <th>8000.0</th>\n",
       "      <td>9.897946</td>\n",
       "      <td>0.190296</td>\n",
       "    </tr>\n",
       "    <tr>\n",
       "      <th>9000.0</th>\n",
       "      <td>9.860660</td>\n",
       "      <td>0.178051</td>\n",
       "    </tr>\n",
       "    <tr>\n",
       "      <th>10000.0</th>\n",
       "      <td>9.875007</td>\n",
       "      <td>0.168390</td>\n",
       "    </tr>\n",
       "  </tbody>\n",
       "</table>\n",
       "</div>"
      ],
      "text/plain": [
       "         Call_Price_OMC  Standard_Error_OMC\n",
       "M                                          \n",
       "8000.0         9.897946            0.190296\n",
       "9000.0         9.860660            0.178051\n",
       "10000.0        9.875007            0.168390"
      ]
     },
     "execution_count": 8,
     "metadata": {},
     "output_type": "execute_result"
    }
   ],
   "source": [
    "%%time\n",
    "####================================================\n",
    "### Using the results where STD_ERR < threshold\n",
    "mask_strerr_thresh = (df_MGBM_OMC.Standard_Error_OMC < strerr_thresh)\n",
    "call_price_OMC, std_err_OMC = df_MGBM_OMC[mask_strerr_thresh].iloc[0].to_list()\n",
    "df_MGBM_OMC[mask_strerr_thresh]\n"
   ]
  },
  {
   "cell_type": "code",
   "execution_count": null,
   "metadata": {},
   "outputs": [],
   "source": []
  },
  {
   "cell_type": "markdown",
   "metadata": {},
   "source": [
    "## Problem 1c"
   ]
  },
  {
   "cell_type": "markdown",
   "metadata": {},
   "source": [
    "\n",
    "> Use $10000$ antithetic pairs $(\\textbf{Z},-\\textbf{Z})$ to estimate $C$, together with a standard error $(\\text{L5.30})$.\n"
   ]
  },
  {
   "cell_type": "code",
   "execution_count": null,
   "metadata": {},
   "outputs": [],
   "source": []
  },
  {
   "cell_type": "code",
   "execution_count": 9,
   "metadata": {},
   "outputs": [
    {
     "name": "stdout",
     "output_type": "stream",
     "text": [
      "CPU times: total: 15.6 ms\n",
      "Wall time: 23 ms\n"
     ]
    }
   ],
   "source": [
    "%%time\n",
    "####================================================\n",
    "### Run Antithetic Variate Monte Carlo for \n",
    "### Note: STD_ERR < threshold\n",
    "strerr_thresh = 0.2\n",
    "column_name = ['M', 'Call_Price_AVMC', 'Standard_Error_AVMC']\n",
    "df_MGBM_AVMC = pd.DataFrame(columns=column_name)\n",
    "for i in range(0, 10):\n",
    "    M_std_err = 1000*(1+i)\n",
    "    hw6p1cMC = MCengine(M=M_std_err, antithetic=True, control=False, seed=0)\n",
    "    (call_price_AVMC, std_err_AVMC) = hw6p1cMC.price_callonbasket_multiGBM(hw6p1contract, hw6p1dynamics)\n",
    "    np.set_printoptions(precision=4, suppress=True, formatter={'float_kind':'{:f}'.format})\n",
    "    \n",
    "    ### Store into dataframe\n",
    "    df_MGBM_AVMC.loc[len(df_MGBM_AVMC)-1] = [M_std_err, call_price_AVMC, std_err_AVMC]\n",
    "    "
   ]
  },
  {
   "cell_type": "code",
   "execution_count": 10,
   "metadata": {},
   "outputs": [
    {
     "name": "stdout",
     "output_type": "stream",
     "text": [
      "CPU times: total: 0 ns\n",
      "Wall time: 999 µs\n"
     ]
    },
    {
     "data": {
      "text/html": [
       "<style type=\"text/css\">\n",
       "</style>\n",
       "<table id=\"T_dbc92_\">\n",
       "  <thead>\n",
       "    <tr>\n",
       "      <th class=\"blank level0\" >&nbsp;</th>\n",
       "      <th class=\"col_heading level0 col0\" >Call_Price_AVMC</th>\n",
       "      <th class=\"col_heading level0 col1\" >Standard_Error_AVMC</th>\n",
       "    </tr>\n",
       "    <tr>\n",
       "      <th class=\"index_name level0\" >M</th>\n",
       "      <th class=\"blank col0\" >&nbsp;</th>\n",
       "      <th class=\"blank col1\" >&nbsp;</th>\n",
       "    </tr>\n",
       "  </thead>\n",
       "  <tbody>\n",
       "    <tr>\n",
       "      <th id=\"T_dbc92_level0_row0\" class=\"row_heading level0 row0\" >1000.0</th>\n",
       "      <td id=\"T_dbc92_row0_col0\" class=\"data row0 col0\" >10.3067</td>\n",
       "      <td id=\"T_dbc92_row0_col1\" class=\"data row0 col1\" >0.3096</td>\n",
       "    </tr>\n",
       "    <tr>\n",
       "      <th id=\"T_dbc92_level0_row1\" class=\"row_heading level0 row1\" >2000.0</th>\n",
       "      <td id=\"T_dbc92_row1_col0\" class=\"data row1 col0\" >10.1241</td>\n",
       "      <td id=\"T_dbc92_row1_col1\" class=\"data row1 col1\" >0.2118</td>\n",
       "    </tr>\n",
       "    <tr>\n",
       "      <th id=\"T_dbc92_level0_row2\" class=\"row_heading level0 row2\" >3000.0</th>\n",
       "      <td id=\"T_dbc92_row2_col0\" class=\"data row2 col0\" >10.0814</td>\n",
       "      <td id=\"T_dbc92_row2_col1\" class=\"data row2 col1\" >0.1744</td>\n",
       "    </tr>\n",
       "    <tr>\n",
       "      <th id=\"T_dbc92_level0_row3\" class=\"row_heading level0 row3\" >4000.0</th>\n",
       "      <td id=\"T_dbc92_row3_col0\" class=\"data row3 col0\" >10.1595</td>\n",
       "      <td id=\"T_dbc92_row3_col1\" class=\"data row3 col1\" >0.1529</td>\n",
       "    </tr>\n",
       "    <tr>\n",
       "      <th id=\"T_dbc92_level0_row4\" class=\"row_heading level0 row4\" >5000.0</th>\n",
       "      <td id=\"T_dbc92_row4_col0\" class=\"data row4 col0\" >10.1057</td>\n",
       "      <td id=\"T_dbc92_row4_col1\" class=\"data row4 col1\" >0.1364</td>\n",
       "    </tr>\n",
       "    <tr>\n",
       "      <th id=\"T_dbc92_level0_row5\" class=\"row_heading level0 row5\" >6000.0</th>\n",
       "      <td id=\"T_dbc92_row5_col0\" class=\"data row5 col0\" >10.0411</td>\n",
       "      <td id=\"T_dbc92_row5_col1\" class=\"data row5 col1\" >0.1236</td>\n",
       "    </tr>\n",
       "    <tr>\n",
       "      <th id=\"T_dbc92_level0_row6\" class=\"row_heading level0 row6\" >7000.0</th>\n",
       "      <td id=\"T_dbc92_row6_col0\" class=\"data row6 col0\" >10.0125</td>\n",
       "      <td id=\"T_dbc92_row6_col1\" class=\"data row6 col1\" >0.1137</td>\n",
       "    </tr>\n",
       "    <tr>\n",
       "      <th id=\"T_dbc92_level0_row7\" class=\"row_heading level0 row7\" >8000.0</th>\n",
       "      <td id=\"T_dbc92_row7_col0\" class=\"data row7 col0\" >9.9988</td>\n",
       "      <td id=\"T_dbc92_row7_col1\" class=\"data row7 col1\" >0.1069</td>\n",
       "    </tr>\n",
       "    <tr>\n",
       "      <th id=\"T_dbc92_level0_row8\" class=\"row_heading level0 row8\" >9000.0</th>\n",
       "      <td id=\"T_dbc92_row8_col0\" class=\"data row8 col0\" >9.9812</td>\n",
       "      <td id=\"T_dbc92_row8_col1\" class=\"data row8 col1\" >0.1003</td>\n",
       "    </tr>\n",
       "    <tr>\n",
       "      <th id=\"T_dbc92_level0_row9\" class=\"row_heading level0 row9\" >10000.0</th>\n",
       "      <td id=\"T_dbc92_row9_col0\" class=\"data row9 col0\" >9.9411</td>\n",
       "      <td id=\"T_dbc92_row9_col1\" class=\"data row9 col1\" >0.0952</td>\n",
       "    </tr>\n",
       "  </tbody>\n",
       "</table>\n"
      ],
      "text/plain": [
       "<pandas.io.formats.style.Styler at 0x231f068cd60>"
      ]
     },
     "execution_count": 10,
     "metadata": {},
     "output_type": "execute_result"
    }
   ],
   "source": [
    "%%time\n",
    "####================================================\n",
    "### Format dataframe and show results\n",
    "df_MGBM_AVMC.index = df_MGBM_AVMC.index.format(formatter=lambda x: '{}'.format(x))\n",
    "df_MGBM_AVMC.set_index('M', inplace=True)\n",
    "df_MGBM_AVMC.index.name = 'M'\n",
    "df_MGBM_AVMC.style.format(formatter=lambda x: '{:.4f}'.format(x))\n"
   ]
  },
  {
   "cell_type": "code",
   "execution_count": 11,
   "metadata": {},
   "outputs": [
    {
     "name": "stdout",
     "output_type": "stream",
     "text": [
      "CPU times: total: 0 ns\n",
      "Wall time: 1 ms\n"
     ]
    },
    {
     "data": {
      "text/html": [
       "<div>\n",
       "<style scoped>\n",
       "    .dataframe tbody tr th:only-of-type {\n",
       "        vertical-align: middle;\n",
       "    }\n",
       "\n",
       "    .dataframe tbody tr th {\n",
       "        vertical-align: top;\n",
       "    }\n",
       "\n",
       "    .dataframe thead th {\n",
       "        text-align: right;\n",
       "    }\n",
       "</style>\n",
       "<table border=\"1\" class=\"dataframe\">\n",
       "  <thead>\n",
       "    <tr style=\"text-align: right;\">\n",
       "      <th></th>\n",
       "      <th>Call_Price_AVMC</th>\n",
       "      <th>Standard_Error_AVMC</th>\n",
       "    </tr>\n",
       "    <tr>\n",
       "      <th>M</th>\n",
       "      <th></th>\n",
       "      <th></th>\n",
       "    </tr>\n",
       "  </thead>\n",
       "  <tbody>\n",
       "    <tr>\n",
       "      <th>3000.0</th>\n",
       "      <td>10.081387</td>\n",
       "      <td>0.174427</td>\n",
       "    </tr>\n",
       "    <tr>\n",
       "      <th>4000.0</th>\n",
       "      <td>10.159534</td>\n",
       "      <td>0.152868</td>\n",
       "    </tr>\n",
       "    <tr>\n",
       "      <th>5000.0</th>\n",
       "      <td>10.105667</td>\n",
       "      <td>0.136434</td>\n",
       "    </tr>\n",
       "    <tr>\n",
       "      <th>6000.0</th>\n",
       "      <td>10.041080</td>\n",
       "      <td>0.123554</td>\n",
       "    </tr>\n",
       "    <tr>\n",
       "      <th>7000.0</th>\n",
       "      <td>10.012454</td>\n",
       "      <td>0.113654</td>\n",
       "    </tr>\n",
       "    <tr>\n",
       "      <th>8000.0</th>\n",
       "      <td>9.998802</td>\n",
       "      <td>0.106897</td>\n",
       "    </tr>\n",
       "    <tr>\n",
       "      <th>9000.0</th>\n",
       "      <td>9.981248</td>\n",
       "      <td>0.100309</td>\n",
       "    </tr>\n",
       "    <tr>\n",
       "      <th>10000.0</th>\n",
       "      <td>9.941127</td>\n",
       "      <td>0.095185</td>\n",
       "    </tr>\n",
       "  </tbody>\n",
       "</table>\n",
       "</div>"
      ],
      "text/plain": [
       "         Call_Price_AVMC  Standard_Error_AVMC\n",
       "M                                            \n",
       "3000.0         10.081387             0.174427\n",
       "4000.0         10.159534             0.152868\n",
       "5000.0         10.105667             0.136434\n",
       "6000.0         10.041080             0.123554\n",
       "7000.0         10.012454             0.113654\n",
       "8000.0          9.998802             0.106897\n",
       "9000.0          9.981248             0.100309\n",
       "10000.0         9.941127             0.095185"
      ]
     },
     "execution_count": 11,
     "metadata": {},
     "output_type": "execute_result"
    }
   ],
   "source": [
    "%%time\n",
    "####================================================\n",
    "### Using the results where STD_ERR < threshold\n",
    "mask_strerr_thresh = (df_MGBM_AVMC.Standard_Error_AVMC < strerr_thresh)\n",
    "call_price_AVMC, std_err_AVMC = df_MGBM_AVMC[mask_strerr_thresh].iloc[0].to_list()\n",
    "df_MGBM_AVMC[mask_strerr_thresh]\n"
   ]
  },
  {
   "cell_type": "code",
   "execution_count": null,
   "metadata": {},
   "outputs": [],
   "source": []
  },
  {
   "cell_type": "markdown",
   "metadata": {},
   "source": [
    "## Problem 1d"
   ]
  },
  {
   "cell_type": "markdown",
   "metadata": {},
   "source": [
    "\n",
    "> Consider the \"geometric basket\" $G := \\left(S^{[1]}S^{[2]}\\right)^{1/2}$ \n",
    "> The random variable $\\log G_{T}$ is normally distributed (because it's a linear transformation of a multivariate normal vector). Show that $\\log G_{T}$ has expectation \n",
    "$$\\frac{1}{2}\\log\\left(S^{[1]}_{0}S^{[2]}_{0}\\right) + \\left(r - \\frac{\\sigma^{2}_{[1]}+\\sigma^{2}_{[2]}}{4}\\right)T$$\n",
    "> and variance\n",
    "$$\\frac{\\sigma^{2}_{[1]} + 2\\rho\\sigma_{[1]}\\sigma_{[2]} + \\sigma^{2}_{[2]}}{4}T$$\n",
    "\n",
    ">- $\\underline{\\textbf{Preliminary Work:}}$\n",
    ">- Math before the Proof:\n",
    "$$\\begin{align*}\n",
    "\\mathbb{E}\\left[W_{T}\\right] &= 0 \\\\\n",
    "\\mathrm{Var}\\left[a\\cdot S\\right] &= a^{2}\\mathrm{Var}\\left[S\\right] \\\\\n",
    "\\mathrm{Var}\\left[a\\cdot S^{[1]} + a\\cdot S^{[2]}\\right] &= a^{2}\\mathrm{Var}\\left[S^{[1]}+S^{[2]}\\right] \\\\\n",
    "&= a^{2}\\left(\\mathrm{Var}\\left[S^{[1]}\\right] + \\mathrm{Var}\\left[S^{[2]}\\right] + 2\\mathrm{Cov}\\left[S^{[1]}, S^{[2]}\\right]\\right) \\\\\n",
    "&= a^{2}\\left(\\mathrm{Var}\\left[S^{[1]}\\right] + \\mathrm{Var}\\left[S^{[2]}\\right] + 2\\rho\\sigma_{[1]}\\sigma_{[2]}\\right)\n",
    "\\end{align*}$$\n",
    ">\n",
    ">- Log-normal dynamics (under risk-neutral probabilities):\n",
    "$$\\begin{align*}\n",
    "d\\left(\\log\\left(S^{[j]}_{t}\\right)\\right) &= \\left(r - \\frac{\\sigma^{2}_{[j]}}{2}\\right)dt + \\sigma_{[j]}dW^{[j]}_{t} \\\\\n",
    "\\log\\left(S^{[j]}_{T}\\right) &= \\log\\left(S^{[j]}_{0}\\right) + \\left(r - \\frac{\\sigma^{2}_{[j]}}{2}\\right)T + \\sigma_{[j]} W^{[j]}_{T} \\\\\n",
    "\\mathbb{E}\\left[\\log(S^{[j]}_{T})\\right] &= \\log\\left(S^{[j]}_{0}\\right) + \\left(r - \\frac{\\sigma^{2}_{[j]}}{2}\\right)T + \\sigma_{[j]}\\mathbb{E}\\left[W^{[j]}_{T}\\right] \\\\\n",
    "&= \\log\\left(S^{[j]}_{0}\\right) + \\left(r - \\frac{\\sigma^{2}_{[j]}}{2}\\right)T \\\\\n",
    "\\mathrm{Var}\\left[\\log\\left(S^{[j]}_{T}\\right)\\right] &= \\sigma^{2}_{[j]}T \\\\\n",
    "\\end{align*}$$\n",
    ">\n",
    ">- Geometric Basket Options:\n",
    "$$\\begin{align*}\n",
    "G &= \\left(S^{[1]}S^{[2]}\\right)^{\\frac{1}{2}} \\\\\n",
    "\\log\\left(G_{T}\\right) &= \\frac{1}{2}\\left(\\log\\left(S^{[1]}_{T}S^{[2]}_{T}\\right)\\right) \\\\\n",
    "&= \\frac{1}{2}\\left(\\log\\left(S^{[1]}_{T}\\right) + \\log\\left(S^{[2]}_{T}\\right)\\right) \\\\\n",
    "&= \\frac{1}{2}\\log\\left(S^{[1]}_{T}\\right) + \\frac{1}{2}\\log\\left(S^{[2]}_{T}\\right) \\\\\n",
    "\\end{align*}$$\n",
    "\n",
    ">- $\\underline{\\textbf{Expectation:}}$\n",
    ">- Following the math formulations above and simplifying, we get:<br><br>\n",
    "$$\\therefore \\color{red}{\\boxed{\\color{black}{\\mathbb{E}\\left[\\log\\left(G_{T}\\right)\\right] = \\frac{1}{2}\\mathbb{E}\\left[\\log\\left(S^{[1]}_{T}\\right)\\right] + \\frac{1}{2}\\mathbb{E}\\left[\\log\\left(S^{[2]}_{T}\\right)\\right] = \\frac{1}{2}\\log\\left(S^{[1]}_{0}S^{[2]}_{0}\\right) + \\left(r - \\frac{\\sigma^{2}_{[1]}+\\sigma^{2}_{[2]}}{4}\\right)T = \\log\\left(G_{0}\\right) + \\left(r - \\frac{\\sigma^{2}_{[1]}+\\sigma^{2}_{[2]}}{4}\\right)T}}}$$\n",
    "\n",
    ">- $\\underline{\\textbf{Variance:}}$\n",
    ">- With the same method as the expectation, following the math formulations above and simplifying, we get:\n",
    "$$\\begin{align*}\n",
    "\\mathrm{Var}\\left[\\log\\left(G_{T}\\right)\\right] &= \\mathrm{Var}\\left[\\frac{1}{2}\\left(\\log\\left(S^{[1]}_{T}) + \\log(S^{[2]}_{T}\\right)\\right)\\right] \\\\\n",
    "&= \\frac{1}{4}\\left(\\mathrm{Var}\\left[\\log\\left(S^{[1]}_{T}\\right)\\right] + \\mathrm{Var}\\left[\\log\\left(S^{[2]}_{T}\\right)\\right] + 2\\mathrm{Cov}\\left[\\log\\left(S^{[1]}_{T}\\right), \\log\\left(S^{[2]}_{T}\\right)\\right]\\right) \\\\\n",
    "\\end{align*}$$\n",
    ">\n",
    ">- We can simplify this by using the following:\n",
    "$$\\begin{align*}\n",
    "\\mathrm{Var}\\left[\\log\\left(S^{[j]}_{T}\\right)\\right] &= \\sigma^{2}_{[j]}T \\\\\n",
    "\\mathrm{Cov}\\left[\\log\\left(S^{[1]}_{T}\\right), \\log\\left(S^{[2]}_{T}\\right)\\right] &= \\rho\\sigma_{[1]}\\sigma_{[2]} \\\\\n",
    "\\end{align*}$$\n",
    ">\n",
    ">- Then:\n",
    "$$\\therefore \\color{red}{\\boxed{\\color{black}{\\mathrm{Var}\\left[\\log\\left(G_{T}\\right)\\right] = \\mathrm{Var}\\left[\\frac{1}{2}\\left(\\log\\left(S^{[1]}_{T}\\right) + \\log\\left(S^{[2]}_{T}\\right)\\right)\\right] = \\frac{\\sigma^{2}_{[1]} + 2\\rho\\sigma_{[1]}\\sigma_{[2]} + \\sigma^{2}_{[2]}}{4}T = \\sigma^{2}_{G}T}}}$$\n"
   ]
  },
  {
   "cell_type": "code",
   "execution_count": null,
   "metadata": {},
   "outputs": [],
   "source": []
  },
  {
   "cell_type": "markdown",
   "metadata": {},
   "source": [
    "## Problem 1e"
   ]
  },
  {
   "cell_type": "markdown",
   "metadata": {},
   "source": [
    "\n",
    "> Let $C^{G}$ be the time-$0$ price of a geometric basket option paying $\\left(G_{T} - K\\right)^{+}$ at time $T$.\n",
    ">\n",
    "> Express $C^{G}$ in terms of the function $C^{BS}$ defined in $\\text{FINM 33000 L6}$. Specifically, fill in the\n",
    "blanks:\n",
    "$$C^{G} = C^{BS}\\left(\\underline{\\hspace{1cm}}, 0, K, T, \\underline{\\hspace{1cm}}, r, \\underline{\\hspace{1cm}}\\right)$$\n",
    "> Your answer should be a general formula, in which you have not substituted $0.8$ for $\\rho$, etc.\n",
    "> (You may $\\textit{also}$ do the substitutions, but don't neglect the general formula).\n",
    "\n",
    "\n",
    ">- $\\underline{\\textbf{Find Distribution:}}$\n",
    ">- From Balck-Scholes:\n",
    "$$C^{BS}(X_{t}, t, K, T, R_{grow}, r, \\sigma_{BS})$$\n",
    ">\n",
    ">- Here, $G$ has payoff of $\\left(G_{T} - K\\right)^{+}$, with log-normal dynamics which is Geometric Brownian Motion:\n",
    "$$dG_{t} = R_{grow}G_{t}dt + \\sigma_{G}G_{t}dW_{t}$$\n",
    ">\n",
    ">- In log-normal form: \n",
    "$$d\\log\\left(G_{t}\\right) = \\left(R_{grow} - \\frac{\\sigma^{2}_{G}}{2}\\right)dt + \\sigma_{G}dW_{t}$$\n",
    ">\n",
    ">- Note that:\n",
    "$$\\sigma_{G} = \\sigma_{BS}$$\n",
    ">\n",
    ">- Then, $\\log\\left(G_{t}\\right)$ has the following distribution:\n",
    "$$\\log\\left(G_{T}\\right) \\sim \\mathcal{N}\\left(\\mathbb{E}\\left[\\log\\left(G_{T}\\right)\\right], \\mathrm{Var}\\left[\\log\\left(G_{T}\\right)\\right]\\right) = \\mathcal{N}\\left(\\log\\left(G_{0}\\right) + \\left(R_{grow}-\\frac{\\sigma^{2}_{G}}{2}\\right)T, \\sigma^{2}_{G}T\\right)$$\n",
    "\n",
    ">- $\\underline{\\textbf{Find Parameter Relations:}}$\n",
    ">- Solve for the Black-Scholes call option input parameters.\n",
    ">- From 1d, we have:\n",
    "$$\\begin{align*}\n",
    "\\mathbb{E}\\left[\\log\\left(G_{T}\\right)\\right] &= \\log\\left(G_{0}\\right) + \\left(r - \\frac{\\sigma^{2}_{[1]}+\\sigma^{2}_{[2]}}{4}\\right)T \\\\\n",
    "\\mathrm{Var}\\left[\\log\\left(G_{T}\\right)\\right] &= \\frac{\\sigma^{2}_{[1]} + 2\\rho\\sigma_{[1]}\\sigma_{[2]} + \\sigma^{2}_{[2]}}{4}T \\\\\n",
    "&= \\sigma^{2}_{G}T \\\\\n",
    "\\end{align*}$$\n",
    ">\n",
    ">- We need to get the proper form for $R_{grow}$ by using $\\mathbb{E}\\left[\\log\\left(G_{T}\\right)\\right]$ and $\\mathrm{Var}\\left[\\log\\left(G_{T}\\right)\\right]$ and rearranging:\n",
    "$$\\begin{align*}\n",
    "\\log\\left(G_{0}\\right) + \\left(R_{grow}-\\frac{\\sigma^{2}_{G}}{2}\\right)T &= \\log\\left(G_{0}\\right) + \\left(r - \\frac{\\sigma^{2}_{[1]} + \\sigma^{2}_{[2]}}{4}\\right)T \\\\\n",
    "R_{grow} - \\frac{\\sigma^{2}_{G}}{2} &= r - \\frac{\\sigma^{2}_{[1]} + \\sigma^{2}_{[2]}}{4} \\\\\n",
    "\\end{align*}$$\n",
    ">\n",
    ">- Let $\\sigma^{2}_{G} = \\frac{\\sigma^{2}_{[1]} + 2\\rho\\sigma_{[1]}\\sigma_{[2]} + \\sigma^{2}_{[2]}}{4}$ to get the following:\n",
    "$$R_{grow} - \\frac{\\sigma^{2}_{[1]} + 2\\rho\\sigma_{[1]}\\sigma_{[2]} + \\sigma^{2}_{[2]}}{8} = r - \\frac{\\sigma^{2}_{[1]} + \\sigma^{2}_{[2]}}{4}$$\n",
    ">\n",
    ">- From here, we solve for $R_{grow}$:\n",
    "$$\\therefore \\color{red}{\\boxed{\\color{black}{R_{grow} = r - \\frac{\\sigma^{2}_{[1]} - 2\\rho\\sigma_{[1]}\\sigma_{[2]} + \\sigma^{2}_{[2]}}{8}}}}$$\n",
    "\n",
    ">- $\\underline{\\textbf{Final Form:}}$\n",
    ">- Let:\n",
    "$$\\begin{align*}\n",
    "X_{0} &= G_{0} = \\sqrt{S^{[1]}_{0}S^{[2]}_{0}} \\\\\n",
    "t &= 0 \\\\\n",
    "K &= K \\\\\n",
    "T &= T \\\\\n",
    "R_{grow} &= r - \\frac{\\sigma^{2}_{[1]} - 2\\rho\\sigma_{[1]}\\sigma_{[2]} + \\sigma^{2}_{[2]}}{8} \\\\\n",
    "r &= r \\\\\n",
    "\\sigma &= \\sigma_{G} = \\sqrt{\\sigma^{2}_{G}} = \\frac{\\sqrt{\\sigma^{2}_{[1]} + 2\\rho\\sigma_{[1]}\\sigma_{[2]} + \\sigma^{2}_{[2]}}}{2} \\\\\n",
    "\\end{align*}$$\n",
    ">\n",
    ">- Then:\n",
    "$$C^{G} = C^{BS}(G_{0}, 0, K, T, R_{grow}, r, \\sigma_{G})$$\n",
    ">\n",
    ">- Fully written out, we get:\n",
    "$$\\therefore \\color{red}{\\boxed{\\color{black}{C^{G} = C^{BS}\\left(\\sqrt{S^{[1]}_{0}S^{[2]}_{0}}, 0, K, T, r - \\frac{\\sigma^{2}_{[1]} - 2\\rho\\sigma_{[1]}\\sigma_{[2]} + \\sigma^{2}_{[2]}}{8}, r, \\frac{\\sqrt{\\sigma^{2}_{[1]} + 2\\rho\\sigma_{[1]}\\sigma_{[2]} + \\sigma^{2}_{[2]}}}{2}\\right)}}}$$\n"
   ]
  },
  {
   "cell_type": "code",
   "execution_count": null,
   "metadata": {},
   "outputs": [],
   "source": []
  },
  {
   "cell_type": "markdown",
   "metadata": {},
   "source": [
    "## Problem 1f"
   ]
  },
  {
   "cell_type": "markdown",
   "metadata": {},
   "source": [
    "\n",
    "> Using a geometric basket option as a control variate, run $M = 10000$ Monte Carlo simulations to estimate $C$, together with a standard error. Use the control variate estimate $\\hat{\\sigma}^{\\text{cv}, \\hat{\\beta}}_{M}$ from $L6.7$ or $L6.8$. Use the (asymptotically valid) standard error $\\hat{\\sigma}^{\\text{cv}, \\hat{\\beta}}_{M} \\big/ \\sqrt{M}$.\n"
   ]
  },
  {
   "cell_type": "code",
   "execution_count": null,
   "metadata": {},
   "outputs": [],
   "source": []
  },
  {
   "cell_type": "code",
   "execution_count": 12,
   "metadata": {},
   "outputs": [
    {
     "name": "stdout",
     "output_type": "stream",
     "text": [
      "CPU times: total: 31.2 ms\n",
      "Wall time: 32 ms\n"
     ]
    }
   ],
   "source": [
    "%%time\n",
    "####================================================\n",
    "### Run Control Variate Monte Carlo for\n",
    "### Note: STD_ERR < threshold\n",
    "strerr_thresh = 0.2\n",
    "column_name = ['M', 'Call_Price_CVMC', 'Standard_Error_CVMC']\n",
    "df_MGBM_CVMC = pd.DataFrame(columns=column_name)\n",
    "for i in range(0, 10):\n",
    "    M_std_err = 1000*(1+i)\n",
    "    hw6p1fMC = MCengine(M=M_std_err, antithetic=False, control=True, seed=0)\n",
    "    (call_price_CVMC, std_err_CVMC) = hw6p1fMC.price_callonbasket_multiGBM(hw6p1contract, hw6p1dynamics)\n",
    "    np.set_printoptions(precision=4, suppress=True, formatter={'float_kind':'{:f}'.format})\n",
    "    \n",
    "    ### Store into dataframe\n",
    "    df_MGBM_CVMC.loc[len(df_MGBM_CVMC)-1] = [M_std_err, call_price_CVMC, std_err_CVMC]\n",
    "    "
   ]
  },
  {
   "cell_type": "code",
   "execution_count": 13,
   "metadata": {},
   "outputs": [
    {
     "name": "stdout",
     "output_type": "stream",
     "text": [
      "CPU times: total: 0 ns\n",
      "Wall time: 1.01 ms\n"
     ]
    },
    {
     "data": {
      "text/html": [
       "<style type=\"text/css\">\n",
       "</style>\n",
       "<table id=\"T_2349a_\">\n",
       "  <thead>\n",
       "    <tr>\n",
       "      <th class=\"blank level0\" >&nbsp;</th>\n",
       "      <th class=\"col_heading level0 col0\" >Call_Price_CVMC</th>\n",
       "      <th class=\"col_heading level0 col1\" >Standard_Error_CVMC</th>\n",
       "    </tr>\n",
       "    <tr>\n",
       "      <th class=\"index_name level0\" >M</th>\n",
       "      <th class=\"blank col0\" >&nbsp;</th>\n",
       "      <th class=\"blank col1\" >&nbsp;</th>\n",
       "    </tr>\n",
       "  </thead>\n",
       "  <tbody>\n",
       "    <tr>\n",
       "      <th id=\"T_2349a_level0_row0\" class=\"row_heading level0 row0\" >1000.0</th>\n",
       "      <td id=\"T_2349a_row0_col0\" class=\"data row0 col0\" >9.9795</td>\n",
       "      <td id=\"T_2349a_row0_col1\" class=\"data row0 col1\" >0.0129</td>\n",
       "    </tr>\n",
       "    <tr>\n",
       "      <th id=\"T_2349a_level0_row1\" class=\"row_heading level0 row1\" >2000.0</th>\n",
       "      <td id=\"T_2349a_row1_col0\" class=\"data row1 col0\" >9.9857</td>\n",
       "      <td id=\"T_2349a_row1_col1\" class=\"data row1 col1\" >0.0092</td>\n",
       "    </tr>\n",
       "    <tr>\n",
       "      <th id=\"T_2349a_level0_row2\" class=\"row_heading level0 row2\" >3000.0</th>\n",
       "      <td id=\"T_2349a_row2_col0\" class=\"data row2 col0\" >9.9908</td>\n",
       "      <td id=\"T_2349a_row2_col1\" class=\"data row2 col1\" >0.0079</td>\n",
       "    </tr>\n",
       "    <tr>\n",
       "      <th id=\"T_2349a_level0_row3\" class=\"row_heading level0 row3\" >4000.0</th>\n",
       "      <td id=\"T_2349a_row3_col0\" class=\"data row3 col0\" >9.9910</td>\n",
       "      <td id=\"T_2349a_row3_col1\" class=\"data row3 col1\" >0.0068</td>\n",
       "    </tr>\n",
       "    <tr>\n",
       "      <th id=\"T_2349a_level0_row4\" class=\"row_heading level0 row4\" >5000.0</th>\n",
       "      <td id=\"T_2349a_row4_col0\" class=\"data row4 col0\" >9.9932</td>\n",
       "      <td id=\"T_2349a_row4_col1\" class=\"data row4 col1\" >0.0063</td>\n",
       "    </tr>\n",
       "    <tr>\n",
       "      <th id=\"T_2349a_level0_row5\" class=\"row_heading level0 row5\" >6000.0</th>\n",
       "      <td id=\"T_2349a_row5_col0\" class=\"data row5 col0\" >9.9912</td>\n",
       "      <td id=\"T_2349a_row5_col1\" class=\"data row5 col1\" >0.0057</td>\n",
       "    </tr>\n",
       "    <tr>\n",
       "      <th id=\"T_2349a_level0_row6\" class=\"row_heading level0 row6\" >7000.0</th>\n",
       "      <td id=\"T_2349a_row6_col0\" class=\"data row6 col0\" >9.9903</td>\n",
       "      <td id=\"T_2349a_row6_col1\" class=\"data row6 col1\" >0.0052</td>\n",
       "    </tr>\n",
       "    <tr>\n",
       "      <th id=\"T_2349a_level0_row7\" class=\"row_heading level0 row7\" >8000.0</th>\n",
       "      <td id=\"T_2349a_row7_col0\" class=\"data row7 col0\" >9.9898</td>\n",
       "      <td id=\"T_2349a_row7_col1\" class=\"data row7 col1\" >0.0049</td>\n",
       "    </tr>\n",
       "    <tr>\n",
       "      <th id=\"T_2349a_level0_row8\" class=\"row_heading level0 row8\" >9000.0</th>\n",
       "      <td id=\"T_2349a_row8_col0\" class=\"data row8 col0\" >9.9898</td>\n",
       "      <td id=\"T_2349a_row8_col1\" class=\"data row8 col1\" >0.0046</td>\n",
       "    </tr>\n",
       "    <tr>\n",
       "      <th id=\"T_2349a_level0_row9\" class=\"row_heading level0 row9\" >10000.0</th>\n",
       "      <td id=\"T_2349a_row9_col0\" class=\"data row9 col0\" >9.9910</td>\n",
       "      <td id=\"T_2349a_row9_col1\" class=\"data row9 col1\" >0.0044</td>\n",
       "    </tr>\n",
       "  </tbody>\n",
       "</table>\n"
      ],
      "text/plain": [
       "<pandas.io.formats.style.Styler at 0x231f0637c70>"
      ]
     },
     "execution_count": 13,
     "metadata": {},
     "output_type": "execute_result"
    }
   ],
   "source": [
    "%%time\n",
    "####================================================\n",
    "### Format dataframe and show results\n",
    "df_MGBM_CVMC.index = df_MGBM_CVMC.index.format(formatter=lambda x: '{}'.format(x))\n",
    "df_MGBM_CVMC.set_index('M', inplace=True)\n",
    "df_MGBM_CVMC.index.name = 'M'\n",
    "df_MGBM_CVMC.style.format(formatter=lambda x: '{:.4f}'.format(x))\n"
   ]
  },
  {
   "cell_type": "code",
   "execution_count": 14,
   "metadata": {},
   "outputs": [
    {
     "name": "stdout",
     "output_type": "stream",
     "text": [
      "CPU times: total: 0 ns\n",
      "Wall time: 2 ms\n"
     ]
    },
    {
     "data": {
      "text/html": [
       "<div>\n",
       "<style scoped>\n",
       "    .dataframe tbody tr th:only-of-type {\n",
       "        vertical-align: middle;\n",
       "    }\n",
       "\n",
       "    .dataframe tbody tr th {\n",
       "        vertical-align: top;\n",
       "    }\n",
       "\n",
       "    .dataframe thead th {\n",
       "        text-align: right;\n",
       "    }\n",
       "</style>\n",
       "<table border=\"1\" class=\"dataframe\">\n",
       "  <thead>\n",
       "    <tr style=\"text-align: right;\">\n",
       "      <th></th>\n",
       "      <th>Call_Price_CVMC</th>\n",
       "      <th>Standard_Error_CVMC</th>\n",
       "    </tr>\n",
       "    <tr>\n",
       "      <th>M</th>\n",
       "      <th></th>\n",
       "      <th></th>\n",
       "    </tr>\n",
       "  </thead>\n",
       "  <tbody>\n",
       "    <tr>\n",
       "      <th>1000.0</th>\n",
       "      <td>9.979517</td>\n",
       "      <td>0.012924</td>\n",
       "    </tr>\n",
       "    <tr>\n",
       "      <th>2000.0</th>\n",
       "      <td>9.985720</td>\n",
       "      <td>0.009196</td>\n",
       "    </tr>\n",
       "    <tr>\n",
       "      <th>3000.0</th>\n",
       "      <td>9.990790</td>\n",
       "      <td>0.007870</td>\n",
       "    </tr>\n",
       "    <tr>\n",
       "      <th>4000.0</th>\n",
       "      <td>9.991032</td>\n",
       "      <td>0.006832</td>\n",
       "    </tr>\n",
       "    <tr>\n",
       "      <th>5000.0</th>\n",
       "      <td>9.993248</td>\n",
       "      <td>0.006295</td>\n",
       "    </tr>\n",
       "    <tr>\n",
       "      <th>6000.0</th>\n",
       "      <td>9.991236</td>\n",
       "      <td>0.005683</td>\n",
       "    </tr>\n",
       "    <tr>\n",
       "      <th>7000.0</th>\n",
       "      <td>9.990323</td>\n",
       "      <td>0.005230</td>\n",
       "    </tr>\n",
       "    <tr>\n",
       "      <th>8000.0</th>\n",
       "      <td>9.989831</td>\n",
       "      <td>0.004895</td>\n",
       "    </tr>\n",
       "    <tr>\n",
       "      <th>9000.0</th>\n",
       "      <td>9.989816</td>\n",
       "      <td>0.004633</td>\n",
       "    </tr>\n",
       "    <tr>\n",
       "      <th>10000.0</th>\n",
       "      <td>9.991048</td>\n",
       "      <td>0.004401</td>\n",
       "    </tr>\n",
       "  </tbody>\n",
       "</table>\n",
       "</div>"
      ],
      "text/plain": [
       "         Call_Price_CVMC  Standard_Error_CVMC\n",
       "M                                            \n",
       "1000.0          9.979517             0.012924\n",
       "2000.0          9.985720             0.009196\n",
       "3000.0          9.990790             0.007870\n",
       "4000.0          9.991032             0.006832\n",
       "5000.0          9.993248             0.006295\n",
       "6000.0          9.991236             0.005683\n",
       "7000.0          9.990323             0.005230\n",
       "8000.0          9.989831             0.004895\n",
       "9000.0          9.989816             0.004633\n",
       "10000.0         9.991048             0.004401"
      ]
     },
     "execution_count": 14,
     "metadata": {},
     "output_type": "execute_result"
    }
   ],
   "source": [
    "%%time\n",
    "####================================================\n",
    "### Using the results where STD_ERR < threshold\n",
    "mask_strerr_thresh = (df_MGBM_CVMC.Standard_Error_CVMC < strerr_thresh)\n",
    "call_price_CVMC, std_err_CVMC = df_MGBM_CVMC[mask_strerr_thresh].iloc[0].to_list()\n",
    "df_MGBM_CVMC[mask_strerr_thresh]\n"
   ]
  },
  {
   "cell_type": "code",
   "execution_count": null,
   "metadata": {},
   "outputs": [],
   "source": []
  },
  {
   "cell_type": "markdown",
   "metadata": {
    "id": "qGknbqw346DG"
   },
   "source": [
    "## Problem 2"
   ]
  },
  {
   "cell_type": "markdown",
   "metadata": {},
   "source": [
    "\n",
    "> Let the bank account and non-dividend paying stock have risk-neutral dynamics \n",
    "$$\\begin{align*}\n",
    "dB_{t} &= rB_{t}dt \\quad\\quad\\qquad &B_{0} = 1 \\\\ \n",
    "dS_{t} &= rS_{t}dt + \\sigma S_{t}dW_{t} \\quad &S_{0} > 0 \\\\\n",
    "\\end{align*}$$\n",
    "> where $\\sigma > 0$ and $W$ is a $\\mathbb{P}$-Brownian motion.\n",
    ">> Consider a $K$-strike $T$-expiry vanilla call option, and let $C$ denote its time-$0$ price.\n"
   ]
  },
  {
   "cell_type": "code",
   "execution_count": null,
   "metadata": {},
   "outputs": [],
   "source": []
  },
  {
   "cell_type": "markdown",
   "metadata": {},
   "source": [
    "## Problem 2a"
   ]
  },
  {
   "cell_type": "markdown",
   "metadata": {},
   "source": [
    "\n",
    "> Let $S_{0} = 100$, $\\sigma = 0.2$, $r = 0.02$, $K = 150$, $T = 1$. <br><br>\n",
    "> Run $100000$ ordinary Monte Carlo simulations to estimate $C$, together with a standard error.\n"
   ]
  },
  {
   "cell_type": "code",
   "execution_count": null,
   "metadata": {},
   "outputs": [],
   "source": []
  },
  {
   "cell_type": "code",
   "execution_count": 15,
   "metadata": {
    "id": "7Ij9oOIK46DH"
   },
   "outputs": [
    {
     "name": "stdout",
     "output_type": "stream",
     "text": [
      "CPU times: total: 0 ns\n",
      "Wall time: 0 ns\n"
     ]
    }
   ],
   "source": [
    "%%time\n",
    "####================================================\n",
    "### Model Dynamics (Single-variate GBM)\n",
    "class GBM:\n",
    "\n",
    "    def __init__(self, sigma: float, r: float, S0: float) -> None:\n",
    "        self.sigma = sigma\n",
    "        self.r = r\n",
    "        self.S0 = S0\n",
    "\n",
    "\n",
    "####================================================\n",
    "### Contract\n",
    "class CallOption:\n",
    "\n",
    "    def __init__(self, K: float, T: float) -> None:\n",
    "        self.K = K   ### Call option strike\n",
    "        self.T = T   ### Call option expiration\n",
    "\n"
   ]
  },
  {
   "cell_type": "code",
   "execution_count": null,
   "metadata": {
    "id": "s-s2e_F246DH"
   },
   "outputs": [],
   "source": []
  },
  {
   "cell_type": "code",
   "execution_count": 16,
   "metadata": {
    "id": "XkV2FaBs46DH"
   },
   "outputs": [
    {
     "name": "stdout",
     "output_type": "stream",
     "text": [
      "CPU times: total: 0 ns\n",
      "Wall time: 1e+03 µs\n"
     ]
    }
   ],
   "source": [
    "%%time\n",
    "####================================================\n",
    "### Pricing Engine\n",
    "class MCimportanceEngine:\n",
    "\n",
    "    def __init__(self, M: float, lamb: float, seed: float = 0) -> None:\n",
    "        self.M = M                                  ### How many simulations\n",
    "        self.lamb = lamb                            ### Drift adjustment\n",
    "        self.rng = np.random.default_rng(seed=seed) \n",
    "        ### Seeding the random number generator with a specified number helps make the calculations reproducible\n",
    "    \n",
    "    \n",
    "    def price_call_GBM(self, contract: CallOption, dynamics: GBM) -> Tuple[float]:\n",
    "        ### Separate dynamics and contract class attributes to variables\n",
    "        K, T = contract.__dict__.values()\n",
    "        sigma, r, S0 = dynamics.__dict__.values()\n",
    "        \n",
    "        ### Function to simulate the path\n",
    "        def path_ISMC(S: float, Zt: np.ndarray) -> List[float]:\n",
    "            ### ORDINARY MONTE CARLO PART ###\n",
    "            ### Make Brownian Motion (Wt = Wt* + lambda*T) (First sample from zero-mean normals)\n",
    "            Wt_STAR = np.sqrt(T) * Zt\n",
    "            Wt = Wt_STAR + self.lamb * T\n",
    "            \n",
    "            ### Initialize log process (price to log-space)\n",
    "            Xt = np.zeros((2, self.M))\n",
    "            Xt[0] = np.log(S)\n",
    "            \n",
    "            ### Generate Brownian motions for X = log(S)\n",
    "            Xt[1] = Xt[0] + (r - 0.5 * (sigma ** 2)) * T + sigma * Wt\n",
    "            \n",
    "            ### Convert to price-space from log-space (S = exp(X))\n",
    "            St = np.exp(Xt[-1])\n",
    "            \n",
    "            ### OMC discounted call payoff\n",
    "            call_payoff_OMC = np.exp(-r * T) * np.maximum(St - K, 0)\n",
    "            \n",
    "            ### VARIANCE REDUCTION PART ###\n",
    "            ### Modify payoff based on drift (Radon-Nikodym Derivative)\n",
    "            ### Compute Likelihood ratio: f(X)/g(X) = exp(-lambda * W* - 0.5 * lambda^2 * T)\n",
    "            z_score = -(self.lamb * Wt_STAR) - (0.5 * (self.lamb ** 2) * T)\n",
    "            fx_gx = np.exp(z_score)\n",
    "            \n",
    "            ### Importance Sampling MC discounted call payoff\n",
    "            call_payoff_ISMC = call_payoff_OMC * fx_g\n",
    "            \n",
    "            ### Get time-0 option price and standard error from Importance Sampling Monte Carlo paths\n",
    "            Y0_ISMC = np.mean(call_payoff_ISMC)\n",
    "            Y0_ISMC_std_error = np.std(call_payoff_ISMC, ddof=1) / np.sqrt(self.M)\n",
    "            \n",
    "            return [Y0_ISMC, Y0_ISMC_std_error]\n",
    "        \n",
    "        ### Generates pseudo-random normals (Zt)\n",
    "        Zt = self.rng.normal(loc=0.0, scale=1.0, size=(1, self.M))   ### IID random normals\n",
    "        \n",
    "        ### Calculate call price, standard error\n",
    "        call_price, standard_error = path_ISMC(S0, Zt)\n",
    "        \n",
    "        return (call_price, standard_error)\n"
   ]
  },
  {
   "cell_type": "code",
   "execution_count": null,
   "metadata": {},
   "outputs": [],
   "source": []
  },
  {
   "cell_type": "code",
   "execution_count": 17,
   "metadata": {},
   "outputs": [
    {
     "name": "stdout",
     "output_type": "stream",
     "text": [
      "CPU times: total: 0 ns\n",
      "Wall time: 0 ns\n"
     ]
    }
   ],
   "source": [
    "%%time\n",
    "####================================================\n",
    "### Set Model Dynamics and Contract\n",
    "hw6p2dynamics = GBM(sigma=0.2, r=0.02, S0=100)\n",
    "hw6p2contract = CallOption(K=150, T=1)\n"
   ]
  },
  {
   "cell_type": "code",
   "execution_count": 18,
   "metadata": {},
   "outputs": [
    {
     "name": "stdout",
     "output_type": "stream",
     "text": [
      "CPU times: total: 62.5 ms\n",
      "Wall time: 67 ms\n"
     ]
    }
   ],
   "source": [
    "%%time\n",
    "####================================================\n",
    "### Calculating time-0 call prices on a non-dividend paying stock, using GBM dynamics (OMC)\n",
    "### Note: STD_ERR < threshold and zero drift adjustment gives ordinary MC\n",
    "lamb = 0\n",
    "strerr_thresh = 0.05\n",
    "column_name = ['M', 'Call_Price_OMC', 'Standard_Error_OMC', 'Lambda']\n",
    "df_GBM_OMC = pd.DataFrame(columns=column_name)\n",
    "for i in range(0, 10):\n",
    "    M_std_err = 10000*(1+i)\n",
    "    hw6p2aMC = MCimportanceEngine(M=M_std_err, lamb=lamb, seed=0) \n",
    "    (call_price_OMC, std_err_OMC) = hw6p2aMC.price_call_GBM(hw6p2contract, hw6p2dynamics)\n",
    "    np.set_printoptions(precision=4, suppress=True, formatter={'float_kind':'{:f}'.format})\n",
    "    \n",
    "    ### Store into dataframe\n",
    "    df_GBM_OMC.loc[len(df_GBM_OMC)-1] = [M_std_err, call_price_OMC, std_err_OMC, lamb]\n",
    "    "
   ]
  },
  {
   "cell_type": "code",
   "execution_count": 19,
   "metadata": {},
   "outputs": [
    {
     "name": "stdout",
     "output_type": "stream",
     "text": [
      "CPU times: total: 0 ns\n",
      "Wall time: 1 ms\n"
     ]
    },
    {
     "data": {
      "text/html": [
       "<style type=\"text/css\">\n",
       "</style>\n",
       "<table id=\"T_16726_\">\n",
       "  <thead>\n",
       "    <tr>\n",
       "      <th class=\"blank level0\" >&nbsp;</th>\n",
       "      <th class=\"col_heading level0 col0\" >Call_Price_OMC</th>\n",
       "      <th class=\"col_heading level0 col1\" >Standard_Error_OMC</th>\n",
       "      <th class=\"col_heading level0 col2\" >Lambda</th>\n",
       "    </tr>\n",
       "    <tr>\n",
       "      <th class=\"index_name level0\" >M</th>\n",
       "      <th class=\"blank col0\" >&nbsp;</th>\n",
       "      <th class=\"blank col1\" >&nbsp;</th>\n",
       "      <th class=\"blank col2\" >&nbsp;</th>\n",
       "    </tr>\n",
       "  </thead>\n",
       "  <tbody>\n",
       "    <tr>\n",
       "      <th id=\"T_16726_level0_row0\" class=\"row_heading level0 row0\" >10000.0</th>\n",
       "      <td id=\"T_16726_row0_col0\" class=\"data row0 col0\" >0.2203</td>\n",
       "      <td id=\"T_16726_row0_col1\" class=\"data row0 col1\" >0.0201</td>\n",
       "      <td id=\"T_16726_row0_col2\" class=\"data row0 col2\" >0.0000</td>\n",
       "    </tr>\n",
       "    <tr>\n",
       "      <th id=\"T_16726_level0_row1\" class=\"row_heading level0 row1\" >20000.0</th>\n",
       "      <td id=\"T_16726_row1_col0\" class=\"data row1 col0\" >0.2302</td>\n",
       "      <td id=\"T_16726_row1_col1\" class=\"data row1 col1\" >0.0155</td>\n",
       "      <td id=\"T_16726_row1_col2\" class=\"data row1 col2\" >0.0000</td>\n",
       "    </tr>\n",
       "    <tr>\n",
       "      <th id=\"T_16726_level0_row2\" class=\"row_heading level0 row2\" >30000.0</th>\n",
       "      <td id=\"T_16726_row2_col0\" class=\"data row2 col0\" >0.2448</td>\n",
       "      <td id=\"T_16726_row2_col1\" class=\"data row2 col1\" >0.0133</td>\n",
       "      <td id=\"T_16726_row2_col2\" class=\"data row2 col2\" >0.0000</td>\n",
       "    </tr>\n",
       "    <tr>\n",
       "      <th id=\"T_16726_level0_row3\" class=\"row_heading level0 row3\" >40000.0</th>\n",
       "      <td id=\"T_16726_row3_col0\" class=\"data row3 col0\" >0.2579</td>\n",
       "      <td id=\"T_16726_row3_col1\" class=\"data row3 col1\" >0.0122</td>\n",
       "      <td id=\"T_16726_row3_col2\" class=\"data row3 col2\" >0.0000</td>\n",
       "    </tr>\n",
       "    <tr>\n",
       "      <th id=\"T_16726_level0_row4\" class=\"row_heading level0 row4\" >50000.0</th>\n",
       "      <td id=\"T_16726_row4_col0\" class=\"data row4 col0\" >0.2546</td>\n",
       "      <td id=\"T_16726_row4_col1\" class=\"data row4 col1\" >0.0109</td>\n",
       "      <td id=\"T_16726_row4_col2\" class=\"data row4 col2\" >0.0000</td>\n",
       "    </tr>\n",
       "    <tr>\n",
       "      <th id=\"T_16726_level0_row5\" class=\"row_heading level0 row5\" >60000.0</th>\n",
       "      <td id=\"T_16726_row5_col0\" class=\"data row5 col0\" >0.2539</td>\n",
       "      <td id=\"T_16726_row5_col1\" class=\"data row5 col1\" >0.0098</td>\n",
       "      <td id=\"T_16726_row5_col2\" class=\"data row5 col2\" >0.0000</td>\n",
       "    </tr>\n",
       "    <tr>\n",
       "      <th id=\"T_16726_level0_row6\" class=\"row_heading level0 row6\" >70000.0</th>\n",
       "      <td id=\"T_16726_row6_col0\" class=\"data row6 col0\" >0.2505</td>\n",
       "      <td id=\"T_16726_row6_col1\" class=\"data row6 col1\" >0.0090</td>\n",
       "      <td id=\"T_16726_row6_col2\" class=\"data row6 col2\" >0.0000</td>\n",
       "    </tr>\n",
       "    <tr>\n",
       "      <th id=\"T_16726_level0_row7\" class=\"row_heading level0 row7\" >80000.0</th>\n",
       "      <td id=\"T_16726_row7_col0\" class=\"data row7 col0\" >0.2539</td>\n",
       "      <td id=\"T_16726_row7_col1\" class=\"data row7 col1\" >0.0085</td>\n",
       "      <td id=\"T_16726_row7_col2\" class=\"data row7 col2\" >0.0000</td>\n",
       "    </tr>\n",
       "    <tr>\n",
       "      <th id=\"T_16726_level0_row8\" class=\"row_heading level0 row8\" >90000.0</th>\n",
       "      <td id=\"T_16726_row8_col0\" class=\"data row8 col0\" >0.2554</td>\n",
       "      <td id=\"T_16726_row8_col1\" class=\"data row8 col1\" >0.0081</td>\n",
       "      <td id=\"T_16726_row8_col2\" class=\"data row8 col2\" >0.0000</td>\n",
       "    </tr>\n",
       "    <tr>\n",
       "      <th id=\"T_16726_level0_row9\" class=\"row_heading level0 row9\" >100000.0</th>\n",
       "      <td id=\"T_16726_row9_col0\" class=\"data row9 col0\" >0.2527</td>\n",
       "      <td id=\"T_16726_row9_col1\" class=\"data row9 col1\" >0.0076</td>\n",
       "      <td id=\"T_16726_row9_col2\" class=\"data row9 col2\" >0.0000</td>\n",
       "    </tr>\n",
       "  </tbody>\n",
       "</table>\n"
      ],
      "text/plain": [
       "<pandas.io.formats.style.Styler at 0x231f0692fa0>"
      ]
     },
     "execution_count": 19,
     "metadata": {},
     "output_type": "execute_result"
    }
   ],
   "source": [
    "%%time\n",
    "####================================================\n",
    "### Format dataframe and show results\n",
    "df_GBM_OMC.index = df_GBM_OMC.index.format(formatter=lambda x: '{}'.format(x))\n",
    "df_GBM_OMC.set_index('M', inplace=True)\n",
    "df_GBM_OMC.index.name = 'M'\n",
    "df_GBM_OMC.style.format(formatter=lambda x: '{:.4f}'.format(x))\n"
   ]
  },
  {
   "cell_type": "code",
   "execution_count": 20,
   "metadata": {},
   "outputs": [
    {
     "name": "stdout",
     "output_type": "stream",
     "text": [
      "CPU times: total: 0 ns\n",
      "Wall time: 2 ms\n"
     ]
    },
    {
     "data": {
      "text/html": [
       "<div>\n",
       "<style scoped>\n",
       "    .dataframe tbody tr th:only-of-type {\n",
       "        vertical-align: middle;\n",
       "    }\n",
       "\n",
       "    .dataframe tbody tr th {\n",
       "        vertical-align: top;\n",
       "    }\n",
       "\n",
       "    .dataframe thead th {\n",
       "        text-align: right;\n",
       "    }\n",
       "</style>\n",
       "<table border=\"1\" class=\"dataframe\">\n",
       "  <thead>\n",
       "    <tr style=\"text-align: right;\">\n",
       "      <th></th>\n",
       "      <th>Call_Price_OMC</th>\n",
       "      <th>Standard_Error_OMC</th>\n",
       "      <th>Lambda</th>\n",
       "    </tr>\n",
       "    <tr>\n",
       "      <th>M</th>\n",
       "      <th></th>\n",
       "      <th></th>\n",
       "      <th></th>\n",
       "    </tr>\n",
       "  </thead>\n",
       "  <tbody>\n",
       "    <tr>\n",
       "      <th>10000.0</th>\n",
       "      <td>0.220270</td>\n",
       "      <td>0.020068</td>\n",
       "      <td>0.0</td>\n",
       "    </tr>\n",
       "    <tr>\n",
       "      <th>20000.0</th>\n",
       "      <td>0.230211</td>\n",
       "      <td>0.015469</td>\n",
       "      <td>0.0</td>\n",
       "    </tr>\n",
       "    <tr>\n",
       "      <th>30000.0</th>\n",
       "      <td>0.244791</td>\n",
       "      <td>0.013340</td>\n",
       "      <td>0.0</td>\n",
       "    </tr>\n",
       "    <tr>\n",
       "      <th>40000.0</th>\n",
       "      <td>0.257925</td>\n",
       "      <td>0.012239</td>\n",
       "      <td>0.0</td>\n",
       "    </tr>\n",
       "    <tr>\n",
       "      <th>50000.0</th>\n",
       "      <td>0.254585</td>\n",
       "      <td>0.010870</td>\n",
       "      <td>0.0</td>\n",
       "    </tr>\n",
       "    <tr>\n",
       "      <th>60000.0</th>\n",
       "      <td>0.253883</td>\n",
       "      <td>0.009835</td>\n",
       "      <td>0.0</td>\n",
       "    </tr>\n",
       "    <tr>\n",
       "      <th>70000.0</th>\n",
       "      <td>0.250453</td>\n",
       "      <td>0.008998</td>\n",
       "      <td>0.0</td>\n",
       "    </tr>\n",
       "    <tr>\n",
       "      <th>80000.0</th>\n",
       "      <td>0.253900</td>\n",
       "      <td>0.008531</td>\n",
       "      <td>0.0</td>\n",
       "    </tr>\n",
       "    <tr>\n",
       "      <th>90000.0</th>\n",
       "      <td>0.255402</td>\n",
       "      <td>0.008088</td>\n",
       "      <td>0.0</td>\n",
       "    </tr>\n",
       "    <tr>\n",
       "      <th>100000.0</th>\n",
       "      <td>0.252703</td>\n",
       "      <td>0.007609</td>\n",
       "      <td>0.0</td>\n",
       "    </tr>\n",
       "  </tbody>\n",
       "</table>\n",
       "</div>"
      ],
      "text/plain": [
       "          Call_Price_OMC  Standard_Error_OMC  Lambda\n",
       "M                                                   \n",
       "10000.0         0.220270            0.020068     0.0\n",
       "20000.0         0.230211            0.015469     0.0\n",
       "30000.0         0.244791            0.013340     0.0\n",
       "40000.0         0.257925            0.012239     0.0\n",
       "50000.0         0.254585            0.010870     0.0\n",
       "60000.0         0.253883            0.009835     0.0\n",
       "70000.0         0.250453            0.008998     0.0\n",
       "80000.0         0.253900            0.008531     0.0\n",
       "90000.0         0.255402            0.008088     0.0\n",
       "100000.0        0.252703            0.007609     0.0"
      ]
     },
     "execution_count": 20,
     "metadata": {},
     "output_type": "execute_result"
    }
   ],
   "source": [
    "%%time\n",
    "####================================================\n",
    "### Using the results where STD_ERR < threshold\n",
    "mask_strerr_thresh = (df_GBM_OMC.Standard_Error_OMC < strerr_thresh)\n",
    "call_price_OMC, std_err_OMC, lamb_OMC = df_GBM_OMC[mask_strerr_thresh].iloc[0].to_list()\n",
    "df_GBM_OMC[mask_strerr_thresh]\n"
   ]
  },
  {
   "cell_type": "code",
   "execution_count": null,
   "metadata": {},
   "outputs": [],
   "source": []
  },
  {
   "cell_type": "markdown",
   "metadata": {},
   "source": [
    "## Problem 2b"
   ]
  },
  {
   "cell_type": "markdown",
   "metadata": {},
   "source": [
    "\n",
    "> Suppose that we sample from a new probability measure $\\mathbb{P}^{*}$, under which $W$ now has constant drift $\\lambda$ instead of drift $0$. Thus $W_{t} = W^{*}_{t} + \\lambda t$ where $W^{*}$ is a standard $\\mathbb{P}^{*}$-BM.\n",
    ">\n",
    "> Find the $\\mathbb{P}^{*}$-expectation $\\mathbb{E}^{*}S_{T}$ in terms of $S_{0}, r, \\sigma, \\lambda$, and $T$.\n",
    ">\n",
    "> Calculate $\\lambda$ such that $\\mathbb{E}^{*}S_{T} = 165$.\n",
    ">\n",
    "> (Why did we choose $165$? The picture in $L6.17$ shows that the optimal distribution from which to sample will have a mean that is greater than the strike $K$. So let's choose $10\\%$ higher than $K$. This will not be optimal, but we expect that it will be an improvement over ordinary Monte Carlo. There are more systematic ways to determine a reasonable drift adjustment, not utilized here.)\n"
   ]
  },
  {
   "cell_type": "markdown",
   "metadata": {},
   "source": [
    "\n",
    ">- $\\underline{\\textbf{Risk-Neutral Dynamics:}}$\n",
    ">- We will simulate the following PDE, with:\n",
    "$$\\begin{align*}\n",
    "dB_{t} &= rB_{t}dt \\quad\\quad\\qquad &B_{0} = 1 \\\\ \n",
    "dS_{t} &= rS_{t}dt + \\sigma S_{t}dW_{t} \\quad &S_{0} > 0 \\\\\n",
    "\\end{align*}$$\n",
    ">\n",
    ">- Let $W_{t} = W^{*}_{t} + \\lambda t$ and apply it to the dynamics:\n",
    "$$\\begin{align*}\n",
    "dW_{t} &= dW^{*}_{t} + \\lambda dt \\\\\n",
    "dS_{t} &= rS_{t} dt + \\sigma S_{t} dW_{t} \\\\\n",
    "&= \\left(r + \\sigma\\lambda\\right)S_{t} dt + \\sigma S_{t} dW^{*}_{t} \\\\\n",
    "\\end{align*}$$\n",
    ">\n",
    ">- Tranform to log form:\n",
    "$$\\begin{align*}\n",
    "d\\log(S_{t}) &= \\left(r - \\frac{\\sigma^{2}}{2}\\right)dt + \\sigma dW_{t} \\\\\n",
    "&= \\left(r + \\sigma\\lambda - \\frac{\\sigma^{2}}{2} \\right)dt + \\sigma dW^{*}_{t} \\\\\n",
    "\\end{align*}$$\n",
    ">\n",
    ">- Then we have that, by integrations: \n",
    "$$\\begin{align*}\n",
    "S_{t} &= \\exp\\left(\\log\\left(S_{t}\\right)\\right)\\\\\n",
    "&= S_{0}\\exp\\left(\\left(r + \\sigma\\lambda - \\frac{\\sigma^{2}}{2} \\right)t + \\sigma W^{*}_{t}\\right) \\\\\n",
    "\\log(S_{t}) &\\sim \\mathcal{N}\\left(\\log(S_{0}) + \\left(r + \\sigma\\lambda - \\frac{\\sigma^{2}}{2} \\right)t, \\sigma^{2}t\\right)\n",
    "\\end{align*}$$\n",
    ">\n",
    ">- In this case, if $d\\log(S_{t})$ did not have a drift term, then it will behave as:\n",
    "$$\\sigma W_{t} \\sim \\mathcal{N}\\left(0, \\sigma^{2}t\\right)$$\n",
    ">\n",
    ">- NOTE:\n",
    ">>- We integrated $dW_{t}$ and it did not got to zero.\n",
    ">>- This is because the we are not taking the expectations, so not considering Martingale properties.\n",
    ">>- $\\mathbb{E}\\left[\\int W_{t}dt\\right] = 0$\n",
    ">>- $\\textbf{If, } W_{t} \\sim \\mathcal{N}\\left(0, t\\right) \\textbf{, Then, } \\Longrightarrow\\mathbb{E}\\left[W_{t}\\right] = 0 \\text{ and } \\mathrm{Var}\\left[W_{t}\\right] = t$\n",
    "\n",
    "\n",
    ">- $\\underline{\\textbf{Proof: Short Version}}$\n",
    ">- We have the following useful relation for the expected payout: <br>\n",
    "$$\\textbf{If, } S_{t} \\sim \\mathcal{N}\\left(m, v\\right) \\textbf{, Then, } \\mathbb{E}\\left[\\exp\\left(S_{t}\\right)\\right] = \\exp\\left(m + \\frac{v}{2}\\right)$$\n",
    ">\n",
    ">- From the above distribution of $\\log(S_{t})$, we get the following \n",
    "$$\\begin{align*}\n",
    "\\mathbb{E}\\left[\\exp\\left(\\log(S_{t})\\right)\\right] &= \\mathbb{E}\\left[S_{t}\\right] \\\\\n",
    "&= S_{0}\\exp\\left(m + \\frac{v}{2}\\right) \\\\\n",
    "\\end{align*}$$\n",
    ">\n",
    ">- where, \n",
    "$$\\begin{align*}\n",
    "m &= \\left(r + \\sigma\\lambda - \\frac{\\sigma^{2}}{2}\\right)t \\\\\n",
    "v &= \\left(\\sigma^{2}t\\right) \\\\\n",
    "m + \\frac{v}{2} &= \\left(r + \\sigma\\lambda\\right)t \\\\\n",
    "\\end{align*}$$\n",
    ">\n",
    ">- The final form is:\n",
    "$$\\begin{align*}\\therefore \\mathbb{E}\\left[S_{t}\\right] &= S_{0}\\exp\\left(m + \\frac{v}{2}\\right) \\\\\n",
    "&= S_{0}\\exp\\left(\\left(r + \\sigma\\lambda\\right)t\\right) \\\\\n",
    "\\end{align*}$$\n",
    "\n",
    "\n",
    ">- $\\underline{\\textbf{Proof: Long Version}}$\n",
    ">- We have the following useful relation for the expected payout:\n",
    "$$\\begin{align*}\n",
    "\\mathbb{E}\\left[S_{T}\\right] &= \\mathbb{E}^{*}\\left[S_{0}\\exp\\left(\\left(r - \\frac{\\sigma^{2}}{2}\\right)T + \\sigma W_{t}\\right)\\right] \\\\\n",
    "&= \\mathbb{E}^{*}\\left[S_{0}\\exp\\left(\\left(r - \\frac{\\sigma^{2}}{2}\\right)T + \\sigma \\left(W^{*}_{t} + \\lambda T\\right)\\right)\\right] \\\\\n",
    "&= \\mathbb{E}^{*}\\left[S_{0}\\exp\\left(\\left(r - \\frac{\\sigma^{2}}{2} + \\sigma\\lambda\\right)T + \\sigma W^{*}_{t}\\right)\\right] \\\\\n",
    "&= S_{0}\\exp\\left(\\left(r - \\frac{\\sigma^{2}}{2} + \\sigma\\lambda\\right)T\\right)\\mathbb{E}^{*}\\left[\\exp\\left(\\sigma W^{*}_{t}\\right)\\right] \\\\\n",
    "&= S_{0}\\exp\\left(\\left(r - \\frac{\\sigma^{2}}{2} + \\sigma\\lambda\\right)T\\right)\\exp\\left(\\frac{\\sigma^{2}}{2}T\\right) \\\\\n",
    "&= S_{0}\\exp\\left(\\left(r + \\sigma\\lambda\\right)T\\right)\n",
    "\\end{align*}$$\n",
    ">\n",
    ">- The final form is:\n",
    "$$\\therefore \\color{red}{\\boxed{\\color{black}{\\mathbb{E}\\left[S_{T}\\right] = \\exp\\left(\\log(S_{0}) + (r + \\sigma\\lambda)T\\right) = S_{0}\\exp\\left((r + \\sigma\\lambda)T\\right) = F^{*}}}}$$\n",
    ">\n",
    ">- Given, $F^{*}, S_{0}, r, \\sigma, T$ , we can solve for the drift constant $\\lambda$:\n",
    "$$\\lambda = \\frac{\\frac{\\log\\left(\\frac{F^{*}}{S_{0}}\\right)}{T} - r}{\\sigma}$$\n"
   ]
  },
  {
   "cell_type": "code",
   "execution_count": null,
   "metadata": {},
   "outputs": [],
   "source": []
  },
  {
   "cell_type": "markdown",
   "metadata": {},
   "source": [
    "## Problem 2c"
   ]
  },
  {
   "cell_type": "markdown",
   "metadata": {},
   "source": [
    "\n",
    "> Run $100000$ importance sampling simulations, using the specific drift adjustment calculated in (b), to estimate $C$, together with a standard error. Be aware that your zero-mean normal random draws, here, simulate increments of $W^{*}$ not $W$. <br><br>\n",
    "> Each simulation should require only one number to be generated by $\\text{rng.normal}$. <br><br>\n",
    "> See the $\\text{ipynb}$ file.\n",
    "\n"
   ]
  },
  {
   "cell_type": "code",
   "execution_count": 21,
   "metadata": {},
   "outputs": [
    {
     "name": "stdout",
     "output_type": "stream",
     "text": [
      "CPU times: total: 0 ns\n",
      "Wall time: 0 ns\n"
     ]
    }
   ],
   "source": [
    "%%time\n",
    "####================================================\n",
    "### Calculate lambda\n",
    "def calculate_lambda_drift(F_STAR: float, contract: CallOption, dynamics: GBM) -> float:\n",
    "    ### Separate dynamics and contract class attributes to variables\n",
    "    K, T = contract.__dict__.values()\n",
    "    sigma, r, S0 = dynamics.__dict__.values()\n",
    "    \n",
    "    ### Compute drift constant\n",
    "    lambda_d = ((np.log(F_STAR/S0) / T) - r) / sigma\n",
    "    \n",
    "    return lambda_d\n"
   ]
  },
  {
   "cell_type": "code",
   "execution_count": 22,
   "metadata": {},
   "outputs": [
    {
     "name": "stdout",
     "output_type": "stream",
     "text": [
      "CPU times: total: 62.5 ms\n",
      "Wall time: 66 ms\n"
     ]
    }
   ],
   "source": [
    "%%time\n",
    "####================================================\n",
    "### Calculate drift constant lambda\n",
    "F_STAR = 165\n",
    "lamb = calculate_lambda_drift(F_STAR, hw6p2contract, hw6p2dynamics)\n",
    "\n",
    "### Calculating time-0 call prices on a non-dividend paying stock, using GBM dynamics (ISMC)\n",
    "### Note: STD_ERR < threshold\n",
    "strerr_thresh = 0.05\n",
    "column_name = ['M', 'Call_Price_ISMC', 'Standard_Error_ISMC', 'Lambda']\n",
    "df_GBM_ISMC = pd.DataFrame(columns=column_name)\n",
    "for i in range(0, 10):\n",
    "    M_std_err = 10000*(1+i)\n",
    "    hw6p2cMC = MCimportanceEngine(M=M_std_err, lamb=lamb, seed=0) \n",
    "    (call_price_ISMC, std_err_ISMC) = hw6p2cMC.price_call_GBM(hw6p2contract, hw6p2dynamics)\n",
    "    np.set_printoptions(precision=4, suppress=True, formatter={'float_kind':'{:f}'.format})\n",
    "    \n",
    "    ### Store into dataframe\n",
    "    df_GBM_ISMC.loc[len(df_GBM_ISMC)-1] = [M_std_err, call_price_ISMC, std_err_ISMC, lamb]\n",
    "    "
   ]
  },
  {
   "cell_type": "code",
   "execution_count": 23,
   "metadata": {},
   "outputs": [
    {
     "name": "stdout",
     "output_type": "stream",
     "text": [
      "CPU times: total: 0 ns\n",
      "Wall time: 1 ms\n"
     ]
    },
    {
     "data": {
      "text/html": [
       "<style type=\"text/css\">\n",
       "</style>\n",
       "<table id=\"T_1fb80_\">\n",
       "  <thead>\n",
       "    <tr>\n",
       "      <th class=\"blank level0\" >&nbsp;</th>\n",
       "      <th class=\"col_heading level0 col0\" >Call_Price_ISMC</th>\n",
       "      <th class=\"col_heading level0 col1\" >Standard_Error_ISMC</th>\n",
       "      <th class=\"col_heading level0 col2\" >Lambda</th>\n",
       "    </tr>\n",
       "    <tr>\n",
       "      <th class=\"index_name level0\" >M</th>\n",
       "      <th class=\"blank col0\" >&nbsp;</th>\n",
       "      <th class=\"blank col1\" >&nbsp;</th>\n",
       "      <th class=\"blank col2\" >&nbsp;</th>\n",
       "    </tr>\n",
       "  </thead>\n",
       "  <tbody>\n",
       "    <tr>\n",
       "      <th id=\"T_1fb80_level0_row0\" class=\"row_heading level0 row0\" >10000.0</th>\n",
       "      <td id=\"T_1fb80_row0_col0\" class=\"data row0 col0\" >0.2468</td>\n",
       "      <td id=\"T_1fb80_row0_col1\" class=\"data row0 col1\" >0.0024</td>\n",
       "      <td id=\"T_1fb80_row0_col2\" class=\"data row0 col2\" >2.4039</td>\n",
       "    </tr>\n",
       "    <tr>\n",
       "      <th id=\"T_1fb80_level0_row1\" class=\"row_heading level0 row1\" >20000.0</th>\n",
       "      <td id=\"T_1fb80_row1_col0\" class=\"data row1 col0\" >0.2468</td>\n",
       "      <td id=\"T_1fb80_row1_col1\" class=\"data row1 col1\" >0.0017</td>\n",
       "      <td id=\"T_1fb80_row1_col2\" class=\"data row1 col2\" >2.4039</td>\n",
       "    </tr>\n",
       "    <tr>\n",
       "      <th id=\"T_1fb80_level0_row2\" class=\"row_heading level0 row2\" >30000.0</th>\n",
       "      <td id=\"T_1fb80_row2_col0\" class=\"data row2 col0\" >0.2475</td>\n",
       "      <td id=\"T_1fb80_row2_col1\" class=\"data row2 col1\" >0.0014</td>\n",
       "      <td id=\"T_1fb80_row2_col2\" class=\"data row2 col2\" >2.4039</td>\n",
       "    </tr>\n",
       "    <tr>\n",
       "      <th id=\"T_1fb80_level0_row3\" class=\"row_heading level0 row3\" >40000.0</th>\n",
       "      <td id=\"T_1fb80_row3_col0\" class=\"data row3 col0\" >0.2477</td>\n",
       "      <td id=\"T_1fb80_row3_col1\" class=\"data row3 col1\" >0.0012</td>\n",
       "      <td id=\"T_1fb80_row3_col2\" class=\"data row3 col2\" >2.4039</td>\n",
       "    </tr>\n",
       "    <tr>\n",
       "      <th id=\"T_1fb80_level0_row4\" class=\"row_heading level0 row4\" >50000.0</th>\n",
       "      <td id=\"T_1fb80_row4_col0\" class=\"data row4 col0\" >0.2476</td>\n",
       "      <td id=\"T_1fb80_row4_col1\" class=\"data row4 col1\" >0.0011</td>\n",
       "      <td id=\"T_1fb80_row4_col2\" class=\"data row4 col2\" >2.4039</td>\n",
       "    </tr>\n",
       "    <tr>\n",
       "      <th id=\"T_1fb80_level0_row5\" class=\"row_heading level0 row5\" >60000.0</th>\n",
       "      <td id=\"T_1fb80_row5_col0\" class=\"data row5 col0\" >0.2482</td>\n",
       "      <td id=\"T_1fb80_row5_col1\" class=\"data row5 col1\" >0.0010</td>\n",
       "      <td id=\"T_1fb80_row5_col2\" class=\"data row5 col2\" >2.4039</td>\n",
       "    </tr>\n",
       "    <tr>\n",
       "      <th id=\"T_1fb80_level0_row6\" class=\"row_heading level0 row6\" >70000.0</th>\n",
       "      <td id=\"T_1fb80_row6_col0\" class=\"data row6 col0\" >0.2485</td>\n",
       "      <td id=\"T_1fb80_row6_col1\" class=\"data row6 col1\" >0.0009</td>\n",
       "      <td id=\"T_1fb80_row6_col2\" class=\"data row6 col2\" >2.4039</td>\n",
       "    </tr>\n",
       "    <tr>\n",
       "      <th id=\"T_1fb80_level0_row7\" class=\"row_heading level0 row7\" >80000.0</th>\n",
       "      <td id=\"T_1fb80_row7_col0\" class=\"data row7 col0\" >0.2484</td>\n",
       "      <td id=\"T_1fb80_row7_col1\" class=\"data row7 col1\" >0.0009</td>\n",
       "      <td id=\"T_1fb80_row7_col2\" class=\"data row7 col2\" >2.4039</td>\n",
       "    </tr>\n",
       "    <tr>\n",
       "      <th id=\"T_1fb80_level0_row8\" class=\"row_heading level0 row8\" >90000.0</th>\n",
       "      <td id=\"T_1fb80_row8_col0\" class=\"data row8 col0\" >0.2484</td>\n",
       "      <td id=\"T_1fb80_row8_col1\" class=\"data row8 col1\" >0.0008</td>\n",
       "      <td id=\"T_1fb80_row8_col2\" class=\"data row8 col2\" >2.4039</td>\n",
       "    </tr>\n",
       "    <tr>\n",
       "      <th id=\"T_1fb80_level0_row9\" class=\"row_heading level0 row9\" >100000.0</th>\n",
       "      <td id=\"T_1fb80_row9_col0\" class=\"data row9 col0\" >0.2484</td>\n",
       "      <td id=\"T_1fb80_row9_col1\" class=\"data row9 col1\" >0.0008</td>\n",
       "      <td id=\"T_1fb80_row9_col2\" class=\"data row9 col2\" >2.4039</td>\n",
       "    </tr>\n",
       "  </tbody>\n",
       "</table>\n"
      ],
      "text/plain": [
       "<pandas.io.formats.style.Styler at 0x231f0692670>"
      ]
     },
     "execution_count": 23,
     "metadata": {},
     "output_type": "execute_result"
    }
   ],
   "source": [
    "%%time\n",
    "####================================================\n",
    "### Format dataframe and show results\n",
    "df_GBM_ISMC.index = df_GBM_ISMC.index.format(formatter=lambda x: '{}'.format(x))\n",
    "df_GBM_ISMC.set_index('M', inplace=True)\n",
    "df_GBM_ISMC.index.name = 'M'\n",
    "df_GBM_ISMC.style.format(formatter=lambda x: '{:.4f}'.format(x))\n"
   ]
  },
  {
   "cell_type": "code",
   "execution_count": 24,
   "metadata": {},
   "outputs": [
    {
     "name": "stdout",
     "output_type": "stream",
     "text": [
      "CPU times: total: 0 ns\n",
      "Wall time: 2.01 ms\n"
     ]
    },
    {
     "data": {
      "text/html": [
       "<div>\n",
       "<style scoped>\n",
       "    .dataframe tbody tr th:only-of-type {\n",
       "        vertical-align: middle;\n",
       "    }\n",
       "\n",
       "    .dataframe tbody tr th {\n",
       "        vertical-align: top;\n",
       "    }\n",
       "\n",
       "    .dataframe thead th {\n",
       "        text-align: right;\n",
       "    }\n",
       "</style>\n",
       "<table border=\"1\" class=\"dataframe\">\n",
       "  <thead>\n",
       "    <tr style=\"text-align: right;\">\n",
       "      <th></th>\n",
       "      <th>Call_Price_ISMC</th>\n",
       "      <th>Standard_Error_ISMC</th>\n",
       "      <th>Lambda</th>\n",
       "    </tr>\n",
       "    <tr>\n",
       "      <th>M</th>\n",
       "      <th></th>\n",
       "      <th></th>\n",
       "      <th></th>\n",
       "    </tr>\n",
       "  </thead>\n",
       "  <tbody>\n",
       "    <tr>\n",
       "      <th>10000.0</th>\n",
       "      <td>0.246777</td>\n",
       "      <td>0.002425</td>\n",
       "      <td>2.403876</td>\n",
       "    </tr>\n",
       "    <tr>\n",
       "      <th>20000.0</th>\n",
       "      <td>0.246838</td>\n",
       "      <td>0.001720</td>\n",
       "      <td>2.403876</td>\n",
       "    </tr>\n",
       "    <tr>\n",
       "      <th>30000.0</th>\n",
       "      <td>0.247455</td>\n",
       "      <td>0.001408</td>\n",
       "      <td>2.403876</td>\n",
       "    </tr>\n",
       "    <tr>\n",
       "      <th>40000.0</th>\n",
       "      <td>0.247737</td>\n",
       "      <td>0.001221</td>\n",
       "      <td>2.403876</td>\n",
       "    </tr>\n",
       "    <tr>\n",
       "      <th>50000.0</th>\n",
       "      <td>0.247590</td>\n",
       "      <td>0.001092</td>\n",
       "      <td>2.403876</td>\n",
       "    </tr>\n",
       "    <tr>\n",
       "      <th>60000.0</th>\n",
       "      <td>0.248231</td>\n",
       "      <td>0.000998</td>\n",
       "      <td>2.403876</td>\n",
       "    </tr>\n",
       "    <tr>\n",
       "      <th>70000.0</th>\n",
       "      <td>0.248541</td>\n",
       "      <td>0.000924</td>\n",
       "      <td>2.403876</td>\n",
       "    </tr>\n",
       "    <tr>\n",
       "      <th>80000.0</th>\n",
       "      <td>0.248374</td>\n",
       "      <td>0.000865</td>\n",
       "      <td>2.403876</td>\n",
       "    </tr>\n",
       "    <tr>\n",
       "      <th>90000.0</th>\n",
       "      <td>0.248449</td>\n",
       "      <td>0.000815</td>\n",
       "      <td>2.403876</td>\n",
       "    </tr>\n",
       "    <tr>\n",
       "      <th>100000.0</th>\n",
       "      <td>0.248437</td>\n",
       "      <td>0.000773</td>\n",
       "      <td>2.403876</td>\n",
       "    </tr>\n",
       "  </tbody>\n",
       "</table>\n",
       "</div>"
      ],
      "text/plain": [
       "          Call_Price_ISMC  Standard_Error_ISMC    Lambda\n",
       "M                                                       \n",
       "10000.0          0.246777             0.002425  2.403876\n",
       "20000.0          0.246838             0.001720  2.403876\n",
       "30000.0          0.247455             0.001408  2.403876\n",
       "40000.0          0.247737             0.001221  2.403876\n",
       "50000.0          0.247590             0.001092  2.403876\n",
       "60000.0          0.248231             0.000998  2.403876\n",
       "70000.0          0.248541             0.000924  2.403876\n",
       "80000.0          0.248374             0.000865  2.403876\n",
       "90000.0          0.248449             0.000815  2.403876\n",
       "100000.0         0.248437             0.000773  2.403876"
      ]
     },
     "execution_count": 24,
     "metadata": {},
     "output_type": "execute_result"
    }
   ],
   "source": [
    "%%time\n",
    "####================================================\n",
    "### Using the results where STD_ERR < threshold\n",
    "mask_strerr_thresh = (df_GBM_ISMC.Standard_Error_ISMC < strerr_thresh)\n",
    "call_price_ISMC, std_err_ISMC, lamb_ISMC = df_GBM_ISMC[mask_strerr_thresh].iloc[0].to_list()\n",
    "df_GBM_ISMC[mask_strerr_thresh]\n"
   ]
  },
  {
   "cell_type": "code",
   "execution_count": null,
   "metadata": {},
   "outputs": [],
   "source": []
  },
  {
   "cell_type": "markdown",
   "metadata": {},
   "source": [
    "\n",
    "> Comment: of course, we do not need Monte Carlo to price a call under $\\text{GBM}$. However, suppose you wanted to price a deep $\\text{OTM}$ option under an intractable $\\textit{stochastic volatility}$ model, using importance sampling. You could still use a similar approach.\n"
   ]
  },
  {
   "cell_type": "code",
   "execution_count": null,
   "metadata": {},
   "outputs": [],
   "source": []
  },
  {
   "cell_type": "code",
   "execution_count": null,
   "metadata": {},
   "outputs": [],
   "source": []
  },
  {
   "cell_type": "code",
   "execution_count": null,
   "metadata": {},
   "outputs": [],
   "source": []
  }
 ],
 "metadata": {
  "anaconda-cloud": {},
  "colab": {
   "provenance": []
  },
  "kernelspec": {
   "display_name": "Python 3 (ipykernel)",
   "language": "python",
   "name": "python3"
  },
  "language_info": {
   "codemirror_mode": {
    "name": "ipython",
    "version": 3
   },
   "file_extension": ".py",
   "mimetype": "text/x-python",
   "name": "python",
   "nbconvert_exporter": "python",
   "pygments_lexer": "ipython3",
   "version": "3.8.12"
  },
  "toc": {
   "base_numbering": 1,
   "nav_menu": {},
   "number_sections": true,
   "sideBar": true,
   "skip_h1_title": false,
   "title_cell": "Table of Contents",
   "title_sidebar": "Contents",
   "toc_cell": false,
   "toc_position": {},
   "toc_section_display": true,
   "toc_window_display": false
  }
 },
 "nbformat": 4,
 "nbformat_minor": 1
}
