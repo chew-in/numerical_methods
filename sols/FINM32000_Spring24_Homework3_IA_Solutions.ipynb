{
 "cells": [
  {
   "cell_type": "markdown",
   "metadata": {},
   "source": [
    "<div style = \"text-align: right\"> Roger Lee </div>\n",
    "\n",
    "<left>FINM 32000</left> \n",
    "<br>\n",
    "<left>Spring 2024</left>\n",
    "\n",
    "<h2><center>Homework # 3</center></h2>\n",
    "<h3><center><font color = \"blue\">Solution By: Imtiaz Ali</font></center></h3>"
   ]
  },
  {
   "cell_type": "code",
   "execution_count": 1,
   "metadata": {
    "id": "MjZ7LuUcTu17"
   },
   "outputs": [],
   "source": [
    "import numpy as np\n",
    "import pandas as pd\n",
    "from scipy.stats import norm\n",
    "from typing import Tuple\n"
   ]
  },
  {
   "cell_type": "code",
   "execution_count": 2,
   "metadata": {},
   "outputs": [
    {
     "name": "stdout",
     "output_type": "stream",
     "text": [
      "==================================================\n",
      "3.8.12 (default, Oct 12 2021, 03:01:40) [MSC v.1916 64 bit (AMD64)]\n",
      "==================================================\n",
      "sys.version_info(major=3, minor=8, micro=12, releaselevel='final', serial=0)\n",
      "==================================================\n",
      "Python 3.8.12\n",
      "==================================================\n",
      "Selected Jupyter core packages...\n",
      "IPython          : 8.12.0\n",
      "ipykernel        : 6.19.2\n",
      "ipywidgets       : 8.0.4\n",
      "jupyter_client   : 8.1.0\n",
      "jupyter_core     : 5.3.0\n",
      "jupyter_server   : 1.13.5\n",
      "jupyterlab       : 3.3.2\n",
      "nbclient         : 0.5.13\n",
      "nbconvert        : 6.1.0\n",
      "nbformat         : 5.7.0\n",
      "notebook         : 6.5.4\n",
      "qtconsole        : 5.4.2\n",
      "traitlets        : 5.7.1\n",
      "==================================================\n",
      "CPU times: total: 31.2 ms\n",
      "Wall time: 1.95 s\n"
     ]
    }
   ],
   "source": [
    "%%time\n",
    "####================================================\n",
    "import sys\n",
    "\n",
    "### Get Python and Jupyter Notebook version and information\n",
    "# print('=' * 50)\n",
    "# print(sys.executable)\n",
    "print('=' * 50)\n",
    "print(sys.version)\n",
    "print('=' * 50)\n",
    "print(sys.version_info)\n",
    "print('=' * 50)\n",
    "!python --version\n",
    "print('=' * 50)\n",
    "!jupyter --version\n",
    "print('=' * 50)\n"
   ]
  },
  {
   "cell_type": "code",
   "execution_count": null,
   "metadata": {},
   "outputs": [],
   "source": []
  },
  {
   "cell_type": "markdown",
   "metadata": {},
   "source": [
    "# Problem 1"
   ]
  },
  {
   "cell_type": "markdown",
   "metadata": {
    "id": "riJtW90ITu2B"
   },
   "source": [
    "\n",
    "> Assume that the short rate (the instantaneous spot rate of interest) follows the process:\n",
    "$$\\text{d}r_{t} = \\alpha(r_{t}, t)\\text{d}t + \\beta(r_{t}, t)\\text{d}W_{t}$$\n",
    "where $W_{t}$ is Brownian motion under risk-neutral probabilities. This framework includes models such as the Vasicek and CIR models, which correspond to particular choices of the functions $\\left(\\alpha, \\beta\\right)$.\n"
   ]
  },
  {
   "cell_type": "markdown",
   "metadata": {
    "id": "el5nStVUTu2A"
   },
   "source": [
    "## Problem 1a"
   ]
  },
  {
   "cell_type": "markdown",
   "metadata": {},
   "source": [
    "\n",
    "Considering an interest rate derivative with:\n",
    ">- Time-$T$ terminal payout given by $F(r_{T})$\n",
    ">- Time-$t$ price given by $C_{t}=C(r_{t}, t)$, where $C$ is a smooth pricing function $C$\n",
    "\n",
    "Then we can use Ito's rule:\n",
    "$$\\text{d}f(X_{t}, t)=\\frac{\\partial f}{\\partial t}\\text{d}t + \\frac{\\partial f}{\\partial x}\\text{d}X_{t} + \\frac{1}{2}\\frac{\\partial^{2} f}{\\partial x^{2}}(\\text{d}X_{t})^{2}$$\n",
    "\n",
    "where we can substitute $f=C$ and $X_{t}=r_{t}$ to get:\n",
    "$$\\begin{align*}\n",
    "\\text{d}C(r_{t},t)=&\\hspace{1mm}\\frac{\\partial C}{\\partial t}\\text{d}t + \\frac{\\partial C}{\\partial r}\\text{d}r_{t} + \\frac{1}{2}\\frac{\\partial^{2} C}{\\partial r^{2}}(\\text{d}r_{t})^{2}\\\\\n",
    "=&\\hspace{1mm} \\frac{\\partial C}{\\partial t}\\text{d}t\n",
    " + \\frac{\\partial C}{\\partial r}\\bigg(\\alpha(r_{t}, t)\\text{d}t + \\beta(r_{t}, t)\\text{d}W_{t} \\bigg)\n",
    " + \\frac{1}{2} \\frac{\\partial^{2} C}{\\partial r^{2}}\\bigg((\\alpha(r_{t}, t)\\text{d}t + \\beta(r_{t}, t)\\text{d}W_{t})^{2} \\bigg)\\\\\n",
    "=&\\hspace{1mm} \\frac{\\partial C}{\\partial t}\\text{d}t\n",
    " + \\frac{\\partial C}{\\partial r}\\bigg(\\alpha(r_{t}, t)\\text{d}t + \\beta(r_{t}, t)\\text{d}W_{t} \\bigg)\n",
    " + \\frac{1}{2} \\frac{\\partial^{2} C}{\\partial r^{2}}\\underbrace{\\bigg(\\beta(r_{t}, t)\\bigg)^{2}\\text{d}t}_{\\text{Since (d$t^{2}=0$), (d$t$)(d$W_{t}$)$=0$, (d$W_{t}$)$^{2}=$d$t$}} \\\\\n",
    "=&\\hspace{1mm} \\bigg(\\frac{\\partial C}{\\partial t} + \\alpha(r_{t}, t)\\frac{\\partial C}{\\partial r} + \\frac{1}{2} (\\beta(r_{t}, t))^{2}\\frac{\\partial^{2} C}{\\partial r^{2}} \\bigg)\\text{d}t + \\beta(r_{t}, t)\\frac{\\partial C}{\\partial r}\\text{d}W_{t}\\\\\n",
    "\\end{align*}$$\n",
    "\n",
    "Setting the drift term equal to $rC$, we have:\n",
    "$$\\frac{\\partial C}{\\partial t} + \\alpha(r_{t}, t)\\frac{\\partial C}{\\partial r} + \\frac{1}{2} (\\beta(r_{t}, t))^{2}\\frac{\\partial^{2} C}{\\partial r^{2}}=rC$$\n",
    "\n",
    "$$C(r, T)=F(r_{T})$$\n",
    "\n",
    "which define the PDE and terminal condition for the pricing function $C(r, t)$.\n"
   ]
  },
  {
   "cell_type": "code",
   "execution_count": null,
   "metadata": {},
   "outputs": [],
   "source": []
  },
  {
   "cell_type": "markdown",
   "metadata": {},
   "source": [
    "## Problem 1b"
   ]
  },
  {
   "cell_type": "markdown",
   "metadata": {},
   "source": [
    "\n",
    "Now supposing that the risk-neutral dynamics of $r$ are given by a Vasicek model:\n",
    "\n",
    "$$\\text{d}r_{t} = \\kappa(\\sigma-r_{t})\\text{d}t + \\sigma\\text{d}W_{t},$$\n",
    "\n",
    "i.e. $\\alpha(r_{t}, t)=\\kappa(\\sigma-r_{t})$ and $\\beta(r_{t}, t)=\\sigma,$ with:\n",
    ">- $\\theta=0.05,$ which can be interpreted as the long-term mean of the short rate to which the short rate reverts\n",
    ">- $\\kappa=3,$ which can be interpreted as the speed of mean reversion\n",
    ">- $\\sigma=0.03,$ the constant volatility for the random component of the short rate\n",
    "\n",
    "Then we can use the PDE derived in Problem 1(a) to price the zero-coupon bond with maturity $T=5$ and face value $F=1$:\n",
    "$$\\frac{\\partial C}{\\partial t} + \\kappa\\left(\\sigma-r_{t}\\right)\\frac{\\partial C}{\\partial r} + \\frac{1}{2} (\\sigma)^{2}\\frac{\\partial^{2} C}{\\partial r^{2}}=rC$$\n",
    "\n",
    "Taking a `standard central-difference` explicit finite difference scheme, this can be discretised as:\n",
    "$$\\begin{align*}\n",
    "\\frac{\\partial C}{\\partial t} \\approx &\\ \\frac{C^{j}_{n+1} - C^{j}_{n}}{\\Delta t} \\\\ \n",
    "\\frac{\\partial C}{\\partial r} \\approx &\\ \\frac{C^{j+1}_{n+1} - C^{j-1}_{n+1}}{2\\Delta r} \\\\ \n",
    "\\frac{\\partial^{2} C}{\\partial r^{2}} \\approx &\\ \\frac{C^{j+1}_{n+1} - 2C^{j}_{n+1} + C^{j-1}_{n+1}}{(\\Delta r)^{2}}, \\\\ \n",
    "\\end{align*}$$\n",
    "\n",
    "with $C\\approx C^{j}_{n}$ for the RHS of the PDE (this does not impact convergence). The discretized PDE is:\n",
    "$$\\frac{C^{j}_{n+1} - C^{j}_{n}}{\\Delta t} + \\kappa\\left(\\theta-r_{j}\\right)\\frac{C^{j+1}_{n+1} - C^{j-1}_{n+1}}{2\\Delta r} + \\frac{1}{2} \\sigma^{2}\\frac{C^{j+1}_{n+1} - 2C^{j}_{n+1} + C^{j-1}_{n+1}}{(\\Delta r)^{2}}=rC^{j}_{n}$$\n",
    "\n",
    "Rearranging for $C^{j}_{n}$, we have:\n",
    "$$C^{j}_{n}=\\frac{1}{1+r\\Delta t}\\bigg(q_{u} C^{j+1}_{n+1} + q_{m} C^{j}_{n+1} + q_{d} C^{j-1}_{n+1}\\bigg),$$\n",
    "\n",
    "where the `standard central-difference` weights are:\n",
    "$$\\begin{align*}\n",
    "q_{u} = &\\ \\frac{1}{2}\\left[\\frac{\\sigma^{2}\\Delta t}{(\\Delta r)^{2}} + \\frac{\\kappa(\\theta-r_{j})\\Delta t}{\\Delta r}\\right] \\\\ \n",
    "q_{m} = &\\ 1 - \\frac{\\sigma^{2}\\Delta t}{(\\Delta r)^{2}} \\\\ \n",
    "q_{d} = &\\ \\frac{1}{2}\\left[\\frac{\\sigma^{2}\\Delta t}{(\\Delta r)^{2}} - \\frac{\\kappa(\\theta-r_{j})\\Delta t}{\\Delta r}\\right] \\\\ \n",
    "\\end{align*}$$\n",
    "\n",
    "We will use these equations in the pricing engine for `standard central-difference`.\n"
   ]
  },
  {
   "cell_type": "code",
   "execution_count": null,
   "metadata": {},
   "outputs": [],
   "source": []
  },
  {
   "cell_type": "markdown",
   "metadata": {},
   "source": [
    "## Problem 1c"
   ]
  },
  {
   "cell_type": "markdown",
   "metadata": {},
   "source": [
    "\n",
    "Now taking an explicit `upwind approximation` instead of the standard central-difference, we make an adjustment to the discretization of $\\frac{\\partial C}{\\partial r}$ to:\n",
    "$$\\begin{equation}\n",
    "  \\frac{\\partial C}{\\partial r} \\approx\n",
    "    \\begin{cases}\n",
    "      \\frac{C^{j+1}_{n+1} - C^{j}_{n+1}}{\\Delta r} & \\text{for $r_{j}$ such that }\\kappa(\\theta-r_{j})\\geq 0\\\\\n",
    "      \\frac{C^{j}_{n+1} - C^{j-1}_{n+1}}{\\Delta r} & \\text{for $r_{j}$ such that }\\kappa(\\theta-r_{j})\\lt 0\\\\\n",
    "    \\end{cases}       \n",
    "\\end{equation}$$\n",
    "\n",
    "We can separate this into two cases.\n",
    "- `Case 1:` For $r_{j}$ such that $\\kappa(\\theta-r_{j})\\geq 0,$ the discretized PDE is:\n",
    "$$\\frac{C^{j}_{n+1} - C^{j}_{n}}{\\Delta t} + \\kappa\\left(\\theta-r_{j}\\right)\\frac{C^{j+1}_{n+1} - C^{j}_{n+1}}{\\Delta r} + \\frac{1}{2} \\sigma^{2}\\frac{C^{j+1}_{n+1} - 2C^{j}_{n+1} + C^{j-1}_{n+1}}{(\\Delta r)^{2}}=rC^{j}_{n}$$\n",
    "\n",
    "Rearranging for $C^{j}_{n}$, we have:\n",
    "$$C^{j}_{n}=\\frac{1}{1+r\\Delta t}\\bigg(q_{u} C^{j+1}_{n+1} + q_{m} C^{j}_{n+1} + q_{d} C^{j-1}_{n+1}\\bigg),$$\n",
    "\n",
    "where the `upwind approximation` weights for `Case 1` are:\n",
    "$$\\begin{align*}\n",
    "q_{u} = &\\ \\frac{\\kappa\\left(\\theta-r_{j}\\right)\\Delta t}{\\Delta r} + \\frac{1}{2}\\frac{\\sigma^{2}\\Delta t}{(\\Delta r)^{2}} \\\\ \n",
    "q_{m} = &\\ 1 - \\frac{\\kappa\\left(\\theta-r_{j}\\right)\\Delta t}{\\Delta r} - \\frac{\\sigma^{2}\\Delta t}{(\\Delta r)^{2}} \\\\ \n",
    "q_{d} = &\\ \\frac{1}{2}\\frac{\\sigma^{2}\\Delta t}{(\\Delta r)^{2}}\\\\ \n",
    "\\end{align*}$$\n",
    "\n",
    "- `Case 2:` For $r_{j}$ such that $\\kappa(\\theta-r_{j})\\lt 0,$ the discretized PDE is:\n",
    "$$\\frac{C^{j}_{n+1} - C^{j}_{n}}{\\Delta t} + \\kappa\\left(\\theta-r_{j}\\right)\\frac{C^{j}_{n+1} - C^{j-1}_{n+1}}{\\Delta r} + \\frac{1}{2} \\sigma^{2}\\frac{C^{j+1}_{n+1} - 2C^{j}_{n+1} + C^{j-1}_{n+1}}{(\\Delta r)^{2}}=rC^{j}_{n}$$\n",
    "\n",
    "Rearranging for $C^{j}_{n}$, we have:\n",
    "$$C^{j}_{n}=\\frac{1}{1+r\\Delta t}\\bigg(q_{u} C^{j+1}_{n+1} + q_{m} C^{j}_{n+1} + q_{d} C^{j-1}_{n+1}\\bigg),$$\n",
    "\n",
    "where the `upwind approximation` weights for `Case 2` are:\n",
    "$$\\begin{align*}\n",
    "q_{u} = &\\ \\frac{1}{2}\\frac{\\sigma^{2}\\Delta t}{(\\Delta r)^{2}} \\\\ \n",
    "q_{m} = &\\ 1 + \\frac{\\kappa\\left(\\theta-r_{j}\\right)\\Delta t}{\\Delta r} - \\frac{\\sigma^{2}\\Delta t}{(\\Delta r)^{2}} \\\\ \n",
    "q_{d} = &\\ -\\frac{\\kappa\\left(\\theta-r_{j}\\right)\\Delta t}{\\Delta r} + \\frac{1}{2}\\frac{\\sigma^{2}\\Delta t}{(\\Delta r)^{2}}\\\\ \n",
    "\\end{align*}$$\n",
    "\n",
    "We will use these equations in the pricing engine for `upwind approximation`.\n",
    "\n",
    "In (b) and (c), to approximate the PDE's $rC$ term, use the values of $r$ and $C$ at node $(n, j)$. (As we said in class, node $(n + 1, j)$ would also be a natural choice, but let's choose $n$ instead of $n + 1$). At the grid's upper and lower boundaries $r_{max}$ and $r_{min}$, impose $\\forall t<T$ the \"linearity\" boundary conditions:\n",
    "$$\\begin{align*}\n",
    "C\\left(r_{max}, t\\right) = &\\ 2C\\left(r_{max} - \\Delta r, t\\right) - C\\left(r_{max} - 2\\Delta r, t\\right) \\\\ \n",
    "C\\left(r_{min}, t\\right) = &\\ 2C\\left(r_{min} + \\Delta r, t\\right) - C\\left(r_{min} + 2\\Delta r, t\\right) \\\\ \n",
    "\\end{align*}$$\n",
    "\n",
    ">- This technique can help in some situations where it is not obvious what boundary conditions to use.\n",
    ">- Thus, in each column of the grid, first solve for $C$ in the interior nodes; then deal with the top and bottom nodes.\n"
   ]
  },
  {
   "cell_type": "code",
   "execution_count": null,
   "metadata": {},
   "outputs": [],
   "source": []
  },
  {
   "cell_type": "code",
   "execution_count": 3,
   "metadata": {
    "id": "3LaJWkN1Tu1_"
   },
   "outputs": [
    {
     "name": "stdout",
     "output_type": "stream",
     "text": [
      "CPU times: total: 0 ns\n",
      "Wall time: 0 ns\n"
     ]
    }
   ],
   "source": [
    "%%time\n",
    "####================================================\n",
    "### Model Dynamics\n",
    "class Vasicek:\n",
    "\n",
    "    def __init__(self, kappa: float, theta: float, sigma: float) -> None:\n",
    "        self.kappa = kappa\n",
    "        self.theta = theta\n",
    "        self.sigma = sigma\n",
    "\n",
    "\n",
    "####================================================\n",
    "### Contract\n",
    "class Bond:\n",
    "\n",
    "    def __init__(self, T: float) -> None:\n",
    "        self.T = T\n",
    "\n"
   ]
  },
  {
   "cell_type": "code",
   "execution_count": null,
   "metadata": {
    "id": "-o3SCZyDTu2B"
   },
   "outputs": [],
   "source": []
  },
  {
   "cell_type": "code",
   "execution_count": 4,
   "metadata": {
    "id": "ppGipd6OTu2C"
   },
   "outputs": [
    {
     "name": "stdout",
     "output_type": "stream",
     "text": [
      "CPU times: total: 0 ns\n",
      "Wall time: 0 ns\n"
     ]
    }
   ],
   "source": [
    "%%time\n",
    "####================================================\n",
    "### Pricing Engine\n",
    "class FDexplicitEngine:\n",
    "\n",
    "    def __init__(self, rMax: float, rMin: float, deltar: float, deltat: float, useUpwind: bool) -> None:\n",
    "        self.rMax = rMax\n",
    "        self.rMin = rMin\n",
    "        self.deltar = deltar\n",
    "        self.deltat = deltat\n",
    "        self.useUpwind = useUpwind\n",
    "\n",
    "    def price_bond_vasicek(self, contract: Bond, dynamics: Vasicek) -> Tuple[np.ndarray, np.ndarray]:\n",
    "        ### Returns array of all initial short rates,\n",
    "        ### and the corresponding array of zero-coupon T-maturity bond prices\n",
    "\n",
    "        T = contract.T\n",
    "        N = round(T / self.deltat)\n",
    "        if abs(N - T / self.deltat) > 1e-12:\n",
    "            raise ValueError('Bad delta t')\n",
    "        \n",
    "        ### I'm making the FIRST indices of the array correspond to HIGH levels of r\n",
    "        r = np.arange(self.rMax, self.rMin - self.deltar/2, -self.deltar)   \n",
    "        bondprice = np.ones(np.size(r))\n",
    "        \n",
    "        ### Set static parameters (make the code look cleaner)\n",
    "        a = ((dynamics.sigma**2) * self.deltat) / (self.deltar**2)\n",
    "        dtr = self.deltat / self.deltar\n",
    "\n",
    "        if self.useUpwind:\n",
    "            ### P1c: Apply explicit upwind approximation\n",
    "            \n",
    "            ### We need to implement the correct upwind approximation so we will make a mask for the index\n",
    "            alpha_mask1 = (dynamics.kappa * (dynamics.theta - r) >= 0)\n",
    "            alpha_mask2 = (dynamics.kappa * (dynamics.theta - r) < 0)\n",
    "            \n",
    "            ### Make weights into arrays to apply mask\n",
    "            qu, qm, qd = np.ones(np.size(r)), np.ones(np.size(r)), np.ones(np.size(r))\n",
    "            \n",
    "            ### Up-State\n",
    "            qu[alpha_mask1] = (dynamics.kappa * (dynamics.theta - r[alpha_mask1]) * dtr) + ((1/2) * a)\n",
    "            qu[alpha_mask2] = (1/2) * a\n",
    "            \n",
    "            ### Mid-State\n",
    "            qm[alpha_mask1] = 1 - (dynamics.kappa * (dynamics.theta - r[alpha_mask1]) * dtr) - a\n",
    "            qm[alpha_mask2] = 1 + (dynamics.kappa * (dynamics.theta - r[alpha_mask2]) * dtr) - a\n",
    "            \n",
    "            ### Down-State\n",
    "            qd[alpha_mask1] = (1/2) * a\n",
    "            qd[alpha_mask2] = (-dynamics.kappa * (dynamics.theta - r[alpha_mask2]) * dtr) + ((1/2) * a)\n",
    "            \n",
    "        else:\n",
    "            ### P1b: Apply standard central-difference equation\n",
    "            b = dynamics.kappa * (dynamics.theta - r) * dtr\n",
    "            qu = (1/2) * (a + b)\n",
    "            qd = (1/2) * (a - b)\n",
    "            qm = (1 - a) * np.ones(np.size(r))\n",
    "        \n",
    "        ### Compute the bond price (Induct backwards from N-1 to 0, apply bounday condition to each step)\n",
    "        tn = np.arange(N-1, -1, -1)*self.deltat\n",
    "        for t in tn:\n",
    "            ### Note: np.roll(), the parent array is first flattened, \n",
    "            ###                  then operation is performed (shift each element by x position), \n",
    "            ###                  then the original shape is restored.\n",
    "            ### Up:   C(j+1) = np.roll(bondprice, 1)\n",
    "            ### Mid:  C(j+0) = np.roll(bondprice, 0) = bondprice\n",
    "            ### Down: C(j-1) = np.roll(bondprice, -1)\n",
    "            ### Solving Interior Nodes ###\n",
    "            df_FD = 1 / (1 + r * self.deltat)\n",
    "            bondprice = df_FD * (qu * np.roll(bondprice, 1) + \n",
    "                                 qm * np.roll(bondprice, 0) + \n",
    "                                 qd * np.roll(bondprice, -1))\n",
    "            \n",
    "            ### Solving Top and Bottom Nodes ###\n",
    "            ### It is not obvious in this case, what boundary conditions to use at the top and bottom\n",
    "            ### so let us assume \"linearity\" boundary conditions\n",
    "            bondprice[0] = 2*bondprice[1] - bondprice[2]     ### C(rMax, t) = 2C(rMax-dr, t) - C(rMax-2dr, t)\n",
    "            bondprice[-1] = 2*bondprice[-2] - bondprice[-3]  ### C(rMin, t) = 2C(rMin+dr, t) - C(rMin+2dr, t)\n",
    "\n",
    "        return (r, bondprice)\n",
    "\n"
   ]
  },
  {
   "cell_type": "code",
   "execution_count": null,
   "metadata": {},
   "outputs": [],
   "source": []
  },
  {
   "cell_type": "code",
   "execution_count": 5,
   "metadata": {},
   "outputs": [
    {
     "name": "stdout",
     "output_type": "stream",
     "text": [
      "CPU times: total: 0 ns\n",
      "Wall time: 0 ns\n"
     ]
    }
   ],
   "source": [
    "%%time\n",
    "####================================================\n",
    "### Set Model Dynamics and Contract\n",
    "hw3dynamics = Vasicek(kappa=3, theta=0.05, sigma=0.03)\n",
    "hw3contract = Bond(T=5) \n"
   ]
  },
  {
   "cell_type": "code",
   "execution_count": 6,
   "metadata": {},
   "outputs": [
    {
     "name": "stdout",
     "output_type": "stream",
     "text": [
      "CPU times: total: 46.9 ms\n",
      "Wall time: 52 ms\n"
     ]
    }
   ],
   "source": [
    "%%time\n",
    "####================================================\n",
    "### Calculating time-0 bond prices for various r0:\n",
    "for useUpwind in [False, True]:\n",
    "    hw3FD = FDexplicitEngine(rMax=0.35, rMin=-0.25, deltar=0.01, deltat=0.01, useUpwind=useUpwind)\n",
    "    (r, bondprice) = hw3FD.price_bond_vasicek(hw3contract, hw3dynamics)\n",
    "    np.set_printoptions(precision=4, suppress=True, formatter={'float_kind':'{:f}'.format})\n",
    "    displayrows = (r < 0.15 + hw3FD.deltar / 2) & (r > 0.0 - hw3FD.deltar / 2)\n",
    "    \n",
    "    ### Store into dataframe\n",
    "    if not useUpwind:\n",
    "        bondprices = pd.DataFrame(np.stack((r, bondprice), axis=1)[displayrows]).set_index(0)\n",
    "    else:\n",
    "        bondprices.columns = ['Standard Explicit FD']\n",
    "        bondprices['Upwind Explicit FD'] = bondprice[displayrows]\n",
    "\n"
   ]
  },
  {
   "cell_type": "code",
   "execution_count": 7,
   "metadata": {},
   "outputs": [
    {
     "name": "stdout",
     "output_type": "stream",
     "text": [
      "CPU times: total: 719 ms\n",
      "Wall time: 1.09 s\n"
     ]
    },
    {
     "data": {
      "text/html": [
       "<style type=\"text/css\">\n",
       "</style>\n",
       "<table id=\"T_f5e07_\">\n",
       "  <thead>\n",
       "    <tr>\n",
       "      <th class=\"blank level0\" >&nbsp;</th>\n",
       "      <th class=\"col_heading level0 col0\" >Standard Explicit FD</th>\n",
       "      <th class=\"col_heading level0 col1\" >Upwind Explicit FD</th>\n",
       "    </tr>\n",
       "    <tr>\n",
       "      <th class=\"index_name level0\" >r0</th>\n",
       "      <th class=\"blank col0\" >&nbsp;</th>\n",
       "      <th class=\"blank col1\" >&nbsp;</th>\n",
       "    </tr>\n",
       "  </thead>\n",
       "  <tbody>\n",
       "    <tr>\n",
       "      <th id=\"T_f5e07_level0_row0\" class=\"row_heading level0 row0\" >0.15</th>\n",
       "      <td id=\"T_f5e07_row0_col0\" class=\"data row0 col0\" >-1427310466.9024</td>\n",
       "      <td id=\"T_f5e07_row0_col1\" class=\"data row0 col1\" >0.7536</td>\n",
       "    </tr>\n",
       "    <tr>\n",
       "      <th id=\"T_f5e07_level0_row1\" class=\"row_heading level0 row1\" >0.14</th>\n",
       "      <td id=\"T_f5e07_row1_col0\" class=\"data row1 col0\" >163607791.8303</td>\n",
       "      <td id=\"T_f5e07_row1_col1\" class=\"data row1 col1\" >0.7561</td>\n",
       "    </tr>\n",
       "    <tr>\n",
       "      <th id=\"T_f5e07_level0_row2\" class=\"row_heading level0 row2\" >0.13</th>\n",
       "      <td id=\"T_f5e07_row2_col0\" class=\"data row2 col0\" >22293902.9402</td>\n",
       "      <td id=\"T_f5e07_row2_col1\" class=\"data row2 col1\" >0.7586</td>\n",
       "    </tr>\n",
       "    <tr>\n",
       "      <th id=\"T_f5e07_level0_row3\" class=\"row_heading level0 row3\" >0.12</th>\n",
       "      <td id=\"T_f5e07_row3_col0\" class=\"data row3 col0\" >-1372394.5826</td>\n",
       "      <td id=\"T_f5e07_row3_col1\" class=\"data row3 col1\" >0.7611</td>\n",
       "    </tr>\n",
       "    <tr>\n",
       "      <th id=\"T_f5e07_level0_row4\" class=\"row_heading level0 row4\" >0.11</th>\n",
       "      <td id=\"T_f5e07_row4_col0\" class=\"data row4 col0\" >-133611.7930</td>\n",
       "      <td id=\"T_f5e07_row4_col1\" class=\"data row4 col1\" >0.7637</td>\n",
       "    </tr>\n",
       "    <tr>\n",
       "      <th id=\"T_f5e07_level0_row5\" class=\"row_heading level0 row5\" >0.10</th>\n",
       "      <td id=\"T_f5e07_row5_col0\" class=\"data row5 col0\" >3296.5924</td>\n",
       "      <td id=\"T_f5e07_row5_col1\" class=\"data row5 col1\" >0.7662</td>\n",
       "    </tr>\n",
       "    <tr>\n",
       "      <th id=\"T_f5e07_level0_row6\" class=\"row_heading level0 row6\" >0.09</th>\n",
       "      <td id=\"T_f5e07_row6_col0\" class=\"data row6 col0\" >130.2132</td>\n",
       "      <td id=\"T_f5e07_row6_col1\" class=\"data row6 col1\" >0.7688</td>\n",
       "    </tr>\n",
       "    <tr>\n",
       "      <th id=\"T_f5e07_level0_row7\" class=\"row_heading level0 row7\" >0.08</th>\n",
       "      <td id=\"T_f5e07_row7_col0\" class=\"data row7 col0\" >0.7713</td>\n",
       "      <td id=\"T_f5e07_row7_col1\" class=\"data row7 col1\" >0.7713</td>\n",
       "    </tr>\n",
       "    <tr>\n",
       "      <th id=\"T_f5e07_level0_row8\" class=\"row_heading level0 row8\" >0.07</th>\n",
       "      <td id=\"T_f5e07_row8_col0\" class=\"data row8 col0\" >0.7739</td>\n",
       "      <td id=\"T_f5e07_row8_col1\" class=\"data row8 col1\" >0.7739</td>\n",
       "    </tr>\n",
       "    <tr>\n",
       "      <th id=\"T_f5e07_level0_row9\" class=\"row_heading level0 row9\" >0.06</th>\n",
       "      <td id=\"T_f5e07_row9_col0\" class=\"data row9 col0\" >0.7764</td>\n",
       "      <td id=\"T_f5e07_row9_col1\" class=\"data row9 col1\" >0.7765</td>\n",
       "    </tr>\n",
       "    <tr>\n",
       "      <th id=\"T_f5e07_level0_row10\" class=\"row_heading level0 row10\" >0.05</th>\n",
       "      <td id=\"T_f5e07_row10_col0\" class=\"data row10 col0\" >0.7790</td>\n",
       "      <td id=\"T_f5e07_row10_col1\" class=\"data row10 col1\" >0.7791</td>\n",
       "    </tr>\n",
       "    <tr>\n",
       "      <th id=\"T_f5e07_level0_row11\" class=\"row_heading level0 row11\" >0.04</th>\n",
       "      <td id=\"T_f5e07_row11_col0\" class=\"data row11 col0\" >0.7816</td>\n",
       "      <td id=\"T_f5e07_row11_col1\" class=\"data row11 col1\" >0.7817</td>\n",
       "    </tr>\n",
       "    <tr>\n",
       "      <th id=\"T_f5e07_level0_row12\" class=\"row_heading level0 row12\" >0.03</th>\n",
       "      <td id=\"T_f5e07_row12_col0\" class=\"data row12 col0\" >0.7842</td>\n",
       "      <td id=\"T_f5e07_row12_col1\" class=\"data row12 col1\" >0.7843</td>\n",
       "    </tr>\n",
       "    <tr>\n",
       "      <th id=\"T_f5e07_level0_row13\" class=\"row_heading level0 row13\" >0.02</th>\n",
       "      <td id=\"T_f5e07_row13_col0\" class=\"data row13 col0\" >0.7869</td>\n",
       "      <td id=\"T_f5e07_row13_col1\" class=\"data row13 col1\" >0.7869</td>\n",
       "    </tr>\n",
       "    <tr>\n",
       "      <th id=\"T_f5e07_level0_row14\" class=\"row_heading level0 row14\" >0.01</th>\n",
       "      <td id=\"T_f5e07_row14_col0\" class=\"data row14 col0\" >1416.4521</td>\n",
       "      <td id=\"T_f5e07_row14_col1\" class=\"data row14 col1\" >0.7895</td>\n",
       "    </tr>\n",
       "    <tr>\n",
       "      <th id=\"T_f5e07_level0_row15\" class=\"row_heading level0 row15\" >-0.00</th>\n",
       "      <td id=\"T_f5e07_row15_col0\" class=\"data row15 col0\" >51498.4794</td>\n",
       "      <td id=\"T_f5e07_row15_col1\" class=\"data row15 col1\" >0.7922</td>\n",
       "    </tr>\n",
       "  </tbody>\n",
       "</table>\n"
      ],
      "text/plain": [
       "<pandas.io.formats.style.Styler at 0x204a03830a0>"
      ]
     },
     "execution_count": 7,
     "metadata": {},
     "output_type": "execute_result"
    }
   ],
   "source": [
    "%%time\n",
    "####================================================\n",
    "### Format dataframe and show results\n",
    "bondprices.index = bondprices.index.format(formatter=lambda x: f\"{x:.2f}\")\n",
    "bondprices.index.name = 'r0'\n",
    "bondprices.style.format(formatter=lambda x: f\"{x:.4f}\")\n"
   ]
  },
  {
   "cell_type": "code",
   "execution_count": null,
   "metadata": {},
   "outputs": [],
   "source": []
  },
  {
   "cell_type": "markdown",
   "metadata": {},
   "source": [
    "## Problem 1d"
   ]
  },
  {
   "cell_type": "markdown",
   "metadata": {},
   "source": [
    "\n",
    "> Now let us do some comparison of the central-difference and upwind schemes.\n",
    "> Suppose $f: \\mathbb{R}\\rightarrow\\mathbb{R}$ is smooth in some open neighborhood of $x$. Show that as $h \\rightarrow 0$, \n",
    "$$ \\bigg\\vert \\frac{f(x+h) - f(x)}{h}-f{'}(x) \\bigg\\vert = \\mathcal{O}(h) \\ \\ \\ \\bigg\\vert \\frac{f(x+h) - f(x-h)}{2h}-f{'}(x) \\bigg\\vert = \\mathcal{O}(h^{2})$$\n",
    "using Taylor's theorem. The $\\mathcal{O}(h)$ means \"some function bounded by a constant times $h$, near $h = 0$.\" Likewise, $\\mathcal{O}(h^{2})$ means \"some function bounded by a constant times $h^{2}$, near $h = 0$.\" Different instances of \"$\\mathcal{O}$\" may mean different functions. The \"constants\" may depend on $x$ but not $h$.\n",
    "\n",
    "Suppose $f:\\mathbb{R}\\rightarrow\\mathbb{R}$ is smooth in some open neighborhood of $x$. From Taylor's series expansion, we have, as $h\\rightarrow 0$:\n",
    "$$f(x \\pm h) \\approx f(x) \\pm hf^{'}(x) + \\frac{h^{2}}{2}f^{''}(x) \\pm \\frac{h^{3}}{6}f^{'''}(x) + \\cdots$$\n",
    "\n",
    "For the one-sided derivative:\n",
    "$$\\begin{align*}\n",
    "\\bigg|\\frac{f(x+h)-f(x)}{h}-f^{'}(x)\\bigg| & = \\bigg|\\frac{f(x) + hf^{'}(x) + \\mathcal{O}(h^{2})-f(x)}{h}-f^{'}(x)\\bigg| \\\\\n",
    "& = \\bigg|f^{'}(x) + \\mathcal{O}(h)-f^{'}(x)\\bigg| \\\\\n",
    "& = \\mathcal{O}(h), \\text{ as required} \\\\\n",
    "\\end{align*}$$\n",
    "\n",
    "Similarly, for the centralized two-sided derivative:\n",
    "$$\\begin{align*}\n",
    "\\bigg|\\frac{f(x+h)-f(x-h)}{2h}-f^{'}(x)\\bigg| & = \\bigg|\\frac{\\bigg(f(x) + hf^{'}(x) + h^{2}\\frac{f^{''}(x)}{2} + \\mathcal{O}(h^{3})\\bigg)-\\bigg(f(x) - hf^{'}(x) + h^{2}\\frac{f^{''}(x)}{2} + \\mathcal{O}(h^{3})\\bigg)}{2h}-f^{'}(x)\\bigg| \\\\\n",
    "& = \\bigg|\\frac{2hf^{'}(x)+\\mathcal{O}(h^{3})}{2h}-f^{'}(x)\\bigg| \\\\\n",
    "& = \\bigg|f^{'}(x) + \\mathcal{O}(h^{2})-f^{'}(x)\\bigg| \\\\\n",
    "& = \\mathcal{O}(h^{2}), \\text{ as required} \\\\\n",
    "\\end{align*}$$\n",
    "\n",
    ">- The one-sided derivative has a convergence that is first order in $h$, or $\\mathcal{O}(h)$\n",
    ">- The centralized two-sided derivative has a convergence that is second order in $h$, or $\\mathcal{O}(h^{2})$\n",
    ">- Thus, the centralized two-sided derivative converges faster than the one-sided derivative\n"
   ]
  },
  {
   "cell_type": "code",
   "execution_count": null,
   "metadata": {},
   "outputs": [],
   "source": []
  },
  {
   "cell_type": "markdown",
   "metadata": {},
   "source": [
    "## Problem 1e"
   ]
  },
  {
   "cell_type": "code",
   "execution_count": 8,
   "metadata": {},
   "outputs": [
    {
     "name": "stdout",
     "output_type": "stream",
     "text": [
      "CPU times: total: 0 ns\n",
      "Wall time: 3 ms\n"
     ]
    },
    {
     "data": {
      "text/html": [
       "<div>\n",
       "<style scoped>\n",
       "    .dataframe tbody tr th:only-of-type {\n",
       "        vertical-align: middle;\n",
       "    }\n",
       "\n",
       "    .dataframe tbody tr th {\n",
       "        vertical-align: top;\n",
       "    }\n",
       "\n",
       "    .dataframe thead th {\n",
       "        text-align: right;\n",
       "    }\n",
       "</style>\n",
       "<table border=\"1\" class=\"dataframe\">\n",
       "  <thead>\n",
       "    <tr style=\"text-align: right;\">\n",
       "      <th></th>\n",
       "      <th>Standard Explicit FD</th>\n",
       "      <th>Upwind Explicit FD</th>\n",
       "    </tr>\n",
       "    <tr>\n",
       "      <th>r0</th>\n",
       "      <th></th>\n",
       "      <th></th>\n",
       "    </tr>\n",
       "  </thead>\n",
       "  <tbody>\n",
       "    <tr>\n",
       "      <th>0.10</th>\n",
       "      <td>3296.59241</td>\n",
       "      <td>0.766225</td>\n",
       "    </tr>\n",
       "  </tbody>\n",
       "</table>\n",
       "</div>"
      ],
      "text/plain": [
       "      Standard Explicit FD  Upwind Explicit FD\n",
       "r0                                            \n",
       "0.10            3296.59241            0.766225"
      ]
     },
     "execution_count": 8,
     "metadata": {},
     "output_type": "execute_result"
    }
   ],
   "source": [
    "%%time\n",
    "####================================================\n",
    "### Using the results from the upwind explicit finite difference pricer from P1c\n",
    "bondprices.loc[['0.10']]\n"
   ]
  },
  {
   "cell_type": "markdown",
   "metadata": {},
   "source": [
    "\n",
    ">- The upwind approximation calculation is much more accurate (accurate to 3 decimal places to the true bond price, 0.7661) compared to the standard central-difference one (which gives a bond price of 3,296.59).\n",
    ">- The inaccurate results from the standard explicit FD method, for high/low values of $r_0$, are due to the lack of convergence. \n",
    ">- If we print the weights ($q_{u}, q_{m}, q_{d}$) for the standard explicit FD method we get some values that are negative.\n",
    ">>- In this case, we do not meet the statbility condition because we are trying to squeeze too much variance into a restricted grid spacing.\n",
    ">>- If we think of this in terms of probability masses, then the sum of the absolute value of probabilities is greater than $1$, so: \n",
    "$$\\lvert q_{u}\\rvert + \\lvert q_{m}\\rvert + \\lvert q_{d}\\rvert > 1$$\n"
   ]
  },
  {
   "cell_type": "code",
   "execution_count": null,
   "metadata": {},
   "outputs": [],
   "source": []
  },
  {
   "cell_type": "markdown",
   "metadata": {},
   "source": [
    "## Problem 1f"
   ]
  },
  {
   "cell_type": "markdown",
   "metadata": {},
   "source": [
    "\n",
    "> **Rule-of-Thumb**\n",
    "\n",
    "Ignoring stability issues and considering only consistency (i.e. “truncation error,” also known as “local discretization error”), the upwind explicit scheme, which uses one-sided spatial differences, discretizes the PDE with <u>**less**</u> accuracy than the standard explicit scheme, which uses central spatial differences.\n",
    ">- This is shown by the Taylor analysis in Problem 1d, which shows a two-sided difference converges faster (second order) than a one-sided difference (first order).\n",
    "\n",
    "However, to actually guarantee convergence, the grid spacing must satisfy certain stability constraints. In a PDE exhibiting strong drift, we have just seen that these constraints may allow the upwind scheme <u>**greater**</u> freedom in choosing grid spacing, compared to the standard scheme.\n",
    ">- If we print the weights ($q_{u}, q_{m}, q_{d}$) for the standard explicit FD method we get some values that are negative.\n",
    ">>- In this case, we do not meet the statbility condition because we are trying to squeeze too much variance into a restricted grid spacing.\n",
    ">>- If we think of this in terms of probability masses, then the sum of the absolute value of probabilities is greater than $1$, so: \n",
    "$$\\lvert q_{u}\\rvert + \\lvert q_{m}\\rvert + \\lvert q_{d}\\rvert > 1$$\n",
    "\n"
   ]
  },
  {
   "cell_type": "code",
   "execution_count": null,
   "metadata": {},
   "outputs": [],
   "source": []
  },
  {
   "cell_type": "markdown",
   "metadata": {},
   "source": [
    "## Problem 1g"
   ]
  },
  {
   "cell_type": "markdown",
   "metadata": {},
   "source": [
    "\n",
    "> The *continuously-compounded* *yield-to-maturity* of a zero-coupon bond with time-$t$ price $P_{t}$ and nonrandom face value $P_{T}$ to be paid at maturity date $T$ is:\n",
    "$$\\frac{\\log\\left(P_{T}/P_{t}\\right)}{T - t}$$\n",
    "where, as always for us, $\\log$ denotes natural log, and where $P_{T} = 1$ according to this problem's assumptions. One way to think of the time-$t$ yield to maturity $T$ is as the average of some type of time-$t$ expectation of the instantaneous spot rates from time $t$ to time $T$.\n",
    "\n",
    "> Find the yield-to-maturity of a $5$-year discount bond, in the case that $r_{0} = 0.12$, and in the case that $r_{0} = 0.02$. (The \"good\" results from part (e) may be used here. The \"bad\" results should not be used, unless you want to fix them by modifying the grid spacings).\n",
    ">- Why, intuitively, is the yield for $r_{0} = 0.12$ smaller than $0.12$, whereas the yield for $r_{0} = 0.02$ is greater than $0.02$?\n",
    "\n",
    "> **Comment:** Under these short-rate dynamics, there do exist analytic pricing formulas for bonds. So we do not need finite difference methods to value the simple payoff that we have here. But the finite difference scheme can be modified to handle contracts for which exact pricing formulas do not exist.\n"
   ]
  },
  {
   "cell_type": "code",
   "execution_count": 9,
   "metadata": {},
   "outputs": [
    {
     "name": "stdout",
     "output_type": "stream",
     "text": [
      "CPU times: total: 0 ns\n",
      "Wall time: 0 ns\n"
     ]
    }
   ],
   "source": [
    "%%time\n",
    "####================================================\n",
    "### Continuously-compounded yield-to-maturity  (YTM)\n",
    "def calculate_continuous_YTM(pt: float, pT: float, T: float, t: float = 0) -> float:\n",
    "    return np.log(pT/pt) / (T-t)\n"
   ]
  },
  {
   "cell_type": "code",
   "execution_count": 10,
   "metadata": {},
   "outputs": [
    {
     "name": "stdout",
     "output_type": "stream",
     "text": [
      "CPU times: total: 0 ns\n",
      "Wall time: 1e+03 µs\n"
     ]
    },
    {
     "data": {
      "text/html": [
       "<style type=\"text/css\">\n",
       "</style>\n",
       "<table id=\"T_cdcfd_\">\n",
       "  <thead>\n",
       "    <tr>\n",
       "      <th class=\"blank level0\" >&nbsp;</th>\n",
       "      <th class=\"col_heading level0 col0\" >Standard Explicit FD</th>\n",
       "      <th class=\"col_heading level0 col1\" >Upwind Explicit FD</th>\n",
       "      <th class=\"col_heading level0 col2\" >Continuously-Compounded YTM</th>\n",
       "    </tr>\n",
       "    <tr>\n",
       "      <th class=\"index_name level0\" >r0</th>\n",
       "      <th class=\"blank col0\" >&nbsp;</th>\n",
       "      <th class=\"blank col1\" >&nbsp;</th>\n",
       "      <th class=\"blank col2\" >&nbsp;</th>\n",
       "    </tr>\n",
       "  </thead>\n",
       "  <tbody>\n",
       "    <tr>\n",
       "      <th id=\"T_cdcfd_level0_row0\" class=\"row_heading level0 row0\" >0.15</th>\n",
       "      <td id=\"T_cdcfd_row0_col0\" class=\"data row0 col0\" >-1427310466.9024</td>\n",
       "      <td id=\"T_cdcfd_row0_col1\" class=\"data row0 col1\" >0.7536</td>\n",
       "      <td id=\"T_cdcfd_row0_col2\" class=\"data row0 col2\" >0.0566</td>\n",
       "    </tr>\n",
       "    <tr>\n",
       "      <th id=\"T_cdcfd_level0_row1\" class=\"row_heading level0 row1\" >0.14</th>\n",
       "      <td id=\"T_cdcfd_row1_col0\" class=\"data row1 col0\" >163607791.8303</td>\n",
       "      <td id=\"T_cdcfd_row1_col1\" class=\"data row1 col1\" >0.7561</td>\n",
       "      <td id=\"T_cdcfd_row1_col2\" class=\"data row1 col2\" >0.0559</td>\n",
       "    </tr>\n",
       "    <tr>\n",
       "      <th id=\"T_cdcfd_level0_row2\" class=\"row_heading level0 row2\" >0.13</th>\n",
       "      <td id=\"T_cdcfd_row2_col0\" class=\"data row2 col0\" >22293902.9402</td>\n",
       "      <td id=\"T_cdcfd_row2_col1\" class=\"data row2 col1\" >0.7586</td>\n",
       "      <td id=\"T_cdcfd_row2_col2\" class=\"data row2 col2\" >0.0553</td>\n",
       "    </tr>\n",
       "    <tr>\n",
       "      <th id=\"T_cdcfd_level0_row3\" class=\"row_heading level0 row3\" >0.12</th>\n",
       "      <td id=\"T_cdcfd_row3_col0\" class=\"data row3 col0\" >-1372394.5826</td>\n",
       "      <td id=\"T_cdcfd_row3_col1\" class=\"data row3 col1\" >0.7611</td>\n",
       "      <td id=\"T_cdcfd_row3_col2\" class=\"data row3 col2\" >0.0546</td>\n",
       "    </tr>\n",
       "    <tr>\n",
       "      <th id=\"T_cdcfd_level0_row4\" class=\"row_heading level0 row4\" >0.11</th>\n",
       "      <td id=\"T_cdcfd_row4_col0\" class=\"data row4 col0\" >-133611.7930</td>\n",
       "      <td id=\"T_cdcfd_row4_col1\" class=\"data row4 col1\" >0.7637</td>\n",
       "      <td id=\"T_cdcfd_row4_col2\" class=\"data row4 col2\" >0.0539</td>\n",
       "    </tr>\n",
       "    <tr>\n",
       "      <th id=\"T_cdcfd_level0_row5\" class=\"row_heading level0 row5\" >0.10</th>\n",
       "      <td id=\"T_cdcfd_row5_col0\" class=\"data row5 col0\" >3296.5924</td>\n",
       "      <td id=\"T_cdcfd_row5_col1\" class=\"data row5 col1\" >0.7662</td>\n",
       "      <td id=\"T_cdcfd_row5_col2\" class=\"data row5 col2\" >0.0533</td>\n",
       "    </tr>\n",
       "    <tr>\n",
       "      <th id=\"T_cdcfd_level0_row6\" class=\"row_heading level0 row6\" >0.09</th>\n",
       "      <td id=\"T_cdcfd_row6_col0\" class=\"data row6 col0\" >130.2132</td>\n",
       "      <td id=\"T_cdcfd_row6_col1\" class=\"data row6 col1\" >0.7688</td>\n",
       "      <td id=\"T_cdcfd_row6_col2\" class=\"data row6 col2\" >0.0526</td>\n",
       "    </tr>\n",
       "    <tr>\n",
       "      <th id=\"T_cdcfd_level0_row7\" class=\"row_heading level0 row7\" >0.08</th>\n",
       "      <td id=\"T_cdcfd_row7_col0\" class=\"data row7 col0\" >0.7713</td>\n",
       "      <td id=\"T_cdcfd_row7_col1\" class=\"data row7 col1\" >0.7713</td>\n",
       "      <td id=\"T_cdcfd_row7_col2\" class=\"data row7 col2\" >0.0519</td>\n",
       "    </tr>\n",
       "    <tr>\n",
       "      <th id=\"T_cdcfd_level0_row8\" class=\"row_heading level0 row8\" >0.07</th>\n",
       "      <td id=\"T_cdcfd_row8_col0\" class=\"data row8 col0\" >0.7739</td>\n",
       "      <td id=\"T_cdcfd_row8_col1\" class=\"data row8 col1\" >0.7739</td>\n",
       "      <td id=\"T_cdcfd_row8_col2\" class=\"data row8 col2\" >0.0513</td>\n",
       "    </tr>\n",
       "    <tr>\n",
       "      <th id=\"T_cdcfd_level0_row9\" class=\"row_heading level0 row9\" >0.06</th>\n",
       "      <td id=\"T_cdcfd_row9_col0\" class=\"data row9 col0\" >0.7764</td>\n",
       "      <td id=\"T_cdcfd_row9_col1\" class=\"data row9 col1\" >0.7765</td>\n",
       "      <td id=\"T_cdcfd_row9_col2\" class=\"data row9 col2\" >0.0506</td>\n",
       "    </tr>\n",
       "    <tr>\n",
       "      <th id=\"T_cdcfd_level0_row10\" class=\"row_heading level0 row10\" >0.05</th>\n",
       "      <td id=\"T_cdcfd_row10_col0\" class=\"data row10 col0\" >0.7790</td>\n",
       "      <td id=\"T_cdcfd_row10_col1\" class=\"data row10 col1\" >0.7791</td>\n",
       "      <td id=\"T_cdcfd_row10_col2\" class=\"data row10 col2\" >0.0499</td>\n",
       "    </tr>\n",
       "    <tr>\n",
       "      <th id=\"T_cdcfd_level0_row11\" class=\"row_heading level0 row11\" >0.04</th>\n",
       "      <td id=\"T_cdcfd_row11_col0\" class=\"data row11 col0\" >0.7816</td>\n",
       "      <td id=\"T_cdcfd_row11_col1\" class=\"data row11 col1\" >0.7817</td>\n",
       "      <td id=\"T_cdcfd_row11_col2\" class=\"data row11 col2\" >0.0493</td>\n",
       "    </tr>\n",
       "    <tr>\n",
       "      <th id=\"T_cdcfd_level0_row12\" class=\"row_heading level0 row12\" >0.03</th>\n",
       "      <td id=\"T_cdcfd_row12_col0\" class=\"data row12 col0\" >0.7842</td>\n",
       "      <td id=\"T_cdcfd_row12_col1\" class=\"data row12 col1\" >0.7843</td>\n",
       "      <td id=\"T_cdcfd_row12_col2\" class=\"data row12 col2\" >0.0486</td>\n",
       "    </tr>\n",
       "    <tr>\n",
       "      <th id=\"T_cdcfd_level0_row13\" class=\"row_heading level0 row13\" >0.02</th>\n",
       "      <td id=\"T_cdcfd_row13_col0\" class=\"data row13 col0\" >0.7869</td>\n",
       "      <td id=\"T_cdcfd_row13_col1\" class=\"data row13 col1\" >0.7869</td>\n",
       "      <td id=\"T_cdcfd_row13_col2\" class=\"data row13 col2\" >0.0479</td>\n",
       "    </tr>\n",
       "    <tr>\n",
       "      <th id=\"T_cdcfd_level0_row14\" class=\"row_heading level0 row14\" >0.01</th>\n",
       "      <td id=\"T_cdcfd_row14_col0\" class=\"data row14 col0\" >1416.4521</td>\n",
       "      <td id=\"T_cdcfd_row14_col1\" class=\"data row14 col1\" >0.7895</td>\n",
       "      <td id=\"T_cdcfd_row14_col2\" class=\"data row14 col2\" >0.0473</td>\n",
       "    </tr>\n",
       "    <tr>\n",
       "      <th id=\"T_cdcfd_level0_row15\" class=\"row_heading level0 row15\" >-0.00</th>\n",
       "      <td id=\"T_cdcfd_row15_col0\" class=\"data row15 col0\" >51498.4794</td>\n",
       "      <td id=\"T_cdcfd_row15_col1\" class=\"data row15 col1\" >0.7922</td>\n",
       "      <td id=\"T_cdcfd_row15_col2\" class=\"data row15 col2\" >0.0466</td>\n",
       "    </tr>\n",
       "  </tbody>\n",
       "</table>\n"
      ],
      "text/plain": [
       "<pandas.io.formats.style.Styler at 0x204a0383400>"
      ]
     },
     "execution_count": 10,
     "metadata": {},
     "output_type": "execute_result"
    }
   ],
   "source": [
    "%%time\n",
    "####================================================\n",
    "### Get YTM from results in P1c\n",
    "labelytm = 'Continuously-Compounded YTM'\n",
    "bondprices[labelytm] = bondprices.apply(lambda x: calculate_continuous_YTM(x['Upwind Explicit FD'], \n",
    "                                                                           1, hw3contract.T, 0), axis=1)\n",
    "bondprices.style.format(formatter=lambda x: f\"{x:.4f}\")\n"
   ]
  },
  {
   "cell_type": "code",
   "execution_count": 11,
   "metadata": {},
   "outputs": [
    {
     "name": "stdout",
     "output_type": "stream",
     "text": [
      "CPU times: total: 0 ns\n",
      "Wall time: 3 ms\n"
     ]
    },
    {
     "data": {
      "text/html": [
       "<div>\n",
       "<style scoped>\n",
       "    .dataframe tbody tr th:only-of-type {\n",
       "        vertical-align: middle;\n",
       "    }\n",
       "\n",
       "    .dataframe tbody tr th {\n",
       "        vertical-align: top;\n",
       "    }\n",
       "\n",
       "    .dataframe thead th {\n",
       "        text-align: right;\n",
       "    }\n",
       "</style>\n",
       "<table border=\"1\" class=\"dataframe\">\n",
       "  <thead>\n",
       "    <tr style=\"text-align: right;\">\n",
       "      <th></th>\n",
       "      <th>Upwind Explicit FD</th>\n",
       "      <th>Continuously-Compounded YTM</th>\n",
       "    </tr>\n",
       "    <tr>\n",
       "      <th>r0</th>\n",
       "      <th></th>\n",
       "      <th></th>\n",
       "    </tr>\n",
       "  </thead>\n",
       "  <tbody>\n",
       "    <tr>\n",
       "      <th>0.02</th>\n",
       "      <td>0.786916</td>\n",
       "      <td>0.047927</td>\n",
       "    </tr>\n",
       "    <tr>\n",
       "      <th>0.12</th>\n",
       "      <td>0.761144</td>\n",
       "      <td>0.054587</td>\n",
       "    </tr>\n",
       "  </tbody>\n",
       "</table>\n",
       "</div>"
      ],
      "text/plain": [
       "      Upwind Explicit FD  Continuously-Compounded YTM\n",
       "r0                                                   \n",
       "0.02            0.786916                     0.047927\n",
       "0.12            0.761144                     0.054587"
      ]
     },
     "execution_count": 11,
     "metadata": {},
     "output_type": "execute_result"
    }
   ],
   "source": [
    "%%time\n",
    "####================================================\n",
    "### Using the results from the upwind explicit finite difference pricer from P1c\n",
    "bondprices.loc[['0.02', '0.12'], ['Upwind Explicit FD', 'Continuously-Compounded YTM']]\n"
   ]
  },
  {
   "cell_type": "code",
   "execution_count": null,
   "metadata": {},
   "outputs": [],
   "source": []
  },
  {
   "cell_type": "markdown",
   "metadata": {},
   "source": [
    "\n",
    ">- For $r_{0}=0.12$ the continuously-compounded YTM is $0.0546$ which is smaller than $0.12$, whereas for $r_{0}=0.02$ the continuously-compounded YTM is $0.0479$ which is greater than $0.02$.\n",
    ">- Intuitively, this can be explained by looking at the risk-neutral dynamics of $r$ as given by the Vasicek model.\n",
    ">- Specifically, the drift is given by:\n",
    "$$\\begin{align*}\n",
    "\\mu_t &= \\kappa(\\theta - r_{t}) \\\\\n",
    "      &= 3(0.05 - r_{t}) \\\\\n",
    "\\end{align*}$$\n",
    "\n",
    ">- This shows that $r_{t}$ is mean-reverting, with a mean of $\\theta=0.05$. \n",
    ">>- Here, volatility is a constant $\\sigma$ (independent on the levels of $r_{t}$ and $t$).\n",
    ">>- The long-run average $r_{t}$ is $\\theta=0.05$ under risk-neutral Brownian motion. \n",
    ">>- $\\kappa$ gives the speed of mean-reversion: it is positive and greater than $1$ here, and the time to maturity is long (5 years).\n",
    ">>- Thus, $\\kappa=3$ is sufficient for strong mean-reversion dynamics to be exhibited from time-$0$ to maturity.\n",
    "\n",
    ">- Therefore, for $r_{0}<0.05$, we have a higher continuously-compounded YTM.\n",
    ">>- Intuitively, we expect the interest rate to drift upwards in the future towards the mean level of $0.05$. \n",
    ">- Similarly, for $r_{0}>0.05$, we have a lower continuously-compounded YTM.\n",
    ">>- Intuitively, we expect the interest rate to drift downwards in the future towards the mean level of $0.05$. \n",
    ">- These future interest rate movements via the mean-reverting dynamics of $r$ are captured by the backwards induction in the finite difference pricer.\n",
    ">>- This is confirmed by examining the column for continuously-compounded YTM in the above dataframe.\n",
    ">>- The continuously-compounded YTM for $r_{0}=\\theta=0.05$ is $0.0499\\approx0.05=\\theta$.\n",
    ">>- For $r_{0}<0.05$ the continuously-compounded YTM is greater than $0.05$.\n",
    ">>- For $r_{0}>0.05$ the continuously-compounded YTM is less than $0.05$.\n"
   ]
  },
  {
   "cell_type": "code",
   "execution_count": null,
   "metadata": {},
   "outputs": [],
   "source": []
  },
  {
   "cell_type": "markdown",
   "metadata": {},
   "source": [
    "# Problem 2"
   ]
  },
  {
   "cell_type": "markdown",
   "metadata": {},
   "source": [
    "\n",
    "> Suppose that a non-dividend-paying stock $S$ follows Black-Scholes dynamics, with interest rate $r$ and volatility $\\sigma$.\n"
   ]
  },
  {
   "cell_type": "code",
   "execution_count": null,
   "metadata": {},
   "outputs": [],
   "source": []
  },
  {
   "cell_type": "markdown",
   "metadata": {},
   "source": [
    "## Problem 2a"
   ]
  },
  {
   "cell_type": "markdown",
   "metadata": {},
   "source": [
    "\n",
    "> Given $\\Delta$ where $0<\\Delta<1$, and given $T>0$, solve for the strike $K$ such that a call option on $S$ with strike $K$ and expiry $T$ has time-$0$ delta equal to $\\Delta$. Express your answer in terms of the inverse cdf $N^{−1}$ of the normal distribution, and any or all of $\\Delta$, $S_{0}$, $r$, $\\sigma$, $T$.\n",
    "\n",
    ">- This is only valid IFF implied volatility is flat (Not a function of strike)\n",
    ">- We have, from Black-Scholes, the call delta as:\n",
    "$$\\Delta^{C} = \\frac{\\partial C^{BS}}{\\partial S_{t}} = \\mathcal{N}(d_{1})$$\n",
    ">- Then, taking the inverse, we get $d_{1}$:\n",
    "$$d_{1} = \\mathcal{N}^{-1}(\\Delta^{C}) = \\frac{log\\left(\\frac{S_{t}e^{r(T-t)}}{K}\\right)}{\\sigma \\sqrt{T-t}} + \\frac{1}{2} \\sigma \\sqrt{T-t}$$\n",
    ">- From here, we can solve for the time-t strike-K:\n",
    "$$K = S_{t} e^{r(T-t) - \\left(\\mathcal{N}^{-1}(\\Delta^{C}) - \\frac{1}{2} \\sigma \\sqrt{T-t}\\right) \\sigma \\sqrt{T-t}}$$\n",
    ">- For the time-0 strike-K:\n",
    "$$K = S_{0} e^{rT - \\left(\\mathcal{N}^{-1}(\\Delta^{C}) - \\frac{1}{2} \\sigma \\sqrt{T}\\right) \\sigma \\sqrt{T}}$$\n",
    "\n",
    ">- If we consider a dividend yield, we can get the same expression for a call and put option.\n",
    ">- Let $r_{Grow} = r - q$, then,\n",
    "$$K_{Call} = S_{t} e^{r_{Grow}(T-t) - \\left(\\mathcal{N}^{-1}\\left(\\Delta^{C}e^{q(T-t)}\\right) - \\frac{1}{2} \\sigma \\sqrt{T-t}\\right) \\sigma \\sqrt{T-t}}$$\n",
    "$$K_{Put} = S_{t} e^{r_{Grow}(T-t) - \\left(-\\mathcal{N}^{-1}\\left(-\\Delta^{P}e^{q(T-t)}\\right) - \\frac{1}{2} \\sigma \\sqrt{T-t}\\right) \\sigma \\sqrt{T-t}}$$\n"
   ]
  },
  {
   "cell_type": "code",
   "execution_count": null,
   "metadata": {},
   "outputs": [],
   "source": []
  },
  {
   "cell_type": "markdown",
   "metadata": {},
   "source": [
    "## Problem 2b"
   ]
  },
  {
   "cell_type": "markdown",
   "metadata": {},
   "source": [
    "\n",
    "> Let $S_{0} = 300$ and $T = \\frac{1}{12}$ and $\\sigma = 0.4$ and $r = 0.01$. Calculate the strikes and the premiums (meaning, the prices) of a $25$-delta call and a $75$-delta call. This means that $\\Delta = 0.25$ and $ \\Delta = 0.75$ respectively.\n",
    "\n",
    "> A way to get the inverse of the normal cdf in Python is: **from scipy.stats import norm** and then use **norm.ppf()**\n"
   ]
  },
  {
   "cell_type": "code",
   "execution_count": 12,
   "metadata": {},
   "outputs": [
    {
     "name": "stdout",
     "output_type": "stream",
     "text": [
      "CPU times: total: 0 ns\n",
      "Wall time: 0 ns\n"
     ]
    }
   ],
   "source": [
    "%%time\n",
    "####================================================\n",
    "### Black-Scholes Vanilla\n",
    "def vanilla_price_BS(S: float, K: float, r: float, q: float, sigma: float, T: float, t: float = 0, \n",
    "                     call_put_flag: str = 'C') -> float:\n",
    "    tau = T - t\n",
    "    rGrow = r - q\n",
    "    d1 = np.log((S*np.exp(rGrow*tau)/K))/(sigma*np.sqrt(tau)) + (sigma*np.sqrt(tau))/2\n",
    "    d2 = d1 - sigma*np.sqrt(tau)\n",
    "    if call_put_flag == 'C':\n",
    "        vanilla_price = S*np.exp(-q*tau)*norm.cdf(d1) - K*np.exp(-r*tau)*norm.cdf(d2)\n",
    "    else:\n",
    "        vanilla_price = K*np.exp(-r*tau)*norm.cdf(-d2) - S*np.exp(-q*tau)*norm.cdf(-d1)\n",
    "        \n",
    "    return vanilla_price\n",
    "\n",
    "####================================================\n",
    "### Flat Strike given delta\n",
    "def K_from_delta(delta: float, S: float, r: float, q: float, sigma: float, T: float, t: float = 0, \n",
    "                 call_put_flag: str = 'C') -> float:\n",
    "    ### This is only valid IFF implied volatility is flat (Not a function of strike)\n",
    "    ### Else, use root finding method instead if their is a smile\n",
    "    tau = T - t\n",
    "    rGrow = r - q\n",
    "    sigma_total = sigma*np.sqrt(tau)\n",
    "    if call_put_flag == 'C':\n",
    "        K = S*np.exp((rGrow*tau) - (norm.ppf(delta*np.exp(q*tau)) - (0.5*sigma_total))*(sigma_total))\n",
    "    else:\n",
    "        K = S*np.exp((rGrow*tau) - (-norm.ppf(-delta*np.exp(q*tau)) - (0.5*sigma_total))*(sigma_total))\n",
    "        \n",
    "    return K\n"
   ]
  },
  {
   "cell_type": "code",
   "execution_count": 13,
   "metadata": {},
   "outputs": [
    {
     "name": "stdout",
     "output_type": "stream",
     "text": [
      "OTM: Call Delta=0.25 has Strike-K=326.74 and Premium=$4.88\n",
      "ITM: Call Delta=0.75 has Strike-K=279.61 and Premium=$26.10\n",
      "CPU times: total: 0 ns\n",
      "Wall time: 971 µs\n"
     ]
    }
   ],
   "source": [
    "%%time\n",
    "####================================================\n",
    "### Parameters\n",
    "delta1 = 0.25\n",
    "delta2 = 0.75\n",
    "S = 300\n",
    "r = 0.01\n",
    "q = 0.0\n",
    "sigma = 0.4\n",
    "T = 1/12\n",
    "\n",
    "### OTM: Out-of-the-Money Call Option (K_delta > S)\n",
    "K25 = K_from_delta(delta1, S, r, q, sigma, T, t=0, call_put_flag='C')\n",
    "call_prem25 = vanilla_price_BS(S, K25, r, q, sigma, T, t=0, call_put_flag='C')\n",
    "\n",
    "### ITM: In-the-Money Call Option (K_delta < S)\n",
    "K75 = K_from_delta(delta2, S, r, q, sigma, T, t=0, call_put_flag='C')\n",
    "call_prem75 = vanilla_price_BS(S, K75, r, q, sigma, T, t=0, call_put_flag='C')\n",
    "\n",
    "### Show premium\n",
    "print('OTM: Call Delta={:.2f} has Strike-K={:.2f} and Premium=${:.2f}'.format(delta1, K25, call_prem25))\n",
    "print('ITM: Call Delta={:.2f} has Strike-K={:.2f} and Premium=${:.2f}'.format(delta2, K75, call_prem75))\n"
   ]
  },
  {
   "cell_type": "code",
   "execution_count": null,
   "metadata": {},
   "outputs": [],
   "source": []
  },
  {
   "cell_type": "markdown",
   "metadata": {},
   "source": [
    "## Problem 2c"
   ]
  },
  {
   "cell_type": "markdown",
   "metadata": {},
   "source": [
    "\n",
    "> If you spend $S_{0}$ dollars on stock, you can buy one share, and thereby obtain delta $1$.\n",
    "> If you spend the same amount of $S_{0}$ dollars on, instead, an option of a given strike and expiry, then you can buy $S_{0}/C_{0}$ contracts, where $C_{0}$ is the price of $1$ contract. Each contract has delta $\\Delta$, so all the contracts together have a total delta\n",
    "$$\\Delta \\frac{S_0}{C_0}$$\n",
    "> This is sometimes denoted by the Greek letter lambda, and sometimes called the \"leverage\" or \"gearing\" or \"elasticity\" of the option. Another way to derive/explain this lambda is that it's the *percentage* change in the option price, per *percentage* change in the underlying.\n",
    "\n",
    ">- Calculate the lambdas of the two options in part (b). Which one gives you more leverage?\n"
   ]
  },
  {
   "cell_type": "code",
   "execution_count": 14,
   "metadata": {},
   "outputs": [
    {
     "name": "stdout",
     "output_type": "stream",
     "text": [
      "OTM: Delta=0.25, S=300.00, Call=$4.88, THEN LAMBDA=15.36\n",
      "ITM: Delta=0.75, S=300.00, Call=$26.10, THEN LAMBDA=8.62\n",
      "CPU times: total: 0 ns\n",
      "Wall time: 0 ns\n"
     ]
    }
   ],
   "source": [
    "%%time\n",
    "####================================================\n",
    "### OTM: Out-of-the-Money Call Option (K_delta > S)\n",
    "lambda1 = delta1*(S/call_prem25)\n",
    "\n",
    "### ITM: In-the-Money Call Option (K_delta < S)\n",
    "lambda2 = delta2*(S/call_prem75)\n",
    "\n",
    "### Show output\n",
    "print('OTM: Delta={:.2f}, S={:.2f}, Call=${:.2f}, THEN LAMBDA={:.2f}'.format(delta1, S, call_prem25, lambda1))\n",
    "print('ITM: Delta={:.2f}, S={:.2f}, Call=${:.2f}, THEN LAMBDA={:.2f}'.format(delta2, S, call_prem75, lambda2))\n"
   ]
  },
  {
   "cell_type": "markdown",
   "metadata": {},
   "source": [
    "**For call option, we have:** <br>\n",
    ">- OTM: For $\\Delta_{1} = 0.25, S_{0} = 300$, we get $K_{1} = 326.74$, with $\\lambda_{1} = 15.36$ <br>\n",
    ">- ITM: For $\\Delta_{2} = 0.75, S_{0} = 300$, we get $K_{2} = 279.61$, with $\\lambda_{2} = 8.62$ <br>\n",
    ">- Since $\\lambda_{1} > \\lambda_{2}$, we have more leverage for the OTM call option.\n"
   ]
  },
  {
   "cell_type": "code",
   "execution_count": null,
   "metadata": {},
   "outputs": [],
   "source": []
  },
  {
   "cell_type": "markdown",
   "metadata": {},
   "source": [
    "\n",
    "> **Comment (no response required from you):** This is one of the reasons why, at a given strike, the $\\text{OTM}$ option (call or put) is usually expected to be more liquid (more activity, narrower spreads) than the $\\text{ITM}$ option (put or call) at that same strike; see the second of the three reasons below:\n",
    ">- Popularity of option strategies involving $\\text{OTM}$ options (for example, buying $\\text{OTM}$ protective puts, and selling $\\text{OTM}$ covered calls, as you implemented in the $\\text{IB TWS}$ exercises Fall quarter)\n",
    ">- Popularity of using options to obtain a bullish or bearish exposure to the underlying. More leverage is obtained by using $\\text{OTM}$ than $\\text{ITM}$ options. Thus $\\text{OTM}$ options require less capital commitment to obtain a desired exposure. (To say it another way, $\\text{OTM}$ options provide more exposure for a given allocation of capital).\n",
    ">- $\\text{ITM}$ options mainly have higher absolute deltas than $\\text{OTM}$ options, so $\\text{ITM}$ options are more exposed (in dollar terms, not percentage terms) to the movements of the underlying. This greater risk is a reason for market-makers to quote wider spreads for the $\\text{ITM}$ option, compared to narrower spreads for the $\\text{OTM}$ option.\n",
    "> (Note that this $\\text{OTM}$ vs. $\\text{ITM}$ comparision does not compare $\\text{OTM}/\\text{ITM}$ vs. $\\text{ATM}$ options, which are particularly active.)\n",
    "\n",
    "> Due to the typically greater liquidity of $\\text{OTM}$ options, calculations of the implied volatility surface sometimes use *only* the $\\text{OTM}$ option at each strike (thus, call options at high strikes, put options at low strikes). See for instance Section 11 of Bloomberg's documentation (posted on Canvas) of how they calculate the implied vol surface.\n"
   ]
  },
  {
   "cell_type": "code",
   "execution_count": null,
   "metadata": {},
   "outputs": [],
   "source": []
  },
  {
   "cell_type": "code",
   "execution_count": null,
   "metadata": {},
   "outputs": [],
   "source": []
  },
  {
   "cell_type": "code",
   "execution_count": null,
   "metadata": {},
   "outputs": [],
   "source": []
  }
 ],
 "metadata": {
  "anaconda-cloud": {},
  "colab": {
   "provenance": []
  },
  "kernelspec": {
   "display_name": "Python 3 (ipykernel)",
   "language": "python",
   "name": "python3"
  },
  "language_info": {
   "codemirror_mode": {
    "name": "ipython",
    "version": 3
   },
   "file_extension": ".py",
   "mimetype": "text/x-python",
   "name": "python",
   "nbconvert_exporter": "python",
   "pygments_lexer": "ipython3",
   "version": "3.8.12"
  },
  "toc": {
   "base_numbering": 1,
   "nav_menu": {},
   "number_sections": true,
   "sideBar": true,
   "skip_h1_title": false,
   "title_cell": "Table of Contents",
   "title_sidebar": "Contents",
   "toc_cell": false,
   "toc_position": {},
   "toc_section_display": true,
   "toc_window_display": false
  }
 },
 "nbformat": 4,
 "nbformat_minor": 1
}
