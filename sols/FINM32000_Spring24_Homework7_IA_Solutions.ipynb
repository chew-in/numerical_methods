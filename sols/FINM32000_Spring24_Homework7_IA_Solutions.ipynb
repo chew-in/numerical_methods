{
 "cells": [
  {
   "cell_type": "markdown",
   "metadata": {},
   "source": [
    "<div style = \"text-align: right\"> Roger Lee </div>\n",
    "\n",
    "<left>FINM 32000</left> \n",
    "<br>\n",
    "<left>Spring 2024</left>\n",
    "\n",
    "<h2><center>Homework # 7</center></h2>\n",
    "<h3><center><font color = \"blue\">Solution By: Imtiaz Ali</font></center></h3>"
   ]
  },
  {
   "cell_type": "code",
   "execution_count": 1,
   "metadata": {
    "id": "F5muQAh24GBQ"
   },
   "outputs": [],
   "source": [
    "import copy\n",
    "import numpy as np\n",
    "import pandas as pd\n",
    "import scipy.optimize\n",
    "from scipy.stats import norm\n",
    "import statsmodels.api as sm\n",
    "from typing import Tuple, List\n",
    "import warnings\n",
    "warnings.filterwarnings('ignore')\n"
   ]
  },
  {
   "cell_type": "code",
   "execution_count": 2,
   "metadata": {},
   "outputs": [
    {
     "name": "stdout",
     "output_type": "stream",
     "text": [
      "==================================================\n",
      "3.8.12 (default, Oct 12 2021, 03:01:40) [MSC v.1916 64 bit (AMD64)]\n",
      "==================================================\n",
      "sys.version_info(major=3, minor=8, micro=12, releaselevel='final', serial=0)\n",
      "==================================================\n",
      "Python 3.8.12\n",
      "==================================================\n",
      "Selected Jupyter core packages...\n",
      "IPython          : 8.12.0\n",
      "ipykernel        : 6.19.2\n",
      "ipywidgets       : 8.0.4\n",
      "jupyter_client   : 8.1.0\n",
      "jupyter_core     : 5.3.0\n",
      "jupyter_server   : 1.13.5\n",
      "jupyterlab       : 3.3.2\n",
      "nbclient         : 0.5.13\n",
      "nbconvert        : 6.1.0\n",
      "nbformat         : 5.7.0\n",
      "notebook         : 6.5.4\n",
      "qtconsole        : 5.4.2\n",
      "traitlets        : 5.7.1\n",
      "==================================================\n",
      "CPU times: total: 46.9 ms\n",
      "Wall time: 2.13 s\n"
     ]
    }
   ],
   "source": [
    "%%time\n",
    "####================================================\n",
    "import sys\n",
    "\n",
    "### Get Python and Jupyter Notebook version and information\n",
    "# print('=' * 50)\n",
    "# print(sys.executable)\n",
    "print('=' * 50)\n",
    "print(sys.version)\n",
    "print('=' * 50)\n",
    "print(sys.version_info)\n",
    "print('=' * 50)\n",
    "!python --version\n",
    "print('=' * 50)\n",
    "!jupyter --version\n",
    "print('=' * 50)\n"
   ]
  },
  {
   "cell_type": "code",
   "execution_count": null,
   "metadata": {},
   "outputs": [],
   "source": []
  },
  {
   "cell_type": "markdown",
   "metadata": {},
   "source": [
    "## Problem 1"
   ]
  },
  {
   "cell_type": "markdown",
   "metadata": {},
   "source": [
    "\n",
    "> The code in the $\\text{ipynb}$ file should do Problem $1$a if you set $\\text{algorithm } = \\text{ 'value'}$.<br>\n",
    "> It should do Problem $1$b if you set $\\text{algorithm } = \\text{ 'policy'}$.\n",
    ">\n"
   ]
  },
  {
   "cell_type": "code",
   "execution_count": null,
   "metadata": {},
   "outputs": [],
   "source": []
  },
  {
   "cell_type": "code",
   "execution_count": 3,
   "metadata": {
    "id": "EVrtWCVN4GBR"
   },
   "outputs": [
    {
     "name": "stdout",
     "output_type": "stream",
     "text": [
      "CPU times: total: 0 ns\n",
      "Wall time: 0 ns\n"
     ]
    }
   ],
   "source": [
    "%%time\n",
    "####================================================\n",
    "### Model Dynamics (GBM)\n",
    "class GBM:\n",
    "\n",
    "    def __init__(self, S0: float, r: float, sigma: float) -> None:\n",
    "        self.S0 = S0\n",
    "        self.r = r\n",
    "        self.sigma = sigma\n",
    "        \n",
    "\n",
    "####================================================\n",
    "### Contract\n",
    "class Put:\n",
    "\n",
    "    def __init__(self, K: float, T: float) -> None:\n",
    "        self.K = K\n",
    "        self.T = T\n",
    "        \n"
   ]
  },
  {
   "cell_type": "code",
   "execution_count": null,
   "metadata": {
    "id": "fenSj43Z4GBS"
   },
   "outputs": [],
   "source": []
  },
  {
   "cell_type": "code",
   "execution_count": 4,
   "metadata": {
    "id": "94XU4gKI4GBR"
   },
   "outputs": [
    {
     "name": "stdout",
     "output_type": "stream",
     "text": [
      "CPU times: total: 0 ns\n",
      "Wall time: 0 ns\n"
     ]
    }
   ],
   "source": [
    "%%time\n",
    "####================================================\n",
    "### Pricing Engine\n",
    "class MCengine:\n",
    "\n",
    "    def __init__(self, M: float, N: float, seed: float = 0, algorithm: str = 'value') -> None:\n",
    "        self.M = M     ### Number of paths\n",
    "        self.N = N     ### Number of time periods\n",
    "        self.rng = np.random.default_rng(seed=seed) \n",
    "        ### Seeding the random number generator with a specified number helps make the calculations reproducible\n",
    "        self.algorithm = algorithm\n",
    "    \n",
    "    \n",
    "    ####================================================\n",
    "    ### For Policy optimization approach, problem 1b\n",
    "    ### -> If b << 0 then this function essentially returns nearly 1 if X < a, or nearly 0 if X > a\n",
    "    ### -> but with some smoothing of the discontinuity, using a sigmoid function, to help the optimizer\n",
    "    def softExercise(self, X: np.ndarray, a: np.float64, b: np.float64) -> np.ndarray:\n",
    "        return 1 / (1 + np.exp(-b * (X - a)))\n",
    "    \n",
    "    \n",
    "    ### -> It should be the negative of the expression inside the max() on the homework sheet\n",
    "    ### -> Want to do \"maximization\", so take the negative because we are calling \"minimize\" \n",
    "    def negofMCaverageOfExpectedPayouts(self, coefficients: np.ndarray, x: np.ndarray, \n",
    "                                        exercisePayoff: np.ndarray, continuationPayoff: np.ndarray) -> np.ndarray:\n",
    "        ### Make probability of exercising\n",
    "        p = self.softExercise(x, *coefficients)   ### Array of length M\n",
    "        \n",
    "        ### Using a minimizer as a solver so multiply by negative since we want to maximize it\n",
    "        negMCavg = -np.mean(p * exercisePayoff + (1-p) * continuationPayoff)\n",
    "        \n",
    "        return negMCavg\n",
    "    \n",
    "    \n",
    "    def price_americanPut_GBM(self, contract: Put, dynamics: GBM) -> Tuple[float]:\n",
    "        ### Separate dynamics and contract class attributes to variables\n",
    "        K, T = contract.__dict__.values()\n",
    "        S0, r, sigma = dynamics.__dict__.values()\n",
    "        \n",
    "        ### Make timestep size\n",
    "        M, N, _, _ = self.__dict__.values()\n",
    "        dt = T / N\n",
    "        \n",
    "        ### Generates pseudo-random normals (Zt)\n",
    "        Zt = self.rng.normal(loc=0.0, scale=1.0, size=(M, N))   ### IID random normals\n",
    "        \n",
    "        ### Generate GBM paths (M-by-N)\n",
    "        ### Note: Need to make drift term of size M-by-N so [[1, 2,..., N], [1, 2,..., N],..., [1, 2,..., N]])\n",
    "        tile_rep = np.tile(np.arange(1, N+1), (M, 1)) \n",
    "        paths = S0 * np.exp((r - 0.5 * sigma**2) * dt * tile_rep + sigma * np.sqrt(dt) * np.cumsum(Zt, axis=1))\n",
    "        \n",
    "        ### This is the payoff (cashflow) along each path, discounted to time nn (for nn=N,N-1,...)\n",
    "        ### It corresponds to the far right-hand column in each page of the Excel worksheet\n",
    "        ### I'm initializing it for time nn=N\n",
    "        payoffDiscounted = np.maximum(0, K - paths[:, -1]) ### Y_tN = Excercise Payoff at time-T (M-by-1)\n",
    "        \n",
    "        ### You could make payoffDiscounted to be a matrix because it depends on nn.\n",
    "        ### But I will just reuse a 1-dimensional array, by overwriting the time nn+1 entries at time nn.\n",
    "        ### Backward Induction from N-1 to 1\n",
    "        for nn in np.arange(N-1, 0, -1):\n",
    "            continuationPayoffDiscounted = np.exp(-r * dt) * payoffDiscounted  ### e^(-r*dt)Y_tau_n+1 (M-by-1)\n",
    "            ### This is the CONTINUATION payoff (cashflow) along each path, discounted to time nn (for nn=N-1,N-2,...)\n",
    "            ### It corresponds to the blue column in each page of the Excel worksheet\n",
    "            ### Note that payoffDiscounted comes from the previous iteration\n",
    "            ### -- which was at time nn+1. So now we discount back to time nn.\n",
    "            \n",
    "            ### Markov State Variable, used to construct set of \"B\" basis funcs in the regression estimate of f_n\n",
    "            X = paths[:, nn-1]             ### X_tn = Markov State Variable           (M-by-1)\n",
    "            exerciseValue = K - X          ### Y_tn = PAYOFF[X(t_n)] for tn < T       (M-by-1)\n",
    "            mask_ITM = (exerciseValue > 0) ### ITM Masks: Checking if X < K then True (M-by-1)\n",
    "            \n",
    "            if self.algorithm == 'value':\n",
    "                ### Problem 1a: Value function (Longstaff-Schwartz) Approach ###\n",
    "                \n",
    "                ### Use quadrature function -> Y = beta0 * 1 + beta1 * X^1 + beta2 * X^2\n",
    "                ### An (M-by-3) array containing the basis functions (Same ones as L7.9-7.10, and Excel)\n",
    "                basisfunctions = np.stack((np.ones(M), X, X**2), axis=1)\n",
    "                \n",
    "                ### linear regression of discounted payoff against basisfunctions using ITM paths only\n",
    "                model_regression = sm.OLS(continuationPayoffDiscounted[mask_ITM], basisfunctions[mask_ITM])\n",
    "                regression_fit = model_regression.fit()\n",
    "                \n",
    "                ### This will be an array of 3 estimated \"betas\"\n",
    "                coefficients = regression_fit.params  ### (beta0, beta1, beta2)\n",
    "                \n",
    "                ### This is similar to the Red column in Excel [f_est_n(X(t_n))]    \n",
    "                # estimatedContinuationValue = basisfunctions @ coefficients         ### Array (M-by-1)\n",
    "                estimatedContinuationValue = regression_fit.predict(basisfunctions)  ### Array (M-by-1)\n",
    "                \n",
    "                ### This is a (M-by-1) array of Booleans [1_{Y_tn >= f_est_n(X_tn)}]\n",
    "                whichPathsToExercise = (exerciseValue >= np.maximum(estimatedContinuationValue, 0))\n",
    "                \n",
    "            elif self.algorithm == 'policy':\n",
    "                ### Problem 1b: Policy optimization approach to Reinforcement learning ###\n",
    "                \n",
    "                ### Chose Nelder-Mead optimizer because it's generating reasonable results with minimal coding effort\n",
    "                ### But gradient methods, done properly, usually run faster\n",
    "                (a_opt, b_opt) = scipy.optimize.minimize(fun=self.negofMCaverageOfExpectedPayouts, \n",
    "                                                         x0=(0, 0), \n",
    "                                                         args=(X, exerciseValue, continuationPayoffDiscounted), \n",
    "                                                         method='Nelder-Mead').x\n",
    "                \n",
    "                ### Using the right-hand side of the last equation on the homework sheet\n",
    "                ### This obtains the hard exercise decision from the optimized soft exercise function\n",
    "                ### It should be a length-M array of Booleans (as it was in the \"value\" approach.\n",
    "                ### But here it comes from the softExercise function)\n",
    "                ### 1_(softExercise(X,a_opt,b_opt)>=0.5)*1_(exerciseValue>0) = 1 then exercise at time t_n\n",
    "                ### 1_(softExercise(X,a_opt,b_opt)<0.5)*1_(exerciseValue>0) = 0  then continue to hold at time t_n\n",
    "                mask_value_1 = (self.softExercise(X, a_opt, b_opt) >= 0.5)\n",
    "                mask_value_2 = (exerciseValue > 0)                     ### Same as mask_ITM\n",
    "                whichPathsToExercise = (mask_value_1 & mask_value_2)   ### Bitwise operation, Keep Y_tn (M-by-1)\n",
    "                \n",
    "            else:\n",
    "                raise ValueError('Unknown algorithm type')\n",
    "            \n",
    "            ### See the \"discounted cashflow along path\" column in Excel\n",
    "            ### Keep either exercise (Y_tn) or continuation discounted payoff (e^(-r*dt)Y_tau_n+1) for each path\n",
    "            whichPathsToNotExercise = np.logical_not(whichPathsToExercise)   ### Keep e^(-r*dt)Y_tau_n+1\n",
    "            payoffDiscounted[whichPathsToExercise] = exerciseValue[whichPathsToExercise]\n",
    "            payoffDiscounted[whichPathsToNotExercise] = continuationPayoffDiscounted[whichPathsToNotExercise]\n",
    "            \n",
    "        ### The time-0 calculation needs no regression\n",
    "        continuationPayoffDiscounted = np.exp(-r * dt) * payoffDiscounted\n",
    "        estimatedContinuationValue = np.mean(continuationPayoffDiscounted)\n",
    "        putprice = max(K - S0, estimatedContinuationValue)   ### Final payoff\n",
    "\n",
    "        return (putprice)\n",
    "    "
   ]
  },
  {
   "cell_type": "code",
   "execution_count": null,
   "metadata": {},
   "outputs": [],
   "source": []
  },
  {
   "cell_type": "markdown",
   "metadata": {},
   "source": [
    "## Problem 1a"
   ]
  },
  {
   "cell_type": "markdown",
   "metadata": {
    "id": "dQwn3Yn44GBS"
   },
   "source": [
    "\n",
    "> Complete the coding of the provided $\\text{ipynb}$ file which prices the Bermudan put option under $\\text{GBM}$, with the same parameters as in the Excel worksheet from class (which has been posted on Canvas), using the Longstaff-Schwartz method.<br>\n",
    "> &emsp; Report an estimated price, based on $10000$ paths.<br>\n",
    "> &emsp; At each exercise date, do the regression using only the paths that are in-the-money (at that specific date $-$ so there may be different subsamples on different dates) $-$ unlike the Excel worksheet, which uses all of the paths.\n",
    "\n"
   ]
  },
  {
   "cell_type": "code",
   "execution_count": null,
   "metadata": {},
   "outputs": [],
   "source": []
  },
  {
   "cell_type": "code",
   "execution_count": 5,
   "metadata": {},
   "outputs": [
    {
     "name": "stdout",
     "output_type": "stream",
     "text": [
      "CPU times: total: 0 ns\n",
      "Wall time: 0 ns\n"
     ]
    }
   ],
   "source": [
    "%%time\n",
    "####================================================\n",
    "### Set Model Dynamics and Contract\n",
    "hw7dynamics = GBM(S0=1, r=0.03, sigma=0.20)\n",
    "hw7contract = Put(K=1.1, T=4)\n"
   ]
  },
  {
   "cell_type": "code",
   "execution_count": 6,
   "metadata": {},
   "outputs": [
    {
     "name": "stdout",
     "output_type": "stream",
     "text": [
      "CPU times: total: 62.5 ms\n",
      "Wall time: 66 ms\n"
     ]
    }
   ],
   "source": [
    "%%time\n",
    "####================================================\n",
    "### Calucluate price for the Bermudan put option under GBM using the Longstaff-Schwartz method\n",
    "algorithm = 'value'\n",
    "column_name = ['M', 'Put_Price_Bermudan_GBM', 'Algorithm']\n",
    "df_BermGBM_value = pd.DataFrame(columns=column_name)\n",
    "for i in range(0, 10):\n",
    "    M_std_err = 1000*(1+i)\n",
    "    hw7MC = MCengine(M=M_std_err, N=4, seed=0, algorithm=algorithm)\n",
    "    put_price_BermGBM = hw7MC.price_americanPut_GBM(hw7contract, hw7dynamics)\n",
    "    np.set_printoptions(precision=4, suppress=True, formatter={'float_kind':'{:f}'.format})\n",
    "    \n",
    "    ### Store into dataframe\n",
    "    df_BermGBM_value.loc[len(df_BermGBM_value)-1] = [M_std_err, put_price_BermGBM, algorithm]\n",
    "    "
   ]
  },
  {
   "cell_type": "code",
   "execution_count": 7,
   "metadata": {},
   "outputs": [
    {
     "name": "stdout",
     "output_type": "stream",
     "text": [
      "CPU times: total: 0 ns\n",
      "Wall time: 0 ns\n"
     ]
    },
    {
     "data": {
      "text/html": [
       "<div>\n",
       "<style scoped>\n",
       "    .dataframe tbody tr th:only-of-type {\n",
       "        vertical-align: middle;\n",
       "    }\n",
       "\n",
       "    .dataframe tbody tr th {\n",
       "        vertical-align: top;\n",
       "    }\n",
       "\n",
       "    .dataframe thead th {\n",
       "        text-align: right;\n",
       "    }\n",
       "</style>\n",
       "<table border=\"1\" class=\"dataframe\">\n",
       "  <thead>\n",
       "    <tr style=\"text-align: right;\">\n",
       "      <th></th>\n",
       "      <th>Put_Price_Bermudan_GBM</th>\n",
       "      <th>Algorithm</th>\n",
       "    </tr>\n",
       "    <tr>\n",
       "      <th>M</th>\n",
       "      <th></th>\n",
       "      <th></th>\n",
       "    </tr>\n",
       "  </thead>\n",
       "  <tbody>\n",
       "    <tr>\n",
       "      <th>1000</th>\n",
       "      <td>0.166735</td>\n",
       "      <td>value</td>\n",
       "    </tr>\n",
       "    <tr>\n",
       "      <th>2000</th>\n",
       "      <td>0.163411</td>\n",
       "      <td>value</td>\n",
       "    </tr>\n",
       "    <tr>\n",
       "      <th>3000</th>\n",
       "      <td>0.161025</td>\n",
       "      <td>value</td>\n",
       "    </tr>\n",
       "    <tr>\n",
       "      <th>4000</th>\n",
       "      <td>0.160038</td>\n",
       "      <td>value</td>\n",
       "    </tr>\n",
       "    <tr>\n",
       "      <th>5000</th>\n",
       "      <td>0.160209</td>\n",
       "      <td>value</td>\n",
       "    </tr>\n",
       "    <tr>\n",
       "      <th>6000</th>\n",
       "      <td>0.160200</td>\n",
       "      <td>value</td>\n",
       "    </tr>\n",
       "    <tr>\n",
       "      <th>7000</th>\n",
       "      <td>0.160176</td>\n",
       "      <td>value</td>\n",
       "    </tr>\n",
       "    <tr>\n",
       "      <th>8000</th>\n",
       "      <td>0.161135</td>\n",
       "      <td>value</td>\n",
       "    </tr>\n",
       "    <tr>\n",
       "      <th>9000</th>\n",
       "      <td>0.161460</td>\n",
       "      <td>value</td>\n",
       "    </tr>\n",
       "    <tr>\n",
       "      <th>10000</th>\n",
       "      <td>0.162106</td>\n",
       "      <td>value</td>\n",
       "    </tr>\n",
       "  </tbody>\n",
       "</table>\n",
       "</div>"
      ],
      "text/plain": [
       "       Put_Price_Bermudan_GBM Algorithm\n",
       "M                                      \n",
       "1000                 0.166735     value\n",
       "2000                 0.163411     value\n",
       "3000                 0.161025     value\n",
       "4000                 0.160038     value\n",
       "5000                 0.160209     value\n",
       "6000                 0.160200     value\n",
       "7000                 0.160176     value\n",
       "8000                 0.161135     value\n",
       "9000                 0.161460     value\n",
       "10000                0.162106     value"
      ]
     },
     "execution_count": 7,
     "metadata": {},
     "output_type": "execute_result"
    }
   ],
   "source": [
    "%%time\n",
    "####================================================\n",
    "### Format dataframe and show results\n",
    "df_BermGBM_value.index = df_BermGBM_value.index.format(formatter=lambda x: '{}'.format(x))\n",
    "df_BermGBM_value.set_index('M', inplace=True)\n",
    "df_BermGBM_value.index.name = 'M'\n",
    "df_BermGBM_value\n"
   ]
  },
  {
   "cell_type": "code",
   "execution_count": null,
   "metadata": {},
   "outputs": [],
   "source": []
  },
  {
   "cell_type": "markdown",
   "metadata": {},
   "source": [
    "## Problem 1b"
   ]
  },
  {
   "cell_type": "markdown",
   "metadata": {},
   "source": [
    "\n",
    "> The Longstaff-Schwartz method can be regarded as an example of a $\\textit{Reinforcement Learning}$ $(\\text{RL})$ algorithm. It selects actions (\"exercise\" vs. \"continue\") to try to maximize an expected reward (option payoff) that depends on the transitions of a state variable (the underlying $X$).\n",
    "> &emsp; In particular, Longstaff-Schwartz takes a $\\textit{Value}$-function approach to solving the dynamic programming formulation of the Reinforcement Learning problem. It finds an estimate $\\hat{f}_{n}$ (same notation as $\\text{L}7$) of the $\\textit{value function}$ for the continuation action, by using $\\text{OLS}$ regression, of simulated continuation payoffs on the state variable. This estimated continuation value $\\hat{f}_{n}$ is compared against the value function for the exercise action, which is just the payoff function (for example $\\text{Payoff}(X) = K - X$ in the case of a put):<br><br>\n",
    "$$\\begin{align*}\n",
    "&\\text{If } \\hat{f}_n\\left(X_{t_{n}}\\right) > \\text{Payoff}\\left(X_{t_{n}}\\right) \\text{ then continue to hold at time } t_{n} \\\\\n",
    "&\\text{If } \\hat{f}_n\\left(X_{t_{n}}\\right) \\leq \\text{Payoff}\\left(X_{t_{n}}\\right) \\text{ then exercise at time } t_{n}\n",
    "\\end{align*}$$\n",
    ">\n",
    "> Here we will consider a different approach to $\\text{RL}$.<br>\n",
    "> &emsp; In contrast to Value-function $\\text{RL}$, another approach to Reinforcement Learning is the $\\textit{Policy}$-based approach. Rather than trying to estimate the value function (for the continuation action), it tries to more directly optimize the time-$t_{n}$ policy function, let's denote it $\\Phi$, which maps each $X$ to one of two outputs: $\\{0, 1\\}$, where $0$ denotes continuing to hold, while $1$ denotes stopping (exercising).\n",
    "$$\\begin{align*}\n",
    "&\\text{If } \\Phi\\left(X_{t_{n}}\\right) = 0 \\text{ then continue to hold at time } t_{n} \\\\\n",
    "&\\text{If } \\Phi\\left(X_{t_{n}}\\right) = 1 \\text{ then exercise at time } t_{n}\n",
    "\\end{align*}$$\n",
    ">\n",
    "> In the particular one-dimensional example of put pricing that we have been studying, we know what form the stopping policy function should take. In theory it should be an indicator function \n",
    "$$\\Phi_{c_{n}}\\left(X\\right) = \\textbf{1}_{X \\leq c_{n}}$$\n",
    "> with a parameter $c_{n}$ is a specific\"critical\" or \"threshold\" level of the stock price $X$. Below $c_{n}$ you should exercise, and above $c_{n}$ you should continue to hold the put. So, in principle, we could try to estimate the optimal threshold $c_{n}$ by choosing it to maximize the average, across all simulated paths, of the simulated payout resulting from the policy $\\Phi_{c_{n}}$ at time $t_{n}$.\n",
    "> &emsp; However, this optimization has some numerical dificulties, due to the piecewise constancy of this \"hard stopping\" decision function $\\Phi$ which only has two outputs $\\{0, 1\\}$. So suppose that we optimize a smoother function, a \"soft stoppin\" decision function $\\phi$ which produces outputs in the interval $\\textit{between}$ $0$ and $1$. Let $\\phi$ have two parameters $a, b$ (which may depend on the time slice $n$) and specifically let $\\phi$ be<a name=\"Note-1\"></a>[<sup>[1]</sup>](#Note-1) a $\\textit{sigmoid}$ or $\\textit{logistic}$ function of $b(X - a)$:\n",
    "$$\\begin{equation}\n",
    "\\phi_{a, b}\\left(X\\right) = \\frac{1}{1+\\exp{\\left(-b\\left(X-a\\right)\\right)}} \\tag{*}\n",
    "\\end{equation}\\label{eq:sig}$$\n",
    ">\n",
    "> For large negative $b$, the $\\phi_{a, b}$ will behave similarly to $\\Phi_{a}$, in that it's near $1$ for $X < a$ and near $0$ for $X > a$. But unlike the hard stopping decision function, the soft decision function $\\phi$ is more optimizer-friendly, because it varies smoothly between $0$ and $1$. It can be interpreted as making the exercise decision randomly, with probability $\\phi_{a, b}\\left(X\\right)$ of exercising, and probability $1 - \\phi_{a, b}\\left(X\\right)$ of continuing to hold, conditional on $X$. At time $t_{n}$ the optimizer should optimize \n",
    "$$\\max_{a,b}\\left(\\frac{1}{M}\\sum^{M}_{m=1}\\left(\\phi_{a,b}\\left(X^{m}_{t_{n}}\\right)\\times\\left(K-X^{m}_{t_{n}}\\right) + \\left(1 - \\phi_{a,b}\\left(X^{m}_{t_{n}}\\right)\\right)\\times\\left(\\text{Continuation payout on the $m$th path}\\right)\\right)\\right)$$\n",
    ">\n",
    "> where $X^{m}$ denotes the $m$th simulated path. Then calculate payouts by converting this optimized soft stopping decision into a hard stopping decision by \n",
    "$$\\Phi\\left(X_{t_{n}}\\right) = \\textbf{1}_{\\phi_{\\hat{a}, \\hat{b}}(X_{tn})>0.5}\\times\\textbf{1}_{\\text{Payoff}(X_{tn})>0}$$\n",
    ">\n",
    "> where $\\hat{a}$ and $\\hat{b}$ denote the optimized parameter values. Multiplying by $\\textbf{1}_{\\text{Payoff}(X_{tn}) > 0}$ makes sure that you are not exercising $\\text{OTM}$ options. It should not be needed if your $\\phi$ has been trained correctly, but we include it as a precaution.\n",
    "> &emsp; Implement this policy optimization approach, by completing the code in the $\\text{ipynb}$ file. Most of the coding is already provided.\n",
    "\n",
    "> &nbsp; <a name=\"Note-1\"></a>[1](#Note-1) On this problem, which is simple in the sense that the exercise region in $X$-space is just a one-dimensional interval, a single sigmoid function $(\\ref{eq:sig})$ is sufficient to approximate the optimal stopping policy.<br>\n",
    "> &emsp; On harder problems, where the exercise region may be a complicated subset of a multidimensional $X$-space, the function $(\\ref{eq:sig})$ can be upgraded to a $\\textit{deep neural network}$.<br>\n",
    "> &emsp; For instance see http://jmlr.org/papers/volume20/18-232/18-232.pdf\n",
    "\n"
   ]
  },
  {
   "cell_type": "code",
   "execution_count": null,
   "metadata": {},
   "outputs": [],
   "source": []
  },
  {
   "cell_type": "code",
   "execution_count": 8,
   "metadata": {},
   "outputs": [
    {
     "name": "stdout",
     "output_type": "stream",
     "text": [
      "CPU times: total: 0 ns\n",
      "Wall time: 0 ns\n"
     ]
    }
   ],
   "source": [
    "%%time\n",
    "####================================================\n",
    "### Set Model Dynamics and Contract\n",
    "hw7dynamics = GBM(S0=1, r=0.03, sigma=0.20)\n",
    "hw7contract = Put(K=1.1, T=4)\n"
   ]
  },
  {
   "cell_type": "code",
   "execution_count": 9,
   "metadata": {
    "scrolled": false
   },
   "outputs": [
    {
     "name": "stdout",
     "output_type": "stream",
     "text": [
      "CPU times: total: 2.58 s\n",
      "Wall time: 2.57 s\n"
     ]
    }
   ],
   "source": [
    "%%time\n",
    "####================================================\n",
    "### Calucluate price for the Bermudan put option under GBM using the Policy optimization approach\n",
    "algorithm = 'policy'\n",
    "column_name = ['M', 'Put_Price_Bermudan_GBM', 'Algorithm']\n",
    "df_BermGBM_policy = pd.DataFrame(columns=column_name)\n",
    "for i in range(0, 10):\n",
    "    M_std_err = 1000*(1+i)\n",
    "    hw7MC = MCengine(M=M_std_err, N=4, seed=0, algorithm=algorithm)\n",
    "    put_price_BermGBM = hw7MC.price_americanPut_GBM(hw7contract, hw7dynamics)\n",
    "    np.set_printoptions(precision=4, suppress=True, formatter={'float_kind':'{:f}'.format})\n",
    "    \n",
    "    ### Store into dataframe\n",
    "    df_BermGBM_policy.loc[len(df_BermGBM_policy)-1] = [M_std_err, put_price_BermGBM, algorithm]\n",
    "    "
   ]
  },
  {
   "cell_type": "code",
   "execution_count": 10,
   "metadata": {},
   "outputs": [
    {
     "name": "stdout",
     "output_type": "stream",
     "text": [
      "CPU times: total: 0 ns\n",
      "Wall time: 996 µs\n"
     ]
    },
    {
     "data": {
      "text/html": [
       "<div>\n",
       "<style scoped>\n",
       "    .dataframe tbody tr th:only-of-type {\n",
       "        vertical-align: middle;\n",
       "    }\n",
       "\n",
       "    .dataframe tbody tr th {\n",
       "        vertical-align: top;\n",
       "    }\n",
       "\n",
       "    .dataframe thead th {\n",
       "        text-align: right;\n",
       "    }\n",
       "</style>\n",
       "<table border=\"1\" class=\"dataframe\">\n",
       "  <thead>\n",
       "    <tr style=\"text-align: right;\">\n",
       "      <th></th>\n",
       "      <th>Put_Price_Bermudan_GBM</th>\n",
       "      <th>Algorithm</th>\n",
       "    </tr>\n",
       "    <tr>\n",
       "      <th>M</th>\n",
       "      <th></th>\n",
       "      <th></th>\n",
       "    </tr>\n",
       "  </thead>\n",
       "  <tbody>\n",
       "    <tr>\n",
       "      <th>1000</th>\n",
       "      <td>0.170263</td>\n",
       "      <td>policy</td>\n",
       "    </tr>\n",
       "    <tr>\n",
       "      <th>2000</th>\n",
       "      <td>0.163954</td>\n",
       "      <td>policy</td>\n",
       "    </tr>\n",
       "    <tr>\n",
       "      <th>3000</th>\n",
       "      <td>0.162466</td>\n",
       "      <td>policy</td>\n",
       "    </tr>\n",
       "    <tr>\n",
       "      <th>4000</th>\n",
       "      <td>0.161024</td>\n",
       "      <td>policy</td>\n",
       "    </tr>\n",
       "    <tr>\n",
       "      <th>5000</th>\n",
       "      <td>0.161184</td>\n",
       "      <td>policy</td>\n",
       "    </tr>\n",
       "    <tr>\n",
       "      <th>6000</th>\n",
       "      <td>0.161250</td>\n",
       "      <td>policy</td>\n",
       "    </tr>\n",
       "    <tr>\n",
       "      <th>7000</th>\n",
       "      <td>0.160968</td>\n",
       "      <td>policy</td>\n",
       "    </tr>\n",
       "    <tr>\n",
       "      <th>8000</th>\n",
       "      <td>0.161947</td>\n",
       "      <td>policy</td>\n",
       "    </tr>\n",
       "    <tr>\n",
       "      <th>9000</th>\n",
       "      <td>0.162104</td>\n",
       "      <td>policy</td>\n",
       "    </tr>\n",
       "    <tr>\n",
       "      <th>10000</th>\n",
       "      <td>0.162635</td>\n",
       "      <td>policy</td>\n",
       "    </tr>\n",
       "  </tbody>\n",
       "</table>\n",
       "</div>"
      ],
      "text/plain": [
       "       Put_Price_Bermudan_GBM Algorithm\n",
       "M                                      \n",
       "1000                 0.170263    policy\n",
       "2000                 0.163954    policy\n",
       "3000                 0.162466    policy\n",
       "4000                 0.161024    policy\n",
       "5000                 0.161184    policy\n",
       "6000                 0.161250    policy\n",
       "7000                 0.160968    policy\n",
       "8000                 0.161947    policy\n",
       "9000                 0.162104    policy\n",
       "10000                0.162635    policy"
      ]
     },
     "execution_count": 10,
     "metadata": {},
     "output_type": "execute_result"
    }
   ],
   "source": [
    "%%time\n",
    "####================================================\n",
    "### Format dataframe and show results\n",
    "df_BermGBM_policy.index = df_BermGBM_policy.index.format(formatter=lambda x: '{}'.format(x))\n",
    "df_BermGBM_policy.set_index('M', inplace=True)\n",
    "df_BermGBM_policy.index.name = 'M'\n",
    "df_BermGBM_policy\n"
   ]
  },
  {
   "cell_type": "code",
   "execution_count": null,
   "metadata": {},
   "outputs": [],
   "source": []
  },
  {
   "cell_type": "code",
   "execution_count": null,
   "metadata": {},
   "outputs": [],
   "source": []
  },
  {
   "cell_type": "markdown",
   "metadata": {},
   "source": [
    "## Problem 2"
   ]
  },
  {
   "cell_type": "markdown",
   "metadata": {},
   "source": [
    "\n",
    "> Let $S$ be a non-dividend-paying stock that follows Geometric Brownian motion with $70\\%$ volatility and time-$0$ price $S_{0} = 10$. The interest rate is $2\\%$.\n",
    "> &emsp; Find the time-$0$ price of an \"$\\text{EY}$\" contract which pays at time $1$\n",
    "$$\\begin{cases} \n",
    "\\left(S_{1} - 11\\right)^{+} & S_{1} > 14 \\text{ or } S_{0.5} > 12 \\\\\n",
    "\\left(S_{1} - 10\\right)^{+} & \\text{otherwise}\n",
    "\\end{cases}$$\n",
    "> Use conditional Monte Carlo, conditioning on $S_{0.5}$. The formula for conditional expected discounted payoff will depend on whether $S_{0.5} > 12$ or $S_{0.5} \\leq 12$.\n",
    "> &emsp; See the $\\text{ipynb}$ file.\n",
    "\n",
    "\n",
    ">- We will need to apply Conditional monte Carlo to solve this\n",
    ">- Let:\n",
    ">>- $T_{0} = 0.5$\n",
    ">>- $T_{1} = 1$\n",
    ">>- $S_{0} = 10$\n",
    ">>- $K_{\\text{Thresh}} = 12$\n",
    ">>- $K_{1} = 11$\n",
    ">>- $K_{2} = 10$\n",
    ">>- $K_{3} = 14$\n",
    ">>- $r = 0.02$\n",
    ">>- $R_{grow} = r$\n",
    ">>- $\\sigma = 0.70$\n",
    "\n",
    ">- The conditional expected discounted payoff at time 0, given $(S_{T_{0}})$, can be expressed as:\n",
    "$$\\text{EY}\\left(S_{T_{0}}\\right) = e^{-rT_{0}} \\cdot \\mathbb{E}\\left[ \\text{Payoff}\\left(S_{T_{1}}, S_{T_{0}}\\right) | S_{T_{0}}\\right]$$\n",
    ">- Now, we have two cases based on $(S_{T_{0}})$:\n",
    ">>- 1. If $\\left(S_{T_{0}} > K_{\\text{Thresh}}\\right)$:\n",
    "$$\\text{EY}\\left(S_{T_{0}} > K_{\\text{Thresh}}\\right) = e^{-rT_{0}} \\cdot \\mathbb{E}\\left[\\left(S_{T_{1}} - K_{1}\\right)^{+} | S_{T_{0}} >K_{\\text{Thresh}}\\right]$$\n",
    ">>- 2. If $\\left(S_{T_{0}} \\leq K_{\\text{Thresh}}\\right)$:<br>\n",
    "$$\\text{EY}\\left(S_{T_{0}} \\leq K_{\\text{Thresh}}\\right) = e^{-rT_{0}} \\cdot \\mathbb{E}\\left[\\left(S_{T_{1}} - K_{2}\\right)^{+} | S_{T_{0}} \\leq K_{\\text{Thresh}}\\right]$$\n",
    ">- Note: We need to consider the additional condition when $\\left(S_{T_{1}} > K_{3}\\right)$ for case $2$\n",
    "\n",
    ">- Our final form for the time-$0$ price is the following:\n",
    "$$\\begin{align*}\n",
    "C^{BS}_{1} &= C^{BS}\\left(S_{t}=S_{T_{0}}, t=T_{0}, K=K_{1}, T=T_{1}, R_{grow}, r, \\sigma\\right) \\\\\n",
    "C^{BS}_{2} &= C^{BS}\\left(S_{t}=S_{T_{0}}, t=T_{0}, K=K_{2}, T=T_{1}, R_{grow}, r, \\sigma\\right) \\\\\n",
    "CB^{BS}_{2} &= \\exp\\left(-r\\left(T_{1} - T_{0}\\right)\\right)\\mathcal{N}\\left(d_{2}\\left(K=K_{3}\\right)\\right) \\\\\n",
    "d_{2} &= \\frac{\\ln\\left(\\frac{S_{T_{0}}}{K_{3}}\\right) + \\left(R_{grow} - \\frac{1}{2}\\sigma^{2}\\right)\\left(T_{1}-T_{0}\\right)}{{\\sigma\\sqrt{T_{1}-T_{0}}}} \\\\\n",
    "V_{0} &= \\exp\\left(-rT_{0}\\right)\\left[\\mathbb{1}\\{S_{T_{0}} > K_{\\text{Thresh}}\\}C^{BS}_{1} + \\mathbb{1}\\{S_{T_{0}} \\leq K_{\\text{Thresh}}\\}\\left(C^{BS}_{2} - CB^{BS}_{2}\\right)\\right] \\\\\n",
    "\\end{align*}$$\n"
   ]
  },
  {
   "cell_type": "code",
   "execution_count": null,
   "metadata": {},
   "outputs": [],
   "source": []
  },
  {
   "cell_type": "code",
   "execution_count": 11,
   "metadata": {},
   "outputs": [
    {
     "name": "stdout",
     "output_type": "stream",
     "text": [
      "CPU times: total: 0 ns\n",
      "Wall time: 0 ns\n"
     ]
    }
   ],
   "source": [
    "%%time\n",
    "####================================================\n",
    "### Model Dynamics (GBM)\n",
    "class GBM:\n",
    "\n",
    "    def __init__(self, sigma: float, r: float, drift: float, S_t: float, t: float) -> None:\n",
    "        self.sigma = sigma\n",
    "        self.r = r\n",
    "        self.drift = drift   #sometimes we denoted this as \"rGrow\"\n",
    "        self.S_t = S_t\n",
    "        self.t = t\n",
    "    \n",
    "    \n",
    "####================================================\n",
    "### Contract\n",
    "class CallOption:\n",
    "\n",
    "    def __init__(self, K: float, T: float) -> None:\n",
    "        self.K = K\n",
    "        self.T = T\n",
    "    \n",
    "    \n",
    "class CallBinary:\n",
    "\n",
    "    def __init__(self, K: float, T: float) -> None:\n",
    "        self.K = K\n",
    "        self.T = T\n",
    "    \n",
    "    \n",
    "class EYcontract:\n",
    "\n",
    "    def __init__(self, threshold0: float, K_case1: float, K_case2lower: float, K_case2upper: float, \n",
    "                 T0: float, T1: float) -> None:\n",
    "        self.threshold0 = threshold0\n",
    "        self.K_case1 = K_case1\n",
    "        self.K_case2lower = K_case2lower\n",
    "        self.K_case2upper = K_case2upper\n",
    "        self.T0 = T0\n",
    "        self.T1 = T1 \n",
    "    \n",
    "    "
   ]
  },
  {
   "cell_type": "code",
   "execution_count": null,
   "metadata": {},
   "outputs": [],
   "source": []
  },
  {
   "cell_type": "code",
   "execution_count": 12,
   "metadata": {},
   "outputs": [
    {
     "name": "stdout",
     "output_type": "stream",
     "text": [
      "CPU times: total: 0 ns\n",
      "Wall time: 0 ns\n"
     ]
    }
   ],
   "source": [
    "%%time\n",
    "####================================================\n",
    "### Pricing Engine\n",
    "class AnalyticEngine:\n",
    "\n",
    "    def __init__(self):\n",
    "        pass\n",
    "    \n",
    "    \n",
    "    def BSpriceCall(self, dynamics: GBM, contract: CallOption) -> float:\n",
    "        ### Separate dynamics and contract class attributes to variables\n",
    "        K, T = contract.__dict__.values()\n",
    "        sigma, r, drift, S_t, t = dynamics.__dict__.values()\n",
    "        \n",
    "        ### Make BS variables and call price\n",
    "        timeRemaining = T - t\n",
    "        F = S_t * np.exp(drift * timeRemaining)\n",
    "        std = sigma * np.sqrt(timeRemaining)\n",
    "        d1 = np.log(F / K) / std + std / 2\n",
    "        d2 = d1 - std\n",
    "        call_price = np.exp(-r * timeRemaining) * (F * norm.cdf(d1) - K * norm.cdf(d2))\n",
    "        \n",
    "        return call_price\n",
    "    \n",
    "    \n",
    "    def BSpriceCallBinary(self, dynamics: GBM, contract: CallBinary) -> float:\n",
    "        ### Separate dynamics and contract class attributes to variables\n",
    "        K, T = contract.__dict__.values()\n",
    "        sigma, r, drift, S_t, t = dynamics.__dict__.values()\n",
    "        \n",
    "        ### Make BS variables and binary call price\n",
    "        timeRemaining = T - t\n",
    "        F = S_t * np.exp(drift * timeRemaining)\n",
    "        std = sigma * np.sqrt(timeRemaining)\n",
    "        d1 = np.log(F / K) / std + std / 2\n",
    "        d2 = d1 - std\n",
    "        binary_call_price = np.exp(-r * timeRemaining) * norm.cdf(d2)\n",
    "        \n",
    "        return binary_call_price\n",
    "    \n",
    "    \n",
    "####================================================\n",
    "class MCengine:\n",
    "\n",
    "    def __init__(self, M: float, seed: float = 0) -> None:\n",
    "        self.M = M                                  ### How many simulations\n",
    "        self.rng = np.random.default_rng(seed=seed) \n",
    "        ### Seeding the random number generator with a specified number helps make the calculations reproducible\n",
    "    \n",
    "    \n",
    "    def price_EYcontract(self, contract: EYcontract, dynamics: GBM) -> Tuple[float]:\n",
    "        ### Separate dynamics and contract class attributes to variables\n",
    "        threshold0, K_case1, K_case2lower, K_case2upper, T0, T1 = contract.__dict__.values()\n",
    "        sigma, r, drift, S_t, t = dynamics.__dict__.values()\n",
    "\n",
    "        ### Make Call and Binary Call contract object\n",
    "        embeddedCallcase1 = CallOption(K=K_case1, T=T1)         ### K = 11\n",
    "        embeddedCallcase2 = CallOption(K=K_case2lower, T=T1)    ### K = 10\n",
    "        embeddedBinarycase2 = CallBinary(K=K_case2upper, T=T1)  ### K = 14\n",
    "        dynamicsConditional = copy.copy(dynamics)\n",
    "        dynamicsConditional.t = T0\n",
    "        \n",
    "        ### For time-T0 from time-0 ###\n",
    "        ### Generates pseudo-random normals (Zt) and Brownian motion\n",
    "        ZT0 = self.rng.normal(loc=0.0, scale=1.0, size=self.M)   ### IID random normals\n",
    "        WT0 = np.sqrt(T0) * ZT0\n",
    "        \n",
    "        ### Generate GBM paths\n",
    "        ST0 = S_t * np.exp((drift - 0.5 * (sigma**2)) * T0 + sigma * WT0) \n",
    "        \n",
    "        ## For time-T1 from time-T0 ###\n",
    "        ### Generates pseudo-random normals (Zt) and Brownian motion\n",
    "        ZT1 = self.rng.normal(loc=0.0, scale=1.0, size=self.M)   ### IID random normals\n",
    "        WT1 = np.sqrt(T1-T0) * ZT1\n",
    "        \n",
    "        ### Generate GBM paths\n",
    "        ST1 = ST0 * np.exp((drift - 0.5 * (sigma**2)) * (T1-T0) + sigma * WT1) \n",
    "        \n",
    "        ### Calculate call prices (method 1, vectorized)\n",
    "        def handle_cases_method1(St0: np.ndarray, Kt0: float) -> np.ndarray:\n",
    "            ### Make time-T0 discounted call and binary call prices with correct strikes \n",
    "            dynamicsConditional.S_t = St0\n",
    "            call_price_case1 = AnalyticEngine().BSpriceCall(dynamicsConditional, embeddedCallcase1)\n",
    "            call_price_case2A = AnalyticEngine().BSpriceCall(dynamicsConditional, embeddedCallcase2)\n",
    "            call_price_case2B = AnalyticEngine().BSpriceCallBinary(dynamicsConditional, embeddedBinarycase2)\n",
    "            \n",
    "            ### Apply conditions (S_T0 > 12)\n",
    "            mask_case1 = (St0 > Kt0)\n",
    "            price_case1 = call_price_case1 \n",
    "            price_case2 = call_price_case2A - call_price_case2B\n",
    "            cp_conditional = np.exp(-r * T0) * np.where(mask_case1, price_case1, price_case2)\n",
    "            \n",
    "            return cp_conditional\n",
    "        \n",
    "        ### Calculate call prices (method 2, vectorized, need 100 Million samples to get close to method 1)\n",
    "        def handle_cases_method2(St0: np.ndarray, St1: np.ndarray, Kt0: float, Kt1: float, \n",
    "                                 Kt1_case1: float, Kt1_case2: float) -> np.ndarray:\n",
    "            ### Apply conditions (S_T1 > 14 or S_T0 > 12)\n",
    "            mask_case1 = ((St1 > Kt1) | (St0 > Kt0))\n",
    "            cp_conditional = np.exp(-r * T1) * np.where(mask_case1, np.maximum(St1 - Kt1_case1, 0), \n",
    "                                                        np.maximum(St1 - Kt1_case2, 0))\n",
    "            \n",
    "            return cp_conditional\n",
    "        \n",
    "        ### Get discounted call prices\n",
    "        # call_price = handle_cases_method2(ST0, ST1, threshold0, K_case2upper, K_case1, K_case2lower)\n",
    "        call_price = handle_cases_method1(ST0, threshold0)\n",
    "        \n",
    "        ### Calculate final expected call price and standard error\n",
    "        price = np.mean(call_price)\n",
    "        standard_error = np.std(call_price, ddof=1) / np.sqrt(self.M)\n",
    "\n",
    "        return (price, standard_error)\n",
    "    "
   ]
  },
  {
   "cell_type": "code",
   "execution_count": null,
   "metadata": {},
   "outputs": [],
   "source": []
  },
  {
   "cell_type": "code",
   "execution_count": 13,
   "metadata": {},
   "outputs": [
    {
     "name": "stdout",
     "output_type": "stream",
     "text": [
      "CPU times: total: 0 ns\n",
      "Wall time: 0 ns\n"
     ]
    }
   ],
   "source": [
    "%%time\n",
    "####================================================\n",
    "### Set Model Dynamics and Contract\n",
    "hw7p2dynamics = GBM(sigma=0.7, r=0.02, drift=0.02, S_t=10, t=0)\n",
    "hw7p2contract = EYcontract(threshold0=12, K_case1=11, K_case2lower=10, K_case2upper=14, T0=0.5, T1=1.0)\n"
   ]
  },
  {
   "cell_type": "code",
   "execution_count": 14,
   "metadata": {},
   "outputs": [
    {
     "name": "stdout",
     "output_type": "stream",
     "text": [
      "CPU times: total: 203 ms\n",
      "Wall time: 204 ms\n"
     ]
    }
   ],
   "source": [
    "%%time\n",
    "####================================================\n",
    "### \n",
    "column_name = ['M', 'Call_Price', 'Standard_Error']\n",
    "df_call_price = pd.DataFrame(columns=column_name)\n",
    "for i in range(0, 10):\n",
    "    M_std_err = 10000*(1+i)\n",
    "    hw7p2MC = MCengine(M=M_std_err, seed=0)\n",
    "    (price, std_err) = hw7p2MC.price_EYcontract(hw7p2contract, hw7p2dynamics)\n",
    "    np.set_printoptions(precision=4, suppress=True, formatter={'float_kind':'{:f}'.format})\n",
    "    \n",
    "    ### Store into dataframe\n",
    "    df_call_price.loc[len(df_call_price)-1] = [M_std_err, price, std_err]\n",
    "    "
   ]
  },
  {
   "cell_type": "code",
   "execution_count": 15,
   "metadata": {},
   "outputs": [
    {
     "name": "stdout",
     "output_type": "stream",
     "text": [
      "CPU times: total: 0 ns\n",
      "Wall time: 1.03 ms\n"
     ]
    },
    {
     "data": {
      "text/html": [
       "<div>\n",
       "<style scoped>\n",
       "    .dataframe tbody tr th:only-of-type {\n",
       "        vertical-align: middle;\n",
       "    }\n",
       "\n",
       "    .dataframe tbody tr th {\n",
       "        vertical-align: top;\n",
       "    }\n",
       "\n",
       "    .dataframe thead th {\n",
       "        text-align: right;\n",
       "    }\n",
       "</style>\n",
       "<table border=\"1\" class=\"dataframe\">\n",
       "  <thead>\n",
       "    <tr style=\"text-align: right;\">\n",
       "      <th></th>\n",
       "      <th>Call_Price</th>\n",
       "      <th>Standard_Error</th>\n",
       "    </tr>\n",
       "    <tr>\n",
       "      <th>M</th>\n",
       "      <th></th>\n",
       "      <th></th>\n",
       "    </tr>\n",
       "  </thead>\n",
       "  <tbody>\n",
       "    <tr>\n",
       "      <th>10000.0</th>\n",
       "      <td>2.551356</td>\n",
       "      <td>0.035096</td>\n",
       "    </tr>\n",
       "    <tr>\n",
       "      <th>20000.0</th>\n",
       "      <td>2.545311</td>\n",
       "      <td>0.025070</td>\n",
       "    </tr>\n",
       "    <tr>\n",
       "      <th>30000.0</th>\n",
       "      <td>2.549096</td>\n",
       "      <td>0.020698</td>\n",
       "    </tr>\n",
       "    <tr>\n",
       "      <th>40000.0</th>\n",
       "      <td>2.559512</td>\n",
       "      <td>0.018231</td>\n",
       "    </tr>\n",
       "    <tr>\n",
       "      <th>50000.0</th>\n",
       "      <td>2.553671</td>\n",
       "      <td>0.016248</td>\n",
       "    </tr>\n",
       "    <tr>\n",
       "      <th>60000.0</th>\n",
       "      <td>2.549000</td>\n",
       "      <td>0.014794</td>\n",
       "    </tr>\n",
       "    <tr>\n",
       "      <th>70000.0</th>\n",
       "      <td>2.545784</td>\n",
       "      <td>0.013650</td>\n",
       "    </tr>\n",
       "    <tr>\n",
       "      <th>80000.0</th>\n",
       "      <td>2.545846</td>\n",
       "      <td>0.012807</td>\n",
       "    </tr>\n",
       "    <tr>\n",
       "      <th>90000.0</th>\n",
       "      <td>2.547804</td>\n",
       "      <td>0.012097</td>\n",
       "    </tr>\n",
       "    <tr>\n",
       "      <th>100000.0</th>\n",
       "      <td>2.545235</td>\n",
       "      <td>0.011448</td>\n",
       "    </tr>\n",
       "  </tbody>\n",
       "</table>\n",
       "</div>"
      ],
      "text/plain": [
       "          Call_Price  Standard_Error\n",
       "M                                   \n",
       "10000.0     2.551356        0.035096\n",
       "20000.0     2.545311        0.025070\n",
       "30000.0     2.549096        0.020698\n",
       "40000.0     2.559512        0.018231\n",
       "50000.0     2.553671        0.016248\n",
       "60000.0     2.549000        0.014794\n",
       "70000.0     2.545784        0.013650\n",
       "80000.0     2.545846        0.012807\n",
       "90000.0     2.547804        0.012097\n",
       "100000.0    2.545235        0.011448"
      ]
     },
     "execution_count": 15,
     "metadata": {},
     "output_type": "execute_result"
    }
   ],
   "source": [
    "%%time\n",
    "####================================================\n",
    "### Format dataframe and show results\n",
    "df_call_price.index = df_call_price.index.format(formatter=lambda x: '{}'.format(x))\n",
    "df_call_price.set_index('M', inplace=True)\n",
    "df_call_price.index.name = 'M'\n",
    "df_call_price\n"
   ]
  },
  {
   "cell_type": "code",
   "execution_count": null,
   "metadata": {},
   "outputs": [],
   "source": []
  },
  {
   "cell_type": "code",
   "execution_count": null,
   "metadata": {},
   "outputs": [],
   "source": []
  },
  {
   "cell_type": "code",
   "execution_count": null,
   "metadata": {},
   "outputs": [],
   "source": []
  }
 ],
 "metadata": {
  "anaconda-cloud": {},
  "colab": {
   "provenance": []
  },
  "kernelspec": {
   "display_name": "Python 3 (ipykernel)",
   "language": "python",
   "name": "python3"
  },
  "language_info": {
   "codemirror_mode": {
    "name": "ipython",
    "version": 3
   },
   "file_extension": ".py",
   "mimetype": "text/x-python",
   "name": "python",
   "nbconvert_exporter": "python",
   "pygments_lexer": "ipython3",
   "version": "3.8.12"
  },
  "toc": {
   "base_numbering": 1,
   "nav_menu": {},
   "number_sections": true,
   "sideBar": true,
   "skip_h1_title": false,
   "title_cell": "Table of Contents",
   "title_sidebar": "Contents",
   "toc_cell": false,
   "toc_position": {},
   "toc_section_display": true,
   "toc_window_display": false
  }
 },
 "nbformat": 4,
 "nbformat_minor": 1
}
