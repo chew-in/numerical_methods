{
 "cells": [
  {
   "cell_type": "markdown",
   "metadata": {},
   "source": [
    "<div style = \"text-align: right\"> Roger Lee </div>\n",
    "\n",
    "<left>FINM 32000</left> \n",
    "<br>\n",
    "<left>Spring 2024</left>\n",
    "\n",
    "<h2><center>Homework # 5</center></h2>\n",
    "<h3><center><font color = \"blue\">Solution By: Imtiaz Ali</font></center></h3>"
   ]
  },
  {
   "cell_type": "code",
   "execution_count": 1,
   "metadata": {
    "id": "E0WlTWDdBvnG"
   },
   "outputs": [],
   "source": [
    "from copy import copy\n",
    "import numpy as np\n",
    "import pandas as pd\n",
    "from scipy.optimize import bisect, brentq\n",
    "from scipy.stats import norm\n",
    "import statsmodels.api as sm\n",
    "from typing import Tuple, List\n"
   ]
  },
  {
   "cell_type": "code",
   "execution_count": 2,
   "metadata": {},
   "outputs": [
    {
     "name": "stdout",
     "output_type": "stream",
     "text": [
      "==================================================\n",
      "3.8.12 (default, Oct 12 2021, 03:01:40) [MSC v.1916 64 bit (AMD64)]\n",
      "==================================================\n",
      "sys.version_info(major=3, minor=8, micro=12, releaselevel='final', serial=0)\n",
      "==================================================\n",
      "Python 3.8.12\n",
      "==================================================\n",
      "Selected Jupyter core packages...\n",
      "IPython          : 8.12.0\n",
      "ipykernel        : 6.19.2\n",
      "ipywidgets       : 8.0.4\n",
      "jupyter_client   : 8.1.0\n",
      "jupyter_core     : 5.3.0\n",
      "jupyter_server   : 1.13.5\n",
      "jupyterlab       : 3.3.2\n",
      "nbclient         : 0.5.13\n",
      "nbconvert        : 6.1.0\n",
      "nbformat         : 5.7.0\n",
      "notebook         : 6.5.4\n",
      "qtconsole        : 5.4.2\n",
      "traitlets        : 5.7.1\n",
      "==================================================\n",
      "CPU times: total: 15.6 ms\n",
      "Wall time: 1.86 s\n"
     ]
    }
   ],
   "source": [
    "%%time\n",
    "####================================================\n",
    "import sys\n",
    "\n",
    "### Get Python and Jupyter Notebook version and information\n",
    "# print('=' * 50)\n",
    "# print(sys.executable)\n",
    "print('=' * 50)\n",
    "print(sys.version)\n",
    "print('=' * 50)\n",
    "print(sys.version_info)\n",
    "print('=' * 50)\n",
    "!python --version\n",
    "print('=' * 50)\n",
    "!jupyter --version\n",
    "print('=' * 50)\n"
   ]
  },
  {
   "cell_type": "code",
   "execution_count": null,
   "metadata": {},
   "outputs": [],
   "source": []
  },
  {
   "cell_type": "markdown",
   "metadata": {},
   "source": [
    "# Problem 1"
   ]
  },
  {
   "cell_type": "markdown",
   "metadata": {},
   "source": [
    "\n",
    "> Let $r$ be the constant interest rate. Let $0 < T_{1} < T_{2}$\n"
   ]
  },
  {
   "cell_type": "code",
   "execution_count": null,
   "metadata": {},
   "outputs": [],
   "source": []
  },
  {
   "cell_type": "markdown",
   "metadata": {},
   "source": [
    "## Problem 1a"
   ]
  },
  {
   "cell_type": "markdown",
   "metadata": {},
   "source": [
    "\n",
    "> Let $F_{t}$ be the time-$t$ forward price for $T_{2}$-delivery of some arbitrary underlying $S$, not necessarily tradeable. Recall from $\\text{FINM} 33000$, that a $\\textit{forward price}$ is $\\textit{not the same thing}$ as the $\\textit{value of a forward contract}$. By definition of the time-$t$ $\\textit{forward price}$ $F_{t}$ for $T_{2}$-delivery:\n",
    "$$\\text{a forward contract paying } S_{T_{2}}-F_{t} \\text{ at time-}T_{2} \\text{ has time-}t \\text{ value } 0$$\n",
    "> Let $f_{t}$ be the time-$t$ value of a $T_{2}$-forward contract on the same underlying, but with some delivery price $K$ (not necessarily equal to $F_{t}$).\n",
    "> Express $f_{t}$ in terms of $K$ and $F_{t}$ and a discount factor.\n",
    "> Hint: consider a portfolio long one $(K, T_{2})$-forward contract and short one $(F_{t}, T_{2})$-forward contract. The portfolio has (in terms of $f_{t}$) what value at time $t$? The portfolio pays how much at expiration?\n",
    "\n",
    "\n",
    ">- $\\underline{\\textbf{Get Forward Price:}}$\n",
    ">- Let $F_{t}$ be the time-$t$ forward price for $T_{2}$-delivery of some arbitrary underlying $S$, and $r$ the constant interest rate.\n",
    ">- The forward price $F_{t}$, of a forward contract, paying $S_{T_{2}} - F_{t}$ at time $T_{2}$, has time-$t$ value $0$.\n",
    ">- Then we get the following for the Forward Price:\n",
    "$$S_{t} - F_{t}e^{-r(T_{2}-t)} = 0$$\n",
    "$$\\therefore \\boxed{F_{t} = S_{t}e^{r(T_{2}-t)}} \\quad \\text{Forward Price with } T_{2}\\text{-Delivery}$$\n",
    "\n",
    ">- $\\underline{\\textbf{Construct Portfolio:}}$\n",
    ">- Long $(K, T_{2})$-forward contract, this has a payout of:\n",
    "$$S_{t} - Ke^{-r(T_{2}-t)}$$\n",
    ">\n",
    ">- Short $(F_{t}, T_{2})$-forward contract, this has a payout of:\n",
    "$$S_{t} - F_{t}e^{-r(T_{2}-t)}$$\n",
    ">\n",
    ">- The value of the portfolio at time-$t$ ($V_{t} = f_{t} - f_{0} = f_{t}$) is then:\n",
    "$$\\begin{align*}\n",
    "V_{t} &= f_{t} - f_{0} \\\\\n",
    "&= f_{t} \\\\\n",
    "&= \\left(S_{t} - Ke^{-r(T_{2}-t)}\\right) - \\left(S_{t} - F_{t}e^{-r(T_{2}-t)}\\right) \\\\\n",
    "\\end{align*}$$\n",
    ">\n",
    ">- Let $f_{t}$ be the time-$t$ value of a $T_{2}$-forward contract with delivery price $K$ on the same underlying, then:\n",
    "$$\\therefore \\boxed{f_{t} = \\left(F_{t} - K\\right)e^{-r(T_{2}-t)}} \\quad \\text{Time-t Value of Forward Contract with strike K, Forward Price }F_{t} \\text{ and } T_{2}\\text{-Delivery}$$\n"
   ]
  },
  {
   "cell_type": "code",
   "execution_count": null,
   "metadata": {},
   "outputs": [],
   "source": []
  },
  {
   "cell_type": "markdown",
   "metadata": {},
   "source": [
    "## Problem 1b"
   ]
  },
  {
   "cell_type": "markdown",
   "metadata": {},
   "source": [
    "\n",
    "> If $S$ is a stock paying no dividends, the forward price is $F_{t} = S_{t}e^{r(T_{2}-t)}$; otherwise arbitrage would exist.\n",
    ">> If, say, $F_{t} > S_{t}e^{r(T_{2}-t)}$, then arbitrage would exist: at time-$t$, borrow $S_{t}$ dollars, buy the stock, and short the forward (with delivery price $F_{t}$ and time-$t$ value $0$). At time-$T_{2}$, deliver the stock, and receive $F_{t}$, which is more than enough to cover your accumulated debt of $S_{t}e^{r(T_{2}-t)}$ dollars.\n",
    ">\n",
    "> However, if $S$ is the spot price of a barrel of crude oil (so, for all $t$, the time-$t$ price for time-$t$ delivery is $S_{t}$ per barrel), then this argument fails. Explain briefly (one or two sentences, no math) why $\\textit{this specific arbitrage}$ does not apply to crude oil, by specifically pinpointing, in the quote above, why we cannot simply replace \"stock\" with \"crude oil\".<br><br>\n",
    "> Hint: Considerpractical complications.<br><br>\n",
    "\n",
    "\n",
    ">- If $S$ is a stock paying no dividends, the forward price is $F_{t} = S_{t}e^{r(T_{2}-t)}$; otherwise arbitrage would exist.\n",
    ">- Now, in the case of $S$ being the spot price of a barrel of crude oil, then we have additional cost to consider such as storage and transportation. \n",
    ">- Then the price to cover will be $\\left(S_{t}e^{r(T_{2}-t)} + \\text{Storage Cost}\\right)$, which the forward price $F_{t}$ may not be able to cover since for an arbitrage, in the example, $F_{t} > S_{t}e^{r(T_{2}-t)}$ and we have to now consider $F_{t} > \\left(S_{t}e^{r(T_{2}-t)} + \\text{Storage Cost}\\right)$.\n"
   ]
  },
  {
   "cell_type": "code",
   "execution_count": null,
   "metadata": {},
   "outputs": [],
   "source": []
  },
  {
   "cell_type": "markdown",
   "metadata": {},
   "source": [
    "## Problem 1c-d"
   ]
  },
  {
   "cell_type": "markdown",
   "metadata": {},
   "source": [
    "\n",
    "> So we need more assumptions to relate $F_{t}$ and $S_{t}$ (here and in (c,d,e,f,g), the $S$ denotes spot crude oil, and $F_{t}$ denotes the time-$t$ forward price for $T_{2}$-delivery crude oil). One approach is to model the risk-neutral dynamics of $S$. Assume that $S$ satisfies <br><br>\n",
    "$$\\begin{align*}\n",
    "S_{t} &= \\exp{\\left(X_{t}\\right)} \\\\\n",
    "dX_{t} &= \\kappa\\left(\\alpha - X_{t}\\right) dt + \\sigma dW_{t} \\\\\n",
    "\\end{align*}$$\n",
    "> where $W$ is Brownian motion, under risk-neutral measure.\n",
    ">> Then, since $r$ is constant and $\\mathbb{E}_{t}\\left(e^{-r(T_{2}-t)}\\left(S_{T_{2}} - F_{t}\\right)\\right)$ must be $0$, one can calculate <br><br>\n",
    "$$F_{t} = \\mathbb{E}_{t}\\left(S_{T_{2}}\\right) = \\exp\\left[\\log{\\left(S_{t}\\right)}e^{-\\kappa(T_{2}-t)} + \\alpha\\left(1 - e^{-\\kappa (T_{2}-t)}\\right) + \\frac{\\sigma^{2}}{4\\kappa}\\left(1 - e^{-2\\kappa (T_{2}-t)}\\right)\\right]$$\n",
    ">\n",
    "> where $\\mathbb{E}_{t}$ is time-$t$ conditional expectation. Suppose $\\kappa = 0.472$, $\\alpha = 4.4$, $\\sigma = 0.368$, $r = 0.05$, and the time-$0$ spot price is $S_{0} = 106.9$.\n",
    ">\n",
    "> Let $C$ be the time-$0$ price of a $K$-strike $T_{1}$-expiry European call on $F$. So this call pays $\\left(F_{T_{1}} - K\\right)^{+}$. Let the call option have strike $K = 103.2$ and expiration $T_{1} = 0.5$. Let the forward have delivery date $T_{2} = 0.75$. See the $\\text{ipynb}$ file.\n",
    ">\n",
    "> $\\underline{\\textbf{Problem 1c:}}$\n",
    "> Estimate $C(S_{0})$ using Monte Carlo simulation of $S$ with $100$ timesteps on $[0, T1]$. Choose the number of paths large enough that the standard error $[\\text{the sample standard deviation, divided by the square root of the number of paths}]$ is less than $0.05$. Report the standard error. Don't use any variance reduction technique.\n",
    ">\n",
    "> $\\underline{\\textbf{Problem 1d:}}$\n",
    "> Estimate $\\partial C/\\partial S_{t}$ by using $\\text{Monte Carlo}$ simulation to calculate $\\left(C(S_{0}+0.01)-C(S_{0})\\right)/0.01$.\n",
    "> For the $C(S_{0}+0.01)$ calculation, $\\textit{reuse}$ the same normal random variables which you generated for the $C(S_{0})$ calculation. (Do not re-$\\textit{generate}$ random variables to compute $C(S_{0}+0.01)$)\n",
    "\n",
    "\n",
    "\n",
    ">- $\\underline{\\textbf{Spot Crude Oil Dynamics:}}$\n",
    ">- Note: The general basis for the formulation below are from the **Vasicek** and **CIR** models.\n",
    ">- We will simulate the following SDE:\n",
    "$$\\begin{align*}\n",
    "S_{t} &= \\exp{\\left(X_{t}\\right)} \\\\\n",
    "dX_{t} &= \\kappa\\left(\\alpha - X_{t}\\right) dt + \\sigma dW_{t} \\\\\n",
    "\\end{align*}$$\n",
    ">\n",
    ">- If we apply Ito's rule to $e^{\\kappa t}X_{t}$, then we can get:\n",
    "$$X_{T} \\thicksim \\mathcal{N}\\left(X_{t}e^{-\\kappa(T-t)} + \\alpha\\left(1 - e^{-\\kappa (T-t)}\\right), \\frac{\\sigma^{2}}{4\\kappa}\\left(1 - e^{-2\\kappa (T-t)}\\right)\\right)$$\n",
    ">\n",
    ">- With the time-$t$ forward price for $T_{2}$-delivery crude oil as:<br><br>\n",
    "$$\\begin{align*}\n",
    "F_{t} &= \\mathbb{E}_{t}\\left(S_{T_{2}}\\right) = \\exp\\left[\\log{\\left(S_{t}\\right)}e^{-\\kappa(T_{2}-t)} + \\alpha\\left(1 - e^{-\\kappa (T_{2}-t)}\\right) + \\frac{\\sigma^{2}}{4\\kappa}\\left(1 - e^{-2\\kappa (T_{2}-t)}\\right)\\right] \\\\\n",
    "&= \\mathbb{E}_{t}\\left(e^{X_{T_{2}}}\\right) = \\exp\\left[X_{t}e^{-\\kappa(T_{2}-t)} + \\alpha\\left(1 - e^{-\\kappa (T_{2}-t)}\\right) + \\frac{\\sigma^{2}}{4\\kappa}\\left(1 - e^{-2\\kappa (T_{2}-t)}\\right)\\right] \\\\\n",
    "\\end{align*}$$\n",
    ">\n",
    ">- Here we let $C$ be the time-$0$ price of a $K$-strike $T_{1}$-expiry European call on $F_{t}$. \n",
    ">- So this call pays:\n",
    "$$C = \\left(F_{T_{1}} - K\\right)^{+}$$\n",
    "\n",
    "\n",
    ">- $\\underline{\\textbf{Monte Carlo Algorithm:}}$\n",
    ">- Make Brownian motion dynamics used to update path steps\n",
    "$$W_{t} = \\sqrt{\\Delta t} \\cdot \\mathcal{N}\\left(\\mu = 0, \\text{var} = 1, \\text{size} = (N, M)\\right)$$\n",
    ">- Path Update\n",
    ">- 1. Initialize $X_{0} = \\log(S_{0})$\n",
    ">- 2. Store the dynamics $X_{T} = \\left[X_{0}\\right]$\n",
    ">- 3. Iterate over all timestep $[0, T_{1}]$ to traverse the path, and update $X_{t}$ for each step wrt its dynamics:\n",
    "$$X_{i} = X_{i-1} + \\kappa\\left(\\alpha - X_{i-1}\\right) \\Delta t + \\sigma W_{i-1}$$\n",
    ">- 4. Calculate time-t forward price for $T_{2}$-delivery crude oil after the full path is traversed: \n",
    "$$F_{t} = \\exp\\left[X_{t}e^{-\\kappa(T_{2}-t)} + \\alpha\\left(1 - e^{-\\kappa (T_{2}-t)}\\right) + \\frac{\\sigma^{2}}{4\\kappa}\\left(1 - e^{-2\\kappa (T_{2}-t)}\\right)\\right]$$\n",
    ">- 5. Calculate call payoff:\n",
    "$$C = e^{-rT_{1}}\\left(F_{T_{1}} - K\\right)^{+}$$\n"
   ]
  },
  {
   "cell_type": "code",
   "execution_count": null,
   "metadata": {},
   "outputs": [],
   "source": []
  },
  {
   "cell_type": "code",
   "execution_count": 3,
   "metadata": {
    "id": "Ft75a8kKBvnI"
   },
   "outputs": [
    {
     "name": "stdout",
     "output_type": "stream",
     "text": [
      "CPU times: total: 0 ns\n",
      "Wall time: 0 ns\n"
     ]
    }
   ],
   "source": [
    "%%time\n",
    "####================================================\n",
    "### Model Dynamics (Exponential Ornstein-Uhlenbeck process)\n",
    "class XOU:\n",
    "\n",
    "    def __init__(self, kappa: float, alpha: float, sigma: float, S0: float, r: float) -> None:\n",
    "        self.kappa = kappa\n",
    "        self.alpha = alpha\n",
    "        self.sigma = sigma\n",
    "        self.S0 = S0\n",
    "        self.r = r\n",
    "\n",
    "        \n",
    "####================================================\n",
    "### Contract\n",
    "class CallOnForwardPrice:\n",
    "\n",
    "    def __init__(self, K1: float, T1: float, T2: float) -> None:\n",
    "        self.K1 = K1   ### Call option strike\n",
    "        self.T1 = T1   ### Call option expiration\n",
    "        self.T2 = T2   ### Forward contract delivery/expiration\n",
    "\n",
    "\n"
   ]
  },
  {
   "cell_type": "code",
   "execution_count": null,
   "metadata": {
    "id": "RsteLMcfBvnK"
   },
   "outputs": [],
   "source": []
  },
  {
   "cell_type": "code",
   "execution_count": 4,
   "metadata": {},
   "outputs": [
    {
     "name": "stdout",
     "output_type": "stream",
     "text": [
      "CPU times: total: 0 ns\n",
      "Wall time: 0 ns\n"
     ]
    }
   ],
   "source": [
    "%%time\n",
    "####================================================\n",
    "### Pricing Engine\n",
    "class MCengine:\n",
    "\n",
    "    def __init__(self, N: float, M: float, epsilon: float, seed: float = 0) -> None:\n",
    "        self.N = N              ### Number of timesteps on each path\n",
    "        self.M = M              ### Number of paths\n",
    "        self.epsilon = epsilon  ### For the dC/dS calculation\n",
    "        self.rng = np.random.default_rng(seed=seed) \n",
    "        ### Seeding the random number generator with a specified number helps make the calculations reproducible\n",
    "        \n",
    "        \n",
    "    def price_call_XOU(self, contract: CallOnForwardPrice, dynamics: XOU) -> Tuple[float]:\n",
    "        ### Seed the random number generator\n",
    "        self.rng.normal() \n",
    "        \n",
    "        ### Separate dynamics and contract class attributes to variables\n",
    "        K1, T1, T2 = contract.__dict__.values()\n",
    "        kappa, alpha, sigma, S0, r = dynamics.__dict__.values()\n",
    "        \n",
    "        ### Make timestep \n",
    "        ### NOTE: The contract expires at T1, so we only need to simulate up to T1\n",
    "        deltat = T1 / self.N\n",
    "        \n",
    "        ### Function to simulate the path\n",
    "        def path(S: float, Zt: np.ndarray) -> List[float]:\n",
    "            ### Make Brownian motion (Wt), and initialize log process\n",
    "            Wt = np.sqrt(deltat) * Zt             ### Make Brownian Motion\n",
    "            Xt = np.zeros((self.N + 1, self.M))\n",
    "            Xt[0] = np.log(S)                     ### Initialize price to log-space \n",
    "            \n",
    "            ### Iterate through all timesteps \n",
    "            for n in range(1, self.N + 1):\n",
    "                ### Update next Xt position based on dynamics\n",
    "                Xt[n] = Xt[n-1] + kappa*(alpha - Xt[n-1])*deltat + sigma*Wt[n-1]\n",
    "            \n",
    "            ### Get the time-t forward price for T2-delivery crude oil and call payoff\n",
    "            tau = T2 - T1  ### This is T2 - t, but since we iterate all the way to N where t = T1\n",
    "            Ft = np.exp((np.exp(-kappa*tau) * Xt[-1]) + \n",
    "                        (alpha * (1 - np.exp(-kappa*tau))) +\n",
    "                        (((sigma**2) / (4*kappa)) * (1 - np.exp(-2*kappa*tau)))\n",
    "                       )\n",
    "            call_payoff = np.maximum(Ft - K1, 0)\n",
    "            \n",
    "            ### Get time-0 option price and standard error\n",
    "            Y0_paths = np.exp(-r*T1) * call_payoff\n",
    "            Y0 = np.mean(Y0_paths)\n",
    "            Y0_std_error = np.std(Y0_paths, ddof=1) / np.sqrt(self.M)\n",
    "            \n",
    "            return [Y0, Y0_std_error]\n",
    "        \n",
    "        ### Generates pseudo-random normals (Zt) and S0_bump\n",
    "        Zt = self.rng.normal(loc=0.0, scale=1.0, size=(self.N, self.M))   ### IID random normals\n",
    "        S0_bump = S0 + self.epsilon\n",
    "        \n",
    "        ### Calculate call price, standard error, and call delta\n",
    "        call_price, standard_error = path(S0, Zt)\n",
    "        call_price_bump, standard_error_bump = path(S0_bump, Zt)\n",
    "        call_delta = (call_price_bump - call_price) / self.epsilon\n",
    "\n",
    "        return (call_price, standard_error, call_delta)\n",
    "\n",
    "    "
   ]
  },
  {
   "cell_type": "code",
   "execution_count": null,
   "metadata": {},
   "outputs": [],
   "source": []
  },
  {
   "cell_type": "code",
   "execution_count": 5,
   "metadata": {},
   "outputs": [
    {
     "name": "stdout",
     "output_type": "stream",
     "text": [
      "CPU times: total: 0 ns\n",
      "Wall time: 999 µs\n"
     ]
    }
   ],
   "source": [
    "%%time\n",
    "####================================================\n",
    "### Set Model Dynamics and Contract\n",
    "hw5dynamics = XOU(kappa=0.472, alpha=4.4, sigma=0.368, S0=106.9, r=0.05)\n",
    "hw5contract = CallOnForwardPrice(K1=103.2, T1=0.5, T2=0.75)\n"
   ]
  },
  {
   "cell_type": "code",
   "execution_count": 6,
   "metadata": {},
   "outputs": [
    {
     "name": "stdout",
     "output_type": "stream",
     "text": [
      "CPU times: total: 1.59 s\n",
      "Wall time: 1.59 s\n"
     ]
    }
   ],
   "source": [
    "%%time\n",
    "####================================================\n",
    "### Calculating time-0 call prices on a crude oil forward with T2-delivery, using Vasicek/CIR/OU Dynamics:\n",
    "### Note: STD_ERR < 0.05, we need M >= 75,000\n",
    "column_name = ['M', 'Call_Price', 'Standard_Error', 'Call_Delta']\n",
    "df_forward_XOU = pd.DataFrame(columns=column_name)\n",
    "for i in range(0, 10):\n",
    "    M_std_err = 10000*(1+i)\n",
    "    hw5MC = MCengine(N=100, M=M_std_err, epsilon=0.01, seed=0)\n",
    "    (call_price, standard_error, call_delta) = hw5MC.price_call_XOU(hw5contract, hw5dynamics)\n",
    "    np.set_printoptions(precision=4, suppress=True, formatter={'float_kind':'{:f}'.format})\n",
    "    \n",
    "    ### Store into dataframe\n",
    "    df_forward_XOU.loc[len(df_forward_XOU)-1] = [M_std_err, call_price, standard_error, call_delta]\n"
   ]
  },
  {
   "cell_type": "code",
   "execution_count": 7,
   "metadata": {},
   "outputs": [
    {
     "name": "stdout",
     "output_type": "stream",
     "text": [
      "CPU times: total: 734 ms\n",
      "Wall time: 722 ms\n"
     ]
    },
    {
     "data": {
      "text/html": [
       "<style type=\"text/css\">\n",
       "</style>\n",
       "<table id=\"T_c8fe4_\">\n",
       "  <thead>\n",
       "    <tr>\n",
       "      <th class=\"blank level0\" >&nbsp;</th>\n",
       "      <th class=\"col_heading level0 col0\" >Call_Price</th>\n",
       "      <th class=\"col_heading level0 col1\" >Standard_Error</th>\n",
       "      <th class=\"col_heading level0 col2\" >Call_Delta</th>\n",
       "    </tr>\n",
       "    <tr>\n",
       "      <th class=\"index_name level0\" >M</th>\n",
       "      <th class=\"blank col0\" >&nbsp;</th>\n",
       "      <th class=\"blank col1\" >&nbsp;</th>\n",
       "      <th class=\"blank col2\" >&nbsp;</th>\n",
       "    </tr>\n",
       "  </thead>\n",
       "  <tbody>\n",
       "    <tr>\n",
       "      <th id=\"T_c8fe4_level0_row0\" class=\"row_heading level0 row0\" >10000.0</th>\n",
       "      <td id=\"T_c8fe4_row0_col0\" class=\"data row0 col0\" >7.8251</td>\n",
       "      <td id=\"T_c8fe4_row0_col1\" class=\"data row0 col1\" >0.1311</td>\n",
       "      <td id=\"T_c8fe4_row0_col2\" class=\"data row0 col2\" >0.3466</td>\n",
       "    </tr>\n",
       "    <tr>\n",
       "      <th id=\"T_c8fe4_level0_row1\" class=\"row_heading level0 row1\" >20000.0</th>\n",
       "      <td id=\"T_c8fe4_row1_col0\" class=\"data row1 col0\" >7.8448</td>\n",
       "      <td id=\"T_c8fe4_row1_col1\" class=\"data row1 col1\" >0.0948</td>\n",
       "      <td id=\"T_c8fe4_row1_col2\" class=\"data row1 col2\" >0.3441</td>\n",
       "    </tr>\n",
       "    <tr>\n",
       "      <th id=\"T_c8fe4_level0_row2\" class=\"row_heading level0 row2\" >30000.0</th>\n",
       "      <td id=\"T_c8fe4_row2_col0\" class=\"data row2 col0\" >7.7064</td>\n",
       "      <td id=\"T_c8fe4_row2_col1\" class=\"data row2 col1\" >0.0764</td>\n",
       "      <td id=\"T_c8fe4_row2_col2\" class=\"data row2 col2\" >0.3418</td>\n",
       "    </tr>\n",
       "    <tr>\n",
       "      <th id=\"T_c8fe4_level0_row3\" class=\"row_heading level0 row3\" >40000.0</th>\n",
       "      <td id=\"T_c8fe4_row3_col0\" class=\"data row3 col0\" >7.7329</td>\n",
       "      <td id=\"T_c8fe4_row3_col1\" class=\"data row3 col1\" >0.0663</td>\n",
       "      <td id=\"T_c8fe4_row3_col2\" class=\"data row3 col2\" >0.3412</td>\n",
       "    </tr>\n",
       "    <tr>\n",
       "      <th id=\"T_c8fe4_level0_row4\" class=\"row_heading level0 row4\" >50000.0</th>\n",
       "      <td id=\"T_c8fe4_row4_col0\" class=\"data row4 col0\" >7.7632</td>\n",
       "      <td id=\"T_c8fe4_row4_col1\" class=\"data row4 col1\" >0.0593</td>\n",
       "      <td id=\"T_c8fe4_row4_col2\" class=\"data row4 col2\" >0.3422</td>\n",
       "    </tr>\n",
       "    <tr>\n",
       "      <th id=\"T_c8fe4_level0_row5\" class=\"row_heading level0 row5\" >60000.0</th>\n",
       "      <td id=\"T_c8fe4_row5_col0\" class=\"data row5 col0\" >7.7741</td>\n",
       "      <td id=\"T_c8fe4_row5_col1\" class=\"data row5 col1\" >0.0547</td>\n",
       "      <td id=\"T_c8fe4_row5_col2\" class=\"data row5 col2\" >0.3398</td>\n",
       "    </tr>\n",
       "    <tr>\n",
       "      <th id=\"T_c8fe4_level0_row6\" class=\"row_heading level0 row6\" >70000.0</th>\n",
       "      <td id=\"T_c8fe4_row6_col0\" class=\"data row6 col0\" >7.7628</td>\n",
       "      <td id=\"T_c8fe4_row6_col1\" class=\"data row6 col1\" >0.0502</td>\n",
       "      <td id=\"T_c8fe4_row6_col2\" class=\"data row6 col2\" >0.3407</td>\n",
       "    </tr>\n",
       "    <tr>\n",
       "      <th id=\"T_c8fe4_level0_row7\" class=\"row_heading level0 row7\" >80000.0</th>\n",
       "      <td id=\"T_c8fe4_row7_col0\" class=\"data row7 col0\" >7.7576</td>\n",
       "      <td id=\"T_c8fe4_row7_col1\" class=\"data row7 col1\" >0.0470</td>\n",
       "      <td id=\"T_c8fe4_row7_col2\" class=\"data row7 col2\" >0.3415</td>\n",
       "    </tr>\n",
       "    <tr>\n",
       "      <th id=\"T_c8fe4_level0_row8\" class=\"row_heading level0 row8\" >90000.0</th>\n",
       "      <td id=\"T_c8fe4_row8_col0\" class=\"data row8 col0\" >7.7171</td>\n",
       "      <td id=\"T_c8fe4_row8_col1\" class=\"data row8 col1\" >0.0443</td>\n",
       "      <td id=\"T_c8fe4_row8_col2\" class=\"data row8 col2\" >0.3401</td>\n",
       "    </tr>\n",
       "    <tr>\n",
       "      <th id=\"T_c8fe4_level0_row9\" class=\"row_heading level0 row9\" >100000.0</th>\n",
       "      <td id=\"T_c8fe4_row9_col0\" class=\"data row9 col0\" >7.7417</td>\n",
       "      <td id=\"T_c8fe4_row9_col1\" class=\"data row9 col1\" >0.0420</td>\n",
       "      <td id=\"T_c8fe4_row9_col2\" class=\"data row9 col2\" >0.3411</td>\n",
       "    </tr>\n",
       "  </tbody>\n",
       "</table>\n"
      ],
      "text/plain": [
       "<pandas.io.formats.style.Styler at 0x2bc9b349f70>"
      ]
     },
     "execution_count": 7,
     "metadata": {},
     "output_type": "execute_result"
    }
   ],
   "source": [
    "%%time\n",
    "####================================================\n",
    "### Format dataframe and show results\n",
    "df_forward_XOU.index = df_forward_XOU.index.format(formatter=lambda x: '{}'.format(x))\n",
    "df_forward_XOU.set_index('M', inplace=True)\n",
    "df_forward_XOU.index.name = 'M'\n",
    "df_forward_XOU.style.format(formatter=lambda x: '{:.4f}'.format(x))\n"
   ]
  },
  {
   "cell_type": "code",
   "execution_count": 8,
   "metadata": {},
   "outputs": [
    {
     "name": "stdout",
     "output_type": "stream",
     "text": [
      "CPU times: total: 0 ns\n",
      "Wall time: 2 ms\n"
     ]
    },
    {
     "data": {
      "text/html": [
       "<div>\n",
       "<style scoped>\n",
       "    .dataframe tbody tr th:only-of-type {\n",
       "        vertical-align: middle;\n",
       "    }\n",
       "\n",
       "    .dataframe tbody tr th {\n",
       "        vertical-align: top;\n",
       "    }\n",
       "\n",
       "    .dataframe thead th {\n",
       "        text-align: right;\n",
       "    }\n",
       "</style>\n",
       "<table border=\"1\" class=\"dataframe\">\n",
       "  <thead>\n",
       "    <tr style=\"text-align: right;\">\n",
       "      <th></th>\n",
       "      <th>Call_Price</th>\n",
       "      <th>Standard_Error</th>\n",
       "      <th>Call_Delta</th>\n",
       "    </tr>\n",
       "    <tr>\n",
       "      <th>M</th>\n",
       "      <th></th>\n",
       "      <th></th>\n",
       "      <th></th>\n",
       "    </tr>\n",
       "  </thead>\n",
       "  <tbody>\n",
       "    <tr>\n",
       "      <th>80000.0</th>\n",
       "      <td>7.757586</td>\n",
       "      <td>0.046984</td>\n",
       "      <td>0.341525</td>\n",
       "    </tr>\n",
       "    <tr>\n",
       "      <th>90000.0</th>\n",
       "      <td>7.717118</td>\n",
       "      <td>0.044281</td>\n",
       "      <td>0.340145</td>\n",
       "    </tr>\n",
       "    <tr>\n",
       "      <th>100000.0</th>\n",
       "      <td>7.741671</td>\n",
       "      <td>0.042002</td>\n",
       "      <td>0.341111</td>\n",
       "    </tr>\n",
       "  </tbody>\n",
       "</table>\n",
       "</div>"
      ],
      "text/plain": [
       "          Call_Price  Standard_Error  Call_Delta\n",
       "M                                               \n",
       "80000.0     7.757586        0.046984    0.341525\n",
       "90000.0     7.717118        0.044281    0.340145\n",
       "100000.0    7.741671        0.042002    0.341111"
      ]
     },
     "execution_count": 8,
     "metadata": {},
     "output_type": "execute_result"
    }
   ],
   "source": [
    "%%time\n",
    "####================================================\n",
    "### Using the results where STD_ERR < 0.05, we get the following\n",
    "mask_strerr_thresh = (df_forward_XOU.Standard_Error < 0.05)\n",
    "call_price, standard_error, call_delta = df_forward_XOU[mask_strerr_thresh].iloc[0].to_list()\n",
    "df_forward_XOU[mask_strerr_thresh]\n"
   ]
  },
  {
   "cell_type": "code",
   "execution_count": null,
   "metadata": {},
   "outputs": [],
   "source": []
  },
  {
   "cell_type": "markdown",
   "metadata": {},
   "source": [
    "## Problem 1e"
   ]
  },
  {
   "cell_type": "markdown",
   "metadata": {},
   "source": [
    "\n",
    "> Calculate analytically $\\partial f_{0}/\\partial S_{t}$, where $f_{0}$ is the time-$0$ value of a position long one forward contract on a barrel of crude oil, with delivery date $T_{2}$ and some fixed delivery price $K$.\n",
    "\n",
    ">- Let $f_{t}$ be the time-t value of a $T_{2}$-forward contract with delivery price $K$ on the same underlying, then:<br><br>\n",
    "$$\\therefore \\boxed{f_{t} = \\left(F_{t} - K\\right)e^{-r(T_{2}-t)}} \\quad \\text{Time-t Value of Forward Contract with strike K, Forward Price }F_{t} \\text{ and } T_{2}\\text{-Delivery}$$\n",
    ">- From the previous parts, we have the following relations:\n",
    "$$\\begin{align*}\n",
    "X_{t} &= \\log(S_{t}) \\\\\n",
    "f_{t} &= \\left(F_{t} - K\\right)e^{-r(T_{2}-t)} \\\\\n",
    "F_{t} &= \\mathbb{E}_{t}\\left(e^{X_{T_{2}}}\\right) \\\\\n",
    "&= \\exp\\left[X_{t}e^{-\\kappa(T_{2}-t)} + \\alpha\\left(1 - e^{-\\kappa (T_{2}-t)}\\right) + \\frac{\\sigma^{2}}{4\\kappa}\\left(1 - e^{-2\\kappa (T_{2}-t)}\\right)\\right] \\\\\n",
    "\\end{align*}$$\n",
    ">\n",
    ">- From above, we can use related rates from ordinary calculus to get the proper form of $\\frac{\\partial f_{0}}{\\partial S_{t}}$:<br><br>\n",
    "$$\\frac{\\partial f_{0}}{\\partial S_{t}} = \\frac{\\partial f_{t}}{\\partial F_{t}} \\frac{\\partial F_{t}}{\\partial X_{t}} \\frac{\\partial X_{t}}{\\partial S_{t}}\\Bigg|_{t=0}$$\n",
    ">\n",
    ">- We have:\n",
    "$$\\begin{align*}\n",
    "\\frac{\\partial f_{t}}{\\partial F_{t}} &= \\frac{\\partial}{\\partial F_{t}}\\left[\\left(F_{t} - K\\right)e^{-r(T_{2}-t)}\\right] = e^{-r(T_{2}-t)} \\\\\n",
    "\\frac{\\partial F_{t}}{\\partial X_{t}} &= \\frac{\\partial}{\\partial X_{t}}\\left[\\mathbb{E}_{t}\\left(e^{X_{T_{2}}}\\right)\\right] = e^{-\\kappa(T_{2}-t)}F_{t} \\\\\n",
    "\\frac{\\partial X_{t}}{\\partial S_{t}} &= \\frac{\\partial}{\\partial S_{t}}\\left[\\log(S_{t})\\right] = \\frac{1}{S_{t}} \\\\\n",
    "\\end{align*}$$\n",
    ">\n",
    ">- Therefore:\n",
    "$$\\begin{align*}\n",
    "\\frac{\\partial f_{0}}{\\partial S_{t}} &= \\frac{\\partial f_{t}}{\\partial F_{t}} \\frac{\\partial F_{t}}{\\partial X_{t}} \\frac{\\partial X_{t}}{\\partial S_{t}}\\Bigg|_{t=0} \\\\ \n",
    "&= e^{-(r+\\kappa)(T_{2}-t)}\\frac{F_{t}}{S_{t}}\\Bigg|_{t=0} \\\\\n",
    "&= 0.64651 \\\\\n",
    "\\end{align*}$$\n"
   ]
  },
  {
   "cell_type": "code",
   "execution_count": 9,
   "metadata": {},
   "outputs": [
    {
     "name": "stdout",
     "output_type": "stream",
     "text": [
      "CPU times: total: 0 ns\n",
      "Wall time: 0 ns\n"
     ]
    }
   ],
   "source": [
    "%%time\n",
    "####================================================\n",
    "### Function to compute partial derivative of forward contract wrt S\n",
    "def f_del_S(contract: CallOnForwardPrice, dynamics: XOU, t: float = 0) -> float:\n",
    "    ### Separate dynamics and contract class attributes to variables\n",
    "    K1, T1, T2 = contract.__dict__.values()\n",
    "    kappa, alpha, sigma, S0, r = dynamics.__dict__.values()\n",
    "    \n",
    "    ### Set up the constants to to get forward price\n",
    "    Xt = np.log(S0)\n",
    "    tau = T2 - t\n",
    "    Ft = np.exp((np.exp(-kappa*tau) * Xt) + \n",
    "                (alpha * (1 - np.exp(-kappa*tau))) +\n",
    "                (((sigma**2) / (4*kappa)) * (1 - np.exp(-2*kappa*tau)))\n",
    "               )\n",
    "    \n",
    "    ### Compute derivative of forward contract wrt S\n",
    "    partial_fS = np.exp(-(r + kappa) * tau) * (Ft / S0)\n",
    "    \n",
    "    return partial_fS\n",
    "\n"
   ]
  },
  {
   "cell_type": "code",
   "execution_count": 10,
   "metadata": {},
   "outputs": [
    {
     "name": "stdout",
     "output_type": "stream",
     "text": [
      "Time-0 output of partial_f / partial_S = 0.64651\n",
      "CPU times: total: 0 ns\n",
      "Wall time: 0 ns\n"
     ]
    }
   ],
   "source": [
    "%%time\n",
    "####================================================ \n",
    "### Compute derivative of forward contract wrt S\n",
    "partial_fS = f_del_S(hw5contract, hw5dynamics)\n",
    "print('Time-0 output of partial_f / partial_S = {:.5f}'.format(partial_fS))\n"
   ]
  },
  {
   "cell_type": "code",
   "execution_count": null,
   "metadata": {},
   "outputs": [],
   "source": []
  },
  {
   "cell_type": "markdown",
   "metadata": {},
   "source": [
    "## Problem 1f"
   ]
  },
  {
   "cell_type": "markdown",
   "metadata": {},
   "source": [
    "\n",
    "> Suppose you want to hedge a position short one call (so your hedge portfolio should replicate a position long one call), by continuously rebalancing a position in $T_{2}$-delivery forward contracts. Your hedge portfolio at time-$0$ should be long how many forward contracts? Your final answer should be a number.\n",
    "> The delivery price $K$ of the forward contracts is irrelevant to the answer here; it would affect only how many units of the bank account to carry in the portfolio (which I am not asking you to compute).\n",
    "\n",
    ">- If you want to hedge a position short one call you want your portfolio to be composed of -1 unit of a call option and $\\Delta_{f}$ units of forward contracts, then we have our portfolio as $\\theta = \\left[-1, \\Delta_{f}\\right]$, and $X_{t} = \\left[C_{t}, f_{t}\\right]$, where $\\theta$ is the quantity and $X_{t}$ are the assets at time-$t$.\n",
    ">\n",
    ">- Your portfolio value will be:\n",
    "$$\\begin{align*}\n",
    "V_{t} &= \\theta \\cdot X_{t} \\\\\n",
    "&= -C_{t} + \\Delta_{f} f_{t} \\\\\n",
    "\\end{align*}$$\n",
    ">\n",
    ">- You want this portfolio to be delta hedged, meaning create a delta-neutral portfolio, so the total delta of our portfolio is zero:\n",
    "$$\\begin{align*}\n",
    "\\frac{\\partial V_{t}}{\\partial S_{t}} &= 0 \\\\\n",
    "&= -\\frac{\\partial C_{t}}{\\partial S_{t}} + \\Delta_{f} \\frac{\\partial f_{t}}{\\partial S_{t}} \\\\\n",
    "\\end{align*}$$\n",
    ">\n",
    ">- Therefore:\n",
    "$$\\frac{\\partial C_{t}}{\\partial S_{t}} =  \\Delta_{f} \\cdot \\frac{\\partial f_{t}}{\\partial S_{t}}$$\n",
    ">\n",
    ">- From above we have that:\n",
    "$$\\begin{align*}\n",
    "\\frac{\\partial f_{0}}{\\partial S_{t}} &= \\frac{\\partial f_{t}}{\\partial F_{t}} \\frac{\\partial F_{t}}{\\partial X_{t}} \\frac{\\partial X_{t}}{\\partial S_{t}}\\Bigg|_{t=0} \\\\\n",
    "&= e^{-(r+\\kappa)(T_{2}-t)}\\frac{F_{t}}{S_{t}}\\Bigg|_{t=0} \\\\\n",
    "\\end{align*}$$\n",
    ">\n",
    ">- Then the number of forward contract to hedge at time-0 is:\n",
    "$$\\boxed{\\Delta_{f} = \\frac{\\partial C_{t}/\\partial S_{t}}{\\partial f_{t}/\\partial S_{t}}\\Bigg|_{t=0}}$$\n"
   ]
  },
  {
   "cell_type": "code",
   "execution_count": 11,
   "metadata": {},
   "outputs": [
    {
     "name": "stdout",
     "output_type": "stream",
     "text": [
      "At time-0, the hedge portfolio should be long 0.52826 forward contracts\n",
      "CPU times: total: 0 ns\n",
      "Wall time: 0 ns\n"
     ]
    }
   ],
   "source": [
    "%%time\n",
    "####================================================\n",
    "### Compute the number of forward contract to hedge at time-0\n",
    "delta_f = call_delta / partial_fS\n",
    "print('At time-0, the hedge portfolio should be long {:.5f} forward contracts'.format(delta_f))\n"
   ]
  },
  {
   "cell_type": "code",
   "execution_count": null,
   "metadata": {},
   "outputs": [],
   "source": []
  },
  {
   "cell_type": "markdown",
   "metadata": {},
   "source": [
    "## Problem 1g"
   ]
  },
  {
   "cell_type": "markdown",
   "metadata": {},
   "source": [
    "\n",
    "> Consider the following \"purchase agreement\" contract. The holder of this contract receives time-$T_{2}$ delivery of $\\theta$ barrels of crude oil, and pays, at time-$T_{2}$, a delivery price of $K$ dollars per barrel. The $\\theta$ is chosen at time-$T_{1}$ by the holder of the purchase agreement, subject to the restriction that $4000 \\leq \\theta \\leq 5000$; in particular, $\\theta = 0$ is not a valid choice, because the contract is a commitment to purchase at least $4000$ barrels. Using your answer to (c), without running any new simulations, find the time-$0$ value of this contract.<br><br>\n",
    "> Here $K, T_{1}. T_{2}$ have the same values as on the previous page. <br><br>\n",
    "> Hint: Assume the holder acts optimally; thus $\\theta$ is either $4000$ or $5000$, depending on $F_{T_{1}}$.\n",
    "\n",
    ">- Let $4000 \\leq \\theta \\leq 5000$ with $\\theta_{max} = 5000$\n",
    ">- The time-$T_{2}$ value of our portfolio is:\n",
    "$$V_{T_{2}} = \\theta\\left(F_{T_{2}} - K\\right) + \\left(\\theta_{max} - \\theta\\right)\\left(F_{T_{1}} - K\\right)$$\n",
    ">\n",
    ">- The portfolio can be replicated by:\n",
    "$$V_{T_{2}} = \\theta f_{T_{2}} + \\left(\\theta_{max} - \\theta\\right) C_{T_{1}}$$\n",
    ">\n",
    ">- Then, the time-0 value of our contract is the expectation at time-0 fot the replication:\n",
    "$$\\begin{align*}\n",
    "V_{0} &= \\mathbb{E}_{0}\\left[V_{T_{2}}\\right] \\\\\n",
    "&= \\theta \\mathbb{E}_{0}\\left[f_{T_{2}}\\right] + \\left(\\theta_{max} - \\theta\\right)mathbb{E}_{T_{1}}\\left[C_{T_{1}}\\right] \n",
    "\\end{align*}$$\n",
    ">\n",
    ">- We have as the time-0 of purchase agreement contract value as:\n",
    "$$V_{0} = \\theta f_{0} + \\left(\\theta_{max} - \\theta\\right) C_{0}e^{-r(T_{2} - T_{1})}$$\n",
    ">\n",
    ">- With:\n",
    "$$f_{0} = \\left(F_{0} - K\\right)e^{-rT_{2}}$$\n",
    ">\n",
    ">- Therefore, we long $4,000$ forward contracts and long $1,000$ call options\n"
   ]
  },
  {
   "cell_type": "code",
   "execution_count": 12,
   "metadata": {},
   "outputs": [
    {
     "name": "stdout",
     "output_type": "stream",
     "text": [
      "CPU times: total: 0 ns\n",
      "Wall time: 0 ns\n"
     ]
    }
   ],
   "source": [
    "%%time\n",
    "####================================================\n",
    "### Function to compute forward price (Ft) and forward contract value (ft)\n",
    "def Ft_ft(contract: CallOnForwardPrice, dynamics: XOU, t: float = 0) -> List[float]:\n",
    "    ## Separate dynamics and contract class attributes to variables\n",
    "    K1, T1, T2 = contract.__dict__.values()\n",
    "    kappa, alpha, sigma, S0, r = dynamics.__dict__.values()\n",
    "    \n",
    "    ### Set up the constants to to get forward price\n",
    "    Xt = np.log(S0)\n",
    "    tau = T2 - t\n",
    "    Ft = np.exp((np.exp(-kappa*tau) * Xt) + \n",
    "                (alpha * (1 - np.exp(-kappa*tau))) +\n",
    "                (((sigma**2) / (4*kappa)) * (1 - np.exp(-2*kappa*tau)))\n",
    "               )\n",
    "    \n",
    "    ### Compute forward contract value\n",
    "    ft = np.exp(-r * tau) * (Ft - K1)\n",
    "    \n",
    "    return [Ft, ft]\n",
    "\n"
   ]
  },
  {
   "cell_type": "code",
   "execution_count": 13,
   "metadata": {},
   "outputs": [
    {
     "name": "stdout",
     "output_type": "stream",
     "text": [
      "Time-0 Forward Call Price: 7.75759\n",
      "Time-0 Forward Price F0: 102.23035\n",
      "Time-0 Forward Contract Value f0: -0.93396\n",
      "Time-0 purchase agreement contract value is: 3925.38213\n",
      "CPU times: total: 0 ns\n",
      "Wall time: 0 ns\n"
     ]
    }
   ],
   "source": [
    "%%time\n",
    "####================================================\n",
    "### Compute the forward contract value\n",
    "K1, T1, T2 = hw5contract.__dict__.values()\n",
    "kappa, alpha, sigma, S0, r = hw5dynamics.__dict__.values()\n",
    "F0, f0 = Ft_ft(hw5contract, hw5dynamics)\n",
    "\n",
    "### Compute the time-0 purchase agreement contract value\n",
    "theta, theta_MAX = 4000, 5000\n",
    "contract_t0 = (theta * f0) + ((theta_MAX - theta) * call_price * np.exp(-r * (T2 - T1)))\n",
    "print('Time-0 Forward Call Price: {:.5f}'.format(call_price))\n",
    "print('Time-0 Forward Price F0: {:.5f}'.format(F0))\n",
    "print('Time-0 Forward Contract Value f0: {:.5f}'.format(f0))\n",
    "print('Time-0 purchase agreement contract value is: {:.5f}'.format(contract_t0))\n"
   ]
  },
  {
   "cell_type": "code",
   "execution_count": null,
   "metadata": {},
   "outputs": [],
   "source": []
  },
  {
   "cell_type": "markdown",
   "metadata": {},
   "source": [
    "# Problem 2"
   ]
  },
  {
   "cell_type": "markdown",
   "metadata": {},
   "source": [
    "\n",
    "> Suppose that a non-dividend-paying stock with dynamics:\n",
    "$$ \\text{d}S_{t} = rS_{t}\\text{d}t + \\sigma(t) S_{t}\\text{d}W_{t}$$\n",
    "where $W_{t}$ is Brownian motion under risk-neutral probabilities and where the time-dependent but non-random volatility function: $\\sigma:[0,T] \\rightarrow \\mathbb{R}$ is piecewise continuous and sufficiently integrable function.\n",
    "> $L2.13$ shows that this particular type of local volatility function $\\sigma$ (to be specific: the type of $\\sigma$ function that depends on $t$ but does not depend on $S$, nor on anything else that is random) has an explicit relationship with the Black-Scholes implied volatility $\\sigma_{imp}$.\n",
    "$$\\sigma_{imp}(K,t,T) = \\bar{\\sigma}_{t,T} = \\sqrt{\\frac{1}{T-t}\\int^{T}_{t}\\sigma^{2}(\\tau)\\text{d}\\tau}$$\n",
    "$$\\log\\left(\\frac{S_{T}}{S_{t}}\\right) \\thicksim \\mathcal{N}\\left(\\left(r-\\frac{1}{2}\\bar{\\sigma}^{2}_{t,T}\\right)\\left(T-t\\right), \\bar{\\sigma}^{2}_{t,T}\\left(T-t\\right)\\right)$$\n"
   ]
  },
  {
   "cell_type": "code",
   "execution_count": null,
   "metadata": {},
   "outputs": [],
   "source": []
  },
  {
   "cell_type": "markdown",
   "metadata": {},
   "source": [
    "## Problem 2a"
   ]
  },
  {
   "cell_type": "markdown",
   "metadata": {},
   "source": [
    "\n",
    "> Are the dynamics above capable of generating a non-constant (with respect to $T$) term-structure of implied volatility? Are they capable of generating an implied volatility skew (non-constant with respect to $K$)? Explain briefly.<br><br>\n",
    "\n",
    ">- The dynamics of the above equation **IS CAPABLE** of generating a non-constant term structure of implied volatility. This is becuase it is dependent on a non-random function of volatility that is time-dependent. As long as $\\sigma(t)$ varies sufficiently with time, this will vary the results of $\\bar{\\sigma}_T$ across different $T$<br><br>\n",
    ">\n",
    ">- The dynamics of the above equation **IS NOT CAPABLE** of generating an implied volatility skew. To generate an implied volatility skew (non-constant with respect to $K$), this requires the local volatility to not just vary across time, but also at every level of the stock price $S_{t}$ or strike level $K$ of an option on $S_{t}$. So we need $\\sigma(S_{t}, t)$. We are given that $\\sigma$ is a non-random function of time, $\\sigma(S_{t}, t) = \\sigma(t)$. For a given maturity $T$, we have time-$0$ call prices $C(K,T) = C^{BS}(\\bar{\\sigma}_{T}, K, T)$, where $\\bar{\\sigma}_{T}$ is the same for every call option (the above integral maps to one specific value for that $T$). When solving for $\\sigma_{imp}$ across various strikes $K$, given market option prices, we end up with the same $\\bar{\\sigma}_{T}$ in each case because the implied volatility skew is flat.\n"
   ]
  },
  {
   "cell_type": "code",
   "execution_count": null,
   "metadata": {},
   "outputs": [],
   "source": []
  },
  {
   "cell_type": "markdown",
   "metadata": {},
   "source": [
    "## Problem 2b"
   ]
  },
  {
   "cell_type": "markdown",
   "metadata": {},
   "source": [
    "\n",
    "> Let $S_{0} = 100$ and $r = 0.05$. At time $0$, you observe the prices of at-the-money (this means $K = 100$) European calls at $0.1$-year, $0.2$-year, and $0.5$-year expiries to be $5.25$, $7.25$, and $9.5$, respectively. First find the Black-Scholes implied volatilities of the three options. Then find (calibrate) a time-varying local volatility function $\\sigma:[0,0.5] \\rightarrow \\mathbb{R}$ consistent with these option prices. A step function suffices (but other answers are also acceptable).<br><br>\n",
    "\n",
    "\n",
    ">- $\\underline{\\textbf{Step Function Approach:}}$\n",
    ">- Each successive value for the step function can be calculated, given a set of observed maturities and implied volatilities for a given strike. \n",
    ">- We can calibrate the volatility options maturing in chronological order, with expiry $T$, setting the volatility function $\\sigma(t)$ with successive values of $\\tilde{\\sigma}$:\n",
    "$$\\begin{align*}\n",
    "\\bar{\\sigma}_{T} &= \\sqrt{\\frac{1}{T}\\int^{T}_{0}\\sigma^{2}(t)\\text{d}t} \\\\\n",
    "T\\bar{\\sigma}^{2}_{T} &= \\int^{T}_{0}\\sigma^{2}(t)\\text{d}t \\\\\n",
    "&= \\int^{t_{i}}_{0}\\bar{\\sigma}^{2}_{t_{i}}\\text{d}t + \\int^{T}_{t_{i}}\\tilde{\\sigma}^{2}\\text{d}t \\\\\n",
    "T\\bar{\\sigma}^{2}_{T} - t_{i}\\bar{\\sigma}^{2}_{t_{i}} &= (T - t_{i})\\tilde{\\sigma}^{2} \\\\\n",
    "\\tilde{\\sigma} &= \\sqrt{\\frac{1}{T - t_{i}}\\bigg(T\\bar{\\sigma}^{2}_{T} - t_{i}\\bar{\\sigma}^{2}_{t_{i}}\\bigg)} \\\\\n",
    "\\end{align*}$$\n",
    ">- where:\n",
    ">>- $\\tilde{\\sigma}$ is the value of $\\sigma(t)$ for $t\\in(t_{i},T]$ (the next 'step' we are trying to solve for)\n",
    ">>- $\\bar{\\sigma}_{T}$ is the implied volatility for the option with maturity $T$\n",
    ">>- $\\bar{\\sigma}_{t_{i}}$ is the implied volatility for the option with maturity $t_{i}$ (option with the next-smallest maturity to $T$ that we have already solved for)\n",
    ">\n",
    ">- We have the following intervals with call option prices:\n",
    "$$\\begin{align*}\n",
    "t_{1} &\\in [0.0, 0.1], C_{1} = 5.25 \\\\\n",
    "t_{2} &\\in (0.1, 0.2], C_{2} = 7.25 \\\\\n",
    "t_{3} &\\in (0.2, 0.5], C_{3} = 9.50 \\\\\n",
    "\\end{align*}$$\n",
    ">\n",
    ">- I will also use OLS to get the local volatility.\n",
    "$$\\tilde{\\sigma} = \\sqrt{\\bar{\\sigma}^{2}_{t_{i},T} + 2(T- t_{i})\\bar{\\sigma}_{t_{i},T}\\frac{\\partial \\bar{\\sigma}}{\\partial T}}$$\n"
   ]
  },
  {
   "cell_type": "code",
   "execution_count": null,
   "metadata": {},
   "outputs": [],
   "source": []
  },
  {
   "cell_type": "code",
   "execution_count": 14,
   "metadata": {},
   "outputs": [
    {
     "name": "stdout",
     "output_type": "stream",
     "text": [
      "CPU times: total: 0 ns\n",
      "Wall time: 0 ns\n"
     ]
    }
   ],
   "source": [
    "%%time\n",
    "####================================================\n",
    "### Model Dynamics\n",
    "class GBMdynamics:\n",
    "    \n",
    "    def __init__(self, S: float, r: float, rGrow: float, sigma: float = None) -> None:\n",
    "        self.S = S\n",
    "        self.r = r\n",
    "        self.rGrow = rGrow\n",
    "        self.sigma = sigma\n",
    "    \n",
    "    def update_sigma(self, sigma: float) -> 'GBMdynamics':\n",
    "        self.sigma = sigma\n",
    "        \n",
    "        return self\n",
    "\n",
    "    \n",
    "####================================================\n",
    "### Contract\n",
    "class CallOption:\n",
    "    \n",
    "    def __init__(self, K: float, T: float, price: float = None) -> None:\n",
    "        self.K = K\n",
    "        self.T = T\n",
    "        self.price = price\n",
    "    \n",
    "    \n",
    "    def BSpriceCall(self, dynamics: GBMdynamics) -> float:\n",
    "        ### Separate dynamics class attributes to variables\n",
    "        S, r, rGrow, sigma = dynamics.__dict__.values()\n",
    "        F = S * np.exp(rGrow * self.T)\n",
    "        std = sigma * np.sqrt(self.T)\n",
    "        d1 = np.log(F / self.K)/std + std/2\n",
    "        d2 = d1 - std\n",
    "        \n",
    "        return np.exp(-r*self.T) * (F * norm.cdf(d1) - self.K * norm.cdf(d2))\n",
    "    \n",
    "    \n",
    "    def IV(self, dynamics: GBMdynamics) -> float:\n",
    "        ### Check if price is given\n",
    "        if self.price is None:\n",
    "            raise ValueError('Contract price must be given')\n",
    "            \n",
    "        ### Separate dynamics class attributes to variables\n",
    "        S, r, rGrow, sigma = dynamics.__dict__.values()\n",
    "        \n",
    "        df = np.exp(-r*self.T)  ### Discount factor\n",
    "        F = S / df\n",
    "        lowerbound = np.max([0, df * (F - self.K)])\n",
    "        C = self.price\n",
    "        if C < lowerbound:\n",
    "            return np.nan\n",
    "        if C == lowerbound:\n",
    "            return 0\n",
    "        if C >= F * df:\n",
    "            return np.nan\n",
    "        \n",
    "        ### We \"try\" values of sigma until we find sigma that generates price C\n",
    "        dytry = copy(dynamics)\n",
    "        \n",
    "        ### First find lower and upper bounds\n",
    "        sigma_try = 0.2\n",
    "        while self.BSpriceCall(dytry.update_sigma(sigma_try)) > C:\n",
    "            sigma_try /= 2\n",
    "        while self.BSpriceCall(dytry.update_sigma(sigma_try)) < C:\n",
    "            sigma_try *= 2\n",
    "        hi = sigma_try\n",
    "        lo = hi / 2\n",
    "        \n",
    "        ### Make root function\n",
    "        def find_sigma(sigma: float) -> float:\n",
    "            root_solve = C - self.BSpriceCall(dytry.update_sigma(sigma))\n",
    "            return root_solve\n",
    "        \n",
    "        ### Calculated the implied volatility\n",
    "        impliedVolatility = bisect(find_sigma, lo, hi)\n",
    "        \n",
    "        return impliedVolatility\n",
    "\n",
    "\n",
    "####================================================\n",
    "### Time-varying local vol function (step function method and OLS) \n",
    "def calculate_local_vol(maturities: List[float], prices: List[float], dynamics: GBMdynamics) -> pd.DataFrame:\n",
    "    ### Make dataframe\n",
    "    df = pd.DataFrame(data={'Price': prices}, index=maturities)\n",
    "    df.index.name = 'Maturity'\n",
    "    \n",
    "    ### Compute IV for each maturity and price\n",
    "    for maturity, row in df.iterrows():\n",
    "        contract = CallOption(K=dynamics.S, T=maturity, price=row['Price'])\n",
    "        df.loc[maturity, 'Implied_Vol'] = contract.IV(dynamics)\n",
    "    \n",
    "    ### Compute time-varying local vol (Step Function)\n",
    "    for i in range(len(df)):\n",
    "        if i == 0:\n",
    "            df.loc[df.iloc[i].name, 'Local_Vol_Step'] = df.iloc[i]['Implied_Vol']\n",
    "        else:\n",
    "            T, iv_bar_T = df.iloc[i].name, df.iloc[i]['Implied_Vol']\n",
    "            t_i, iv_bar_t_i  = df.iloc[i-1].name, df.iloc[i-1]['Implied_Vol'] \n",
    "            dt = T - t_i\n",
    "            total_iv_bar_T = T * (iv_bar_T ** 2)\n",
    "            total_iv_bar_t_i = t_i * (iv_bar_t_i ** 2)\n",
    "            df.loc[df.iloc[i].name, 'Local_Vol_Step'] = np.sqrt((1 / dt) * (total_iv_bar_T - total_iv_bar_t_i))\n",
    "    \n",
    "    ### Compute time-varying local vol (OLS)\n",
    "    ivs = df['Implied_Vol'].to_list()\n",
    "    dv_dt = np.gradient(ivs, maturities)\n",
    "    for i in range(len(df)):\n",
    "        if i == 0:\n",
    "            df.loc[df.iloc[i].name, 'Local_Vol_OLS'] = df.iloc[i]['Implied_Vol']\n",
    "        else:\n",
    "            tau = maturities[i]-maturities[i-1]\n",
    "            df.loc[df.iloc[i].name, 'Local_Vol_OLS'] = np.sqrt(ivs[i]**2 + 2*tau*ivs[i]*dv_dt[i])\n",
    "\n",
    "    return df\n",
    "\n"
   ]
  },
  {
   "cell_type": "code",
   "execution_count": null,
   "metadata": {},
   "outputs": [],
   "source": []
  },
  {
   "cell_type": "code",
   "execution_count": 15,
   "metadata": {},
   "outputs": [
    {
     "name": "stdout",
     "output_type": "stream",
     "text": [
      "CPU times: total: 31.2 ms\n",
      "Wall time: 33 ms\n"
     ]
    },
    {
     "data": {
      "text/html": [
       "<div>\n",
       "<style scoped>\n",
       "    .dataframe tbody tr th:only-of-type {\n",
       "        vertical-align: middle;\n",
       "    }\n",
       "\n",
       "    .dataframe tbody tr th {\n",
       "        vertical-align: top;\n",
       "    }\n",
       "\n",
       "    .dataframe thead th {\n",
       "        text-align: right;\n",
       "    }\n",
       "</style>\n",
       "<table border=\"1\" class=\"dataframe\">\n",
       "  <thead>\n",
       "    <tr style=\"text-align: right;\">\n",
       "      <th></th>\n",
       "      <th>Price</th>\n",
       "      <th>Implied_Vol</th>\n",
       "      <th>Local_Vol_Step</th>\n",
       "      <th>Local_Vol_OLS</th>\n",
       "    </tr>\n",
       "    <tr>\n",
       "      <th>Maturity</th>\n",
       "      <th></th>\n",
       "      <th></th>\n",
       "      <th></th>\n",
       "      <th></th>\n",
       "    </tr>\n",
       "  </thead>\n",
       "  <tbody>\n",
       "    <tr>\n",
       "      <th>0.1</th>\n",
       "      <td>5.25</td>\n",
       "      <td>0.397320</td>\n",
       "      <td>0.397320</td>\n",
       "      <td>0.397320</td>\n",
       "    </tr>\n",
       "    <tr>\n",
       "      <th>0.2</th>\n",
       "      <td>7.25</td>\n",
       "      <td>0.380171</td>\n",
       "      <td>0.362211</td>\n",
       "      <td>0.359667</td>\n",
       "    </tr>\n",
       "    <tr>\n",
       "      <th>0.5</th>\n",
       "      <td>9.50</td>\n",
       "      <td>0.295097</td>\n",
       "      <td>0.220871</td>\n",
       "      <td>0.192021</td>\n",
       "    </tr>\n",
       "  </tbody>\n",
       "</table>\n",
       "</div>"
      ],
      "text/plain": [
       "          Price  Implied_Vol  Local_Vol_Step  Local_Vol_OLS\n",
       "Maturity                                                   \n",
       "0.1        5.25     0.397320        0.397320       0.397320\n",
       "0.2        7.25     0.380171        0.362211       0.359667\n",
       "0.5        9.50     0.295097        0.220871       0.192021"
      ]
     },
     "execution_count": 15,
     "metadata": {},
     "output_type": "execute_result"
    }
   ],
   "source": [
    "%%time\n",
    "####================================================\n",
    "### Set Model Dynamics, maturities and prices\n",
    "hw5p2bdynamics = GBMdynamics(S=100, r=0.05, rGrow=0.05, sigma=None)\n",
    "maturities = [0.1, 0.2, 0.5]\n",
    "prices = [5.25, 7.25, 9.5]\n",
    "\n",
    "### Calculate IV, and local vol\n",
    "df = calculate_local_vol(maturities, prices, hw5p2bdynamics)\n",
    "df\n"
   ]
  },
  {
   "cell_type": "code",
   "execution_count": null,
   "metadata": {},
   "outputs": [],
   "source": []
  },
  {
   "cell_type": "markdown",
   "metadata": {},
   "source": [
    "## Problem 2c"
   ]
  },
  {
   "cell_type": "markdown",
   "metadata": {},
   "source": [
    "\n",
    "> Consistently with your local volatility function $\\sigma$ from part (b), find the time-$0$ price of an at-the-money European call with expiry $0.4$, and find the time-$0.1$ implied volatility of that call (the European call with expiry $T = 0.4$). Do not use a tree or finite difference or Monte Carlo calculation.<br><br>\n",
    "\n",
    ">- We use the Step or OLS results to find the time-$0$ call option price with time-$0.4$ expiry and the corresponding implied volatility time-$0.1$.\n",
    ">- The procedure, if you have local volatility, in our case is the following:\n",
    "$$\\begin{align*}\n",
    "\\bar{\\sigma}_{t, T} &= \\sqrt{\\frac{1}{T-t}\\int^{T}_{t}\\sigma^{2}(\\tau)\\text{d}\\tau} \\\\\n",
    "&= \\sqrt{\\frac{1}{0.3}\\int^{0.4}_{0.1}\\sigma^{2}(\\tau)\\text{d}\\tau} \\\\\n",
    "&= \\sqrt{\\frac{1}{0.3}\\left(\\int^{0.2}_{0.1}{\\sigma}^{2}(\\tau)\\text{d}\\tau + \\int^{0.4}_{0.2}{\\sigma}^{2}(\\tau)\\text{d}\\tau\\right)} \\\\\n",
    "&= \\sqrt{\\frac{1}{0.3}\\left((0.2-0.1){\\sigma}^{2}\\left(0.1, 0.2\\right) + (0.4-0.2){\\sigma}^{2}\\left(0.2, 0.4\\right)\\right)} \\\\\n",
    "&= \\sqrt{\\frac{1}{0.3}\\left(0.1{\\sigma}^{2}\\left(0.1, 0.2\\right) + 0.2{\\sigma}^{2}\\left(0.2, 0.4\\right)\\right)} \\\\\n",
    "\\end{align*}$$\n"
   ]
  },
  {
   "cell_type": "code",
   "execution_count": 16,
   "metadata": {},
   "outputs": [
    {
     "name": "stdout",
     "output_type": "stream",
     "text": [
      "CPU times: total: 0 ns\n",
      "Wall time: 0 ns\n"
     ]
    }
   ],
   "source": [
    "%%time\n",
    "####================================================\n",
    "### Implied volatility from time-varying local vol function\n",
    "def implied_vol_from_local_vol(maturities: List[float], ivs: List[float], T: float, t: float = 0) -> float:\n",
    "    sigma = [next(ivs[i] ** 2 for i in range(len(maturities)) \\\n",
    "                  if tau <= maturities[i]) for tau in np.linspace(t, T, num=1000)]\n",
    "    integral_value = np.trapz(sigma, dx=(T - t) / 1000)\n",
    "    \n",
    "    return np.sqrt((1 / (T - t)) * integral_value)\n"
   ]
  },
  {
   "cell_type": "code",
   "execution_count": null,
   "metadata": {},
   "outputs": [],
   "source": []
  },
  {
   "cell_type": "markdown",
   "metadata": {},
   "source": [
    "### Problem 2c: Step"
   ]
  },
  {
   "cell_type": "code",
   "execution_count": 17,
   "metadata": {},
   "outputs": [
    {
     "name": "stdout",
     "output_type": "stream",
     "text": [
      "For, T = 0.4-year\n",
      "Step IV from local volatility = 0.31073\n",
      "Black-Scholes time-0 call price: $8.78009\n",
      "Black-Scholes call price implied volatility = 0.37013\n",
      "CPU times: total: 31.2 ms\n",
      "Wall time: 12 ms\n"
     ]
    }
   ],
   "source": [
    "%%time\n",
    "####================================================\n",
    "### Set times, maturities and prices\n",
    "t, T = 0.0, 0.4\n",
    "maturities = df.index.to_list()\n",
    "flag_OLS = False\n",
    "if flag_OLS == True:\n",
    "    price_ivs = df.Local_Vol_OLS.to_list()\n",
    "else:\n",
    "    price_ivs = df.Local_Vol_Step.to_list()\n",
    "\n",
    "####================================================\n",
    "### Find implied vol from calibrated local volatiltiy (used to predict Black-Scholes time-0 call option price)\n",
    "iv_from_lv = implied_vol_from_local_vol(maturities, price_ivs, T, t)\n",
    "\n",
    "####================================================\n",
    "### Set Model Dynamics and Contract\n",
    "hw5p2cdynamics = GBMdynamics(S=100, r=0.05, rGrow=0.05, sigma=None)\n",
    "hw5p2cdynamics.update_sigma(sigma=iv_from_lv)\n",
    "hw5p2ccontract = CallOption(K=hw5p2cdynamics.S, T=T, price=None)\n",
    "\n",
    "####================================================\n",
    "### Get Black-Scholes time-0 call option price and corresponding implied volatility\n",
    "t, T = 0.1, 0.4\n",
    "call_price_iv_from_lv = hw5p2ccontract.BSpriceCall(hw5p2cdynamics)\n",
    "hw5p2ccontract.price = call_price_iv_from_lv\n",
    "hw5p2ccontract.T = T-t\n",
    "call_price_iv = hw5p2ccontract.IV(hw5p2cdynamics)\n",
    "\n",
    "### Show results\n",
    "print('For, T = {}-year'.format(T))\n",
    "print('Step IV from local volatility = {:.5f}'.format(iv_from_lv))\n",
    "print('Black-Scholes time-0 call price: ${:.5f}'.format(call_price_iv_from_lv))\n",
    "print('Black-Scholes call price implied volatility = {:.5f}'.format(call_price_iv))\n"
   ]
  },
  {
   "cell_type": "code",
   "execution_count": null,
   "metadata": {},
   "outputs": [],
   "source": []
  },
  {
   "cell_type": "markdown",
   "metadata": {},
   "source": [
    "### Problem 2c: OLS"
   ]
  },
  {
   "cell_type": "code",
   "execution_count": 18,
   "metadata": {},
   "outputs": [
    {
     "name": "stdout",
     "output_type": "stream",
     "text": [
      "For, T = 0.4-year\n",
      "OLS IV from local volatility = 0.30024\n",
      "Black-Scholes time-0 call price: $8.52066\n",
      "Black-Scholes call price implied volatility = 0.35808\n",
      "CPU times: total: 15.6 ms\n",
      "Wall time: 12 ms\n"
     ]
    }
   ],
   "source": [
    "%%time\n",
    "####================================================\n",
    "### Set times, maturities and prices\n",
    "t, T = 0.0, 0.4\n",
    "maturities = df.index.to_list()\n",
    "flag_OLS = True\n",
    "if flag_OLS == True:\n",
    "    price_ivs = df.Local_Vol_OLS.to_list()\n",
    "else:\n",
    "    price_ivs = df.Local_Vol_Step.to_list()\n",
    "\n",
    "####================================================\n",
    "### Find implied vol from calibrated local volatiltiy (used to predict Black-Scholes time-0 call option price)\n",
    "iv_from_lv = implied_vol_from_local_vol(maturities, price_ivs, T, t)\n",
    "\n",
    "####================================================\n",
    "### Set Model Dynamics and Contract\n",
    "hw5p2cdynamics = GBMdynamics(S=100, r=0.05, rGrow=0.05, sigma=None)\n",
    "hw5p2cdynamics.update_sigma(sigma=iv_from_lv)\n",
    "hw5p2ccontract = CallOption(K=hw5p2cdynamics.S, T=T, price=None)\n",
    "\n",
    "####================================================\n",
    "### Get Black-Scholes time-0 call option price and corresponding implied volatility\n",
    "t, T = 0.1, 0.4\n",
    "call_price_iv_from_lv = hw5p2ccontract.BSpriceCall(hw5p2cdynamics)\n",
    "hw5p2ccontract.price = call_price_iv_from_lv\n",
    "hw5p2ccontract.T = T-t\n",
    "call_price_iv = hw5p2ccontract.IV(hw5p2cdynamics)\n",
    "\n",
    "### Show results\n",
    "print('For, T = {}-year'.format(T))\n",
    "print('OLS IV from local volatility = {:.5f}'.format(iv_from_lv))\n",
    "print('Black-Scholes time-0 call price: ${:.5f}'.format(call_price_iv_from_lv))\n",
    "print('Black-Scholes call price implied volatility = {:.5f}'.format(call_price_iv))\n"
   ]
  },
  {
   "cell_type": "code",
   "execution_count": null,
   "metadata": {},
   "outputs": [],
   "source": []
  },
  {
   "cell_type": "code",
   "execution_count": null,
   "metadata": {},
   "outputs": [],
   "source": []
  },
  {
   "cell_type": "code",
   "execution_count": null,
   "metadata": {},
   "outputs": [],
   "source": []
  },
  {
   "cell_type": "code",
   "execution_count": null,
   "metadata": {},
   "outputs": [],
   "source": []
  }
 ],
 "metadata": {
  "anaconda-cloud": {},
  "colab": {
   "provenance": []
  },
  "kernelspec": {
   "display_name": "Python 3 (ipykernel)",
   "language": "python",
   "name": "python3"
  },
  "language_info": {
   "codemirror_mode": {
    "name": "ipython",
    "version": 3
   },
   "file_extension": ".py",
   "mimetype": "text/x-python",
   "name": "python",
   "nbconvert_exporter": "python",
   "pygments_lexer": "ipython3",
   "version": "3.8.12"
  },
  "toc": {
   "base_numbering": 1,
   "nav_menu": {},
   "number_sections": true,
   "sideBar": true,
   "skip_h1_title": false,
   "title_cell": "Table of Contents",
   "title_sidebar": "Contents",
   "toc_cell": false,
   "toc_position": {},
   "toc_section_display": true,
   "toc_window_display": false
  }
 },
 "nbformat": 4,
 "nbformat_minor": 1
}
