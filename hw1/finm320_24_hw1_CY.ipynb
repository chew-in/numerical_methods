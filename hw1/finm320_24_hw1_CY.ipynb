{
  "cells": [
    {
      "cell_type": "code",
      "execution_count": 3,
      "metadata": {
        "id": "-NynHt7uaJEW"
      },
      "outputs": [],
      "source": [
        "import numpy as np\n",
        "from scipy.stats import norm\n",
        "from scipy.optimize import bisect, brentq\n",
        "from copy import copy"
      ]
    },
    {
      "cell_type": "markdown",
      "metadata": {},
      "source": [
        "Collaborator: Kaleem"
      ]
    },
    {
      "cell_type": "markdown",
      "metadata": {
        "id": "lzNNfR6eaJEY"
      },
      "source": [
        "# Problem 1"
      ]
    },
    {
      "cell_type": "markdown",
      "metadata": {},
      "source": [
        "## A model for the dynamics \n",
        "Stock index follows the Black-Scholes dynamics, which assumes GBM\n",
        "$$\\mathrm{d}S_t=R_{grow}S_t\\mathrm{d}t+\\sigma S_t\\mathrm{d}W_t$$\n",
        "- $\\sigma=0.4$, volatility\n",
        "- $S_0=100$, time-0 index level \n",
        "- $r=0$, risk-free interest rate\n",
        "- $W_t$, Brownian motion\n",
        "\n",
        "Logarithm of stock index $X=\\log S$ follows dynamics of\n",
        "$$\\mathrm dX_t=\\nu\\mathrm dt+\\sigma\\mathrm dW_t$$\n",
        "- $\\nu:=R_{grow}-\\sigma^{2}/2$\n",
        "\n",
        "`1a` uses trinomial tree to approximate diffusion dynamics. A trinomial tree is more flexible model than a binomial tree, so we don't run into the situation where we don't have enough free parameters to match both mean and variance. Definitions for up, middle, down probabilities are\n",
        "- $\\mathbb{P}(X_{t+\\Delta t}=X_t+\\Delta x)=p_u$\n",
        "- $\\mathbb{P}(X_{t+\\Delta t}=X_t)=p_m$\n",
        "- $\\mathbb{P}(X_{t+\\Delta t}=X_t-\\Delta x)=p_d$\n",
        "- $\\Delta t:=T/N$, time step\n",
        "- $\\Delta x=\\sigma \\sqrt{3\\Delta t}$, up/down move size, picked for accuracy reasons\n",
        "\n",
        "By matching the **diffusion model**\n",
        "$$X_{t+\\Delta t}-X_{t}=\\int_{t}^{t+\\Delta t}\\nu\\mathrm{d}s+\\int_{t}^{t+\\Delta t}\\sigma\\mathrm{d}W_{s}=\\nu\\Delta t+\\sigma\\Delta W$$\n",
        "to the **tree model** on mean and variance,\n",
        "- $\\nu\\Delta t=\\mathbb{E}_t(X_{t+\\Delta t}-X_t)=p_u\\Delta x+p_m0+p_d(-\\Delta x)$\n",
        "- $\\sigma^2\\Delta t=\\mathrm{Var}_t(X_{t+\\Delta t}-X_t)=p_u(\\Delta x)^2+p_m(0)^2+p_d(-\\Delta x)^2-(\\nu\\Delta t)^2$\n",
        "- $p_u+p_m+p_d=1$\n",
        "\n",
        "we get\n",
        "\\begin{aligned}\n",
        "&p_{u} =\\frac{1}{2}\\bigg[\\frac{\\sigma^{2}\\Delta t+\\nu^{2}(\\Delta t)^{2}}{(\\Delta x)^{2}}+\\frac{\\nu\\Delta t}{\\Delta x}\\bigg] \\\\\n",
        "&p_{m} =1-\\frac{\\sigma^{2}\\Delta t+\\nu^{2}(\\Delta t)^{2}}{(\\Delta x)^{2}} \\\\\n",
        "&p_{d} =\\frac{1}{2}\\bigg[\\frac{\\sigma^{2}\\Delta t+\\nu^{2}(\\Delta t)^{2}}{(\\Delta x)^{2}}-\\frac{\\nu\\Delta t}{\\Delta x}\\bigg] \n",
        "\\end{aligned}\n",
        "\n",
        "## Contracts to be priced\n",
        "1. `a`, up-and-out barrier put option\n",
        "1. `b`, up-and-in barrier put option\n",
        "1. `c`, continuously-monitored barrier option"
      ]
    },
    {
      "cell_type": "code",
      "execution_count": 4,
      "metadata": {
        "id": "FH5lK0IDaJEZ"
      },
      "outputs": [],
      "source": [
        "class UpAndOutPut:\n",
        "\n",
        "    def __init__(self, K, T, barrier, observationinterval):\n",
        "        self.K = K\n",
        "        self.T = T\n",
        "        self.barrier = barrier\n",
        "        self.observationinterval = observationinterval"
      ]
    },
    {
      "cell_type": "code",
      "execution_count": 5,
      "metadata": {
        "id": "zu38EM-xaJEZ"
      },
      "outputs": [],
      "source": [
        "# hw1contract = UpAndOutPut(K=95, T=0.25, barrier=107, observationinterval=0.02)\n",
        "hw1contract = UpAndOutPut(K=95, T=0.25, barrier=114, observationinterval=0.02)"
      ]
    },
    {
      "cell_type": "code",
      "execution_count": 6,
      "metadata": {
        "id": "3QnpHnhEaJEa"
      },
      "outputs": [],
      "source": [
        "class GBMdynamics:\n",
        "\n",
        "    def __init__(self, S, r, rGrow, sigma=None):\n",
        "        self.S = S\n",
        "        self.r = r\n",
        "        self.rGrow = rGrow\n",
        "        self.sigma = sigma\n",
        "\n",
        "    def update_sigma(self, sigma):\n",
        "        self.sigma = sigma\n",
        "        return self"
      ]
    },
    {
      "cell_type": "code",
      "execution_count": 7,
      "metadata": {
        "id": "OlOqBwRSaJEa"
      },
      "outputs": [],
      "source": [
        "hw1dynamics = GBMdynamics(S=100, sigma=0.4, rGrow=0, r=0)"
      ]
    },
    {
      "cell_type": "code",
      "execution_count": 8,
      "metadata": {
        "id": "yxrJL5bIaJEa"
      },
      "outputs": [],
      "source": [
        "class TreeEngine:\n",
        "\n",
        "    def __init__(self, N):\n",
        "        self.N = N\n",
        "\n",
        "    def price_upandout(self, dynamics, contract, discrete_monitoring=True):\n",
        "\n",
        "        deltat = contract.T / self.N # time step\n",
        "        J = np.ceil(np.log(contract.barrier/dynamics.S)/(dynamics.sigma*np.sqrt(3*deltat))-0.5)\n",
        "        deltax = np.log(contract.barrier/dynamics.S)/(J+0.5) # space step\n",
        "\n",
        "        Sgrid = dynamics.S*np.exp(np.linspace(self.N, -self.N, num=2*self.N+1, endpoint=True)*deltax)\n",
        "        # Sgrid: an array of stock prices S_T at expiry, ordered from highest to lowest\n",
        "        # SMALLER indexes in this array correspond to HIGHER S\n",
        "        # S = exp(X). deltax = X[i+1]-X[i]\n",
        "\n",
        "        numTimestepsPerObs = contract.observationinterval/deltat\n",
        "        if abs(numTimestepsPerObs-round(numTimestepsPerObs)) > 1e-8:\n",
        "            raise ValueError(\"This value of N fails to place the observation dates in the tree.\")\n",
        "\n",
        "        nu = dynamics.rGrow - 0.5 * dynamics.sigma ** 2\n",
        "        Pu = 0.5 * ((dynamics.sigma ** 2 * deltat + nu ** 2 * deltat ** 2) / (deltax ** 2) \n",
        "                    + nu * deltat / deltax)\n",
        "        Pd = 0.5 * ((dynamics.sigma ** 2 * deltat + nu ** 2 * deltat ** 2) / (deltax ** 2) \n",
        "                    - nu * deltat / deltax)\n",
        "        Pm = 1 - Pu - Pd\n",
        "\n",
        "        optionprice = np.maximum(contract.K-Sgrid, 0)   #an array of time-T option prices, 2N+1 elements\n",
        "\n",
        "        #Next, induct backwards to time 0, updating the optionprice array\n",
        "        #Hint: if x is an array, then what are x[2:] and x[1:-1] and x[:-2]\n",
        "        if discrete_monitoring:\n",
        "            for t in np.linspace(self.N-1, 0, num=self.N, endpoint=True)*deltat:\n",
        "                Sgrid = Sgrid[1:-1]\n",
        "                optionprice = np.exp(-dynamics.r * deltat) * (Pu * optionprice[:-2] + Pm * optionprice[1:-1] + Pd * optionprice[2:])\n",
        "                # check if monitoring date (caveat for floating point)\n",
        "                if min(abs(t % contract.observationinterval),\n",
        "                       abs(t % contract.observationinterval \n",
        "                         - contract.observationinterval)) < 1e-8:\n",
        "                    # knock-out/ knock-in check\n",
        "                    optionprice = np.where(Sgrid >= contract.barrier, 0, optionprice)\n",
        "                    # print(optionprice)\n",
        "\n",
        "        return optionprice[0]\n",
        "        #The [0] is assuming that we are shrinking the optionprice array in each iteration of the loop,\n",
        "        #until finally there is only 1 element in the array.\n",
        "        #If instead you are keeping unchanged the size of the optionprice array in each iteration,\n",
        "        #then you need to change the [0] to a different index.\n"
      ]
    },
    {
      "cell_type": "markdown",
      "metadata": {},
      "source": [
        "Barrier option in general:\n",
        "\n",
        "For accuracy reasons, the procedure is to put $\\log H$ halfway between the $j$th and $(j+1)$th log-price levels:\n",
        "$$\\log S_0+(j+0.5)\\Delta x=\\log H$$\n",
        "so, with the constraint on $\\Delta x \\approx \\sigma\\sqrt{3\\Delta t}$, we take\n",
        "$$j=\\left\\lceil\\frac{\\log(H/S_0)}{\\sigma\\sqrt{3\\Delta t}}-0.5\\right\\rceil $$"
      ]
    },
    {
      "cell_type": "markdown",
      "metadata": {},
      "source": [
        "### `1a`: up-and-out put"
      ]
    },
    {
      "cell_type": "markdown",
      "metadata": {},
      "source": [
        "Payout of up-and-out put\n",
        "$$(K-S_T)^+\\mathbf{1}_{\\max_{t\\in\\mathcal{T}}S_t<H}$$\n",
        "- $S$, stock price \n",
        "- $T=0.25$, expiry\n",
        "- $K=95$, strike\n",
        "- $H=114$, knock-out barrier\n",
        "- $\\mathcal{T}\\subseteq[0,T]$, observation times (`1a` discrete, `1b` continuous)\n",
        "\n",
        "Pricing of up-and-out European put\n",
        "$$C_{n}^{j}=e^{-r\\Delta t}[p_{u}C_{n+1}^{j+1}+p_{m}C_{n+1}^{j}+p_{d}C_{n+1}^{j-1}]\\mathbf{1}_{\\mathrm{no~knock-out~at~time~}t_{n}}$$\n",
        "\n",
        "Algorithmic detail:\n",
        "- Start from expiry option prices \n",
        "- Induct backwards in time, shrinking the number of nodes by 2 each time\n",
        "- During the induction step, check that no knockout at time $t_n$, i.e. option price is set to zero whenever the barrier level is exceeded"
      ]
    },
    {
      "cell_type": "code",
      "execution_count": 9,
      "metadata": {
        "id": "xWliOTz8aJEb",
        "scrolled": false
      },
      "outputs": [
        {
          "name": "stdout",
          "output_type": "stream",
          "text": [
            "Price of an Up and Out Put Option: 5.301546106266176\n"
          ]
        }
      ],
      "source": [
        "hw1tree=TreeEngine(N=1000) # insufficient\n",
        "# hw1tree=TreeEngine(N=5000)\n",
        "\n",
        "up_and_out_put_price = hw1tree.price_upandout(hw1dynamics, hw1contract)\n",
        "print(f\"Price of an Up and Out Put Option: {up_and_out_put_price}\")"
      ]
    },
    {
      "cell_type": "markdown",
      "metadata": {},
      "source": [
        "### `1b`: up-and-in put"
      ]
    },
    {
      "cell_type": "code",
      "execution_count": 10,
      "metadata": {},
      "outputs": [],
      "source": [
        "class UpAndInPut:\n",
        "\n",
        "    def __init__(self, K, T, barrier, observationinterval):\n",
        "        self.K = K\n",
        "        self.T = T\n",
        "        self.barrier = barrier\n",
        "        self.observationinterval = observationinterval"
      ]
    },
    {
      "cell_type": "markdown",
      "metadata": {},
      "source": [
        "Black-Scholes Vanilla Call pricing:\n",
        "$$f(S):=(S-K)^{+}$$\n",
        "$$C(S,t)=C^{BS}(S,t,K,T,r-q,r,\\sigma)=S_0N(d_1)-Ke^{-rT}N(d_2)$$\n",
        "where\n",
        "$$d_{1,2}:=d_{+,-}:=\\frac{\\log(S_0e^{rT}/K)}{\\sigma\\sqrt T}\\pm\\frac{\\sigma\\sqrt T}2$$\n",
        "In our case $t=0$, $r=0$."
      ]
    },
    {
      "cell_type": "code",
      "execution_count": 11,
      "metadata": {},
      "outputs": [],
      "source": [
        "class VanillaCall:\n",
        "\n",
        "    def __init__(self, S, K, r, sigma, T):\n",
        "        self.S = S # S_0 stock price\n",
        "        self.K = K\n",
        "        self.r = r\n",
        "        self.sigma = sigma\n",
        "        self.T = T\n",
        "    \n",
        "    def get_price(self):\n",
        "        d1 = ((np.log(self.S / self.K) + self.r * self.T) / (self.sigma * np.sqrt(self.T))              \n",
        "              + 0.5 * self.sigma * np.sqrt(self.T))\n",
        "        d2 = ((np.log(self.S / self.K) + self.r * self.T) / (self.sigma * np.sqrt(self.T))              \n",
        "              - 0.5 * self.sigma * np.sqrt(self.T))\n",
        "        call_price = self.S * norm.cdf(d1) - self.K * np.exp(-self.r * self.T) * norm.cdf(d2)\n",
        "        \n",
        "        return call_price"
      ]
    },
    {
      "cell_type": "markdown",
      "metadata": {},
      "source": [
        "Black-Scholes Vanilla Put pricing:\n",
        "$$f(S):=(K-S)^{+}$$\n",
        "$$P(S,t)=P^{BS}(S,t,K,T,r-q,r,\\sigma)=Ke^{-rT}N(-d_2) - S_0N(-d_1)$$\n",
        "where\n",
        "$$d_{1,2}:=d_{+,-}:=\\frac{\\log(S_0e^{rT}/K)}{\\sigma\\sqrt T}\\pm\\frac{\\sigma\\sqrt T}2$$\n",
        "In our case $t=0$, $r=0$."
      ]
    },
    {
      "cell_type": "code",
      "execution_count": 12,
      "metadata": {},
      "outputs": [],
      "source": [
        "class VanillaPut:\n",
        "\n",
        "    def __init__(self, S, K, r, sigma, T):\n",
        "        self.S = S # S_0 stock price\n",
        "        self.K = K\n",
        "        self.r = r\n",
        "        self.sigma = sigma\n",
        "        self.T = T\n",
        "    \n",
        "    def get_price(self):\n",
        "        d1 = ((np.log(self.S / self.K) + self.r * self.T) / (self.sigma * np.sqrt(self.T))              \n",
        "              + 0.5 * self.sigma * np.sqrt(self.T))\n",
        "        d2 = ((np.log(self.S / self.K) + self.r * self.T) / (self.sigma * np.sqrt(self.T))              \n",
        "              - 0.5 * self.sigma * np.sqrt(self.T))\n",
        "        put_price = self.K * np.exp(-self.r * self.T) * norm.cdf(-d2) - self.S * norm.cdf(-d1)\n",
        "        \n",
        "        return put_price"
      ]
    },
    {
      "cell_type": "markdown",
      "metadata": {},
      "source": [
        "Up-and-in options are a type of exotic option that is often made available through specialized brokers to high-end clients in the over-the-counter (OTC) markets. The option features both a strike price and a barrier level. As the name suggests, the buyer of the option will benefit once the price of the underlying rises high enough to reach (knock-in) the designated barrier price level. Otherwise, the option will expire worthless.\n",
        "1. An up-and-in option will give the holder the right to exercise when the barrier price level is reached or exceeded, depending on the structuring.\n",
        "1. Knock-in options can be either up-and-in or down-and-in. This implies whether the price will rise or fall to meet the barrier price level. The barrier price, when crossed, makes the option available for exercise. \n",
        "\n",
        "Payout of up-and-in put\n",
        "$$C(\\text{up-and-out put}) + C(\\text{up-and-in put}) = C(\\text{vanilla put})$$\n",
        "\n",
        "Explanation:\n",
        "- Why we can't naively flip the sign? It might be tempting to simply flip the sign of the option price as compared to the barrier. However, this will result in the entire tree to have too many zeros\n",
        "- The equation works for the following reason. A vanilla put is always exercisable by definition, which is different from getting a positive payoff. Whether an exotic barrier option is exercisable or not determines whether the holder is eligible to taking the payoff. An up-and-out put is exercisable if the stock price has never exceeded the barrier, but an up-and-in put is exercisable if the stock price has always stayed in. These two cases are disjoint, so them together makes up for the pricing of the vanilla option."
      ]
    },
    {
      "cell_type": "code",
      "execution_count": 13,
      "metadata": {},
      "outputs": [
        {
          "name": "stdout",
          "output_type": "stream",
          "text": [
            "Price of an Up and Out Put Option: 0.21799495741079866\n"
          ]
        }
      ],
      "source": [
        "hw1tree=TreeEngine(N=1000) # insufficient\n",
        "# hw1tree=TreeEngine(N=5000)\n",
        "\n",
        "hw1vanilla = VanillaPut(S=100, K=95, r=0, sigma=0.4, T=0.25)\n",
        "vanilla_put_price = hw1vanilla.get_price()\n",
        "up_and_in_put_price = vanilla_put_price - up_and_out_put_price\n",
        "print(f\"Price of an Up and Out Put Option: {up_and_in_put_price}\")"
      ]
    },
    {
      "cell_type": "markdown",
      "metadata": {},
      "source": [
        "### `1c`: continuous monitoring"
      ]
    },
    {
      "cell_type": "markdown",
      "metadata": {},
      "source": [
        "`c1`: Smaller than, because options are more likely to get knocked out to zero price, reducing the backtracking average."
      ]
    },
    {
      "cell_type": "markdown",
      "metadata": {},
      "source": [
        "`c2`: The continuously monitored barrier option can be replicated by a portfolio of T-expiry options, long 1 plain vanilla put struck at 95, and short α plain vanilla calls struck at 136.8. \n",
        "$$(95-S_{0.25})^+\\mathbf{1}(\\max_{0\\leq t\\leq0.25}S_t<114)$$\n",
        "- Long 1 vanilla put payoff $(95-S_{0.25})^+$\n",
        "- Short $\\alpha$ vanilla call payoff $(S_{0.25}- 136.8)^+$\n",
        "\n",
        "At expiry, the replication automatically works because if the barrier was never exceeded, the call pays nothing and one only gets vanilla put. On the other hand, if the barrier has been crossed, up till that point the option acts like a vanilla put, and after that the holder exit the portfolio, which is the same behavior as the barrier put option. \n",
        "\n",
        "At the point in time where the stock price crosses the threshold, to replicate by balancing out the risks \n",
        "$$1\\cdot (95-S) -\\alpha \\cdot (S-136.8)=0$$\n",
        "Plugging in $S=114$, we have $\\alpha =0.833$."
      ]
    },
    {
      "cell_type": "code",
      "execution_count": 14,
      "metadata": {},
      "outputs": [
        {
          "name": "stdout",
          "output_type": "stream",
          "text": [
            "The time-0 value of the continuously-monitored barrier option is: 5.031526430574063\n"
          ]
        }
      ],
      "source": [
        "alpha = (95 - 114) / (114 - 136.8)\n",
        "put_price_0 = VanillaPut(S=100, K=95, r=0, sigma=0.4, T=0.25).get_price()\n",
        "call_price_0 = VanillaCall(S=100, K=136.8, r=0, sigma=0.4, T=0.25).get_price()\n",
        "print(f\"The time-0 value of the continuously-monitored barrier option is: {put_price_0 - alpha * call_price_0}\")"
      ]
    },
    {
      "cell_type": "code",
      "execution_count": null,
      "metadata": {},
      "outputs": [],
      "source": []
    },
    {
      "cell_type": "markdown",
      "metadata": {
        "id": "_uVXGWC0aJEb"
      },
      "source": [
        "# Problem 2"
      ]
    },
    {
      "cell_type": "code",
      "execution_count": 15,
      "metadata": {
        "id": "ty9eGSAyaJEb"
      },
      "outputs": [],
      "source": [
        "# uses the same GBMdynamics class as in Problem 1"
      ]
    },
    {
      "cell_type": "code",
      "execution_count": 16,
      "metadata": {
        "id": "bGJcARkZaJEb"
      },
      "outputs": [],
      "source": [
        "class CallOption:\n",
        "\n",
        "    def __init__(self, K, T, price=None):\n",
        "        self.K = K\n",
        "        self.T = T\n",
        "        self.price = price"
      ]
    },
    {
      "cell_type": "code",
      "execution_count": 17,
      "metadata": {
        "id": "ykgmm3cseKDt"
      },
      "outputs": [],
      "source": [
        "class AnalyticEngine:\n",
        "\n",
        "    def __init__(self):\n",
        "        pass\n",
        "\n",
        "    def BSpriceCall(self, dynamics, contract):\n",
        "        # ignores contract.price if given, because this function calculates price based on the dynamics\n",
        "\n",
        "        F = dynamics.S*np.exp(dynamics.rGrow*contract.T)\n",
        "        std = dynamics.sigma*np.sqrt(contract.T)\n",
        "        d1 = np.log(F/contract.K)/std+std/2\n",
        "        d2 = d1-std\n",
        "        return np.exp(-dynamics.r*contract.T)*(F*norm.cdf(d1)-contract.K*norm.cdf(d2))\n",
        "\n",
        "    def IV(self, dynamics, contract):\n",
        "        # ignores dynamics.sigma, because this function solves for sigma.\n",
        "\n",
        "        if contract.price is None:\n",
        "            raise ValueError('Contract price must be given')\n",
        "\n",
        "        df = np.exp(-dynamics.r*contract.T)  #discount factor\n",
        "        F = dynamics.S / df\n",
        "        lowerbound = np.max([0,(F-contract.K)*df])\n",
        "        C = contract.price\n",
        "        if C<lowerbound:\n",
        "            return np.nan\n",
        "        if C==lowerbound:\n",
        "            return 0\n",
        "        if C>=F*df:\n",
        "            return np.nan\n",
        "\n",
        "        dytry = copy(dynamics)\n",
        "        # We \"try\" values of sigma until we find sigma that generates price C\n",
        "\n",
        "        # First find lower and upper bounds\n",
        "        sigma_try = 0.2\n",
        "        while self.BSpriceCall(dytry.update_sigma(sigma_try),contract)>C:\n",
        "            sigma_try /= 2\n",
        "        while self.BSpriceCall(dytry.update_sigma(sigma_try),contract)<C:\n",
        "            sigma_try *= 2\n",
        "        hi = sigma_try\n",
        "        lo = hi/2\n",
        "        # We have calculated \"lo\" and \"hi\" which bound the implied volatility from below and above.\n",
        "        # In other words, the implied volatility is somewhere in the interval [lo,hi].\n",
        "        # Then, to calculate the implied volatility within that interval,\n",
        "        # for purposes of this homework, you may either (A) write your own bisection algorithm,\n",
        "        # or (B) use scipy.optimize.bisect or (C) use scipy.optimize.brentq\n",
        "        # You will need to provide lo and hi to those solvers.\n",
        "        # There are other solvers that do not require you to bound the solution\n",
        "        # from below and above (for instance, scipy.optimize.fsolve is a useful solver).\n",
        "        # However, if you are able to bound the solution (of a single-variable problem),\n",
        "        # then bisection or Brent will be more reliable.\n",
        "\n",
        "        # Option B: use scipy.optimize.bisect\n",
        "        # Need to pass the function that takes the implied volatility as a single argument\n",
        "        # Define a function for the call price as a function of sigma\n",
        "        def func(sigma):\n",
        "            return self.BSpriceCall(dytry.update_sigma(sigma), contract) - C\n",
        "\n",
        "        impliedVolatility = bisect(func, lo, hi)\n",
        "\n",
        "        return impliedVolatility\n"
      ]
    },
    {
      "cell_type": "markdown",
      "metadata": {},
      "source": [
        "### `2a`: time-0 Black-Scholes IV\n",
        "- for a European call on $S$ at 0.5-year expiry \n",
        "- for a European call on $S$ at 1-year expiry "
      ]
    },
    {
      "cell_type": "code",
      "execution_count": 18,
      "metadata": {
        "id": "17EZED_TaJEc"
      },
      "outputs": [
        {
          "name": "stdout",
          "output_type": "stream",
          "text": [
            "11.246291601828489\n",
            "15.851941887820608\n"
          ]
        }
      ],
      "source": [
        "#Test the BSpriceCall function\n",
        "hw1analytic = AnalyticEngine()\n",
        "\n",
        "# new code\n",
        "dynamics1 = GBMdynamics(sigma=0.4, rGrow=0, S=100, r=0)\n",
        "contract1 = CallOption(K=100, T=0.5)\n",
        "callprice1 = hw1analytic.BSpriceCall(dynamics1, contract1)\n",
        "print(callprice1)\n",
        "\n",
        "dynamics2 = GBMdynamics(sigma=0.4, rGrow=0, S=100, r=0)\n",
        "contract2 = CallOption(K=100, T=1)\n",
        "callprice2 = hw1analytic.BSpriceCall(dynamics2,contract2)\n",
        "print(callprice2)"
      ]
    },
    {
      "cell_type": "code",
      "execution_count": 19,
      "metadata": {
        "id": "FJQkc6dXaJEc"
      },
      "outputs": [
        {
          "name": "stdout",
          "output_type": "stream",
          "text": [
            "IV for a European call on $S$ at 0.5-year expiry: 0.40013278092228577\n",
            "IV for a European call on $S$ at 1-year expiry: 0.3019384309925955\n"
          ]
        }
      ],
      "source": [
        "#Test the IV function\n",
        "contract1.price = 11.25\n",
        "contract2.price = 12\n",
        "hw1IV1 = hw1analytic.IV(dynamics1,contract1)    # This code, EXACTLY AS WRITTEN HERE, must execute without crashing\n",
        "hw1IV2 = hw1analytic.IV(dynamics2,contract2)    # This code, EXACTLY AS WRITTEN HERE, must execute without crashing\n",
        "print(f\"IV for a European call on $S$ at 0.5-year expiry: {hw1IV1}\")\n",
        "print(f\"IV for a European call on $S$ at 1-year expiry: {hw1IV2}\")"
      ]
    },
    {
      "cell_type": "markdown",
      "metadata": {},
      "source": [
        "### `2b`: IV average\n",
        "- If we assume the pricing for a European call at 0.75-year expiry is the arithmetic average of one at 1-year expiry and one at 0.5-year expiry"
      ]
    },
    {
      "cell_type": "code",
      "execution_count": 26,
      "metadata": {
        "id": "w480Jqp6UcZm"
      },
      "outputs": [
        {
          "name": "stdout",
          "output_type": "stream",
          "text": [
            "IV for a European call on $S$ at 0.75-year expiry: 0.35103560595744066\n"
          ]
        }
      ],
      "source": [
        "hw1IV3 = (hw1IV1 + hw1IV2) / 2\n",
        "print(f\"IV for a European call on $S$ at 0.75-year expiry: {hw1IV3}\")"
      ]
    },
    {
      "cell_type": "code",
      "execution_count": 28,
      "metadata": {},
      "outputs": [
        {
          "name": "stdout",
          "output_type": "stream",
          "text": [
            "Pricing of a European call on $S$ at 0.75-year expiry: 12.081533286253702\n"
          ]
        }
      ],
      "source": [
        "dynamics3 = GBMdynamics(sigma=hw1IV3, rGrow=0, S=100, r=0)\n",
        "contract3 = CallOption(K=100, T=0.75)\n",
        "pricing3 = hw1analytic.BSpriceCall(dynamics3,contract3)\n",
        "print(f\"Pricing of a European call on $S$ at 0.75-year expiry: {pricing3}\")"
      ]
    },
    {
      "cell_type": "markdown",
      "metadata": {},
      "source": [
        "### `2c`: arbitrage"
      ]
    },
    {
      "cell_type": "markdown",
      "metadata": {},
      "source": [
        "Assume the $T=0.75$ is overpriced than $T=0.5$ or $T=1$ option. So our portfolio consists of short 2 of $C(S,K,T=0.75)$ and long 1 of $C(S,K,T=0.5)$ and long 1 of $C(S,K,T=1)$. A profit is held at the beginning.\n",
        "\n",
        "At expiry, since our algorithm assumes a stock dynamics guided by the Black-Scholes model, the expiry payoff is non-negative in all cases. This results in an arbitrage.\n"
      ]
    },
    {
      "cell_type": "markdown",
      "metadata": {},
      "source": []
    }
  ],
  "metadata": {
    "anaconda-cloud": {},
    "colab": {
      "provenance": []
    },
    "kernelspec": {
      "display_name": "Python 3",
      "language": "python",
      "name": "python3"
    },
    "language_info": {
      "codemirror_mode": {
        "name": "ipython",
        "version": 3
      },
      "file_extension": ".py",
      "mimetype": "text/x-python",
      "name": "python",
      "nbconvert_exporter": "python",
      "pygments_lexer": "ipython3",
      "version": "3.9.12"
    },
    "toc": {
      "base_numbering": 1,
      "nav_menu": {},
      "number_sections": true,
      "sideBar": true,
      "skip_h1_title": false,
      "title_cell": "Table of Contents",
      "title_sidebar": "Contents",
      "toc_cell": false,
      "toc_position": {},
      "toc_section_display": true,
      "toc_window_display": false
    }
  },
  "nbformat": 4,
  "nbformat_minor": 0
}
