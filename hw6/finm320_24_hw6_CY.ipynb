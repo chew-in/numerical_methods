{
  "cells": [
    {
      "cell_type": "code",
      "execution_count": 23,
      "metadata": {
        "id": "Dcd4oWAt46DD"
      },
      "outputs": [],
      "source": [
        "import numpy as np\n",
        "from scipy.stats import norm\n"
      ]
    },
    {
      "cell_type": "markdown",
      "metadata": {
        "id": "Jeby0NCp46DE"
      },
      "source": [
        "## Problem 1"
      ]
    },
    {
      "cell_type": "markdown",
      "metadata": {},
      "source": [
        "Let $S$ be the column vector with components $S^{[1]}$, $S^{[2]}$, where the stock prices $S^{[j]}$ have risk-neutral dynamics\n",
        "$$\\mathrm{d}S_t^{[j]}=rS_t^{[j]}\\mathrm{d}t+\\sigma_{[j]}S_t^{[j]}\\mathrm{d}W_t^{[j]}\\quad j=1,2$$\n",
        "with risk-free interest rate $r = 0.05$, and constant volatilities $\\sigma_{[1]} = 0.3$, $\\sigma_{[2]} = 0.2$.\n",
        "The time-0 prices are $S_0^{[1]} = 100$, $S_0^{[2]} = 110$. The P-Brownian motions $W^{[1]}$ and $W^{[2]}$ have correlation $\\rho = 0.8$.\n"
      ]
    },
    {
      "cell_type": "markdown",
      "metadata": {},
      "source": [
        "`1a`\n",
        "\n",
        "Question:\n",
        "\n",
        "Let $X$ be the column vector with components $X^{[1]}$, $X^{[2]}$ where $X^{[j]}:= \\log S^{[j]}$. Find the covariance matrix of $X_T$.\n",
        "\n",
        "Hint: One approach is to manually fill in the covariance matrix, using relationships such as\n",
        "$Cov(W_T^{[1]}, W_T^{[2]}) = 0.8T$ in combination with the volatilities.\n",
        "\n",
        "Another approach is to use matrix multiplication: write $X_T$ as a nonrandom vector plus $\\Sigma W_T$ where $\\Sigma$ is the nonrandom diagonal matrix with diagonal elements $\\sigma_{[1]}, \\sigma_{[2]}$, and $W$ is the random column vector with components $W^{[1]}, W^{[2]}$. Then $Cov(X_T ) = \\mathbb{E}(\\Sigma X_T X_T^\\top ) = \\mathbb{E}(\\Sigma W_T W_T^\\top \\Sigma^\\top) = \\Sigma Cov(W_T)\\Sigma^\\top = T \\Sigma Corr(W_T)\\Sigma^\\top$."
      ]
    },
    {
      "cell_type": "markdown",
      "metadata": {},
      "source": [
        "Answer:\n",
        "\n",
        "- $R_t=r S_t^{[j]}$\n",
        "- $A_t=\\sigma_{[j]} S_t^{[j]}$\n",
        "- $\\partial_t X^{[j]} = 0$\n",
        "- $\\partial_s X^{[j]} = \\frac{1}{S^{[j]}}$\n",
        "- $\\partial_{ss} X^{[j]} = -\\frac{1}{(S^{[j]})^2}$\n",
        "\n",
        "By Ito’s formula - \n",
        "$$\\begin{aligned}\n",
        "dX^{[j]}(S_t, t) &= \\left[ \\partial_t X^{[j]}(S_t, t) + R_t \\partial_{s} X^{[j]}(S_t, t) + \\frac{A_t^2}{2} \\partial_{ss} X^{[j]}(S_t, t) \\right]dt + A_t \\partial_{s} X^{[j]}(S_t, t) dW_t \\\\\n",
        "dX^{[j]}(S_t, t) &= \\left[ r S_t^{[j]} \\frac{1}{S^{[j]}} - \\frac{(\\sigma_{[j]} S_t^{[j]})^2}{2} \\cdot \\frac{1}{(S^{[j]})^2}\\right]dt + \\sigma_{[j]} S_t^{[j]}  \\frac{1}{S^{[j]}} dW_t \\\\\n",
        "\\end{aligned}$$\n",
        "\n",
        "$$dX^{[j]}(S_t, t) = \\left[ r - \\frac{\\sigma_{[j]}^2}{2} \\right]dt + \\sigma_{[j]} dW_t $$\n",
        "Expand it,\n",
        "$$dX^{[1]}(S_t, t) = \\left[ r - \\frac{\\sigma_{[1]}^2}{2} \\right]dt + \\sigma_{[1]} dW_t $$\n",
        "$$dX^{[2]}(S_t, t) = \\left[ r - \\frac{\\sigma_{[2]}^2}{2} \\right]dt + \\sigma_{[2]} dW_t $$\n",
        "\n",
        "Let $M$ be the covariance matrix of $X_T$, then\n",
        "$$M = Cov(X_T, X_T) = \\mathbb{E}[X_T X_T^\\top] = \\mathbb{E}\\begin{pmatrix}\n",
        "(X_T^{[1]})^2 & X_T^{[1]}X_T^{[2]} \\\\\n",
        "X_T^{[1]}X_T^{[2]} & (X_T^{[2]})^2\n",
        "\\end{pmatrix} = \n",
        "\\begin{pmatrix}\n",
        "\\sigma_{[1]}^2 (W_T^{[1]})^2 & \\sigma_{[1]}\\sigma_{[2]} W_T^{[1]}W_T^{[2]} \\\\\n",
        "\\sigma_{[1]}\\sigma_{[2]} W_T^{[1]}W_T^{[2]} & \\sigma_{[2]}^2(W_T^{[2]})^2\n",
        "\\end{pmatrix} =\n",
        "\\begin{pmatrix}\n",
        "\\sigma_{[1]}^2 T & \\sigma_{[1]}\\sigma_{[2]}\\rho T\\\\\n",
        "\\sigma_{[1]}\\sigma_{[2]} \\rho T & \\sigma_{[2]}^2 T\n",
        "\\end{pmatrix} \n",
        "\n",
        "$$\n",
        "Since only the terms from two $dW_t$'s multiplying together would survive."
      ]
    },
    {
      "cell_type": "markdown",
      "metadata": {},
      "source": [
        "Consider a basket $H := \\frac12S^{[1]} + \\frac12S^{[2]}$ of one-half of a share of each stock."
      ]
    },
    {
      "cell_type": "markdown",
      "metadata": {},
      "source": [
        "`1b`\n",
        "\n",
        "Question:\n",
        "\n",
        "Using 10000 standard Monte Carlo simulations, estimate the time-0 price $C$ of an option that pays $(H_T − 110)^+$ at time $T = 1.0$. Also give the standard error [the sample standard deviation, divided by the square root of the number of simulations] of your Monte Carlo estimate.\n",
        "\n",
        "You may either use a random number generator that produces normals with a given covariance matrix (which you found in (a)), or alternatively use a random number generator that produces independent normals which you then transform to introduce correlation.\n",
        "\n",
        "In either approach, each of the 10000 simulations should use just one $\\mathbb{R}^2$-valued random vector $Z$ of simulated normal zero-mean random variables."
      ]
    },
    {
      "cell_type": "markdown",
      "metadata": {},
      "source": [
        "Answer:\n",
        "\n"
      ]
    },
    {
      "cell_type": "markdown",
      "metadata": {},
      "source": [
        "### Monte Carlo Algorithm - ordinary\n",
        "Let $Y$ be the discounted payoff of the basket $H$ consisting of one-half of a share of each stock $S^{[j]}$, $H = \\frac12S^{[1]} + \\frac12S^{[2]}$.\n",
        "\n",
        "In our case, \n",
        "$$\n",
        "\\begin{aligned}X_t&=\\log(S_t)\\\\\n",
        "dX_t &= \\left[ r - \\frac{\\sigma^2}{2} \\right]dt + \\sigma dW_t\n",
        "\\end{aligned}\n",
        "$$\n",
        "\n",
        "In our algorithm, since $X_T - X_0$ is known to be multivariate normal, and the option payoff depends only on $X_T$, it is not necessary to simulate the entire path. Below is our algorithm:\n",
        "- Initialize the $m$-th Monte Carlo simulation:\n",
        "$$X_0^{[j]} = \\log(S_0^{[j]})$$\n",
        "- Each stock has time dynamics of geometric Brownian motion:\n",
        "$$dX_t^{[j]} = \\left[ r - \\frac{\\sigma_{[j]}^2}{2} \\right]dt + \\sigma_{[j]} dW_t^{[j]}$$\n",
        "- Final log-stock price: \n",
        "   - $$X_T^{[j]} = X_0^{[j]} + \\left(r - \\frac{\\sigma_{[j]}^2}{2}\\right) T+\\left(L\\sqrt{T}Z\\right)^{[j]} $$ \n",
        "   - where $Z$ is IID standard normal, $LL^\\top=M$ and $MT$ is the covariance matrix for $X_T$.\n",
        "   - Dimension of $X_T$ is $D\\times 1$, $X_0$ is $D\\times 1$, $\\mu T$ is $D\\times 1$, $L\\sqrt{T}$ is $D\\times D$, $Z$ is $D\\times 1$.\n",
        "- Final stock price: \n",
        "$$S_{T}^{[j]} = \\exp(X_T^{[j]})$$\n",
        "- Discounted call price: \n",
        "$$Y = e^{-rT}(H_{T} - K)^+ =e^{-rT}\\left(\\frac12 S_{T}^{[1]} + \\frac12 S_{T}^{[2]} - K\\right)^+ $$\n",
        "- Repeat this $M$ times\n",
        "- Monte Carlo estimate of the time-0 call price: \n",
        "$$\\hat C_M:=\\frac{Y_1+Y_2+\\cdots+Y_M}M$$\n",
        "\n",
        "Implementation note:\n",
        "- `numpy.random.Generator.multivariate` normal generates $LZ$, which will be our approach below\n",
        "- `numpy.linalg.cholesky` returns $L$ given $M$"
      ]
    },
    {
      "cell_type": "code",
      "execution_count": 24,
      "metadata": {},
      "outputs": [],
      "source": [
        "class MultiGBM:\n",
        "\n",
        "    def __init__(self, S0, r, correlations, sigma):\n",
        "        self.S0 = S0\n",
        "        self.r = r\n",
        "        self.correlations = correlations\n",
        "        self.sigma = sigma"
      ]
    },
    {
      "cell_type": "code",
      "execution_count": 25,
      "metadata": {},
      "outputs": [],
      "source": [
        "hw6p1dynamics = MultiGBM(S0=np.array([100, 110]),\n",
        "                         r=0.05,\n",
        "                         correlations=np.array([[1, 0.8], [0.8, 1]]),\n",
        "                         sigma=np.diag([0.3, 0.2]))"
      ]
    },
    {
      "cell_type": "code",
      "execution_count": 26,
      "metadata": {},
      "outputs": [],
      "source": [
        "class CallOnBasket:\n",
        "\n",
        "    def __init__(self, K, T, weights):\n",
        "        self.K = K\n",
        "        self.T = T\n",
        "        self.weights = weights"
      ]
    },
    {
      "cell_type": "code",
      "execution_count": 27,
      "metadata": {},
      "outputs": [],
      "source": [
        "hw6p1contract=CallOnBasket(K=110, T=1.0, weights = np.array([1/2, 1/2]))"
      ]
    },
    {
      "cell_type": "code",
      "execution_count": 28,
      "metadata": {},
      "outputs": [],
      "source": [
        "class MCengine:\n",
        "\n",
        "    def __init__(self, M, antithetic, control, seed):\n",
        "        self.M = M                                  # How many simulations\n",
        "        self.antithetic = antithetic\n",
        "        self.control = control\n",
        "        self.rng = np.random.default_rng(seed=seed) # Seeding the random number generator with a specified number helps make the calculations reproducible\n",
        "\n",
        "    def price_callonbasket_multiGBM(MC, contract, dynamics):\n",
        "        # You complete the coding of this function.\n",
        "        # self.rng.multivariate_normal may be useful.\n",
        "        # See documentation for numpy.random.Generator.multivariate_normal\n",
        "        # as self.rng is an instance of numpy.random.Generator\n",
        "\n",
        "        # You are not required to support the case where MC.control = MC.antithetic = True\n",
        "        # (simultaneous use of control variate and antithetic)\n",
        "        # But you are required to support the other 3 possible settings of MC.antithetic/MC.control\n",
        "        # namely False/False, True/False, False/True.\n",
        "        # (ordinary MC, antithetic without control, control without antithetic)\n",
        "\n",
        "        S0 = dynamics.S0\n",
        "        r = dynamics.r\n",
        "        sigma = dynamics.sigma\n",
        "        T = contract.T\n",
        "        correlations = dynamics.correlations\n",
        "        weights = contract.weights\n",
        "        K = contract.K\n",
        "\n",
        "        cov = sigma @ correlations @ sigma\n",
        "        L = np.linalg.cholesky(cov)\n",
        "\n",
        "        # Generate normal random variables\n",
        "        Z = MC.rng.standard_normal(size=(MC.M, len(S0)))\n",
        "\n",
        "        # Generate asset prices at maturity\n",
        "        S_T = S0 * np.exp((r - 0.5 * np.diag(sigma) ** 2) * T + (L @ Z.T).T * np.sqrt(T))\n",
        "\n",
        "        # Calculate basket price at maturity\n",
        "        basket_prices = np.dot(S_T, weights)\n",
        "\n",
        "        # Calculate the payoff\n",
        "        discount_payoffs = np.exp(-r * T) * np.maximum(basket_prices - K, 0)\n",
        "\n",
        "        if MC.antithetic:\n",
        "            Z_av = -Z\n",
        "            S_T_av = S0 * np.exp((r - 0.5 * np.diag(sigma) ** 2) * T + (L @ Z_av.T).T * np.sqrt(T))\n",
        "            basket_prices_av = np.dot(S_T_av, weights)\n",
        "            discount_payoffs_av = np.exp(-r * T) * np.maximum(basket_prices_av - K, 0)\n",
        "        \n",
        "        if MC.control:\n",
        "            # Expected mean of control variate, by Black-Scholes formula\n",
        "            class GBMdynamics:\n",
        "                def __init__(self, S, r, rGrow, sigma=None):\n",
        "                    self.S = S\n",
        "                    self.r = r\n",
        "                    self.rGrow = rGrow\n",
        "                    self.sigma = sigma\n",
        "\n",
        "                def update_sigma(self, sigma):\n",
        "                    self.sigma = sigma\n",
        "                    return self\n",
        "                \n",
        "            class CallOption:\n",
        "                def __init__(self, K, T, price=None):\n",
        "                    self.K = K\n",
        "                    self.T = T\n",
        "                    self.price = price\n",
        "\n",
        "            class AnalyticEngine:\n",
        "                def __init__(self):\n",
        "                    pass\n",
        "\n",
        "                def BSpriceCall(self, dynamics, contract):\n",
        "                    # ignores contract.price if given, because this function calculates price based on the dynamics\n",
        "\n",
        "                    F = dynamics.S*np.exp(dynamics.rGrow*contract.T)\n",
        "                    std = dynamics.sigma*np.sqrt(contract.T)\n",
        "                    d1 = np.log(F/contract.K)/std+std/2\n",
        "                    d2 = d1-std\n",
        "                    return np.exp(-dynamics.r*contract.T)*(F*norm.cdf(d1)-contract.K*norm.cdf(d2))\n",
        "            \n",
        "            # Calculate analytical control payoff expectation\n",
        "            control_analytic = AnalyticEngine()\n",
        "            control_dynamics = GBMdynamics(S=S0.prod()**0.5, \n",
        "                                        rGrow=r - (np.sum(sigma ** 2) - 2 * cov[0][1]) / 8, \n",
        "                                        r=r, \n",
        "                                        sigma=np.sum(cov) ** 0.5 / 2)\n",
        "            control_contract = CallOption(K=110, T=1.0)\n",
        "            control_analytic_payoff = control_analytic.BSpriceCall(control_dynamics, control_contract)\n",
        "            \n",
        "            # Calculate control basket price at maturity\n",
        "            control_basket_prices = np.prod(S_T, axis=1)**0.5\n",
        "\n",
        "            # Calculate the payoff\n",
        "            control_discount_payoffs = np.exp(-r * T) * np.maximum(control_basket_prices - K, 0)\n",
        "\n",
        "            # Calculate the price with control variate\n",
        "            cov_payoff_control = np.cov(discount_payoffs, control_discount_payoffs)[0, 1]\n",
        "            var_control = np.var(control_discount_payoffs)\n",
        "            beta = cov_payoff_control / var_control\n",
        "\n",
        "            adjusted_payoffs = discount_payoffs + beta * (control_analytic_payoff - control_discount_payoffs)\n",
        "            discount_payoffs = adjusted_payoffs\n",
        "\n",
        "        call_price = np.mean(discount_payoffs)\n",
        "        standard_error = np.std(discount_payoffs) / np.sqrt(MC.M)\n",
        "\n",
        "        if MC.antithetic:\n",
        "            call_price_av = np.array([discount_payoffs, discount_payoffs_av]).mean(axis=0)\n",
        "            call_price = np.mean(call_price_av)\n",
        "            standard_error = np.std(call_price_av) / np.sqrt(MC.M)\n",
        "\n",
        "\n",
        "        return(call_price, standard_error)"
      ]
    },
    {
      "cell_type": "code",
      "execution_count": 29,
      "metadata": {},
      "outputs": [
        {
          "name": "stdout",
          "output_type": "stream",
          "text": [
            "Call price, price std, of ordinary MC:  9.983294077510442 0.16496212753829412\n"
          ]
        }
      ],
      "source": [
        "hw6p1bMC=MCengine(M=10000, antithetic=False, control=False, seed=0)\n",
        "(call_price_ordinary, std_err_ordinary) = hw6p1bMC.price_callonbasket_multiGBM(hw6p1contract, hw6p1dynamics)\n",
        "print(\"Call price, price std, of ordinary MC: \", call_price_ordinary, std_err_ordinary)"
      ]
    },
    {
      "cell_type": "markdown",
      "metadata": {},
      "source": [
        "`1c`\n",
        "\n",
        "Question:\n",
        "\n",
        "Use 10000 antithetic pairs $(Z,−Z)$ to estimate $C$, together with a standard error (L5.30)."
      ]
    },
    {
      "cell_type": "markdown",
      "metadata": {},
      "source": [
        "### Monte Carlo Algorithm - antithetic variates\n",
        "Let $Y$ be the discounted payoff of the basket $H$ consisting of one-half of a share of each stock $S^{[j]}$, $H = \\frac12S^{[1]} + \\frac12S^{[2]}$.\n",
        "\n",
        "In our case, \n",
        "$$\n",
        "\\begin{aligned}X_t&=\\log(S_t)\\\\\n",
        "dX_t &= \\left[ r - \\frac{\\sigma^2}{2} \\right]dt + \\sigma dW_t\n",
        "\\end{aligned}\n",
        "$$\n",
        "\n",
        "In our algorithm, since $X_T - X_0$ is known to be multivariate normal, and the option payoff depends only on $X_T$, it is not necessary to simulate the entire path. Below is our algorithm:\n",
        "- Initialize the $m$-th Monte Carlo simulation:\n",
        "$$X_0^{[j]} = \\log(S_0^{[j]})$$\n",
        "- Each stock has time dynamics of geometric Brownian motion:\n",
        "$$dX_t^{[j]} = \\left[ r - \\frac{\\sigma_{[j]}^2}{2} \\right]dt + \\sigma_{[j]} dW_t^{[j]}$$\n",
        "- Generate antithetic-variate:\n",
        "$$Z, \\tilde{Z}$$\n",
        "- Final log-stock price: \n",
        "   - $$X_T^{[j]} = X_0^{[j]} + \\left(r - \\frac{\\sigma_{[j]}^2}{2}\\right) T+\\left(L\\sqrt{T}Z\\right)^{[j]} $$ \n",
        "   - $$\\tilde{X_T^{[j]}} = X_0^{[j]} + \\left(r - \\frac{\\sigma_{[j]}^2}{2}\\right) T+\\left(L\\sqrt{T}\\tilde{Z}\\right)^{[j]} $$ \n",
        "   - where $Z = -\\tilde{Z}$ is IID standard normal, $LL^\\top=M$ and $MT$ is the covariance matrix for $X_T$.\n",
        "   - Dimension of $X_T$ is $D\\times 1$, $X_0$ is $D\\times 1$, $\\mu T$ is $D\\times 1$, $L\\sqrt{T}$ is $D\\times D$, $Z$ is $D\\times 1$.\n",
        "- Final stock price:\n",
        "$$S_{T}^{[j]} = \\exp(X_T^{[j]})$$\n",
        "$$\\tilde{S_T}^{[j]} = \\exp(\\tilde{X_T}^{[j]})$$\n",
        "- Discounted call price:\n",
        "$$\\begin{aligned} Y &= e^{-rT}(H_{T} - K)^+ =e^{-rT}\\left(\\frac12 S_{T}^{[1]} + \\frac12 S_{T}^{[2]} - K\\right)^+ \\\\\n",
        "\\tilde{Y} &= e^{-rT}(\\tilde{H_{T}} - K)^+ =e^{-rT}\\left(\\frac12 \\tilde{S_T}^{[1]} + \\frac12 \\tilde{S_T}^{[2]} - K\\right)^+ \n",
        "\\end{aligned}$$\n",
        "- Average them:\n",
        "$$Y^{\\mathrm{av}} = \\frac{Y + \\tilde{Y}}{2}$$\n",
        "- Repeat this $M$ times\n",
        "- Monte Carlo estimate of the time-0 call price: \n",
        "$$\\hat C_M:=\\frac{Y^{\\mathrm{av}}_1+Y^{\\mathrm{av}}_2+\\cdots+Y^{\\mathrm{av}}_M}M$$\n"
      ]
    },
    {
      "cell_type": "code",
      "execution_count": 30,
      "metadata": {},
      "outputs": [
        {
          "name": "stdout",
          "output_type": "stream",
          "text": [
            "Call price, price std, of antithetic variate MC:  9.907786908965779 0.09448969258409289\n"
          ]
        }
      ],
      "source": [
        "hw6p1cMC=MCengine(M=10000,antithetic=True,control=False,seed=0)\n",
        "(call_price_AV, std_err_AV) = hw6p1cMC.price_callonbasket_multiGBM(hw6p1contract,hw6p1dynamics)\n",
        "print(\"Call price, price std, of antithetic variate MC: \", call_price_AV, std_err_AV)"
      ]
    },
    {
      "cell_type": "markdown",
      "metadata": {},
      "source": [
        "Consider the “geometric basket” $G := (S^{[1]}S^{[2]})^{1/2}$.\n",
        "\n",
        "`1d`\n",
        "\n",
        "Question:\n",
        "\n",
        "The random variable $\\log G_T$ is normally distributed (because it’s a linear transformation of a multivariate normal vector). Show that $\\log G_T$ has expectation\n",
        "$$\\frac12 \\log(S_0^{[1]}S_0^{[2]}) + \\left( r-\\frac{\\sigma_{[1]}^2 + \\sigma_{[2]}^2}{4}\\right)T$$\n",
        "\n",
        "and variance\n",
        "$$\\frac{\\sigma_{[1]}^2 + 2\\rho \\sigma_{[1]}\\sigma_{[2]}+ \\sigma_{[2]}^2}{4}T$$"
      ]
    },
    {
      "cell_type": "markdown",
      "metadata": {},
      "source": [
        "Answer:\n",
        "$$dX^{[1]} = \\left[ r - \\frac{\\sigma_{[1]}^2}{2} \\right]dt + \\sigma_{[1]} dW_t $$\n",
        "$$dX^{[2]} = \\left[ r - \\frac{\\sigma_{[2]}^2}{2} \\right]dt + \\sigma_{[2]} dW_t $$\n",
        "\n",
        "$$\\begin{aligned}\n",
        "\\mathbb{E}[\\log G_T] &= \\mathbb{E}[\\log(S_T^{[1]}S_T^{[2]})^{1/2}] \\\\\n",
        "&= \\frac12 \\mathbb{E}[\\log(S_T^{[1]}) + \\log(S_T^{[2]})] \\\\\n",
        "&= \\frac12 \\mathbb{E}\\left[\\log(S_0^{[1]} + \\Delta S_T^{[1]}) + \\log(S_0^{[2]}+ \\Delta S_T^{[2]})\\right] \\\\\n",
        "&= \\frac12 \\log(S_0^{[1]} S_0^{[2]}) + \\frac12 \\mathbb{E}\\left[\\log(\\Delta S_T^{[1]}) + \\log(\\Delta S_T^{[2]})\\right] \\\\\n",
        "&= \\frac12 \\log(S_0^{[1]} S_0^{[2]}) + \\frac12 \\mathbb{E}\\left[\\left(r - \\frac{\\sigma_{[1]}^2}{2}\\right) + \\left(r - \\frac{\\sigma_{[2]}^2}{2}\\right)\\right]T \\\\\n",
        "&= \\frac12 \\log(S_0^{[1]}S_0^{[2]}) + \\left( r-\\frac{\\sigma_{[1]}^2 + \\sigma_{[2]}^2}{4}\\right)T\n",
        "\\end{aligned}$$\n",
        "\n",
        "$$\\begin{aligned}\n",
        "Var[\\log G_T] &= Var[\\log(S_T^{[1]}S_T^{[2]})^{1/2}] \\\\\n",
        "&= Var\\left[\\frac12 \\log(S_T^{[1]}S_T^{[2]})\\right] \\\\\n",
        "&= \\frac14 Var\\left[ \\log(S_T^{[1]}) + \\log(S_T^{[2]})\\right] \\\\\n",
        "&= \\frac14 \\left[Var\\left[ \\log(S_T^{[1]})\\right] +2 Cov\\left[ \\log(S_T^{[1]}) \\log(S_T^{[2]})\\right] + Var\\left[\\log(S_T^{[2]})\\right]\\right] \\\\\n",
        "&= \\frac14 \\left[\\sigma_{[1]}^2 T  +2 \\rho \\sigma_{[1]}\\sigma_{[2]}T + \\sigma_{[2]}^2 T\\right] \\\\\n",
        "&= \\frac{\\sigma_{[1]}^2 + 2\\rho \\sigma_{[1]}\\sigma_{[2]}+ \\sigma_{[2]}^2}{4}T\n",
        "\\end{aligned}$$\n"
      ]
    },
    {
      "cell_type": "markdown",
      "metadata": {},
      "source": [
        "`1e`\n",
        "\n",
        "Question:\n",
        "\n",
        "Let $C^G$ be the time-0 price of a geometric basket option paying $(G_T −K)^+$ at time $T$.\n",
        "\n",
        "Express $C^G$ in terms of the function $C^{BS}$ defined in FINM 33000 L6. Specifically, fill in the\n",
        "\n",
        "$$C^G =C^{BS}(\\_\\_,0,K,T,\\_\\_,r,\\_\\_)$$\n",
        "\n",
        "Your answer should be a general formula, in which you have not substituted 0.8 for $\\rho$, etc. (You may also do the substitutions, but don’t neglect the general formula)."
      ]
    },
    {
      "cell_type": "markdown",
      "metadata": {},
      "source": [
        "Answer:\n",
        "$$\\begin{aligned}\n",
        "\\log X_T&\\sim\\mathrm{Normal}(\\log X_t+(R_{grow}-\\sigma^2/2)(T-t), \\sigma^2(T-t)) \\\\\n",
        "C^G &=C^{BS}(X_t,0,K,T,R_{grow},r,\\sigma)\n",
        "\\end{aligned}$$\n",
        "\n",
        "In our case,\n",
        "$$\\begin{aligned}\n",
        "t&=0 \\\\\n",
        "\\log G_T&\\sim\\mathrm{Normal}\\left(\\frac12 \\log(S_0^{[1]}S_0^{[2]}) + \\left( r-\\frac{\\sigma_{[1]}^2 + \\sigma_{[2]}^2}{4}\\right)T, \\frac{\\sigma_{[1]}^2 + 2\\rho \\sigma_{[1]}\\sigma_{[2]}+ \\sigma_{[2]}^2}{4}T\\right) \\\\\n",
        "&= \\mathrm{Normal}\\left(\\log G_0 + \\left( r-\\frac{\\sigma_{[1]}^2 + \\sigma_{[2]}^2}{4}\\right)T, \\frac{\\sigma_{[1]}^2 + 2\\rho \\sigma_{[1]}\\sigma_{[2]}+ \\sigma_{[2]}^2}{4}T\\right) \n",
        "\\end{aligned}$$\n",
        "\n",
        "Extracting coefficients,\n",
        "$$\\begin{aligned}\n",
        "X_t &= \\log G_0 \\\\\n",
        "R_{grow}-\\sigma^2/2 &= r-\\frac{\\sigma_{[1]}^2 + \\sigma_{[2]}^2}{4} \\\\\n",
        "\\sigma^2 &= \\frac{\\sigma_{[1]}^2 + 2\\rho \\sigma_{[1]}\\sigma_{[2]}+ \\sigma_{[2]}^2}{4} \n",
        "\\end{aligned}$$\n",
        "\n",
        "Setting equivalence,\n",
        "$$\\begin{aligned}\n",
        "R_{grow}  &= r-\\frac{\\sigma_{[1]}^2 - 2\\rho \\sigma_{[1]}\\sigma_{[2]}+ \\sigma_{[2]}^2}{8}  \\\\\n",
        "\n",
        "C^G &=C^{BS}\\left(G_0,0,K,T,r-\\frac{\\sigma_{[1]}^2 - 2\\rho \\sigma_{[1]}\\sigma_{[2]}+ \\sigma_{[2]}^2}{8},r,\\frac{\\sqrt{\\sigma_{[1]}^2 + 2\\rho \\sigma_{[1]}\\sigma_{[2]}+ \\sigma_{[2]}^2}}{2} \\right) \\\\\n",
        "\n",
        "\\end{aligned}$$\n"
      ]
    },
    {
      "cell_type": "markdown",
      "metadata": {},
      "source": [
        "`1f`\n",
        "\n",
        "Question:\n",
        "\n",
        "Using a geometric basket option as a control variate, run $M = 10000$ Monte Carlo simulations to estimate $C$, together with a standard error. Use the control variate estimate $\\hat{C}_M^{\\mathrm{cv},\\hat{\\beta}}$ from L6.7 or L6.8. Use the (asymptotically valid) standard error $\\hat{C}_M^{\\mathrm{cv},\\hat{\\beta}}/\\sqrt{M}$."
      ]
    },
    {
      "cell_type": "markdown",
      "metadata": {},
      "source": [
        "### Monte Carlo Algorithm - control variates\n",
        "Let $Y$ be the discounted payoff of the basket $H$ consisting of one-half of a share of each stock $S^{[j]}$, $H = \\frac12S^{[1]} + \\frac12S^{[2]}$. \n",
        "\n",
        "In our case, \n",
        "$$\n",
        "\\begin{aligned}X_t&=\\log(S_t)\\\\\n",
        "dX_t &= \\left[ r - \\frac{\\sigma^2}{2} \\right]dt + \\sigma dW_t\n",
        "\\end{aligned}\n",
        "$$\n",
        "\n",
        "In our algorithm, since $X_T - X_0$ is known to be multivariate normal, and the option payoff depends only on $X_T$, it is not necessary to simulate the entire path. Below is our algorithm:\n",
        "- Initialize the $m$-th Monte Carlo simulation:\n",
        "$$X_0^{[j]} = \\log(S_0^{[j]})$$\n",
        "- Each stock has time dynamics of geometric Brownian motion:\n",
        "$$dX_t^{[j]} = \\left[ r - \\frac{\\sigma_{[j]}^2}{2} \\right]dt + \\sigma_{[j]} dW_t^{[j]}$$\n",
        "- Consider the original basket, and the \"geometric basket\" as the control-variate:\n",
        "$$\\begin{aligned} H &:= \\frac12S^{[1]} + \\frac12S^{[2]} \\\\\n",
        "G &:= (S^{[1]}S^{[2]})^{1/2} \\end{aligned}$$\n",
        "- Final log-stock price: \n",
        "   - $$X_T^{[j]} = X_0^{[j]} + \\left(r - \\frac{\\sigma_{[j]}^2}{2}\\right) T+\\left(L\\sqrt{T}Z\\right)^{[j]} $$ \n",
        "   - where $Z$ is IID standard normal, $LL^\\top=M$ and $MT$ is the covariance matrix for $X_T$.\n",
        "   - Dimension of $X_T$ is $D\\times 1$, $X_0$ is $D\\times 1$, $\\mu T$ is $D\\times 1$, $L\\sqrt{T}$ is $D\\times D$, $Z$ is $D\\times 1$.\n",
        "- Final stock price:\n",
        "$$S_{T}^{[j]} = \\exp(X_T^{[j]})$$\n",
        "- Note that the random variable $\\log G_T$ is normally distributed:\n",
        "$$\\log G_T \\sim\\mathrm{Normal}\\left(\\frac12 \\log(S_0^{[1]}S_0^{[2]}) + \\left( r-\\frac{\\sigma_{[1]}^2 + \\sigma_{[2]}^2}{4}\\right)T, \\frac{\\sigma_{[1]}^2 + 2\\rho \\sigma_{[1]}\\sigma_{[2]}+ \\sigma_{[2]}^2}{4}T\\right)$$\n",
        "- The expected payoff of the control variate is provided by the Black-Scholes formula:\n",
        "$$C^* := C^G =C^{BS}\\left(G_0,0,K,T,r-\\frac{\\sigma_{[1]}^2 - 2\\rho \\sigma_{[1]}\\sigma_{[2]}+ \\sigma_{[2]}^2}{8},r,\\frac{\\sqrt{\\sigma_{[1]}^2 + 2\\rho \\sigma_{[1]}\\sigma_{[2]}+ \\sigma_{[2]}^2}}{2} \\right)$$\n",
        "- Discounted call price for the original, and the control-variate:\n",
        "$$\\begin{aligned} Y &= e^{-rT}(H_{T} - K)^+ =e^{-rT}\\left(\\frac12S^{[1]} + \\frac12S^{[2]} - K\\right)^+ \\\\\n",
        "Y^* &= e^{-rT}(G_{T} - K)^+ =e^{-rT}\\left((S_{T}^{[1]}S_{T}^{[2]})^{1/2} - K\\right)^+ \\end{aligned}$$\n",
        "- Repeat this $M$ times\n",
        "- Monte Carlo estimate of the time-0 call price: \n",
        "$$\\begin{aligned}\\hat{C}_M^{\\mathrm{cv},\\beta}:=\\bar{Y}_M+\\beta(C^*-\\bar{Y}_M^*) \\quad \\mathrm{where} \\quad\\bar{Y}_M&:=\\frac1M(Y_1+\\cdots+Y_M)\\\\\\quad\\quad\\bar{Y}_M^*&:=\\frac1M(Y_1^*+\\cdots+Y_M^*)\\end{aligned}$$\n",
        "where $\\beta$ is optimized to be\n",
        "$$\\hat{\\beta}:=\\frac{\\sum_m(Y_m-\\bar{Y}_M)(Y_m^*-\\bar{Y}_M^*)}{\\sum_m(Y_m^*-\\bar{Y}_M^*)^2}$$\n",
        "\n",
        "------\n",
        "Math note:\n",
        "- Expectation of control variate estimate:\n",
        "$$\\mathbb{E}\\hat{C}_M^{\\mathrm{cv},\\beta}:=\\mathbb{E}\\hat{C}_M+\\beta(C^*-C^*)=C$$\n",
        "- Variance of control variate estimate:\n",
        "$$\\begin{aligned}\n",
        "\\mathrm{Var}(\\hat{C}_{M}^{\\mathrm{cv},\\beta})& =\\mathrm{Var}(\\bar{Y}_M-\\beta\\bar{Y}_M^*)=\\frac1M\\mathrm{Var}(Y-\\beta Y^*) \\\\\n",
        "&=\\frac1M\\big[\\mathrm{Var}(Y)-2\\beta\\mathrm{Cov}(Y,Y^*)+\\beta^2\\mathrm{Var}(Y^*)\\big]\n",
        "\\end{aligned}$$\n",
        "- Reduce variance by choosing $\\beta$ to minimize this,\n",
        "$$\\beta_{\\mathrm{optimal}}=\\mathrm{Cov}(Y,Y^*)/\\mathrm{Var}(Y^*)$$\n",
        "- Unfortunately the Cov and Var are usually not both known. But we can use the sample covariance and variance. Let \n",
        "$$\\hat{\\beta}:=\\frac{\\sum_m(Y_m-\\bar{Y}_M)(Y_m^*-\\bar{Y}_M^*)}{\\sum_m(Y_m^*-\\bar{Y}_M^*)^2}$$\n",
        "\n"
      ]
    },
    {
      "cell_type": "code",
      "execution_count": 31,
      "metadata": {},
      "outputs": [
        {
          "name": "stdout",
          "output_type": "stream",
          "text": [
            "Call price, price std, of control variate MC:  9.991401659760298 0.004430826501668424\n"
          ]
        }
      ],
      "source": [
        "hw6p1fMC=MCengine(M=10000, antithetic=False, control=True, seed=0)\n",
        "(call_price_CV, std_err_CV) = hw6p1fMC.price_callonbasket_multiGBM(hw6p1contract, hw6p1dynamics)\n",
        "print(\"Call price, price std, of control variate MC: \", call_price_CV, std_err_CV)"
      ]
    },
    {
      "cell_type": "code",
      "execution_count": null,
      "metadata": {},
      "outputs": [],
      "source": []
    },
    {
      "cell_type": "markdown",
      "metadata": {
        "id": "qGknbqw346DG"
      },
      "source": [
        "## Problem 2"
      ]
    },
    {
      "cell_type": "markdown",
      "metadata": {},
      "source": [
        "Let the bank account and non-dividend paying stock have risk-neutral dynamics\n",
        "$$\\begin{aligned}\n",
        "dB_t = rB_t dt, \\quad B_0&=1 \\\\\n",
        "dS_t = rS_t dt + \\sigma S_t dW_t, \\quad S_0&>1\n",
        "\\end{aligned}$$\n",
        "where $\\sigma > 0$ and $W$ is a $\\mathbb{P}$-Brownian motion.\n",
        "\n",
        "Consider a $K$-strike $T$-expiry vanilla call option, and let $C$ denote its time-0 price."
      ]
    },
    {
      "cell_type": "markdown",
      "metadata": {},
      "source": [
        "`2a`\n",
        "\n",
        "Question:\n",
        "\n",
        "Let $S_0 = 100, \\sigma = 0.2, r = 0.02, K = 150, T = 1$.\n",
        "\n",
        "Run 100000 ordinary Monte Carlo simulations to estimate $C$, together with a standard error."
      ]
    },
    {
      "cell_type": "code",
      "execution_count": 32,
      "metadata": {
        "id": "7Ij9oOIK46DH"
      },
      "outputs": [],
      "source": [
        "class GBM:\n",
        "\n",
        "    def __init__(self,sigma,r,S0):\n",
        "        self.sigma = sigma\n",
        "        self.r = r\n",
        "        self.S0 = S0"
      ]
    },
    {
      "cell_type": "code",
      "execution_count": 33,
      "metadata": {
        "id": "sJlC7Oer46DH"
      },
      "outputs": [],
      "source": [
        "hw6p2dynamics=GBM(sigma=0.2, r=0.02, S0=100)"
      ]
    },
    {
      "cell_type": "code",
      "execution_count": 34,
      "metadata": {
        "id": "YwUReruu46DH"
      },
      "outputs": [],
      "source": [
        "class CallOption:\n",
        "\n",
        "    def __init__(self,K,T):\n",
        "        self.K=K\n",
        "        self.T=T"
      ]
    },
    {
      "cell_type": "code",
      "execution_count": 35,
      "metadata": {
        "id": "s-s2e_F246DH"
      },
      "outputs": [],
      "source": [
        "hw6p2contract=CallOption(K=150, T=1)"
      ]
    },
    {
      "cell_type": "code",
      "execution_count": 46,
      "metadata": {
        "id": "XkV2FaBs46DH"
      },
      "outputs": [],
      "source": [
        "class MCimportanceEngine:\n",
        "\n",
        "    def __init__(self, M, lamb, seed):\n",
        "        self.M = M                                  # How many simulations\n",
        "        self.lamb = lamb                            # drift adjustment\n",
        "        self.rng = np.random.default_rng(seed=seed) # Seeding the random number generator with a specified number helps make the calculations reproducible\n",
        "\n",
        "    def price_call_GBM(self, contract, dynamics):\n",
        "        # You complete the coding of this function.\n",
        "        # self.rng.normal may be useful.\n",
        "        # See documentation for numpy.random.Generator.normal\n",
        "        # as self.rng is an instance of numpy.random.Generator\n",
        "\n",
        "        S0 = dynamics.S0\n",
        "        r = dynamics.r\n",
        "        sigma = dynamics.sigma\n",
        "        T = contract.T\n",
        "        K = contract.K\n",
        "        lamb = self.lamb\n",
        "\n",
        "        # Generate normal random variables, in this case W_T^*\n",
        "        Z = self.rng.normal(loc=0, scale=1, size=(self.M))\n",
        "        W_star = Z * np.sqrt(T)\n",
        "        W = W_star + lamb * T\n",
        "\n",
        "        # Generate asset prices at maturity\n",
        "        S_T = S0 * np.exp((r - 0.5 * sigma ** 2) * T + sigma * W)\n",
        "\n",
        "        # Calculate the payoff\n",
        "        discount_payoffs = np.exp(-r * T) * np.maximum(S_T - K, 0) \n",
        "\n",
        "        # Importance Sampling\n",
        "        z_score = -(lamb * W_star) - (0.5 * lamb** 2 * T)\n",
        "        fx_gx = np.exp(z_score)\n",
        "        discount_payoffs *= fx_gx\n",
        "\n",
        "        call_price = np.mean(discount_payoffs)\n",
        "        standard_error = np.std(discount_payoffs) / np.sqrt(self.M)\n",
        "\n",
        "        return(call_price, standard_error)\n"
      ]
    },
    {
      "cell_type": "code",
      "execution_count": 47,
      "metadata": {
        "id": "WccmST9O46DH"
      },
      "outputs": [
        {
          "name": "stdout",
          "output_type": "stream",
          "text": [
            "Call price, price std, of ordinary MC:  0.2527033283360926 0.0076092552464345755\n"
          ]
        }
      ],
      "source": [
        "hw6p2aMC=MCimportanceEngine(M=100000,lamb=0,seed=0) #zero drift adjustment gives ordinary MC\n",
        "\n",
        "(call_price_ordinary, std_err_ordinary) =  hw6p2aMC.price_call_GBM(hw6p2contract,hw6p2dynamics)\n",
        "print(\"Call price, price std, of ordinary MC: \", call_price_ordinary, std_err_ordinary)"
      ]
    },
    {
      "cell_type": "markdown",
      "metadata": {},
      "source": [
        "`2b`\n",
        "\n",
        "Question:\n",
        "\n",
        "Suppose that we sample from a new probability measure $\\mathbb{P}^*$, under which $W$ now has constant\n",
        "drift $\\lambda$ instead of drift 0. Thus $W_t = W_t^* + \\lambda t$ where $W^*$ is a standard $\\mathbb{P}^*$-BM. \n",
        "\n",
        "Find the $\\mathbb{P}^*$-expectation $\\mathbb{E}^* S_T$ in terms of $S_0, r, \\sigma, \\lambda$, and $T$.\n",
        "\n",
        "Calculate $\\lambda$ such that $\\mathbb{E}^* S_T = 165$.\n",
        "\n",
        "(Why did we choose 165? The picture in L6.17 shows that the optimal distribution from which to sample will have a mean that is greater than the strike $K$. So let’s choose 10% higher than $K$. This will not be optimal, but we expect that it will be an improvement over ordinary Monte Carlo. There are more systematic ways to determine a reasonable drift adjustment, not utilized here.)"
      ]
    },
    {
      "cell_type": "markdown",
      "metadata": {},
      "source": [
        "Answer:\n",
        "\n",
        "When choosing $\\lambda$, it may be too difficult to make $S_T$'s distribution agree entirely with the optimal distribution. So let's just make $S_T$'s mean $\\approx$ the optimal distribution's mean. If $S$ is GBM,\n",
        "$$\\mathrm{d}S_t=rS_t\\mathrm{d}t+\\sigma S_t\\mathrm{d}W_t=(r+\\sigma\\lambda)S_t\\mathrm{d}t+\\sigma S_t\\mathrm{d}W_t^*$$\n",
        "The solution to this SDE is:\n",
        "$$S_T=S_0 e^{(r+\\sigma\\lambda - \\frac12 \\sigma^2)T + \\sigma W_T^*}$$\n",
        "\n",
        "Taking the $\\mathbb{P}^*$-expectation,\n",
        "$$\\mathbb{E}^*S_T=S_0 \\mathbb{E}^*\\left[\\exp{(r+\\sigma\\lambda - \\frac12 \\sigma^2)T + \\sigma W_T^*}\\right]$$\n",
        "Since $W_T^* \\sim \\mathcal{N}(0,T)$, $\\sigma W_T^* \\sim \\mathcal{N}(0,\\sigma^2 T)$, the moment generating function of a random variable $X\\sim \\mathcal{N}(\\mu,\\sigma^2)$ is:\n",
        "$$\\mathbb{E}[e^{tX}]=\\exp\\left( t\\mu + \\frac12 t^2 \\sigma^2\\right)$$\n",
        "\n",
        "So,\n",
        "$$\\mathbb{E}[\\exp(\\sigma W_T^*)]=\\exp\\left(\\frac12 \\sigma^2 T\\right)$$\n",
        "\n",
        "$$\\mathbb{E}^*S_T=S_0 \\mathbb{E}^*\\left[\\exp\\left((r+\\sigma\\lambda - \\frac12 \\sigma^2)T\\right) \\exp\\left(\\frac12 \\sigma^2 T \\right)\\right]\n",
        "=S_0e^{(r+\\sigma\\lambda)T}$$\n",
        "\n",
        "For $\\mathbb{E}^*S_T=165$, \n",
        "$$\\lambda = 2.4039$$"
      ]
    },
    {
      "cell_type": "code",
      "execution_count": 48,
      "metadata": {},
      "outputs": [
        {
          "name": "stdout",
          "output_type": "stream",
          "text": [
            "2.4038764395624455\n"
          ]
        }
      ],
      "source": [
        "lamb = (np.log(1.65) - 0.02) / 0.2\n",
        "print(lamb)"
      ]
    },
    {
      "cell_type": "markdown",
      "metadata": {},
      "source": [
        "`2c`\n",
        "\n",
        "Question:\n",
        "\n",
        "Run 100000 importance sampling simulations, using the specific drift adjustment calculated in (b), to estimate $C$, together with a standard error. Be aware that your zero-mean normal random draws, here, simulate increments of $W^*$ not $W$.\n",
        "\n",
        "Each simulation should require only one number to be generated by `rng.normal`."
      ]
    },
    {
      "cell_type": "markdown",
      "metadata": {},
      "source": [
        "\n",
        ">- $\\underline{\\textbf{Risk-Neutral Dynamics:}}$\n",
        ">- We will simulate the following PDE, with:\n",
        "$$\\begin{align*}\n",
        "dB_{t} &= rB_{t}dt \\quad\\quad\\qquad &B_{0} = 1 \\\\ \n",
        "dS_{t} &= rS_{t}dt + \\sigma S_{t}dW_{t} \\quad &S_{0} > 0 \\\\\n",
        "\\end{align*}$$\n",
        ">\n",
        ">- Let $W_{t} = W^{*}_{t} + \\lambda t$ and apply it to the dynamics:\n",
        "$$\\begin{align*}\n",
        "dW_{t} &= dW^{*}_{t} + \\lambda dt \\\\\n",
        "dS_{t} &= rS_{t} dt + \\sigma S_{t} dW_{t} \\\\\n",
        "&= \\left(r + \\sigma\\lambda\\right)S_{t} dt + \\sigma S_{t} dW^{*}_{t} \\\\\n",
        "\\end{align*}$$\n",
        ">\n",
        ">- Tranform to log form:\n",
        "$$\\begin{align*}\n",
        "d\\log(S_{t}) &= \\left(r - \\frac{\\sigma^{2}}{2}\\right)dt + \\sigma dW_{t} \\\\\n",
        "&= \\left(r + \\sigma\\lambda - \\frac{\\sigma^{2}}{2} \\right)dt + \\sigma dW^{*}_{t} \\\\\n",
        "\\end{align*}$$\n",
        ">\n",
        ">- Then we have that, by integrations: \n",
        "$$\\begin{align*}\n",
        "S_{t} &= \\exp\\left(\\log\\left(S_{t}\\right)\\right)\\\\\n",
        "&= S_{0}\\exp\\left(\\left(r + \\sigma\\lambda - \\frac{\\sigma^{2}}{2} \\right)t + \\sigma W^{*}_{t}\\right) \\\\\n",
        "\\log(S_{t}) &\\sim \\mathcal{N}\\left(\\log(S_{0}) + \\left(r + \\sigma\\lambda - \\frac{\\sigma^{2}}{2} \\right)t, \\sigma^{2}t\\right)\n",
        "\\end{align*}$$\n",
        ">\n",
        ">- In this case, if $d\\log(S_{t})$ did not have a drift term, then it will behave as:\n",
        "$$\\sigma W_{t} \\sim \\mathcal{N}\\left(0, \\sigma^{2}t\\right)$$\n",
        ">\n",
        ">- NOTE:\n",
        ">>- We integrated $dW_{t}$ and it did not got to zero.\n",
        ">>- This is because the we are not taking the expectations, so not considering Martingale properties.\n",
        ">>- $\\mathbb{E}\\left[\\int W_{t}dt\\right] = 0$\n",
        ">>- $\\textbf{If, } W_{t} \\sim \\mathcal{N}\\left(0, t\\right) \\textbf{, Then, } \\Longrightarrow\\mathbb{E}\\left[W_{t}\\right] = 0 \\text{ and } \\mathrm{Var}\\left[W_{t}\\right] = t$\n",
        "\n",
        "\n",
        ">- $\\underline{\\textbf{Proof: Short Version}}$\n",
        ">- We have the following useful relation for the expected payout: <br>\n",
        "$$\\textbf{If, } S_{t} \\sim \\mathcal{N}\\left(m, v\\right) \\textbf{, Then, } \\mathbb{E}\\left[\\exp\\left(S_{t}\\right)\\right] = \\exp\\left(m + \\frac{v}{2}\\right)$$\n",
        ">\n",
        ">- From the above distribution of $\\log(S_{t})$, we get the following \n",
        "$$\\begin{align*}\n",
        "\\mathbb{E}\\left[\\exp\\left(\\log(S_{t})\\right)\\right] &= \\mathbb{E}\\left[S_{t}\\right] \\\\\n",
        "&= S_{0}\\exp\\left(m + \\frac{v}{2}\\right) \\\\\n",
        "\\end{align*}$$\n",
        ">\n",
        ">- where, \n",
        "$$\\begin{align*}\n",
        "m &= \\left(r + \\sigma\\lambda - \\frac{\\sigma^{2}}{2}\\right)t \\\\\n",
        "v &= \\left(\\sigma^{2}t\\right) \\\\\n",
        "m + \\frac{v}{2} &= \\left(r + \\sigma\\lambda\\right)t \\\\\n",
        "\\end{align*}$$\n",
        ">\n",
        ">- The final form is:\n",
        "$$\\begin{align*}\\therefore \\mathbb{E}\\left[S_{t}\\right] &= S_{0}\\exp\\left(m + \\frac{v}{2}\\right) \\\\\n",
        "&= S_{0}\\exp\\left(\\left(r + \\sigma\\lambda\\right)t\\right) \\\\\n",
        "\\end{align*}$$\n",
        "\n",
        "\n",
        ">- $\\underline{\\textbf{Proof: Long Version}}$\n",
        ">- We have the following useful relation for the expected payout:\n",
        "$$\\begin{align*}\n",
        "\\mathbb{E}\\left[S_{T}\\right] &= \\mathbb{E}^{*}\\left[S_{0}\\exp\\left(\\left(r - \\frac{\\sigma^{2}}{2}\\right)T + \\sigma W_{t}\\right)\\right] \\\\\n",
        "&= \\mathbb{E}^{*}\\left[S_{0}\\exp\\left(\\left(r - \\frac{\\sigma^{2}}{2}\\right)T + \\sigma \\left(W^{*}_{t} + \\lambda T\\right)\\right)\\right] \\\\\n",
        "&= \\mathbb{E}^{*}\\left[S_{0}\\exp\\left(\\left(r - \\frac{\\sigma^{2}}{2} + \\sigma\\lambda\\right)T + \\sigma W^{*}_{t}\\right)\\right] \\\\\n",
        "&= S_{0}\\exp\\left(\\left(r - \\frac{\\sigma^{2}}{2} + \\sigma\\lambda\\right)T\\right)\\mathbb{E}^{*}\\left[\\exp\\left(\\sigma W^{*}_{t}\\right)\\right] \\\\\n",
        "&= S_{0}\\exp\\left(\\left(r - \\frac{\\sigma^{2}}{2} + \\sigma\\lambda\\right)T\\right)\\exp\\left(\\frac{\\sigma^{2}}{2}T\\right) \\\\\n",
        "&= S_{0}\\exp\\left(\\left(r + \\sigma\\lambda\\right)T\\right)\n",
        "\\end{align*}$$\n",
        ">\n",
        ">- The final form is:\n",
        "$$\\therefore \\color{red}{\\boxed{\\color{black}{\\mathbb{E}\\left[S_{T}\\right] = \\exp\\left(\\log(S_{0}) + (r + \\sigma\\lambda)T\\right) = S_{0}\\exp\\left((r + \\sigma\\lambda)T\\right) = F^{*}}}}$$\n",
        ">\n",
        ">- Given, $F^{*}, S_{0}, r, \\sigma, T$ , we can solve for the drift constant $\\lambda$:\n",
        "$$\\lambda = \\frac{\\frac{\\log\\left(\\frac{F^{*}}{S_{0}}\\right)}{T} - r}{\\sigma}$$\n"
      ]
    },
    {
      "cell_type": "code",
      "execution_count": 49,
      "metadata": {
        "id": "wjwZIDnU46DH"
      },
      "outputs": [
        {
          "name": "stdout",
          "output_type": "stream",
          "text": [
            "Call price, price std, of importance sampling MC:  0.24843662621391358 0.0007734233296681457\n"
          ]
        }
      ],
      "source": [
        "hw6p2cMC=MCimportanceEngine(M=100000,lamb=lamb,seed=0) # Fill in the lamb parameter with the lambda that you compute in (b)\n",
        "(call_price_importsamp, std_err_importsamp) =  hw6p2cMC.price_call_GBM(hw6p2contract,hw6p2dynamics)\n",
        "print(\"Call price, price std, of importance sampling MC: \", call_price_importsamp, std_err_importsamp)"
      ]
    },
    {
      "cell_type": "code",
      "execution_count": null,
      "metadata": {},
      "outputs": [],
      "source": []
    }
  ],
  "metadata": {
    "anaconda-cloud": {},
    "colab": {
      "provenance": []
    },
    "kernelspec": {
      "display_name": "Python 3",
      "language": "python",
      "name": "python3"
    },
    "language_info": {
      "codemirror_mode": {
        "name": "ipython",
        "version": 3
      },
      "file_extension": ".py",
      "mimetype": "text/x-python",
      "name": "python",
      "nbconvert_exporter": "python",
      "pygments_lexer": "ipython3",
      "version": "3.9.12"
    },
    "toc": {
      "base_numbering": 1,
      "nav_menu": {},
      "number_sections": true,
      "sideBar": true,
      "skip_h1_title": false,
      "title_cell": "Table of Contents",
      "title_sidebar": "Contents",
      "toc_cell": false,
      "toc_position": {},
      "toc_section_display": true,
      "toc_window_display": false
    }
  },
  "nbformat": 4,
  "nbformat_minor": 0
}
