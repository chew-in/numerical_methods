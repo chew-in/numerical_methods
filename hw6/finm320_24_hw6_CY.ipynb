{
  "cells": [
    {
      "cell_type": "code",
      "execution_count": 2,
      "metadata": {
        "id": "Dcd4oWAt46DD"
      },
      "outputs": [],
      "source": [
        "import numpy as np"
      ]
    },
    {
      "cell_type": "markdown",
      "metadata": {
        "id": "Jeby0NCp46DE"
      },
      "source": [
        "## Problem 1"
      ]
    },
    {
      "cell_type": "markdown",
      "metadata": {},
      "source": [
        "Let $S$ be the column vector with components $S^{[1]}$, $S^{[2]}$, where the stock prices $S^{[j]}$ have risk-neutral dynamics\n",
        "$$\\mathrm{d}S_t^{[j]}=rS_t^{[j]}\\mathrm{d}t+\\sigma_{[j]}S_t^{[j]}\\mathrm{d}W_t^{[j]}\\quad j=1,2$$\n",
        "with risk-free interest rate $r = 0.05$, and constant volatilities $\\sigma_{[1]} = 0.3$, $\\sigma_{[2]} = 0.2$.\n",
        "The time-0 prices are $S_0^{[1]} = 100$, $S_0^{[2]} = 110$. The P-Brownian motions $W^{[1]}$ and $W^{[2]}$ have correlation $\\rho = 0.8$.\n"
      ]
    },
    {
      "cell_type": "markdown",
      "metadata": {},
      "source": [
        "- $R_t=r S_t^{[j]}$\n",
        "- $A_t=\\sigma_{[j]} S_t^{[j]}$\n",
        "- $\\partial_t X^{[j]} = 0$\n",
        "- $\\partial_s X^{[j]} = \\frac{1}{S^{[j]}}$\n",
        "- $\\partial_{ss} X^{[j]} = -\\frac{1}{(S^{[j]})^2}$\n",
        "\n",
        "By Ito’s formula - \n",
        "$$\\begin{aligned}\n",
        "dX^{[j]}(S_t, t) &= \\left[ \\partial_t X^{[j]}(S_t, t) + R_t \\partial_{s} X^{[j]}(S_t, t) + \\frac{A_t^2}{2} \\partial_{ss} X^{[j]}(S_t, t) \\right]dt + A_t \\partial_{s} X^{[j]}(S_t, t) dW_t \\\\\n",
        "dX^{[j]}(S_t, t) &= \\left[ r S_t^{[j]} \\frac{1}{S^{[j]}} - \\frac{(\\sigma_{[j]} S_t^{[j]})^2}{2} \\cdot \\frac{1}{(S^{[j]})^2}\\right]dt + \\sigma_{[j]} S_t^{[j]}  \\frac{1}{S^{[j]}} dW_t \\\\\n",
        "\\end{aligned}$$\n",
        "\n",
        "$$dX^{[j]}(S_t, t) = \\left[ r - \\frac{\\sigma_{[j]}^2}{2} \\right]dt + \\sigma_{[j]} dW_t $$"
      ]
    },
    {
      "cell_type": "markdown",
      "metadata": {},
      "source": [
        "### `1a`\n",
        "Let $X$ be the column vector with components $X^{[1]}$, $X^{[2]}$ where $X^{[j]}:= \\log S^{[j]}$. Find the covariance matrix of $X_T$.\n",
        "\n",
        "Hint: One approach is to manually fill in the covariance matrix, using relationships such as\n",
        "$Cov(W_T^{[1]}, W_T^{[2]}) = 0.8T$ in combination with the volatilities."
      ]
    },
    {
      "cell_type": "markdown",
      "metadata": {},
      "source": [
        "$$\\rho = $$"
      ]
    },
    {
      "cell_type": "code",
      "execution_count": null,
      "metadata": {
        "id": "9xOrWGQY46DF"
      },
      "outputs": [],
      "source": [
        "class MultiGBM:\n",
        "\n",
        "    def __init__(self,S0,r,correlations,sigma):\n",
        "        self.S0 = S0\n",
        "        self.r = r\n",
        "        self.correlations = correlations\n",
        "        self.sigma = sigma"
      ]
    },
    {
      "cell_type": "code",
      "execution_count": null,
      "metadata": {
        "id": "e0KMdNlr46DF"
      },
      "outputs": [],
      "source": [
        "hw6p1dynamics = MultiGBM(S0=np.array([100,110]),r=0.05,\n",
        "                         correlations = np.array([[1,0.8],[0.8,1]]),\n",
        "                         sigma = np.diag([0.3, 0.2]))"
      ]
    },
    {
      "cell_type": "code",
      "execution_count": null,
      "metadata": {
        "id": "YuUREwvH46DF"
      },
      "outputs": [],
      "source": [
        "class CallOnBasket:\n",
        "\n",
        "    def __init__(self,K,T,weights):\n",
        "        self.K = K\n",
        "        self.T = T\n",
        "        self.weights = weights"
      ]
    },
    {
      "cell_type": "code",
      "execution_count": null,
      "metadata": {
        "id": "52OH89tZ46DF"
      },
      "outputs": [],
      "source": [
        "hw6p1contract=CallOnBasket(K=110,T=1.0,weights = np.array([1/2, 1/2]))"
      ]
    },
    {
      "cell_type": "code",
      "execution_count": null,
      "metadata": {
        "id": "aRA8B9a046DG"
      },
      "outputs": [],
      "source": [
        "class MCengine:\n",
        "\n",
        "    def __init__(self, M, antithetic, control, seed):\n",
        "        self.M = M                                  # How many simulations\n",
        "        self.antithetic = antithetic\n",
        "        self.control = control\n",
        "        self.rng = np.random.default_rng(seed=seed) # Seeding the random number generator with a specified number helps make the calculations reproducible\n",
        "\n",
        "    def price_callonbasket_multiGBM(contract,dynamics,MC):\n",
        "\n",
        "        # You complete the coding of this function.\n",
        "        # self.rng.multivariate_normal may be useful.\n",
        "        # See documentation for numpy.random.Generator.multivariate_normal\n",
        "        # as self.rng is an instance of numpy.random.Generator\n",
        "\n",
        "        # You are not required to support the case where MC.control = MC.antithetic = True\n",
        "        # (simultaneous use of control variate and antithetic)\n",
        "        # But you are required to support the other 3 possible settings of MC.antithetic/MC.control\n",
        "        # namely False/False, True/False, False/True.\n",
        "        # (ordinary MC, antithetic without control, control without antithetic)\n",
        "\n",
        "        return(call_price, standard_error)"
      ]
    },
    {
      "cell_type": "code",
      "execution_count": null,
      "metadata": {
        "id": "rmREi1sy46DG"
      },
      "outputs": [],
      "source": [
        "hw6p1bMC=MCengine(M=10000,antithetic=False,control=False,seed=0)\n",
        "(call_price_ordinary, std_err_ordinary) = hw6p1bMC.price_callonbasket_multiGBM(hw6p1contract,hw6p1dynamics)\n",
        "print(call_price_ordinary, std_err_ordinary)"
      ]
    },
    {
      "cell_type": "code",
      "execution_count": null,
      "metadata": {
        "id": "6bLwGWTM46DG"
      },
      "outputs": [],
      "source": [
        "hw6p1cMC=MCengine(M=10000,antithetic=True,control=False,seed=0)\n",
        "(call_price_AV, std_err_AV) = hw6p1cMC.price_callonbasket_multiGBM(hw6p1contract,hw6p1dynamics)\n",
        "print(call_price_AV, std_err_AV)"
      ]
    },
    {
      "cell_type": "code",
      "execution_count": null,
      "metadata": {
        "id": "VBGSqqgY46DG"
      },
      "outputs": [],
      "source": [
        "hw6p1fMC=MCengine(M=10000,antithetic=False,control=True,seed=0)\n",
        "(call_price_CV, std_err_CV) = hw6p1fMC.price_callonbasket_multiGBM(hw6p1contract,hw6p1dynamics)\n",
        "print(call_price_CV, std_err_CV)"
      ]
    },
    {
      "cell_type": "markdown",
      "metadata": {
        "id": "qGknbqw346DG"
      },
      "source": [
        "## Problem 2"
      ]
    },
    {
      "cell_type": "code",
      "execution_count": null,
      "metadata": {
        "id": "7Ij9oOIK46DH"
      },
      "outputs": [],
      "source": [
        "class GBM:\n",
        "\n",
        "    def __init__(self,sigma,r,S0):\n",
        "        self.sigma = sigma\n",
        "        self.r = r\n",
        "        self.S0 = S0"
      ]
    },
    {
      "cell_type": "code",
      "execution_count": null,
      "metadata": {
        "id": "sJlC7Oer46DH"
      },
      "outputs": [],
      "source": [
        "hw6p2dynamics=GBM(sigma=0.2,r=0.02,S0=100)"
      ]
    },
    {
      "cell_type": "code",
      "execution_count": null,
      "metadata": {
        "id": "YwUReruu46DH"
      },
      "outputs": [],
      "source": [
        "class CallOption:\n",
        "\n",
        "    def __init__(self,K,T):\n",
        "        self.K=K\n",
        "        self.T=T"
      ]
    },
    {
      "cell_type": "code",
      "execution_count": null,
      "metadata": {
        "id": "s-s2e_F246DH"
      },
      "outputs": [],
      "source": [
        "hw6p2contract=CallOption(K=150,T=1)"
      ]
    },
    {
      "cell_type": "code",
      "execution_count": null,
      "metadata": {
        "id": "XkV2FaBs46DH"
      },
      "outputs": [],
      "source": [
        "class MCimportanceEngine:\n",
        "\n",
        "    def __init__(self, M, lamb, seed):\n",
        "        self.M = M                                  # How many simulations\n",
        "        self.lamb = lamb                            # drift adjustment\n",
        "        self.rng = np.random.default_rng(seed=seed) # Seeding the random number generator with a specified number helps make the calculations reproducible\n",
        "\n",
        "    def price_call_GBM(self, contract,dynamics):\n",
        "\n",
        "        # You complete the coding of this function.\n",
        "        # self.rng.normal may be useful.\n",
        "        # See documentation for numpy.random.Generator.normal\n",
        "        # as self.rng is an instance of numpy.random.Generator\n",
        "\n",
        "\n",
        "        return(call_price, standard_error)\n"
      ]
    },
    {
      "cell_type": "code",
      "execution_count": null,
      "metadata": {
        "id": "WccmST9O46DH"
      },
      "outputs": [],
      "source": [
        "hw6p2aMC=MCimportanceEngine(M=100000,lamb=0,seed=0) #zero drift adjustment gives ordinary MC\n",
        "\n",
        "(call_price_ordinary, std_err_ordinary) =  hw6p2aMC.price_call_GBM(hw6p2contract,hw6p2dynamics)\n",
        "print(call_price_ordinary, std_err_ordinary)"
      ]
    },
    {
      "cell_type": "code",
      "execution_count": null,
      "metadata": {
        "id": "wjwZIDnU46DH"
      },
      "outputs": [],
      "source": [
        "hw6p2cMC=MCimportanceEngine(M=100000,lamb=,seed=0) # Fill in the lamb parameter with the lambda that you compute in (b)\n",
        "(call_price_importsamp, std_err_importsamp) =  hw6p2cMC.price_call_GBM(hw6p2contract,hw6p2dynamics)\n",
        "print(call_price_importsamp, std_err_importsamp)"
      ]
    }
  ],
  "metadata": {
    "anaconda-cloud": {},
    "colab": {
      "provenance": []
    },
    "kernelspec": {
      "display_name": "Python 3",
      "language": "python",
      "name": "python3"
    },
    "language_info": {
      "codemirror_mode": {
        "name": "ipython",
        "version": 3
      },
      "file_extension": ".py",
      "mimetype": "text/x-python",
      "name": "python",
      "nbconvert_exporter": "python",
      "pygments_lexer": "ipython3",
      "version": "3.8.8"
    },
    "toc": {
      "base_numbering": 1,
      "nav_menu": {},
      "number_sections": true,
      "sideBar": true,
      "skip_h1_title": false,
      "title_cell": "Table of Contents",
      "title_sidebar": "Contents",
      "toc_cell": false,
      "toc_position": {},
      "toc_section_display": true,
      "toc_window_display": false
    }
  },
  "nbformat": 4,
  "nbformat_minor": 0
}
