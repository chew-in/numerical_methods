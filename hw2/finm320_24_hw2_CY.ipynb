{
  "cells": [
    {
      "cell_type": "code",
      "execution_count": 2,
      "metadata": {
        "id": "kfhimoiXGfz7"
      },
      "outputs": [],
      "source": [
        "import numpy as np\n",
        "from scipy.stats import norm\n",
        "from scipy.optimize import bisect, brentq\n",
        "from copy import copy"
      ]
    },
    {
      "cell_type": "markdown",
      "metadata": {},
      "source": [
        "# Problem 1"
      ]
    },
    {
      "cell_type": "markdown",
      "metadata": {},
      "source": [
        "## A model for the dynamics\n",
        "A model of the underlying dynamics captures what we assume about the underlying risks. Previously, we modeled the dynamics of an underlying by geometric Brownian motion (GBM). However, the GBM model is not consistent with the observed non-constant implied volatility skew. An approach to reconcile the matter is a **local volatility model**, where the instantaneous volatility $\\sigma(S_t, t)$ is a function of underlying price $S_t$ and time $t$,\n",
        "$$\\mathrm{d}S_t=(r-q)S_t\\mathrm{d}t+\\sigma(S_t,t)S_t\\mathrm{d}W_t$$\n",
        "- $\\sigma=0.4$, volatility\n",
        "- $S_0=100$, time-0 underlying price \n",
        "- $r=0.06$, USD interest rate\n",
        "- $q=0.01$, GDC interest rate\n",
        "- $W_t$, Brownian motion under the USD risk-neutral probability measure\n",
        "\n",
        "The local volatility is\n",
        "$$\\sigma(S,t):=\\min[0.2+5(\\log(S/100))^2+0.1e^{-t}, 0.6]$$"
      ]
    },
    {
      "cell_type": "markdown",
      "metadata": {},
      "source": [
        "### Calculate log-underlying dynamics\n",
        "Start from \n",
        "$$\\mathrm{d}S_t=(r-q)S_t\\mathrm{d}t+\\sigma(S_t,t)S_t\\mathrm{d}W_t$$\n",
        "- $R_t=(r-q)S_t$\n",
        "- $A_t=\\sigma(S_t,t)S_t$\n",
        "\n",
        "Log-transform\n",
        "$$F(t,S_t)=\\log  (S_t)$$\n",
        "- $\\partial _t F(t,S_t)=0$\n",
        "- $\\partial_{s}F(t,S_t)=\\frac{1}{S_t}$\n",
        "- $\\partial_{ss} F(t,S_t)=-\\frac{1}{S_t^2}$\n",
        "\n",
        "Ito’s formula - \n",
        "$$\\begin{aligned}\n",
        "dF(t, X_t) &= \\left[ \\partial_tF(t,X_t) + R_t \\partial_xF(t,X_t) + \\frac{A_t^2}{2} \\partial_{xx} F(t,X_t) \\right]dt + A_t \\partial_xF(t,X_t) dW_t \\\\\n",
        "&= \\left[(r-q)S_t\\cdot \\frac{1}{S_t} + \\frac{\\left(\\sigma(S_t,t)S_t\\right)^2}{2} \\left(-\\frac{1}{S_t^2} \\right) \\right]dt + \\sigma(S_t,t)S_t \\cdot \\frac{1}{S_t} dW_t \\\\\n",
        "&= \\left[(r-q) - \\frac{\\sigma^2(S_t,t)}{2} \\right]dt + \\sigma(S_t,t)dW_t\n",
        "\\end{aligned}$$\n",
        "\n",
        "In other words,\n",
        "Logarithm of underlying $F=\\log S$ follows dynamics of\n",
        "$$\\mathrm dF_t=\\nu\\mathrm dt+\\sigma\\mathrm dW_t$$\n",
        "- $\\nu:=(r-q) - \\sigma^2(S_t,t)/2$\n"
      ]
    },
    {
      "cell_type": "markdown",
      "metadata": {},
      "source": [
        "## A pricer / solution method\n",
        "A pricer captures how we price the contract. In a trinomial tree model, the up, middle, down probabilities $p_u, p_m, p_d$ are -\n",
        "\\begin{aligned}\n",
        "&p_{u} =\\frac{1}{2}\\bigg[\\frac{\\sigma^{2}\\Delta t+\\nu^{2}(\\Delta t)^{2}}{(\\Delta x)^{2}}+\\frac{\\nu\\Delta t}{\\Delta x}\\bigg] \\\\\n",
        "&p_{m} =1-\\frac{\\sigma^{2}\\Delta t+\\nu^{2}(\\Delta t)^{2}}{(\\Delta x)^{2}} \\\\\n",
        "&p_{d} =\\frac{1}{2}\\bigg[\\frac{\\sigma^{2}\\Delta t+\\nu^{2}(\\Delta t)^{2}}{(\\Delta x)^{2}}-\\frac{\\nu\\Delta t}{\\Delta x}\\bigg] \n",
        "\\end{aligned}\n",
        "\n",
        "For consistency and stability reasons, we pick the time step and space step parameters to be - \n",
        "- $\\Delta t:=T/N$, time step\n",
        "- $\\Delta x=\\sigma \\sqrt{3\\Delta t}$, up/down move size, picked for accuracy reasons\n",
        "\n"
      ]
    },
    {
      "cell_type": "markdown",
      "metadata": {},
      "source": [
        "## Contracts to be priced\n",
        "- `1a`, American-style put\n",
        "- `1b`, a compound option - a European-style call on an American-style put"
      ]
    },
    {
      "cell_type": "code",
      "execution_count": 52,
      "metadata": {
        "id": "1H8V1KKnGfz8"
      },
      "outputs": [],
      "source": [
        "class localvolDynamics:\n",
        "\n",
        "    def __init__(self, S0, r, q, maxvol, localvol):\n",
        "        self.S0 = S0\n",
        "        self.r = r\n",
        "        self.q = q\n",
        "        self.maxvol = maxvol\n",
        "        self.localvol = localvol\n"
      ]
    },
    {
      "cell_type": "code",
      "execution_count": 53,
      "metadata": {
        "id": "Om9QD4NPGfz9"
      },
      "outputs": [],
      "source": [
        "hw2dynamics = localvolDynamics(S0 = 100, r = 0.06, q = 0.01, maxvol = 0.6,\n",
        "                     localvol = lambda S,t: np.minimum(0.2+5*np.log(S/100)**2+0.1*np.exp(-t), 0.6))\n",
        "\n",
        "# Note that hw2dynamics.localvol is a function\n",
        "# that may be invoked in the usual way, for example:\n",
        "# hw2dynamics.localvol( exchangerate , time )"
      ]
    },
    {
      "cell_type": "code",
      "execution_count": 54,
      "metadata": {
        "id": "OVw8UDagGfz9"
      },
      "outputs": [],
      "source": [
        "class CallOnAmericanPut:\n",
        "\n",
        "    def __init__(self, putexpiry, putstrike, callexpiry, callstrike):\n",
        "        self.putexpiry = putexpiry\n",
        "        self.putstrike = putstrike\n",
        "        self.callexpiry = callexpiry\n",
        "        self.callstrike = callstrike\n"
      ]
    },
    {
      "cell_type": "code",
      "execution_count": 55,
      "metadata": {
        "id": "d_jBNZ-hGfz9"
      },
      "outputs": [],
      "source": [
        "hw2contract = CallOnAmericanPut(putexpiry=0.75, putstrike=95, callexpiry=0.25, callstrike=10)"
      ]
    },
    {
      "cell_type": "code",
      "execution_count": 77,
      "metadata": {
        "id": "W-X2mdSMGfz9"
      },
      "outputs": [],
      "source": [
        "class TreeEngine:\n",
        "\n",
        "    def __init__(self, N):\n",
        "        self.N = N\n",
        "\n",
        "    # You complete the coding of this function\n",
        "    def price_compound_localvol(self, contract, dynamics):\n",
        "\n",
        "        # Set up parameters: time step, space step\n",
        "        deltat = contract.putexpiry / self.N\n",
        "        # deltax chosen as a tradeoff between stability and local discretization error\n",
        "        # localvol_avg estimated by first point of localvol\n",
        "        deltax = np.maximum(dynamics.maxvol * np.sqrt(deltat),\n",
        "                        dynamics.localvol(dynamics.S0, 0) * np.sqrt(3 * deltat))\n",
        "        \n",
        "        # Set up grid\n",
        "        Sgrid = dynamics.S0 * np.exp(np.linspace(\n",
        "                    self.N, -self.N, num=2*self.N+1, endpoint=True) * deltax)\n",
        "\n",
        "\n",
        "\n",
        "        # Initialize option values at expiry\n",
        "        put_prices = np.maximum(contract.putstrike - Sgrid, 0)\n",
        "\n",
        "         # Initialize call on put option values at expiry\n",
        "        flag = True\n",
        "        # Roll back the option prices\n",
        "        for i in range(self.N-1, -1, -1):\n",
        "            t = i * deltat\n",
        "            Sgrid = Sgrid[1:-1]\n",
        "\n",
        "            # Update trinomial probabilities\n",
        "            nu = dynamics.r - dynamics.q - 0.5 * dynamics.localvol(Sgrid, t) ** 2\n",
        "            Pu = 0.5 * ((dynamics.localvol(Sgrid, t) ** 2 * deltat \n",
        "                         + nu ** 2 * deltat ** 2) / (deltax ** 2) \n",
        "                        + nu * deltat / deltax)\n",
        "            Pd = 0.5 * ((dynamics.localvol(Sgrid, t) ** 2 * deltat \n",
        "                         + nu ** 2 * deltat ** 2) / (deltax ** 2) \n",
        "                        - nu * deltat / deltax)\n",
        "            Pm = 1 - Pu - Pd\n",
        "\n",
        "            # Interpolate to get the American-style put price\n",
        "            put_prices = np.exp(-dynamics.r * deltat) * (Pu * put_prices[:-2] + Pm * put_prices[1:-1] + Pd * put_prices[2:])\n",
        "            # Check for early exercise, since American-style option\n",
        "            put_prices = np.maximum(put_prices, np.maximum(contract.putstrike - Sgrid, 0))\n",
        "\n",
        "            # Interpolate to get the European-style call on put price\n",
        "            if t < contract.callexpiry + deltat:\n",
        "                if flag:\n",
        "                    # Initialize once\n",
        "                    call_on_put_prices = np.maximum(put_prices - contract.callstrike, 0)\n",
        "                    flag = False\n",
        "                    continue\n",
        "                call_on_put_prices = np.exp(-dynamics.r * deltat) * (Pu * call_on_put_prices[:-2] + Pm * call_on_put_prices[1:-1] + Pd * call_on_put_prices[2:])\n",
        "\n",
        "        price_of_put = put_prices[0]\n",
        "\n",
        "        price_of_call_on_put = call_on_put_prices[0]     #write code to compute this\n",
        "\n",
        "        return (price_of_put, price_of_call_on_put)\n"
      ]
    },
    {
      "cell_type": "code",
      "execution_count": 80,
      "metadata": {
        "id": "8BsNJDz7Gfz9"
      },
      "outputs": [],
      "source": [
        "hw2tree = TreeEngine(N=1000)  #change if necessary to get $0.01 accuracy, in your judgment"
      ]
    },
    {
      "cell_type": "code",
      "execution_count": 81,
      "metadata": {
        "id": "NWf-TVtJGfz-"
      },
      "outputs": [],
      "source": [
        "(answer_part_a, answer_part_b) = hw2tree.price_compound_localvol(hw2contract,hw2dynamics)"
      ]
    },
    {
      "cell_type": "code",
      "execution_count": 82,
      "metadata": {
        "id": "yn-qc2Y5Gfz-"
      },
      "outputs": [
        {
          "data": {
            "text/plain": [
              "(7.004324880881289, 1.5954402511696555)"
            ]
          },
          "execution_count": 82,
          "metadata": {},
          "output_type": "execute_result"
        }
      ],
      "source": [
        "(answer_part_a, answer_part_b)"
      ]
    },
    {
      "cell_type": "code",
      "execution_count": null,
      "metadata": {},
      "outputs": [],
      "source": []
    },
    {
      "cell_type": "markdown",
      "metadata": {},
      "source": [
        "# Problem 2"
      ]
    },
    {
      "cell_type": "markdown",
      "metadata": {},
      "source": [
        "### `2a`: first-order Taylor expansion of $\\Delta$"
      ]
    },
    {
      "cell_type": "markdown",
      "metadata": {},
      "source": [
        "Black-Scholes Vanilla Call pricing:\n",
        "$$f(S):=(S-K)^{+}$$\n",
        "$$C(S,t)=C^{BS}(S,t,K,T,r-q,r,\\sigma)=S_0N(d_1)-Ke^{-rT}N(d_2)$$\n",
        "where\n",
        "$$d_{1,2}:=d_{+,-}:=\\frac{\\log(S_0e^{rT}/K)}{\\sigma\\sqrt T}\\pm\\frac{\\sigma\\sqrt T}2$$\n",
        "In our case $t=0$, $r=0$."
      ]
    },
    {
      "cell_type": "markdown",
      "metadata": {},
      "source": [
        "Combined, \n",
        "$$C(S,0)=S_0 N\\left(\\frac{\\log(S_0e^{rT}/K)}{\\sigma\\sqrt T} + \\frac{\\sigma\\sqrt T}2\\right)\n",
        "-Ke^{-rT}N\\left(\\frac{\\log(S_0e^{rT}/K)}{\\sigma\\sqrt T} - \\frac{\\sigma\\sqrt T}2\\right)$$\n",
        "\n",
        "Approximate delta by applying a first-order Taylor expansion to the exact formula, as follows - \n",
        "$$\\Delta:=\\frac{\\partial C}{\\partial S}\\approx\\frac{C(S+\\Delta S,t)-C(S,t)}{\\Delta S}$$\n",
        "\n",
        "For ignoring the term inside the normal distribution for simplicity, for at-the-money call,\n",
        "$$\\Delta=N(d_1) \\approx N\\left(\\frac{rT}{\\sigma\\sqrt T}+ \\frac{\\sigma\\sqrt T}2\\right)$$"
      ]
    },
    {
      "cell_type": "code",
      "execution_count": 14,
      "metadata": {},
      "outputs": [
        {
          "name": "stdout",
          "output_type": "stream",
          "text": [
            "0.5298926440528947\n"
          ]
        }
      ],
      "source": [
        "sigma = 0.2\n",
        "T = 0.25\n",
        "r = 0.01\n",
        "\n",
        "# at-the-money call option\n",
        "d1 = r * T / (sigma * np.sqrt(T)) + 0.5 * sigma * np.sqrt(T)\n",
        "delta = norm.cdf(d1)\n",
        "print(f\"ATM Call Option Delta = {delta: .2f}\")\n",
        "\n",
        "print(delta)"
      ]
    },
    {
      "cell_type": "markdown",
      "metadata": {},
      "source": [
        "### `2b`: second-order Taylor expansion of an option"
      ]
    },
    {
      "cell_type": "markdown",
      "metadata": {},
      "source": [
        "Delta - the shares of stock sold per dollar movement in $S$,\n",
        "$$\\Delta=\\frac{\\partial C}{\\partial S}$$\n",
        "Time-o dollar delta - the dollars of stock sold per dollar movement in $S$, \n",
        "$$\\tilde{\\Delta}=S_0\\frac{\\partial C}{\\partial S}$$\n",
        "Normal gamma - the shares of stock sold per dollar movement in $S$, \n",
        "$$\\Gamma =\\frac{\\partial^2 C}{\\partial S^2}$$\n",
        "Time-o dollar gamma - the dollars of stock sold per $1\\%$ change in $S$, \n",
        "$$\\tilde{\\Gamma }=\\frac{S_0^2}{100} \\times \\frac{\\partial^2 C}{\\partial S^2}$$"
      ]
    },
    {
      "cell_type": "markdown",
      "metadata": {},
      "source": [
        "Taylor expansion to second-order, \n",
        "$$C(S)\\approx C(S_0)+(S-S_0)\\cdot \\frac{\\partial C}{\\partial S}+ \\frac12 (S-S_0)^2\\frac{\\partial^2C}{\\partial S^2} $$\n",
        "$$ \\approx C(S_0) + (S - S_0) \\cdot \\Delta + \\frac{(S - S_0)^2}{2} \\cdot \\Gamma $$"
      ]
    },
    {
      "cell_type": "code",
      "execution_count": 17,
      "metadata": {},
      "outputs": [
        {
          "name": "stdout",
          "output_type": "stream",
          "text": [
            "The time-0 value of the contract =  4.71\n"
          ]
        }
      ],
      "source": [
        "S0 = 4\n",
        "C_S0 = 5\n",
        "delta_dollar = 3\n",
        "gamma_dollar = 0.02\n",
        "\n",
        "S = 3.6\n",
        "\n",
        "delta = delta_dollar / S0\n",
        "gamma = gamma_dollar * 100 / (S0 ** 2)\n",
        "\n",
        "price = C_S0 + delta * (S - S0) + 0.5 * gamma * (S - S0) ** 2\n",
        "print(f\"The time-0 value of the contract = {price: .2f}\")"
      ]
    },
    {
      "cell_type": "code",
      "execution_count": null,
      "metadata": {},
      "outputs": [],
      "source": []
    }
  ],
  "metadata": {
    "anaconda-cloud": {},
    "colab": {
      "provenance": []
    },
    "kernelspec": {
      "display_name": "Python 3",
      "language": "python",
      "name": "python3"
    },
    "language_info": {
      "codemirror_mode": {
        "name": "ipython",
        "version": 3
      },
      "file_extension": ".py",
      "mimetype": "text/x-python",
      "name": "python",
      "nbconvert_exporter": "python",
      "pygments_lexer": "ipython3",
      "version": "3.9.12"
    },
    "toc": {
      "base_numbering": 1,
      "nav_menu": {},
      "number_sections": true,
      "sideBar": true,
      "skip_h1_title": false,
      "title_cell": "Table of Contents",
      "title_sidebar": "Contents",
      "toc_cell": false,
      "toc_position": {},
      "toc_section_display": true,
      "toc_window_display": false
    }
  },
  "nbformat": 4,
  "nbformat_minor": 0
}
