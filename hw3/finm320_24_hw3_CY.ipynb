{
  "cells": [
    {
      "cell_type": "code",
      "execution_count": 1,
      "metadata": {
        "id": "MjZ7LuUcTu17"
      },
      "outputs": [],
      "source": [
        "import numpy as np\n",
        "from scipy.stats import norm"
      ]
    },
    {
      "cell_type": "markdown",
      "metadata": {},
      "source": [
        "# Problem 1"
      ]
    },
    {
      "cell_type": "markdown",
      "metadata": {},
      "source": [
        "### `1a` - Dynamics of an Interest Rate Derivative\n",
        "Short rate (instantaneous spot rate of interest) dynamics\n",
        "$$\\mathrm dr_t=\\alpha(r_t,t)\\mathrm dt+\\beta(r_t,t)\\mathrm dW_t$$\n",
        "- $R_t=\\alpha(r_t,t)$\n",
        "- $A_t=\\beta(r_t,t)$\n",
        "\n",
        "Pricing function $C$, whose time-$t$ price $C_t$ satisfies $C_t=C(r_t, t)$\n",
        "- $\\partial _t C(r_t, t):=\\partial C(r_t, t)/\\partial t$\n",
        "- $\\partial_{r} C(r_t, t):=\\partial C(r_t, t)/\\partial r_t$\n",
        "- $\\partial_{rr} C(r_t, t):=\\partial^2 C(r_t, t)/\\partial r_t^2$\n",
        "\n",
        "Ito’s formula - \n",
        "$$\\begin{aligned}\n",
        "dC(r_t, t) &= \\left[ \\partial_t C(r_t, t) + R_t \\partial_{r} C(r_t, t) + \\frac{A_t^2}{2} \\partial_{rr} C(r_t, t) \\right]dt + A_t \\partial_{r} C(r_t, t) dW_t \\\\\n",
        "\\end{aligned}$$\n",
        "\n",
        "Setting its drift equal to $rC$, we arrive at the following PDE for $C(r_t, t)$ -\n",
        "$$\\partial_t C(r_t, t) + R_t \\partial_{r} C(r_t, t) + \\frac{A_t^2}{2} \\partial_{rr} C(r_t, t)=rC$$\n"
      ]
    },
    {
      "cell_type": "markdown",
      "metadata": {},
      "source": [
        "### `1b`- derivative pricing of interest rate following a Vasicek model, using a standard central-difference explicit FD scheme\n",
        "Suppose, in particular, that the risk-neutral dynamics of $r$ are given by a Vasicek model.\n",
        "\n",
        "Short rate (instantaneous spot rate of interest) dynamics\n",
        "$$\\mathrm{d}r_t=\\kappa(\\theta-r_t)\\mathrm{d}t+\\sigma\\mathrm{d}W_t$$\n",
        "with $\\kappa=3, \\theta=0.05, \\sigma=0.03$\n",
        "- $R_t=\\kappa(\\theta-r_t) = 3\\times(0.05-r_t)$\n",
        "- $A_t=\\sigma=0.03$\n",
        "\n",
        "At maturity, $T=5$, \n",
        "$$C(r_T, T) = 1$$\n",
        "\n",
        "Explicit form of the PDE -\n",
        "$$\\partial_t C(r_t, t) + \\kappa(\\theta-r_t) \\partial_{r} C(r_t, t) + \\frac{ \\sigma^2}{2} \\partial_{rr} C(r_t, t)=r_t C$$\n"
      ]
    },
    {
      "cell_type": "markdown",
      "metadata": {},
      "source": [
        "### Pricer (Finite Difference Scheme) for the Interest Rate Derivative\n",
        "\n",
        "There are several different versions of a finite difference (FD) scheme\n",
        "- in the **standard/ explicit FD** scheme, $C_n^j$ is determined by $C_{n+1}^{j+1}$, $C_{n+1}^{j}$, and $C_{n+1}^{j-1}$, allowing one to solve for $C_n^j$ directly via backtracking\n",
        "- in the **implicit FD** scheme, $C_n^j$ is determined by $C_{n}^{j+1}$, $C_{n+1}^{j}$, and $C_{n}^{j-1}$, requiring the setup of a system of equations via backtracking\n",
        "- in the **Crank-Nicolson** scheme, an off-grid midpoint is determined by the combination of the three points to the left of it and three points to the right of it\n",
        "\n",
        "There are several approaches of discretization, i.e. how to approximate a differential term by a finite difference term - \n",
        "- in the central-difference approximation to $\\partial C / \\partial r$ (`1b`)\n",
        "$$\\begin{aligned}\n",
        "&\\frac{\\partial C}{\\partial t} \\approx\\frac{C_{n+1}^j-C_n^j}{\\Delta t} \\\\\n",
        "&\\frac{\\partial C}{\\partial r} \\approx\\frac{C_{n+1}^{j+1}-C_{n+1}^{j-1}}{2\\Delta r} \\\\\n",
        "&\\frac{\\partial^2C}{\\partial r^2} \\approx\\frac1{\\Delta r}{\\left(\\frac{C_{n+1}^{j+1}-C_{n+1}^j}{\\Delta r}-\\frac{C_{n+1}^j-C_{n+1}^{j-1}}{\\Delta r}\\right)}=\\frac{C_{n+1}^{j+1}-2C_{n+1}^j+C_{n+1}^{j-1}}{(\\Delta r)^2} \\\\\n",
        "&rC \\approx r_{n}^j C_{n}^j\n",
        "\\end{aligned}$$\n",
        "then the finite difference equation is \n",
        "$$\\frac{C_{n+1}^j-C_n^j}{\\Delta t}+\\kappa(\\theta-r_{n+1}^j)\\frac{C_{n+1}^{j+1}-C_{n+1}^{j-1}}{2\\Delta r}+\\frac{1}{2}\\sigma^2\\frac{C_{n+1}^{j+1}-2C_{n+1}^j+C_{n+1}^{j-1}}{(\\Delta r)^2}=r_{n}^j C_{n}^j$$\n",
        "Solving it, we have\n",
        "$$C_n^j=\\frac{1}{1+r_{n}^j \\Delta t}(q_uC_{n+1}^{j+1}+q_mC_{n+1}^j+q_dC_{n+1}^{j-1})$$\n",
        "where\n",
        "\\begin{aligned}\n",
        "q_{u} &=\\frac12{\\left[\\frac{\\sigma^2\\Delta t}{(\\Delta r)^2}+\\frac{\\kappa(\\theta-r_{n+1}^j)\\Delta t}{\\Delta r}\\right]}  \\\\\n",
        "q_m &=1-\\frac{\\sigma^2\\Delta t}{(\\Delta r)^2} \\\\\n",
        "q_{d} &=\\frac{1}{2}\\bigg[\\frac{\\sigma^{2}\\Delta t}{(\\Delta r)^{2}}-\\frac{\\kappa(\\theta-r_{n+1}^j) \\Delta t}{\\Delta r}\\bigg]  \n",
        "\\end{aligned}\n"
      ]
    },
    {
      "cell_type": "markdown",
      "metadata": {},
      "source": [
        "### `1c`- derivative pricing of interest rate following a Vasicek model, using an upwind approximation under explicit FD scheme\n",
        "- in the upwind approximation to $\\partial C / \\partial r$ (`1c`)\n",
        "$$\\begin{aligned}\n",
        "&\\frac{\\partial C}{\\partial t} \\approx\\frac{C_{n+1}^j-C_n^j}{\\Delta t} \\\\\n",
        "&\\frac{\\partial C}{\\partial r} \\approx\\frac{C_{n+1}^{j+1}-C_{n+1}^{j}}{\\Delta r} \\quad \\text{if } \\kappa(\\theta-r_j) \\geq 0\\\\\n",
        "&\\frac{\\partial C}{\\partial r} \\approx\\frac{C_{n+1}^{j}-C_{n+1}^{j-1}}{\\Delta r} \\quad \\text{if } \\kappa(\\theta-r_j) < 0\\\\\n",
        "&\\frac{\\partial^2C}{\\partial r^2} \\approx\\frac1{\\Delta r}{\\left(\\frac{C_{n+1}^{j+1}-C_{n+1}^j}{\\Delta x}-\\frac{C_{n+1}^j-C_{n+1}^{j-1}}{\\Delta r}\\right)}=\\frac{C_{n+1}^{j+1}-2C_{n+1}^j+C_{n+1}^{j-1}}{(\\Delta r)^2} \\\\\n",
        "&rC \\approx r_{n}^j C_{n}^j\n",
        "\\end{aligned}$$\n",
        "then the finite difference equation, if $\\kappa(\\theta-r_j) \\geq 0$, is \n",
        "$$\\frac{C_{n+1}^j-C_n^j}{\\Delta t}+\\kappa(\\theta-r_{n+1}^j) \\frac{C_{n+1}^{j+1}-C_{n+1}^{j}}{\\Delta r} +\\frac{1}{2}\\sigma^2\\frac{C_{n+1}^{j+1}-2C_{n+1}^j+C_{n+1}^{j-1}}{(\\Delta r)^2}=r_{n}^j C_{n}^j$$\n",
        "and if $\\kappa(\\theta-r_j) < 0$, is\n",
        "$$\\frac{C_{n+1}^j-C_n^j}{\\Delta t}+\\kappa(\\theta-r_{n+1}^j) \\frac{C_{n+1}^{j}-C_{n+1}^{j-1}}{\\Delta r} +\\frac{1}{2}\\sigma^2\\frac{C_{n+1}^{j+1}-2C_{n+1}^j+C_{n+1}^{j-1}}{(\\Delta r)^2}=r_{n}^j C_{n}^j$$\n",
        "\n",
        "\n",
        "Solving it, we have\n",
        "$$C_n^j=\\frac{1}{1+r_{n}^j \\Delta t}(q_uC_{n+1}^{j+1}+q_mC_{n+1}^j+q_dC_{n+1}^{j-1})$$\n",
        "where if $\\kappa(\\theta-r_j) \\geq 0$, then \n",
        "\\begin{aligned}\n",
        "q_{u} &=\\frac{\\sigma^2\\Delta t}{2(\\Delta r)^2} +\\frac{\\kappa(\\theta-r_{n+1}^j) \\Delta t}{\\Delta r}  \\\\\n",
        "q_m &=1-\\frac{\\sigma^2\\Delta t}{(\\Delta r)^2} -\\frac{\\kappa(\\theta-r_{n+1}^j) \\Delta t}{\\Delta r} \\\\\n",
        "q_{d} &=\\frac{\\sigma^{2}\\Delta t}{2(\\Delta r)^{2}}\n",
        "\\end{aligned}\n",
        "\n",
        "and if $\\kappa(\\theta-r_j) < 0$, then \n",
        "\\begin{aligned}\n",
        "q_{u} &=\\frac{\\sigma^2\\Delta t}{2(\\Delta r)^2}  \\\\\n",
        "q_m &=1-\\frac{\\sigma^2\\Delta t}{(\\Delta r)^2} +\\frac{\\kappa(\\theta-r_{n+1}^j) \\Delta t}{\\Delta r} \\\\\n",
        "q_{d} &=\\frac{\\sigma^{2}\\Delta t}{2(\\Delta r)^{2}}-\\frac{\\kappa(\\theta-r_{n+1}^j) \\Delta t}{\\Delta r}\n",
        "\\end{aligned}"
      ]
    },
    {
      "cell_type": "code",
      "execution_count": 2,
      "metadata": {
        "id": "3LaJWkN1Tu1_"
      },
      "outputs": [],
      "source": [
        "class Vasicek:\n",
        "\n",
        "    def __init__(self,kappa,theta,sigma):\n",
        "        self.kappa=kappa\n",
        "        self.theta=theta\n",
        "        self.sigma=sigma"
      ]
    },
    {
      "cell_type": "code",
      "execution_count": 3,
      "metadata": {
        "id": "el5nStVUTu2A"
      },
      "outputs": [],
      "source": [
        "hw3dynamics = Vasicek(kappa=3,theta=0.05,sigma=0.03)"
      ]
    },
    {
      "cell_type": "code",
      "execution_count": 4,
      "metadata": {
        "id": "riJtW90ITu2B"
      },
      "outputs": [],
      "source": [
        "class Bond:\n",
        "\n",
        "    def __init__(self, T):\n",
        "        self.T=T\n"
      ]
    },
    {
      "cell_type": "code",
      "execution_count": 5,
      "metadata": {
        "id": "-o3SCZyDTu2B"
      },
      "outputs": [],
      "source": [
        "hw3contract = Bond(T=5)"
      ]
    },
    {
      "cell_type": "code",
      "execution_count": 17,
      "metadata": {
        "id": "ppGipd6OTu2C"
      },
      "outputs": [],
      "source": [
        "class FDexplicitEngine:\n",
        "\n",
        "    def __init__(self, rMax, rMin, deltar, deltat, useUpwind):\n",
        "        self.rMax=rMax\n",
        "        self.rMin=rMin\n",
        "        self.deltar=deltar\n",
        "        self.deltat=deltat\n",
        "        self.useUpwind=useUpwind\n",
        "\n",
        "    def price_bond_vasicek(self, contract, dynamics):\n",
        "    # You complete the coding of this function\n",
        "    #\n",
        "    # Returns array of all initial short rates,\n",
        "    # and the corresponding array of zero-coupon\n",
        "    # T-maturity bond prices\n",
        "\n",
        "        T = contract.T\n",
        "        N=round(T/self.deltat)\n",
        "        if abs(N-T/self.deltat) > 1e-12:\n",
        "            raise ValueError(\"Bad delta t\")\n",
        "\n",
        "        r=np.arange(self.rMax,self.rMin-self.deltar/2,-self.deltar, dtype=np.float64)   #I'm making the FIRST indices of the array correspond to HIGH levels of r\n",
        "        bondprice=np.ones(np.size(r))\n",
        "\n",
        "        if self.useUpwind:\n",
        "            # If greater than 0\n",
        "            def qu_uw(rj):\n",
        "                if dynamics.kappa * (dynamics.theta - rj) >= 0:\n",
        "                    return (0.5 * dynamics.sigma**2 * self.deltat / self.deltar**2\n",
        "                    + dynamics.kappa * (dynamics.theta - rj) * self.deltat / self.deltar)\n",
        "                else:\n",
        "                    return 0.5 * dynamics.sigma**2 * self.deltat / self.deltar**2\n",
        "                \n",
        "            def qm_uw(rj):\n",
        "                if dynamics.kappa * (dynamics.theta - rj) >= 0:\n",
        "                    return (1 - dynamics.sigma**2 * self.deltat / self.deltar**2\n",
        "                    + dynamics.kappa * (dynamics.theta - rj) * self.deltat / self.deltar)\n",
        "                else:\n",
        "                    return (1 - dynamics.sigma**2 * self.deltat / self.deltar**2\n",
        "                    + dynamics.kappa * (dynamics.theta - rj) * self.deltat / self.deltar)\n",
        "                \n",
        "            def qd_uw(rj):\n",
        "                if dynamics.kappa * (dynamics.theta - rj) >= 0:\n",
        "                    return 0.5 * dynamics.sigma**2 * self.deltat / self.deltar**2\n",
        "                else:\n",
        "                    return (0.5 * dynamics.sigma**2 * self.deltat / self.deltar**2\n",
        "                    - dynamics.kappa * (dynamics.theta - rj) * self.deltat / self.deltar)\n",
        "\n",
        "        else:\n",
        "            qu= 0.5 * (dynamics.sigma**2 * self.deltat / self.deltar**2 \n",
        "                       + dynamics.kappa * (dynamics.theta - r) * self.deltat / self.deltar)\n",
        "            qm= 1 - dynamics.sigma**2 * self.deltat / self.deltar**2\n",
        "            qd= 0.5 * (dynamics.sigma**2 * self.deltat / self.deltar**2 \n",
        "                       - dynamics.kappa * (dynamics.theta - r) * self.deltat / self.deltar)\n",
        "\n",
        "        for t in np.arange(N-1,-1,-1)*self.deltat:\n",
        "            if self.useUpwind:\n",
        "                size = np.size(r)\n",
        "                bondprice = [ 1 / (1 + rj*self.deltat)*\n",
        "                              (qu_uw(rj) * bondprice[(j-1)%size] \n",
        "                             + qm_uw(rj) * bondprice[(j)%size] \n",
        "                             + qd_uw(rj) * bondprice[(j+1)%size]) for j, rj in enumerate(r)]\n",
        "\n",
        "            else:\n",
        "                bondprice=1/(1+r*self.deltat)*(qd*np.roll(bondprice,-1)+qm*bondprice+qu*np.roll(bondprice,1))\n",
        "\n",
        "            # It is not obvious in this case,\n",
        "            # what boundary conditions to use at the top and bottom\n",
        "            # so let us assume \"linearity\" boundary conditions\n",
        "            bondprice[0]=2*bondprice[1]-bondprice[2]\n",
        "            bondprice[-1]=2*bondprice[-2]-bondprice[-3]\n",
        "\n",
        "        return (r, bondprice)"
      ]
    },
    {
      "cell_type": "markdown",
      "metadata": {},
      "source": [
        "### `1d` - error analysis using Taylor’s theorem \n",
        "Show that as $h \\rightarrow 0$, \n",
        "$$\\left|\\frac{f(x+h)-f(x)}h-f^{\\prime}(x)\\right|=O(h)\\quad\\mathrm{and}\\quad\\left|\\frac{f(x+h)-f(x-h)}{2h}-f^{\\prime}(x)\\right|=O(h^2)$$"
      ]
    },
    {
      "cell_type": "markdown",
      "metadata": {},
      "source": [
        "$$\\begin{aligned}\n",
        "\\left|\\frac{f(x+h)-f(x)}h-f^{\\prime}(x)\\right| \n",
        "&\\approx \\left|\\frac{f(x) + h \\cdot f^{\\prime}(x) +  \\frac{h^2}{2} \\cdot f^{\\prime \\prime}(x)- f(x)}h-f^{\\prime}(x)\\right| \\\\\n",
        "&=\\left|\\frac{h f^{\\prime \\prime}(x)}{2} \\right| \\\\\n",
        "&=O(h)\n",
        "\\end{aligned}$$"
      ]
    },
    {
      "cell_type": "markdown",
      "metadata": {},
      "source": [
        "$$\\begin{aligned}\n",
        "\\left|\\frac{f(x+h)-f(x-h)}{2h}-f^{\\prime}(x)\\right| \n",
        "&\\approx \\left|\\frac{\\left[f(x) + h \\cdot f^{\\prime}(x) +  \\frac{h^2}{2} \\cdot f^{\\prime \\prime}(x) +  \\frac{h^3}{6} \\cdot f^{\\prime \\prime\\prime}(x)  \\right]\n",
        "- \\left[f(x) - h \\cdot f^{\\prime}(x) +  \\frac{h^2}{2} \\cdot f^{\\prime \\prime}(x) -   \\frac{h^3}{6} \\cdot f^{\\prime \\prime\\prime}(x) \\right]}{2h}-f^{\\prime}(x)\\right| \\\\\n",
        "&=\\left|\\frac{h^2 f^{\\prime \\prime\\prime}(x)}{6} \\right| \\\\\n",
        "&=O(h^2)\n",
        "\\end{aligned}$$"
      ]
    },
    {
      "cell_type": "markdown",
      "metadata": {},
      "source": [
        "### `1e` - compare central-difference and upwind calculation"
      ]
    },
    {
      "cell_type": "markdown",
      "metadata": {},
      "source": [
        "* Using the grid spacing as instructed ($\\Delta r=0.01$, $\\Delta t=0.01$) did not lead to convergence to the exact solution to the model, see two cells below. \n",
        "* However, reducing the grid spacing by half ($\\Delta r=0.005$, $\\Delta t=0.005$)$ shows agreement with the exact solution, see third cell below.\n",
        "* The central-difference calculation turns out to be more accurate. The upwind calculation did not return anything sensible."
      ]
    },
    {
      "cell_type": "markdown",
      "metadata": {},
      "source": [
        "As instructed:"
      ]
    },
    {
      "cell_type": "code",
      "execution_count": 22,
      "metadata": {
        "id": "MaN40DRPTu2C"
      },
      "outputs": [
        {
          "name": "stdout",
          "output_type": "stream",
          "text": [
            "Under the standard central-difference explicit FD scheme\n",
            "the bond price at t=0 for r in [0.0,0.15] is: \n",
            "[[ 1.5000e-01 -1.4273e+09]\n",
            " [ 1.4000e-01  1.6361e+08]\n",
            " [ 1.3000e-01  2.2294e+07]\n",
            " [ 1.2000e-01 -1.3724e+06]\n",
            " [ 1.1000e-01 -1.3361e+05]\n",
            " [ 1.0000e-01  3.2966e+03]\n",
            " [ 9.0000e-02  1.3021e+02]\n",
            " [ 8.0000e-02  7.7128e-01]\n",
            " [ 7.0000e-02  7.7385e-01]\n",
            " [ 6.0000e-02  7.7643e-01]\n",
            " [ 5.0000e-02  7.7902e-01]\n",
            " [ 4.0000e-02  7.8162e-01]\n",
            " [ 3.0000e-02  7.8423e-01]\n",
            " [ 2.0000e-02  7.8685e-01]\n",
            " [ 1.0000e-02  1.4165e+03]\n",
            " [-3.3307e-16  5.1498e+04]]\n"
          ]
        }
      ],
      "source": [
        "hw3FD = FDexplicitEngine(rMax=0.35,rMin=-0.25,deltar=0.01,deltat=0.01,useUpwind=False)\n",
        "(r, bondprice) = hw3FD.price_bond_vasicek(hw3contract,hw3dynamics)\n",
        "np.set_printoptions(precision=4,suppress=True)\n",
        "displayrows=(r<0.15+hw3FD.deltar/2) & (r>0.0-hw3FD.deltar/2)\n",
        "print(\"Under the standard central-difference explicit FD scheme\")\n",
        "print(\"the bond price at t=0 for r in [0.0,0.15] is: \")\n",
        "print(np.stack((r, bondprice),axis=1)[displayrows])"
      ]
    },
    {
      "cell_type": "code",
      "execution_count": null,
      "metadata": {},
      "outputs": [
        {
          "name": "stdout",
          "output_type": "stream",
          "text": [
            "Under the upwind approximation explicit FD scheme\n",
            "the bond price at t=0 for r in [0.0,0.15] is: \n",
            "[[ 1.5000e-001  1.3677e+122]\n",
            " [ 1.4000e-001  5.8621e+122]\n",
            " [ 1.3000e-001  2.6970e+123]\n",
            " [ 1.2000e-001  1.3435e+124]\n",
            " [ 1.1000e-001  7.3248e+124]\n",
            " [ 1.0000e-001  4.4302e+125]\n",
            " [ 9.0000e-002  3.0249e+126]\n",
            " [ 8.0000e-002  2.3871e+127]\n",
            " [ 7.0000e-002  2.2505e+128]\n",
            " [ 6.0000e-002  2.6652e+129]\n",
            " [ 5.0000e-002  4.3149e+130]\n",
            " [ 4.0000e-002  1.1363e+132]\n",
            " [ 3.0000e-002  2.9160e+133]\n",
            " [ 2.0000e-002  7.2790e+134]\n",
            " [ 1.0000e-002  1.7661e+136]\n",
            " [-3.3307e-016  4.1608e+137]]\n"
          ]
        }
      ],
      "source": [
        "hw3FD = FDexplicitEngine(rMax=0.35,rMin=-0.25,deltar=0.01,deltat=0.01,useUpwind=True)\n",
        "(r, bondprice) = hw3FD.price_bond_vasicek(hw3contract,hw3dynamics)\n",
        "np.set_printoptions(precision=4,suppress=True)\n",
        "displayrows=(r<0.15+hw3FD.deltar/2) & (r>0.0-hw3FD.deltar/2)\n",
        "print(\"Under the upwind approximation explicit FD scheme\")\n",
        "print(\"the bond price at t=0 for r in [0.0,0.15] is: \")\n",
        "print(np.stack((r, bondprice),axis=1)[displayrows])"
      ]
    },
    {
      "cell_type": "markdown",
      "metadata": {},
      "source": [
        "Reducing grid spacing, returns good result:"
      ]
    },
    {
      "cell_type": "code",
      "execution_count": 24,
      "metadata": {},
      "outputs": [
        {
          "name": "stdout",
          "output_type": "stream",
          "text": [
            "Under the standard central-difference explicit FD scheme\n",
            "the bond price at t=0 for r in [0.0,0.15] is: \n",
            "[[ 1.5000e-01 -2.6988e+13]\n",
            " [ 1.4500e-01  8.2705e+11]\n",
            " [ 1.4000e-01  1.1607e+11]\n",
            " [ 1.3500e-01 -2.2311e+09]\n",
            " [ 1.3000e-01 -2.3398e+08]\n",
            " [ 1.2500e-01  2.3466e+06]\n",
            " [ 1.2000e-01  1.3955e+05]\n",
            " [ 1.1500e-01 -3.9951e+02]\n",
            " [ 1.1000e-01  7.6358e-01]\n",
            " [ 1.0500e-01  7.6485e-01]\n",
            " [ 1.0000e-01  7.6613e-01]\n",
            " [ 9.5000e-02  7.6741e-01]\n",
            " [ 9.0000e-02  7.6869e-01]\n",
            " [ 8.5000e-02  7.6997e-01]\n",
            " [ 8.0000e-02  7.7125e-01]\n",
            " [ 7.5000e-02  7.7254e-01]\n",
            " [ 7.0000e-02  7.7383e-01]\n",
            " [ 6.5000e-02  7.7512e-01]\n",
            " [ 6.0000e-02  7.7641e-01]\n",
            " [ 5.5000e-02  7.7770e-01]\n",
            " [ 5.0000e-02  7.7900e-01]\n",
            " [ 4.5000e-02  7.8030e-01]\n",
            " [ 4.0000e-02  7.8160e-01]\n",
            " [ 3.5000e-02  7.8290e-01]\n",
            " [ 3.0000e-02  7.8421e-01]\n",
            " [ 2.5000e-02  7.8552e-01]\n",
            " [ 2.0000e-02  7.8683e-01]\n",
            " [ 1.5000e-02  7.8814e-01]\n",
            " [ 1.0000e-02  7.8945e-01]\n",
            " [ 5.0000e-03  7.9077e-01]\n",
            " [-3.3307e-16  7.9209e-01]]\n"
          ]
        }
      ],
      "source": [
        "hw3FD = FDexplicitEngine(rMax=0.35,rMin=-0.25,deltar=0.005,deltat=0.005,useUpwind=False)\n",
        "(r, bondprice) = hw3FD.price_bond_vasicek(hw3contract,hw3dynamics)\n",
        "np.set_printoptions(precision=4,suppress=True)\n",
        "displayrows=(r<0.15+hw3FD.deltar/2) & (r>0.0-hw3FD.deltar/2)\n",
        "print(\"Under the standard central-difference explicit FD scheme\")\n",
        "print(\"the bond price at t=0 for r in [0.0,0.15] is: \")\n",
        "print(np.stack((r, bondprice),axis=1)[displayrows])"
      ]
    },
    {
      "cell_type": "markdown",
      "metadata": {},
      "source": [
        "### `1f` - compare central-difference and upwind calculation\n",
        "* less\n",
        "* greater"
      ]
    },
    {
      "cell_type": "markdown",
      "metadata": {},
      "source": [
        "### `1g` - continuously-compounded yield-to-maturity\n",
        "The continuously-compounded yield-to-maturity of a zero-coupon bond with time-t price $P_t$ and nonrandom face value $P_T$ to be paid at maturity date $T$ is\n",
        "$$\\frac{\\log(P_T/P_t)}{T-t}$$\n",
        "For this problem, $P_T=1$.\n",
        "One way to think of the time-t yield to maturity T is as the average of some\n",
        "type of time-t expectation of the instantaneous spot rates from time t to time T, as follows,\n",
        "$$\\frac{\\log(P_T/P_t)}{T-t} = \\frac{1}{T-t} \\log\\left(\n",
        "    \\frac{P_T}{P_{T-1}} \\frac{P_{T-1}}{P_{T-2}} \\cdots \\frac{P_{t+1}}{P_t} \\right)\n",
        "    = \\frac{1}{T-t}  \\sum_t^T\\log \\left( \\frac{P_j}{P_{j-1}}\\right)\n",
        "$$"
      ]
    },
    {
      "cell_type": "code",
      "execution_count": 26,
      "metadata": {},
      "outputs": [],
      "source": [
        "def yield_to_maturity(PT, Pt, T, t):\n",
        "    return (np.log(PT/Pt))/(T-t)"
      ]
    },
    {
      "cell_type": "code",
      "execution_count": 37,
      "metadata": {},
      "outputs": [
        {
          "name": "stdout",
          "output_type": "stream",
          "text": [
            "The yield-to-maturity for r0 = 0.12 is: -2.369, which is less than 0.12\n",
            "The yield-to-maturity for r0 = 0.02 is: 0.048, which is greater than 0.02\n"
          ]
        }
      ],
      "source": [
        "hw3FD = FDexplicitEngine(rMax=0.35,rMin=-0.25,deltar=0.005,deltat=0.005,useUpwind=False)\n",
        "(r, bondprice) = hw3FD.price_bond_vasicek(hw3contract,hw3dynamics)\n",
        "\n",
        "r0_1 = 0.12\n",
        "r0_2 = 0.02\n",
        "\n",
        "t, T, PT = 0, 5, 1\n",
        "deltar = 0.005\n",
        "\n",
        "Pt_1 = bondprice[np.where((r < r0_1 + deltar/2) & (r > r0_1 - deltar/2))[0]]\n",
        "Pt_2 = bondprice[np.where((r < r0_2 + deltar/2) & (r > r0_2 - deltar/2))[0]]\n",
        "\n",
        "ytm_1 = yield_to_maturity(PT, Pt_1, T, t)\n",
        "ytm_2 = yield_to_maturity(PT, Pt_2, T, t)\n",
        "print(f\"The yield-to-maturity for r0 = {r0_1} is: {ytm_1[0]:.3f}, which is less than {r0_1}\")\n",
        "print(f\"The yield-to-maturity for r0 = {r0_2} is: {ytm_2[0]:.3f}, which is greater than {r0_2}\")"
      ]
    },
    {
      "cell_type": "markdown",
      "metadata": {},
      "source": [
        "Intuitively, we are observing the effect of mean-reversion. In the Vasicek model ,\n",
        "* $r_t$ is the instantanneous short rate\n",
        "* $\\kappa$ is the speed of mean reversion\n",
        "* $\\theta$ is the long-term mean, 0.05 in our case, hence the grid spacing is centered around this\n",
        "* $\\gamma$ is the volatility\n",
        "So,\n",
        "1. if the short rate is higher than the long-term mean, as in the case of $r_0=0.12>\\theta=0.05$, the drift term of the dynamics equation will be negative, causing the yield-curve to be downward-sloping, so the yield for $r_0=0.12$ will be less than 0.12.\n",
        "1. if the short rate is lower than the long-term mean, as in the case of $r_0=0.02<\\theta=0.05$, the drift term of the dynamics equation will be positive, causing the yield-curve to be downward-sloping, so the yield for $r_0=0.02$ will be more than 0.02."
      ]
    },
    {
      "cell_type": "markdown",
      "metadata": {},
      "source": [
        "# Problem 2"
      ]
    },
    {
      "cell_type": "markdown",
      "metadata": {},
      "source": [
        "Black-Scholes Vanilla Call pricing:\n",
        "$$f(S):=(S-K)^{+}$$\n",
        "$$C(S,t)=C^{BS}(S,t,K,T,r-q,r,\\sigma)=S_0N(d_1)-Ke^{-rT}N(d_2)$$\n",
        "where\n",
        "$$d_{1,2}:=d_{+,-}:=\\frac{\\log(S_0e^{rT}/K)}{\\sigma\\sqrt T}\\pm\\frac{\\sigma\\sqrt T}2$$\n",
        "In our case $t=0$, $r=0$."
      ]
    },
    {
      "cell_type": "markdown",
      "metadata": {},
      "source": [
        "### `2a`: strike $K$ for a specific time-0 $\\Delta$"
      ]
    },
    {
      "cell_type": "markdown",
      "metadata": {},
      "source": [
        "Delta (Δ) represents the rate of change between the option's price and a $1 change in the underlying asset's price. In other words, the price sensitivity of the option is relative to the underlying asset. It is between 0 and 1 for a call option.\n",
        "$$\\begin{aligned}\n",
        "\\Delta &:=\\frac{\\partial C}{\\partial S_0}\\\\\n",
        "&=\\frac{\\partial}{\\partial S_0} \\left[S_0N(d_1)\\right] - \\frac{\\partial}{\\partial S_0} \\left[Ke^{-rT}N(d_2)\\right] \\\\\n",
        "&=N(d_1)+S_0  \\frac{\\partial}{\\partial S_0} \\left[N(d_1)\\right] - Ke^{-rT} \\frac{\\partial}{\\partial S_0} \\left[N(d_2)\\right] \\\\\n",
        "\\end{aligned}$$"
      ]
    },
    {
      "cell_type": "markdown",
      "metadata": {},
      "source": [
        "Now, \n",
        "\n",
        "$$\\frac{\\partial}{\\partial S_0} \\left[N(d_1)\\right] := N'(d_1) \\frac{\\partial d_1}{\\partial S_0}$$\n",
        "$$\\frac{\\partial}{\\partial S_0} \\left[N(d_2)\\right] := N'(d_2) \\frac{\\partial d_2}{\\partial S_0}$$\n",
        "$$\\frac{\\partial d_1}{\\partial S_0} = \\frac{\\partial d_2}{\\partial S_0} = \\frac{1}{S_0 \\sigma\\sqrt T}$$\n",
        "and \n",
        "$$ \\frac{N'(d_1)}{N'(d_2)} = e^{-(d_1^2-d_2^2)/2} = e^{-((A+B)^2-(A-B)^2)/2} =  e^{-2AB}\n",
        "=  e^{- \\log(S_0e^{rT}/K)} = \\frac{1}{S_0e^{rT}/K}\n",
        "$$"
      ]
    },
    {
      "cell_type": "markdown",
      "metadata": {},
      "source": [
        "So,\n",
        "$$\\begin{aligned}\n",
        "\\Delta\n",
        "&=N(d_1)+ \\frac{1}{S_0 \\sigma\\sqrt T} \\left[S_0 N'(d_1) - Ke^{-rT} N'(d_2) \\right] \\\\\n",
        "&=N(d_1)+ \\frac{N'(d_2)}{S_0 \\sigma\\sqrt T} \\left[ \\frac{S_0}{S_0e^{rT}/K} -  Ke^{-rT}\\right] \\\\\n",
        "&=N(d_1)+0 \\\\\n",
        "&=N(d_1) \n",
        "\\end{aligned}$$"
      ]
    },
    {
      "cell_type": "markdown",
      "metadata": {},
      "source": [
        "$$\\Delta=N\\left[\\frac{\\log(S_0e^{rT}/K)}{\\sigma\\sqrt T} + \\frac{\\sigma\\sqrt T}2\\right]$$\n",
        "$$\\log(S_0e^{rT}/K)  = \\sigma\\sqrt T\\left(N^{-1}(\\Delta) - \\frac{\\sigma\\sqrt T}2\\right)$$\n",
        "$$S_0e^{rT}/K  =\\exp\\left[ \\sigma\\sqrt T\\left(N^{-1}(\\Delta) - \\frac{\\sigma\\sqrt T}2\\right)\\right]$$\n",
        "$$K  = \\frac{S_0e^{rT}}{\\exp\\left[ \\sigma\\sqrt T\\left(N^{-1}(\\Delta) - \\frac{\\sigma\\sqrt T}2\\right)\\right]}$$"
      ]
    },
    {
      "cell_type": "markdown",
      "metadata": {},
      "source": [
        "### `2b`: strikes and pricing of calls of different $\\Delta$'s"
      ]
    },
    {
      "cell_type": "code",
      "execution_count": 2,
      "metadata": {},
      "outputs": [],
      "source": [
        "S0 = 300\n",
        "T = 1/12\n",
        "sigma = 0.4\n",
        "r = 0.01\n",
        "Delta_25 = 0.25\n",
        "Delta_75 = 0.75\n",
        "\n",
        "def calc_K(Delta, S0, r, sigma, T):\n",
        "    num = S0 * np.exp(r * T)\n",
        "    denom = sigma * np.sqrt(T) * (norm.ppf(Delta) - 0.5 * sigma * np.sqrt(T))\n",
        "    \n",
        "    return num / np.exp(denom)"
      ]
    },
    {
      "cell_type": "code",
      "execution_count": 8,
      "metadata": {},
      "outputs": [],
      "source": [
        "class VanillaCall:\n",
        "\n",
        "    def __init__(self, S, K, r, sigma, T):\n",
        "        self.S = S # S_0 stock price\n",
        "        self.K = K\n",
        "        self.r = r\n",
        "        self.sigma = sigma\n",
        "        self.T = T\n",
        "    \n",
        "    def get_price(self):\n",
        "        d1 = ((np.log(self.S / self.K) + self.r * self.T) / (self.sigma * np.sqrt(self.T))              \n",
        "              + 0.5 * self.sigma * np.sqrt(self.T))\n",
        "        d2 = ((np.log(self.S / self.K) + self.r * self.T) / (self.sigma * np.sqrt(self.T))              \n",
        "              - 0.5 * self.sigma * np.sqrt(self.T))\n",
        "        call_price = self.S * norm.cdf(d1) - self.K * np.exp(-self.r * self.T) * norm.cdf(d2)\n",
        "        \n",
        "        return call_price"
      ]
    },
    {
      "cell_type": "code",
      "execution_count": 9,
      "metadata": {},
      "outputs": [
        {
          "name": "stdout",
          "output_type": "stream",
          "text": [
            "Strike for Delta = 0.25:  326.7403577236786\n",
            "Price for Delta = 0.25:  4.882592053953928\n"
          ]
        }
      ],
      "source": [
        "K_25 = calc_K(Delta_25, S0, r, sigma, T)\n",
        "hw3_call_25 = VanillaCall(S0, K_25, r, sigma, T)\n",
        "price_25 = hw3_call_25.get_price()\n",
        "\n",
        "print(\"Strike for Delta = 0.25: \", calc_K(Delta_25, S0, r, sigma, T))\n",
        "print(\"Price for Delta = 0.25: \", price_25)"
      ]
    },
    {
      "cell_type": "code",
      "execution_count": 10,
      "metadata": {},
      "outputs": [
        {
          "name": "stdout",
          "output_type": "stream",
          "text": [
            "Strike for Delta = 0.75:  279.61093160299833\n",
            "Price for Delta = 0.75:  26.103562887425028\n"
          ]
        }
      ],
      "source": [
        "K_75 = calc_K(Delta_75, S0, r, sigma, T)\n",
        "hw3_call_75 = VanillaCall(S0, K_75, r, sigma, T)\n",
        "price_75 = hw3_call_75.get_price()\n",
        "\n",
        "print(\"Strike for Delta = 0.75: \", calc_K(Delta_75, S0, r, sigma, T))\n",
        "print(\"Price for Delta = 0.75: \", price_75)"
      ]
    },
    {
      "cell_type": "markdown",
      "metadata": {},
      "source": [
        "### `2c`: leverage comparison"
      ]
    },
    {
      "cell_type": "markdown",
      "metadata": {},
      "source": [
        "In options trading, lambda is the Greek letter assigned to a variable that tells the ratio of how much leverage an option is providing as the price of that option changes, also referred to as the \"leverage factor\", \"effective gearing\", or “elasticity” of the option. Another way to derive/explain this lambda is that it’s the percentage change in the option price, per percentage change in the underlying. Mathematically,\n",
        "$$\\lambda = \\frac{\\partial C/C}{\\partial S/S} = \\frac{C}{S} \\frac{\\partial C}{\\partial S} = \\Delta \\frac{C_0}{S_0}$$"
      ]
    },
    {
      "cell_type": "code",
      "execution_count": 15,
      "metadata": {},
      "outputs": [
        {
          "name": "stdout",
          "output_type": "stream",
          "text": [
            "Lambda for Delta = 0.25:  0.004068826711628274\n",
            "Lambda for Delta = 0.75:  0.06525890721856258\n",
            "Delta = 0.75 gives more leverage than Delta = 0.25.\n"
          ]
        }
      ],
      "source": [
        "lambda_25 = Delta_25 * price_25 / S0\n",
        "lambda_75 = Delta_75 * price_75 / S0\n",
        "print(\"Lambda for Delta = 0.25: \", lambda_25)\n",
        "print(\"Lambda for Delta = 0.75: \", lambda_75)\n",
        "print(\"Delta = 0.75 gives more leverage than Delta = 0.25.\")"
      ]
    },
    {
      "cell_type": "code",
      "execution_count": null,
      "metadata": {},
      "outputs": [],
      "source": []
    }
  ],
  "metadata": {
    "anaconda-cloud": {},
    "colab": {
      "provenance": []
    },
    "kernelspec": {
      "display_name": "Python 3",
      "language": "python",
      "name": "python3"
    },
    "language_info": {
      "codemirror_mode": {
        "name": "ipython",
        "version": 3
      },
      "file_extension": ".py",
      "mimetype": "text/x-python",
      "name": "python",
      "nbconvert_exporter": "python",
      "pygments_lexer": "ipython3",
      "version": "3.9.12"
    },
    "toc": {
      "base_numbering": 1,
      "nav_menu": {},
      "number_sections": true,
      "sideBar": true,
      "skip_h1_title": false,
      "title_cell": "Table of Contents",
      "title_sidebar": "Contents",
      "toc_cell": false,
      "toc_position": {},
      "toc_section_display": true,
      "toc_window_display": false
    }
  },
  "nbformat": 4,
  "nbformat_minor": 0
}
